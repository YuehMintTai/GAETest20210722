{
  "nbformat": 4,
  "nbformat_minor": 0,
  "metadata": {
    "colab": {
      "name": "三總北投門診助手1.0.ipynb",
      "provenance": [],
      "authorship_tag": "ABX9TyOybnlekO5hBzIYQvUMb5nQ",
      "include_colab_link": true
    },
    "kernelspec": {
      "name": "python3",
      "display_name": "Python 3"
    },
    "language_info": {
      "name": "python"
    }
  },
  "cells": [
    {
      "cell_type": "markdown",
      "metadata": {
        "id": "view-in-github",
        "colab_type": "text"
      },
      "source": [
        "<a href=\"https://colab.research.google.com/github/YuehMintTai/GAETest20210722/blob/main/%E4%B8%89%E7%B8%BD%E5%8C%97%E6%8A%95%E9%96%80%E8%A8%BA%E5%8A%A9%E6%89%8B1_0.ipynb\" target=\"_parent\"><img src=\"https://colab.research.google.com/assets/colab-badge.svg\" alt=\"Open In Colab\"/></a>"
      ]
    },
    {
      "cell_type": "code",
      "metadata": {
        "colab": {
          "base_uri": "https://localhost:8080/"
        },
        "id": "WnK_RsTmeF_n",
        "outputId": "b5f8b52a-84f5-46f0-821c-6364a4c75fc7"
      },
      "source": [
        "!pip install flask_ngrok\n",
        "!pip install line-bot-sdk\n",
        "!pip install bs4\n",
        "!pip install requests"
      ],
      "execution_count": 1,
      "outputs": [
        {
          "output_type": "stream",
          "text": [
            "Collecting flask_ngrok\n",
            "  Downloading flask_ngrok-0.0.25-py3-none-any.whl (3.1 kB)\n",
            "Requirement already satisfied: Flask>=0.8 in /usr/local/lib/python3.7/dist-packages (from flask_ngrok) (1.1.4)\n",
            "Requirement already satisfied: requests in /usr/local/lib/python3.7/dist-packages (from flask_ngrok) (2.23.0)\n",
            "Requirement already satisfied: itsdangerous<2.0,>=0.24 in /usr/local/lib/python3.7/dist-packages (from Flask>=0.8->flask_ngrok) (1.1.0)\n",
            "Requirement already satisfied: Jinja2<3.0,>=2.10.1 in /usr/local/lib/python3.7/dist-packages (from Flask>=0.8->flask_ngrok) (2.11.3)\n",
            "Requirement already satisfied: Werkzeug<2.0,>=0.15 in /usr/local/lib/python3.7/dist-packages (from Flask>=0.8->flask_ngrok) (1.0.1)\n",
            "Requirement already satisfied: click<8.0,>=5.1 in /usr/local/lib/python3.7/dist-packages (from Flask>=0.8->flask_ngrok) (7.1.2)\n",
            "Requirement already satisfied: MarkupSafe>=0.23 in /usr/local/lib/python3.7/dist-packages (from Jinja2<3.0,>=2.10.1->Flask>=0.8->flask_ngrok) (2.0.1)\n",
            "Requirement already satisfied: certifi>=2017.4.17 in /usr/local/lib/python3.7/dist-packages (from requests->flask_ngrok) (2021.5.30)\n",
            "Requirement already satisfied: chardet<4,>=3.0.2 in /usr/local/lib/python3.7/dist-packages (from requests->flask_ngrok) (3.0.4)\n",
            "Requirement already satisfied: urllib3!=1.25.0,!=1.25.1,<1.26,>=1.21.1 in /usr/local/lib/python3.7/dist-packages (from requests->flask_ngrok) (1.24.3)\n",
            "Requirement already satisfied: idna<3,>=2.5 in /usr/local/lib/python3.7/dist-packages (from requests->flask_ngrok) (2.10)\n",
            "Installing collected packages: flask-ngrok\n",
            "Successfully installed flask-ngrok-0.0.25\n",
            "Collecting line-bot-sdk\n",
            "  Downloading line_bot_sdk-1.20.0-py2.py3-none-any.whl (72 kB)\n",
            "\u001b[K     |████████████████████████████████| 72 kB 470 kB/s \n",
            "\u001b[?25hRequirement already satisfied: requests>=2.0 in /usr/local/lib/python3.7/dist-packages (from line-bot-sdk) (2.23.0)\n",
            "Requirement already satisfied: future in /usr/local/lib/python3.7/dist-packages (from line-bot-sdk) (0.16.0)\n",
            "Requirement already satisfied: urllib3!=1.25.0,!=1.25.1,<1.26,>=1.21.1 in /usr/local/lib/python3.7/dist-packages (from requests>=2.0->line-bot-sdk) (1.24.3)\n",
            "Requirement already satisfied: certifi>=2017.4.17 in /usr/local/lib/python3.7/dist-packages (from requests>=2.0->line-bot-sdk) (2021.5.30)\n",
            "Requirement already satisfied: idna<3,>=2.5 in /usr/local/lib/python3.7/dist-packages (from requests>=2.0->line-bot-sdk) (2.10)\n",
            "Requirement already satisfied: chardet<4,>=3.0.2 in /usr/local/lib/python3.7/dist-packages (from requests>=2.0->line-bot-sdk) (3.0.4)\n",
            "Installing collected packages: line-bot-sdk\n",
            "Successfully installed line-bot-sdk-1.20.0\n",
            "Requirement already satisfied: bs4 in /usr/local/lib/python3.7/dist-packages (0.0.1)\n",
            "Requirement already satisfied: beautifulsoup4 in /usr/local/lib/python3.7/dist-packages (from bs4) (4.6.3)\n",
            "Requirement already satisfied: requests in /usr/local/lib/python3.7/dist-packages (2.23.0)\n",
            "Requirement already satisfied: urllib3!=1.25.0,!=1.25.1,<1.26,>=1.21.1 in /usr/local/lib/python3.7/dist-packages (from requests) (1.24.3)\n",
            "Requirement already satisfied: certifi>=2017.4.17 in /usr/local/lib/python3.7/dist-packages (from requests) (2021.5.30)\n",
            "Requirement already satisfied: idna<3,>=2.5 in /usr/local/lib/python3.7/dist-packages (from requests) (2.10)\n",
            "Requirement already satisfied: chardet<4,>=3.0.2 in /usr/local/lib/python3.7/dist-packages (from requests) (3.0.4)\n"
          ],
          "name": "stdout"
        }
      ]
    },
    {
      "cell_type": "code",
      "metadata": {
        "colab": {
          "base_uri": "https://localhost:8080/",
          "height": 35
        },
        "id": "wj4DFVDDAA4p",
        "outputId": "e342c165-cf55-4825-c1e6-b6df33d080e0"
      },
      "source": [
        "import OPDAid2_SN\n",
        "OPDAid2_SN.myLineBotApi\n",
        "OPDAid2_SN.myWebhookHandler"
      ],
      "execution_count": 2,
      "outputs": [
        {
          "output_type": "execute_result",
          "data": {
            "application/vnd.google.colaboratory.intrinsic+json": {
              "type": "string"
            },
            "text/plain": [
              "'ac5d9e844149c3dd1bc0cedc8347128f'"
            ]
          },
          "metadata": {},
          "execution_count": 2
        }
      ]
    },
    {
      "cell_type": "code",
      "metadata": {
        "colab": {
          "base_uri": "https://localhost:8080/"
        },
        "id": "WV7v_vwUA8ir",
        "outputId": "a7734927-06d8-4e96-81e6-704fd15411a0"
      },
      "source": [
        "from flask_ngrok import run_with_ngrok\n",
        "from flask import Flask, request, abort\n",
        "from datetime import date\n",
        "from linebot import (LineBotApi, WebhookHandler)\n",
        "from linebot.exceptions import (InvalidSignatureError)\n",
        "from linebot.models import (MessageEvent, TextMessage, TextSendMessage)\n",
        "import OPDAid2_SN\n",
        "today=date.today()\n",
        "app=Flask(__name__)\n",
        "\n",
        "line_bot_api=LineBotApi(OPDAid2_SN.myLineBotApi)\n",
        "handler=WebhookHandler(OPDAid2_SN.myWebhookHandler)\n",
        "\n",
        "run_with_ngrok(app)\n",
        "\n",
        "@app.route('/')\n",
        "def index():\n",
        "  return '三總北投門診助手1.0 '+str(today)\n",
        "\n",
        "@app.route('/callback',methods=['POST'])\n",
        "def callback():\n",
        "  signature=request.headers['X-Line-Signature']\n",
        "  body=request.get_data(as_text=True)\n",
        "  try:\n",
        "    handler.handle(body,signature)\n",
        "  except InvalidSignatureError:\n",
        "    abort(400)\n",
        "  return 'OK'\n",
        "@handler.add(MessageEvent, message=TextMessage)\n",
        "def handle_message(event):\n",
        "  '''\n",
        "  msg=event.message.text\n",
        "  '''\n",
        "  target_url='https://wwwv.tsgh.ndmctsgh.edu.tw/unit/30000/16134'\n",
        "  from bs4 import BeautifulSoup\n",
        "  import requests, json\n",
        "  ##from telegram impor ParseMode\n",
        "  responses=requests.get(target_url)\n",
        "  soup=BeautifulSoup(responses.text,\"html.parser\")\n",
        "  ##results=soup.select(\"div.systems-information\")\n",
        "  ##results=soup.find('div',{'class':'systems-information'})\n",
        "  ##results=\"<html><body><h1>你好!</h1></body></html>\"\n",
        "  results='https://www.google.com'\n",
        "  \n",
        "  line_bot_api.reply_message(event.reply_token,TextSendMessage(text=results,parse_mode='HTML')) ###'目前回覆功能尚在建置中..'))\n",
        "\n",
        "app.run()\n"
      ],
      "execution_count": 10,
      "outputs": [
        {
          "output_type": "stream",
          "text": [
            " * Serving Flask app \"__main__\" (lazy loading)\n",
            " * Environment: production\n",
            "\u001b[31m   WARNING: This is a development server. Do not use it in a production deployment.\u001b[0m\n",
            "\u001b[2m   Use a production WSGI server instead.\u001b[0m\n",
            " * Debug mode: off\n"
          ],
          "name": "stdout"
        },
        {
          "output_type": "stream",
          "text": [
            " * Running on http://127.0.0.1:5000/ (Press CTRL+C to quit)\n"
          ],
          "name": "stderr"
        }
      ]
    },
    {
      "cell_type": "code",
      "metadata": {
        "id": "z4v4W-vwQWaI"
      },
      "source": [
        ""
      ],
      "execution_count": null,
      "outputs": []
    },
    {
      "cell_type": "code",
      "metadata": {
        "colab": {
          "base_uri": "https://localhost:8080/",
          "height": 35
        },
        "id": "_LvCI9uInnox",
        "outputId": "114686d0-831c-4dab-9876-ce179844c922"
      },
      "source": [
        "import flask\n",
        "flask.__version__"
      ],
      "execution_count": null,
      "outputs": [
        {
          "output_type": "execute_result",
          "data": {
            "application/vnd.google.colaboratory.intrinsic+json": {
              "type": "string"
            },
            "text/plain": [
              "'1.1.4'"
            ]
          },
          "metadata": {
            "tags": []
          },
          "execution_count": 7
        }
      ]
    },
    {
      "cell_type": "code",
      "metadata": {
        "colab": {
          "base_uri": "https://localhost:8080/",
          "height": 35
        },
        "id": "TjBsbCz-ny8y",
        "outputId": "f1b7e7ad-c56b-4851-ac25-a5ac03ec72ae"
      },
      "source": [
        "import linebot\n",
        "linebot.__version__"
      ],
      "execution_count": null,
      "outputs": [
        {
          "output_type": "execute_result",
          "data": {
            "application/vnd.google.colaboratory.intrinsic+json": {
              "type": "string"
            },
            "text/plain": [
              "'1.19.0'"
            ]
          },
          "metadata": {
            "tags": []
          },
          "execution_count": 10
        }
      ]
    }
  ]
}