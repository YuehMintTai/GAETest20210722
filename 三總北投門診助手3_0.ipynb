{
  "nbformat": 4,
  "nbformat_minor": 0,
  "metadata": {
    "colab": {
      "name": "三總北投門診助手3.0.ipynb",
      "provenance": [],
      "authorship_tag": "ABX9TyNyopnsTZtJ8r2WyXJN3O1P",
      "include_colab_link": true
    },
    "kernelspec": {
      "name": "python3",
      "display_name": "Python 3"
    },
    "language_info": {
      "name": "python"
    }
  },
  "cells": [
    {
      "cell_type": "markdown",
      "metadata": {
        "id": "view-in-github",
        "colab_type": "text"
      },
      "source": [
        "<a href=\"https://colab.research.google.com/github/YuehMintTai/GAETest20210722/blob/main/%E4%B8%89%E7%B8%BD%E5%8C%97%E6%8A%95%E9%96%80%E8%A8%BA%E5%8A%A9%E6%89%8B3_0.ipynb\" target=\"_parent\"><img src=\"https://colab.research.google.com/assets/colab-badge.svg\" alt=\"Open In Colab\"/></a>"
      ]
    },
    {
      "cell_type": "markdown",
      "metadata": {
        "id": "yJd4VIhftAdd"
      },
      "source": [
        "##三總北投門診助手 3.0  2021/8/22"
      ]
    },
    {
      "cell_type": "code",
      "metadata": {
        "colab": {
          "base_uri": "https://localhost:8080/"
        },
        "id": "Ql_QuDOus6fT",
        "outputId": "5da78c00-daff-4e5b-f051-e9afcfef2331"
      },
      "source": [
        "!pip install flask_ngrok\n",
        "!pip install line-bot-sdk\n",
        "!pip install bs4\n",
        "!pip install requests"
      ],
      "execution_count": 1,
      "outputs": [
        {
          "output_type": "stream",
          "text": [
            "Collecting flask_ngrok\n",
            "  Downloading flask_ngrok-0.0.25-py3-none-any.whl (3.1 kB)\n",
            "Requirement already satisfied: requests in /usr/local/lib/python3.7/dist-packages (from flask_ngrok) (2.23.0)\n",
            "Requirement already satisfied: Flask>=0.8 in /usr/local/lib/python3.7/dist-packages (from flask_ngrok) (1.1.4)\n",
            "Requirement already satisfied: Jinja2<3.0,>=2.10.1 in /usr/local/lib/python3.7/dist-packages (from Flask>=0.8->flask_ngrok) (2.11.3)\n",
            "Requirement already satisfied: Werkzeug<2.0,>=0.15 in /usr/local/lib/python3.7/dist-packages (from Flask>=0.8->flask_ngrok) (1.0.1)\n",
            "Requirement already satisfied: itsdangerous<2.0,>=0.24 in /usr/local/lib/python3.7/dist-packages (from Flask>=0.8->flask_ngrok) (1.1.0)\n",
            "Requirement already satisfied: click<8.0,>=5.1 in /usr/local/lib/python3.7/dist-packages (from Flask>=0.8->flask_ngrok) (7.1.2)\n",
            "Requirement already satisfied: MarkupSafe>=0.23 in /usr/local/lib/python3.7/dist-packages (from Jinja2<3.0,>=2.10.1->Flask>=0.8->flask_ngrok) (2.0.1)\n",
            "Requirement already satisfied: chardet<4,>=3.0.2 in /usr/local/lib/python3.7/dist-packages (from requests->flask_ngrok) (3.0.4)\n",
            "Requirement already satisfied: certifi>=2017.4.17 in /usr/local/lib/python3.7/dist-packages (from requests->flask_ngrok) (2021.5.30)\n",
            "Requirement already satisfied: urllib3!=1.25.0,!=1.25.1,<1.26,>=1.21.1 in /usr/local/lib/python3.7/dist-packages (from requests->flask_ngrok) (1.24.3)\n",
            "Requirement already satisfied: idna<3,>=2.5 in /usr/local/lib/python3.7/dist-packages (from requests->flask_ngrok) (2.10)\n",
            "Installing collected packages: flask-ngrok\n",
            "Successfully installed flask-ngrok-0.0.25\n",
            "Collecting line-bot-sdk\n",
            "  Downloading line_bot_sdk-1.20.0-py2.py3-none-any.whl (72 kB)\n",
            "\u001b[K     |████████████████████████████████| 72 kB 709 kB/s \n",
            "\u001b[?25hRequirement already satisfied: requests>=2.0 in /usr/local/lib/python3.7/dist-packages (from line-bot-sdk) (2.23.0)\n",
            "Requirement already satisfied: future in /usr/local/lib/python3.7/dist-packages (from line-bot-sdk) (0.16.0)\n",
            "Requirement already satisfied: chardet<4,>=3.0.2 in /usr/local/lib/python3.7/dist-packages (from requests>=2.0->line-bot-sdk) (3.0.4)\n",
            "Requirement already satisfied: urllib3!=1.25.0,!=1.25.1,<1.26,>=1.21.1 in /usr/local/lib/python3.7/dist-packages (from requests>=2.0->line-bot-sdk) (1.24.3)\n",
            "Requirement already satisfied: idna<3,>=2.5 in /usr/local/lib/python3.7/dist-packages (from requests>=2.0->line-bot-sdk) (2.10)\n",
            "Requirement already satisfied: certifi>=2017.4.17 in /usr/local/lib/python3.7/dist-packages (from requests>=2.0->line-bot-sdk) (2021.5.30)\n",
            "Installing collected packages: line-bot-sdk\n",
            "Successfully installed line-bot-sdk-1.20.0\n",
            "Requirement already satisfied: bs4 in /usr/local/lib/python3.7/dist-packages (0.0.1)\n",
            "Requirement already satisfied: beautifulsoup4 in /usr/local/lib/python3.7/dist-packages (from bs4) (4.6.3)\n",
            "Requirement already satisfied: requests in /usr/local/lib/python3.7/dist-packages (2.23.0)\n",
            "Requirement already satisfied: chardet<4,>=3.0.2 in /usr/local/lib/python3.7/dist-packages (from requests) (3.0.4)\n",
            "Requirement already satisfied: urllib3!=1.25.0,!=1.25.1,<1.26,>=1.21.1 in /usr/local/lib/python3.7/dist-packages (from requests) (1.24.3)\n",
            "Requirement already satisfied: idna<3,>=2.5 in /usr/local/lib/python3.7/dist-packages (from requests) (2.10)\n",
            "Requirement already satisfied: certifi>=2017.4.17 in /usr/local/lib/python3.7/dist-packages (from requests) (2021.5.30)\n"
          ],
          "name": "stdout"
        }
      ]
    },
    {
      "cell_type": "code",
      "metadata": {
        "colab": {
          "base_uri": "https://localhost:8080/",
          "height": 35
        },
        "id": "g8_4rJ6Js_-a",
        "outputId": "70ccccd6-0978-4709-d30e-3caf5c7bffe5"
      },
      "source": [
        "import OPDAid3_SN\n",
        "OPDAid3_SN.myLineBotApi\n",
        "OPDAid3_SN.myWebhookHandler"
      ],
      "execution_count": 2,
      "outputs": [
        {
          "output_type": "execute_result",
          "data": {
            "application/vnd.google.colaboratory.intrinsic+json": {
              "type": "string"
            },
            "text/plain": [
              "'17a979c412f4bb0adb0014f3fcc76708'"
            ]
          },
          "metadata": {},
          "execution_count": 2
        }
      ]
    },
    {
      "cell_type": "code",
      "metadata": {
        "colab": {
          "base_uri": "https://localhost:8080/"
        },
        "id": "D8MS8yHVuTUz",
        "outputId": "cf030fd6-0027-4443-9aa0-f2cd46b0e429"
      },
      "source": [
        "from flask_ngrok import run_with_ngrok\n",
        "from flask import Flask, request, abort\n",
        "from datetime import date\n",
        "from linebot import (LineBotApi, WebhookHandler)\n",
        "from linebot.exceptions import (InvalidSignatureError)\n",
        "from linebot.models import (MessageEvent, TextMessage, TextSendMessage)\n",
        "from bs4 import BeautifulSoup\n",
        "import requests, json\n",
        "import OPDAid3_SN\n",
        "today=date.today()\n",
        "app=Flask(__name__)\n",
        "\n",
        "line_bot_api=LineBotApi(OPDAid3_SN.myLineBotApi)\n",
        "handler=WebhookHandler(OPDAid3_SN.myWebhookHandler)\n",
        "\n",
        "run_with_ngrok(app)\n",
        "\n",
        "@app.route('/')\n",
        "def index():\n",
        "  return '三總北投門診助手3.0 '+str(today)\n",
        "\n",
        "@app.route('/callback',methods=['POST'])\n",
        "def callback():\n",
        "  signature=request.headers['X-Line-Signature']\n",
        "  body=request.get_data(as_text=True)\n",
        "  try:\n",
        "    handler.handle(body,signature)\n",
        "  except InvalidSignatureError:\n",
        "    abort(400)\n",
        "  return 'OK'\n",
        "\n",
        "'''\n",
        "def urlRequest(target_url):\n",
        "  from bs4 import BeautifulSoup\n",
        "  import requests\n",
        "  responses=requests.get(target_url)\n",
        "  soup=BeautifulSoup(responses.text,\"html.parser\")\n",
        "  myDivs=soup.find_all('div',{'class':'column column-block lg-txt'})\n",
        "  myResult=''\n",
        "  for myDiv in myDivs:\n",
        "    myLink=myDiv.find('a')\n",
        "    myResult += str(myLink.contents[0])\n",
        "    myResult += '\\n'\n",
        "    myResult += f\"https://wwwv.tsgh.ndmctsgh.edu.tw/{myLink.get('href')}\"\n",
        "    myResult += '\\n\\n'\n",
        "  return(myResult)\n",
        "'''\n",
        "\n",
        "@handler.add(MessageEvent, message=TextMessage)\n",
        "def handle_message(event):\n",
        "  from bs4 import BeautifulSoup\n",
        "  import requests\n",
        "  msg=event.message.text\n",
        "  if msg=='醫師查詢':\n",
        "    target_url='https://wwwv.tsgh.ndmctsgh.edu.tw/Doclist/194/30000/25075'\n",
        "    responses=requests.get(target_url)\n",
        "    soup=BeautifulSoup(responses.text,\"html.parser\")\n",
        "    myDivs=soup.find_all('div',{'class':'column column-block lg-txt'})\n",
        "    myResult=''\n",
        "    for myDiv in myDivs:\n",
        "      myLink=myDiv.find('a')\n",
        "      myResult += str(myLink.contents[0])\n",
        "      myResult += '\\n'\n",
        "      myResult += f\"https://wwwv.tsgh.ndmctsgh.edu.tw/{myLink.get('href')}\"\n",
        "      myResult += '\\n\\n'   \n",
        "    line_bot_api.reply_message(event.reply_token,TextSendMessage(text=myResult))\n",
        "  if msg=='門診時間':\n",
        "    target_url='https://wwwv.tsgh.ndmctsgh.edu.tw/unit/30000/28387'\n",
        "    responses=requests.get(target_url)\n",
        "    soup=BeautifulSoup(responses.text,\"html.parser\")\n",
        "    門診時刻表=soup.select_one('div.systems-information')\n",
        "    每月時刻表=門診時刻表.find_all('a')\n",
        "    myResult=''\n",
        "    for tag in 每月時刻表:\n",
        "      myLink=str(tag.get('href'))\n",
        "      myLink=f\"https://wwwv.tsgh.ndmctsgh.edu.tw/{myLink}\"\n",
        "      myResult +=tag.contents[0]\n",
        "      myResult +='\\n'\n",
        "      myResult += myLink\n",
        "      myResult +='\\n'\n",
        "    line_bot_api.reply_message(event.reply_token,TextSendMessage(text=myResult))\n",
        "\n",
        "  if msg=='掛號查詢':  \n",
        "    line_bot_api.reply_message(event.reply_token,TextSendMessage(text=msg+'維修中'))\n",
        "\n",
        "  if msg=='費用申請':\n",
        "    target_url='https://wwwv.tsgh.ndmctsgh.edu.tw/unit/30000/16048'\n",
        "    response=requests.get(target_url)\n",
        "    soup=BeautifulSoup(response.text, 'html.parser')\n",
        "    myDiv=soup.select_one('div.systems-information')\n",
        "    收費標準s=myDiv.find_all('a')\n",
        "    myResult=''\n",
        "    for i, tag in enumerate(收費標準s):\n",
        "      myResult+='\\n {}.{}。詳情如下: \\n {}'.format(i,tag.contents[0],tag.get('href'))\n",
        "    line_bot_api.reply_message(event.reply_token,TextSendMessage(text=myResult))\n",
        "\n",
        "  if msg=='重大公告':\n",
        "    line_bot_api.reply_message(event.reply_token,TextSendMessage(text=msg+'維修中'))\n",
        "\n",
        "  else:\n",
        "    line_bot_api.reply_message(event.reply_token,TextSendMessage(text=msg))\n",
        "\n",
        "app.run()"
      ],
      "execution_count": 16,
      "outputs": [
        {
          "output_type": "stream",
          "text": [
            " * Serving Flask app \"__main__\" (lazy loading)\n",
            " * Environment: production\n",
            "\u001b[31m   WARNING: This is a development server. Do not use it in a production deployment.\u001b[0m\n",
            "\u001b[2m   Use a production WSGI server instead.\u001b[0m\n",
            " * Debug mode: off\n"
          ],
          "name": "stdout"
        },
        {
          "output_type": "stream",
          "text": [
            " * Running on http://127.0.0.1:5000/ (Press CTRL+C to quit)\n"
          ],
          "name": "stderr"
        },
        {
          "output_type": "stream",
          "text": [
            " * Running on http://50ff-34-125-95-239.ngrok.io\n",
            " * Traffic stats available on http://127.0.0.1:4040\n"
          ],
          "name": "stdout"
        },
        {
          "output_type": "stream",
          "text": [
            "127.0.0.1 - - [22/Aug/2021 03:23:14] \"\u001b[37mGET / HTTP/1.1\u001b[0m\" 200 -\n",
            "127.0.0.1 - - [22/Aug/2021 03:23:14] \"\u001b[33mGET /favicon.ico HTTP/1.1\u001b[0m\" 404 -\n",
            "[2021-08-22 03:23:39,585] ERROR in app: Exception on /callback [POST]\n",
            "Traceback (most recent call last):\n",
            "  File \"/usr/local/lib/python3.7/dist-packages/flask/app.py\", line 2447, in wsgi_app\n",
            "    response = self.full_dispatch_request()\n",
            "  File \"/usr/local/lib/python3.7/dist-packages/flask/app.py\", line 1952, in full_dispatch_request\n",
            "    rv = self.handle_user_exception(e)\n",
            "  File \"/usr/local/lib/python3.7/dist-packages/flask/app.py\", line 1821, in handle_user_exception\n",
            "    reraise(exc_type, exc_value, tb)\n",
            "  File \"/usr/local/lib/python3.7/dist-packages/flask/_compat.py\", line 39, in reraise\n",
            "    raise value\n",
            "  File \"/usr/local/lib/python3.7/dist-packages/flask/app.py\", line 1950, in full_dispatch_request\n",
            "    rv = self.dispatch_request()\n",
            "  File \"/usr/local/lib/python3.7/dist-packages/flask/app.py\", line 1936, in dispatch_request\n",
            "    return self.view_functions[rule.endpoint](**req.view_args)\n",
            "  File \"<ipython-input-16-0d63b75399fc>\", line 27, in callback\n",
            "    handler.handle(body,signature)\n",
            "  File \"/usr/local/lib/python3.7/dist-packages/linebot/webhook.py\", line 260, in handle\n",
            "    self.__invoke_func(func, event, payload)\n",
            "  File \"/usr/local/lib/python3.7/dist-packages/linebot/webhook.py\", line 272, in __invoke_func\n",
            "    func(event)\n",
            "  File \"<ipython-input-16-0d63b75399fc>\", line 88, in handle_message\n",
            "    line_bot_api.reply_message(event.reply_token,TextSendMessage(text=msg))\n",
            "  File \"/usr/local/lib/python3.7/dist-packages/linebot/api.py\", line 111, in reply_message\n",
            "    '/v2/bot/message/reply', data=json.dumps(data), timeout=timeout\n",
            "  File \"/usr/local/lib/python3.7/dist-packages/linebot/api.py\", line 1621, in _post\n",
            "    self.__check_error(response)\n",
            "  File \"/usr/local/lib/python3.7/dist-packages/linebot/api.py\", line 1662, in __check_error\n",
            "    error=Error.new_from_json_dict(response.json)\n",
            "linebot.exceptions.LineBotApiError: LineBotApiError: status_code=400, request_id=5e1abd5a-de27-4dae-bc7d-61398f46ae4a, error_response={\"details\": [], \"message\": \"Invalid reply token\"}, headers={'Server': 'openresty', 'Content-Type': 'application/json', 'Content-Length': '33', 'x-content-type-options': 'nosniff', 'x-frame-options': 'DENY', 'x-line-request-id': '5e1abd5a-de27-4dae-bc7d-61398f46ae4a', 'x-xss-protection': '1; mode=block', 'Expires': 'Sun, 22 Aug 2021 03:23:39 GMT', 'Cache-Control': 'max-age=0, no-cache, no-store', 'Pragma': 'no-cache', 'Date': 'Sun, 22 Aug 2021 03:23:39 GMT', 'Connection': 'close'}\n",
            "127.0.0.1 - - [22/Aug/2021 03:23:39] \"\u001b[35m\u001b[1mPOST /callback HTTP/1.1\u001b[0m\" 500 -\n"
          ],
          "name": "stderr"
        }
      ]
    }
  ]
}