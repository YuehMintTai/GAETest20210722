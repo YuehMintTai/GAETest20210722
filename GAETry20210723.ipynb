{
  "nbformat": 4,
  "nbformat_minor": 0,
  "metadata": {
    "colab": {
      "name": "GAETry20210723.ipynb",
      "provenance": [],
      "authorship_tag": "ABX9TyO0EGnLc6fNfh6ZobtpIdLH",
      "include_colab_link": true
    },
    "kernelspec": {
      "name": "python3",
      "display_name": "Python 3"
    },
    "language_info": {
      "name": "python"
    }
  },
  "cells": [
    {
      "cell_type": "markdown",
      "metadata": {
        "id": "view-in-github",
        "colab_type": "text"
      },
      "source": [
        "<a href=\"https://colab.research.google.com/github/YuehMintTai/GAETest20210722/blob/main/GAETry20210723.ipynb\" target=\"_parent\"><img src=\"https://colab.research.google.com/assets/colab-badge.svg\" alt=\"Open In Colab\"/></a>"
      ]
    },
    {
      "cell_type": "code",
      "metadata": {
        "colab": {
          "base_uri": "https://localhost:8080/"
        },
        "id": "ozcwq0Ba-JeJ",
        "outputId": "0f0e1d84-1e0a-4e36-9d46-f3a23e90c153"
      },
      "source": [
        "!git clone https://github.com/YuehMintTai/GAETest20210722.git"
      ],
      "execution_count": 12,
      "outputs": [
        {
          "output_type": "stream",
          "text": [
            "fatal: destination path 'GAETest20210722' already exists and is not an empty directory.\n"
          ],
          "name": "stdout"
        }
      ]
    },
    {
      "cell_type": "code",
      "metadata": {
        "colab": {
          "base_uri": "https://localhost:8080/"
        },
        "id": "ZyTpWr7rFcOK",
        "outputId": "eaabbf0c-0ab0-434c-b3f3-8db90f747963"
      },
      "source": [
        "import pandas as pd\n",
        "import numpy as np\n",
        "import flask \n",
        "import sklearn\n",
        "print('pandas==',pd.__version__)\n",
        "print('numpy==',np.__version__)\n",
        "print('flask==',flask.__version__)\n",
        "print('sklearn==',sklearn.__version__)"
      ],
      "execution_count": 13,
      "outputs": [
        {
          "output_type": "stream",
          "text": [
            "pandas== 1.1.5\n",
            "numpy== 1.19.5\n",
            "flask== 1.1.4\n",
            "sklearn== 0.22.2.post1\n"
          ],
          "name": "stdout"
        }
      ]
    },
    {
      "cell_type": "code",
      "metadata": {
        "colab": {
          "base_uri": "https://localhost:8080/"
        },
        "id": "nqJUpqpEGbCT",
        "outputId": "fd45b941-4a9b-4846-cec8-ef630fee9dfa"
      },
      "source": [
        "#!pip install flask_ngrok"
      ],
      "execution_count": null,
      "outputs": [
        {
          "output_type": "stream",
          "text": [
            "Collecting flask_ngrok\n",
            "  Downloading flask_ngrok-0.0.25-py3-none-any.whl (3.1 kB)\n",
            "Requirement already satisfied: Flask>=0.8 in /usr/local/lib/python3.7/dist-packages (from flask_ngrok) (1.1.4)\n",
            "Requirement already satisfied: requests in /usr/local/lib/python3.7/dist-packages (from flask_ngrok) (2.23.0)\n",
            "Requirement already satisfied: click<8.0,>=5.1 in /usr/local/lib/python3.7/dist-packages (from Flask>=0.8->flask_ngrok) (7.1.2)\n",
            "Requirement already satisfied: Jinja2<3.0,>=2.10.1 in /usr/local/lib/python3.7/dist-packages (from Flask>=0.8->flask_ngrok) (2.11.3)\n",
            "Requirement already satisfied: Werkzeug<2.0,>=0.15 in /usr/local/lib/python3.7/dist-packages (from Flask>=0.8->flask_ngrok) (1.0.1)\n",
            "Requirement already satisfied: itsdangerous<2.0,>=0.24 in /usr/local/lib/python3.7/dist-packages (from Flask>=0.8->flask_ngrok) (1.1.0)\n",
            "Requirement already satisfied: MarkupSafe>=0.23 in /usr/local/lib/python3.7/dist-packages (from Jinja2<3.0,>=2.10.1->Flask>=0.8->flask_ngrok) (2.0.1)\n",
            "Requirement already satisfied: certifi>=2017.4.17 in /usr/local/lib/python3.7/dist-packages (from requests->flask_ngrok) (2021.5.30)\n",
            "Requirement already satisfied: idna<3,>=2.5 in /usr/local/lib/python3.7/dist-packages (from requests->flask_ngrok) (2.10)\n",
            "Requirement already satisfied: urllib3!=1.25.0,!=1.25.1,<1.26,>=1.21.1 in /usr/local/lib/python3.7/dist-packages (from requests->flask_ngrok) (1.24.3)\n",
            "Requirement already satisfied: chardet<4,>=3.0.2 in /usr/local/lib/python3.7/dist-packages (from requests->flask_ngrok) (3.0.4)\n",
            "Installing collected packages: flask-ngrok\n",
            "Successfully installed flask-ngrok-0.0.25\n"
          ],
          "name": "stdout"
        }
      ]
    },
    {
      "cell_type": "code",
      "metadata": {
        "id": "6AqEGIlCIEIH",
        "outputId": "94b86101-0066-4ee8-a112-a83cb94af9cc",
        "colab": {
          "base_uri": "https://localhost:8080/",
          "height": 204
        }
      },
      "source": [
        "###\n",
        "from flask_ngrok import run_with_ngrok\n",
        "###\n",
        "from flask import Flask, render_template, request\n",
        "app=Flask(__name__,template_folder='templates')\n",
        "####\n",
        "run_with_ngrok(app)\n",
        "####\n",
        "\n",
        "df=pd.read_csv('samples.csv')\n",
        "df['sex']='男'\n",
        "df.loc[df['性別']==2,'sex']='女'\n",
        "x=df[['sex','年齡','BSRS總分','網路成癮分數YDQ','家庭滿意度apgar']]\n",
        "x=pd.get_dummies(data=x,drop_first=True)\n",
        "y=df['自殺意念01'].astype(int).to_frame()\n",
        "x_y=pd.concat([x,y],axis=1)\n",
        "\n",
        "##區分training, validating, testing 組\n",
        "x_y['remainder']=x_y.index%6\n",
        "x_y['group']='train'\n",
        "x_y.loc[x_y['remainder']==0,'group']='test'\n",
        "x_y.loc[x_y['remainder']==1,'group']='valid'\n",
        "x_y.loc[x_y['remainder']==2,'group']='valid'\n",
        "x_test=x_y.loc[x_y['group']=='test'][['sex_男','年齡','BSRS總分','網路成癮分數YDQ','家庭滿意度apgar']]\n",
        "x_test.tail()\n",
        "\n",
        "\n"
      ],
      "execution_count": 24,
      "outputs": [
        {
          "output_type": "execute_result",
          "data": {
            "text/html": [
              "<div>\n",
              "<style scoped>\n",
              "    .dataframe tbody tr th:only-of-type {\n",
              "        vertical-align: middle;\n",
              "    }\n",
              "\n",
              "    .dataframe tbody tr th {\n",
              "        vertical-align: top;\n",
              "    }\n",
              "\n",
              "    .dataframe thead th {\n",
              "        text-align: right;\n",
              "    }\n",
              "</style>\n",
              "<table border=\"1\" class=\"dataframe\">\n",
              "  <thead>\n",
              "    <tr style=\"text-align: right;\">\n",
              "      <th></th>\n",
              "      <th>sex_男</th>\n",
              "      <th>年齡</th>\n",
              "      <th>BSRS總分</th>\n",
              "      <th>網路成癮分數YDQ</th>\n",
              "      <th>家庭滿意度apgar</th>\n",
              "    </tr>\n",
              "  </thead>\n",
              "  <tbody>\n",
              "    <tr>\n",
              "      <th>162</th>\n",
              "      <td>1</td>\n",
              "      <td>21.333082</td>\n",
              "      <td>15.0</td>\n",
              "      <td>2</td>\n",
              "      <td>3.0</td>\n",
              "    </tr>\n",
              "    <tr>\n",
              "      <th>168</th>\n",
              "      <td>1</td>\n",
              "      <td>26.000000</td>\n",
              "      <td>13.0</td>\n",
              "      <td>8</td>\n",
              "      <td>10.0</td>\n",
              "    </tr>\n",
              "    <tr>\n",
              "      <th>174</th>\n",
              "      <td>1</td>\n",
              "      <td>28.000000</td>\n",
              "      <td>14.0</td>\n",
              "      <td>5</td>\n",
              "      <td>0.0</td>\n",
              "    </tr>\n",
              "    <tr>\n",
              "      <th>180</th>\n",
              "      <td>0</td>\n",
              "      <td>21.333082</td>\n",
              "      <td>12.0</td>\n",
              "      <td>3</td>\n",
              "      <td>8.0</td>\n",
              "    </tr>\n",
              "    <tr>\n",
              "      <th>186</th>\n",
              "      <td>1</td>\n",
              "      <td>21.000000</td>\n",
              "      <td>16.0</td>\n",
              "      <td>2</td>\n",
              "      <td>0.0</td>\n",
              "    </tr>\n",
              "  </tbody>\n",
              "</table>\n",
              "</div>"
            ],
            "text/plain": [
              "     sex_男         年齡  BSRS總分  網路成癮分數YDQ  家庭滿意度apgar\n",
              "162      1  21.333082    15.0          2         3.0\n",
              "168      1  26.000000    13.0          8        10.0\n",
              "174      1  28.000000    14.0          5         0.0\n",
              "180      0  21.333082    12.0          3         8.0\n",
              "186      1  21.000000    16.0          2         0.0"
            ]
          },
          "metadata": {
            "tags": []
          },
          "execution_count": 24
        }
      ]
    },
    {
      "cell_type": "code",
      "metadata": {
        "colab": {
          "base_uri": "https://localhost:8080/"
        },
        "id": "ZViD6ZE6GiFc",
        "outputId": "b82834cf-a280-48d8-90a6-18cfd609fe4e"
      },
      "source": [
        "###\n",
        "from flask_ngrok import run_with_ngrok\n",
        "###\n",
        "from flask import Flask, render_template, request\n",
        "app=Flask(__name__,template_folder='templates')\n",
        "####\n",
        "run_with_ngrok(app)\n",
        "####\n",
        "\n",
        "df=pd.read_csv('samples.csv')\n",
        "i=15\n",
        "\n",
        "@app.route('/',methods=['POST','GET'])\n",
        "def index():\n",
        "  title='指定筆數:'\n",
        "  ID=i\n",
        "  if request.method=='POST':\n",
        "    ID=int(request.form.get('ID'))\n",
        "  myDf=df.loc[ID][['年齡','性別','網路成癮分數YDQ','家庭滿意度apgar']]\n",
        "  AGE=myDf['年齡']\n",
        "  SEX=myDf['性別']\n",
        "  YDQ=myDf['網路成癮分數YDQ']\n",
        "  APGAR=myDf['家庭滿意度apgar']\n",
        "  return render_template('index.html',title=title,ID=ID,AGE=AGE,SEX=SEX,YDQ=YDQ,APGAR=APGAR)\n",
        "\n",
        "app.run()"
      ],
      "execution_count": null,
      "outputs": [
        {
          "output_type": "stream",
          "text": [
            " * Serving Flask app \"__main__\" (lazy loading)\n",
            " * Environment: production\n",
            "\u001b[31m   WARNING: This is a development server. Do not use it in a production deployment.\u001b[0m\n",
            "\u001b[2m   Use a production WSGI server instead.\u001b[0m\n",
            " * Debug mode: off\n"
          ],
          "name": "stdout"
        },
        {
          "output_type": "stream",
          "text": [
            " * Running on http://127.0.0.1:5000/ (Press CTRL+C to quit)\n"
          ],
          "name": "stderr"
        },
        {
          "output_type": "stream",
          "text": [
            " * Running on http://2cc20a614cce.ngrok.io\n",
            " * Traffic stats available on http://127.0.0.1:4040\n"
          ],
          "name": "stdout"
        },
        {
          "output_type": "stream",
          "text": [
            "127.0.0.1 - - [23/Jul/2021 13:10:32] \"\u001b[37mGET / HTTP/1.1\u001b[0m\" 200 -\n",
            "127.0.0.1 - - [23/Jul/2021 13:10:33] \"\u001b[33mGET /favicon.ico HTTP/1.1\u001b[0m\" 404 -\n",
            "127.0.0.1 - - [23/Jul/2021 13:10:38] \"\u001b[37mPOST / HTTP/1.1\u001b[0m\" 200 -\n",
            "[2021-07-23 13:10:46,342] ERROR in app: Exception on / [POST]\n",
            "Traceback (most recent call last):\n",
            "  File \"/usr/local/lib/python3.7/dist-packages/pandas/core/indexes/range.py\", line 355, in get_loc\n",
            "    return self._range.index(new_key)\n",
            "ValueError: 200 is not in range\n",
            "\n",
            "The above exception was the direct cause of the following exception:\n",
            "\n",
            "Traceback (most recent call last):\n",
            "  File \"/usr/local/lib/python3.7/dist-packages/flask/app.py\", line 2447, in wsgi_app\n",
            "    response = self.full_dispatch_request()\n",
            "  File \"/usr/local/lib/python3.7/dist-packages/flask/app.py\", line 1952, in full_dispatch_request\n",
            "    rv = self.handle_user_exception(e)\n",
            "  File \"/usr/local/lib/python3.7/dist-packages/flask/app.py\", line 1821, in handle_user_exception\n",
            "    reraise(exc_type, exc_value, tb)\n",
            "  File \"/usr/local/lib/python3.7/dist-packages/flask/_compat.py\", line 39, in reraise\n",
            "    raise value\n",
            "  File \"/usr/local/lib/python3.7/dist-packages/flask/app.py\", line 1950, in full_dispatch_request\n",
            "    rv = self.dispatch_request()\n",
            "  File \"/usr/local/lib/python3.7/dist-packages/flask/app.py\", line 1936, in dispatch_request\n",
            "    return self.view_functions[rule.endpoint](**req.view_args)\n",
            "  File \"<ipython-input-47-21b2f6bf1a89>\", line 19, in index\n",
            "    myDf=df.loc[ID][['年齡','性別','網路成癮分數YDQ','家庭滿意度apgar']]\n",
            "  File \"/usr/local/lib/python3.7/dist-packages/pandas/core/indexing.py\", line 879, in __getitem__\n",
            "    return self._getitem_axis(maybe_callable, axis=axis)\n",
            "  File \"/usr/local/lib/python3.7/dist-packages/pandas/core/indexing.py\", line 1110, in _getitem_axis\n",
            "    return self._get_label(key, axis=axis)\n",
            "  File \"/usr/local/lib/python3.7/dist-packages/pandas/core/indexing.py\", line 1059, in _get_label\n",
            "    return self.obj.xs(label, axis=axis)\n",
            "  File \"/usr/local/lib/python3.7/dist-packages/pandas/core/generic.py\", line 3493, in xs\n",
            "    loc = self.index.get_loc(key)\n",
            "  File \"/usr/local/lib/python3.7/dist-packages/pandas/core/indexes/range.py\", line 357, in get_loc\n",
            "    raise KeyError(key) from err\n",
            "KeyError: 200\n",
            "127.0.0.1 - - [23/Jul/2021 13:10:46] \"\u001b[35m\u001b[1mPOST / HTTP/1.1\u001b[0m\" 500 -\n",
            "127.0.0.1 - - [23/Jul/2021 13:10:56] \"\u001b[37mPOST / HTTP/1.1\u001b[0m\" 200 -\n",
            "[2021-07-23 13:11:04,661] ERROR in app: Exception on / [POST]\n",
            "Traceback (most recent call last):\n",
            "  File \"/usr/local/lib/python3.7/dist-packages/pandas/core/indexes/range.py\", line 355, in get_loc\n",
            "    return self._range.index(new_key)\n",
            "ValueError: 205 is not in range\n",
            "\n",
            "The above exception was the direct cause of the following exception:\n",
            "\n",
            "Traceback (most recent call last):\n",
            "  File \"/usr/local/lib/python3.7/dist-packages/flask/app.py\", line 2447, in wsgi_app\n",
            "    response = self.full_dispatch_request()\n",
            "  File \"/usr/local/lib/python3.7/dist-packages/flask/app.py\", line 1952, in full_dispatch_request\n",
            "    rv = self.handle_user_exception(e)\n",
            "  File \"/usr/local/lib/python3.7/dist-packages/flask/app.py\", line 1821, in handle_user_exception\n",
            "    reraise(exc_type, exc_value, tb)\n",
            "  File \"/usr/local/lib/python3.7/dist-packages/flask/_compat.py\", line 39, in reraise\n",
            "    raise value\n",
            "  File \"/usr/local/lib/python3.7/dist-packages/flask/app.py\", line 1950, in full_dispatch_request\n",
            "    rv = self.dispatch_request()\n",
            "  File \"/usr/local/lib/python3.7/dist-packages/flask/app.py\", line 1936, in dispatch_request\n",
            "    return self.view_functions[rule.endpoint](**req.view_args)\n",
            "  File \"<ipython-input-47-21b2f6bf1a89>\", line 19, in index\n",
            "    myDf=df.loc[ID][['年齡','性別','網路成癮分數YDQ','家庭滿意度apgar']]\n",
            "  File \"/usr/local/lib/python3.7/dist-packages/pandas/core/indexing.py\", line 879, in __getitem__\n",
            "    return self._getitem_axis(maybe_callable, axis=axis)\n",
            "  File \"/usr/local/lib/python3.7/dist-packages/pandas/core/indexing.py\", line 1110, in _getitem_axis\n",
            "    return self._get_label(key, axis=axis)\n",
            "  File \"/usr/local/lib/python3.7/dist-packages/pandas/core/indexing.py\", line 1059, in _get_label\n",
            "    return self.obj.xs(label, axis=axis)\n",
            "  File \"/usr/local/lib/python3.7/dist-packages/pandas/core/generic.py\", line 3493, in xs\n",
            "    loc = self.index.get_loc(key)\n",
            "  File \"/usr/local/lib/python3.7/dist-packages/pandas/core/indexes/range.py\", line 357, in get_loc\n",
            "    raise KeyError(key) from err\n",
            "KeyError: 205\n",
            "127.0.0.1 - - [23/Jul/2021 13:11:04] \"\u001b[35m\u001b[1mPOST / HTTP/1.1\u001b[0m\" 500 -\n",
            "127.0.0.1 - - [23/Jul/2021 13:11:11] \"\u001b[37mPOST / HTTP/1.1\u001b[0m\" 200 -\n"
          ],
          "name": "stderr"
        }
      ]
    },
    {
      "cell_type": "code",
      "metadata": {
        "colab": {
          "base_uri": "https://localhost:8080/"
        },
        "id": "mfqwzc1VG0Ue",
        "outputId": "286a0193-de05-45f7-dc77-26de616dd4d1"
      },
      "source": [
        "df=pd.read_csv('samples.csv')\n",
        "i=20\n",
        "myDf=df.loc[i][['年齡','性別','網路成癮分數YDQ','家庭滿意度apgar']]\n",
        "myDf['網路成癮分數YDQ']"
      ],
      "execution_count": null,
      "outputs": [
        {
          "output_type": "execute_result",
          "data": {
            "text/plain": [
              "1"
            ]
          },
          "metadata": {
            "tags": []
          },
          "execution_count": 17
        }
      ]
    }
  ]
}