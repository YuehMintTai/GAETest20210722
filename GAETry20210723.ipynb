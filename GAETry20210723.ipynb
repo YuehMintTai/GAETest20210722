{
  "nbformat": 4,
  "nbformat_minor": 0,
  "metadata": {
    "colab": {
      "name": "GAETry20210723.ipynb",
      "provenance": [],
      "authorship_tag": "ABX9TyMc+gNFTsEC4BQ2S7POxo+t",
      "include_colab_link": true
    },
    "kernelspec": {
      "name": "python3",
      "display_name": "Python 3"
    },
    "language_info": {
      "name": "python"
    }
  },
  "cells": [
    {
      "cell_type": "markdown",
      "metadata": {
        "id": "view-in-github",
        "colab_type": "text"
      },
      "source": [
        "<a href=\"https://colab.research.google.com/github/YuehMintTai/GAETest20210722/blob/main/GAETry20210723.ipynb\" target=\"_parent\"><img src=\"https://colab.research.google.com/assets/colab-badge.svg\" alt=\"Open In Colab\"/></a>"
      ]
    },
    {
      "cell_type": "code",
      "metadata": {
        "colab": {
          "base_uri": "https://localhost:8080/"
        },
        "id": "ozcwq0Ba-JeJ",
        "outputId": "0f0e1d84-1e0a-4e36-9d46-f3a23e90c153"
      },
      "source": [
        "!git clone https://github.com/YuehMintTai/GAETest20210722.git"
      ],
      "execution_count": 12,
      "outputs": [
        {
          "output_type": "stream",
          "text": [
            "fatal: destination path 'GAETest20210722' already exists and is not an empty directory.\n"
          ],
          "name": "stdout"
        }
      ]
    },
    {
      "cell_type": "code",
      "metadata": {
        "colab": {
          "base_uri": "https://localhost:8080/"
        },
        "id": "ZyTpWr7rFcOK",
        "outputId": "38e56507-2eab-4d7e-9c51-f3de81780858"
      },
      "source": [
        "import pandas as pd\n",
        "import numpy as np\n",
        "import flask \n",
        "import sklearn\n",
        "import joblib\n",
        "print('pandas==',pd.__version__)\n",
        "print('numpy==',np.__version__)\n",
        "print('flask==',flask.__version__)\n",
        "print('sklearn==',sklearn.__version__)\n",
        "print('joblib==',joblib.__version__)"
      ],
      "execution_count": 51,
      "outputs": [
        {
          "output_type": "stream",
          "text": [
            "pandas== 1.1.5\n",
            "numpy== 1.19.5\n",
            "flask== 1.1.4\n",
            "sklearn== 0.22.2.post1\n",
            "joblib== 1.0.1\n"
          ],
          "name": "stdout"
        }
      ]
    },
    {
      "cell_type": "code",
      "metadata": {
        "colab": {
          "base_uri": "https://localhost:8080/"
        },
        "id": "nqJUpqpEGbCT",
        "outputId": "fd45b941-4a9b-4846-cec8-ef630fee9dfa"
      },
      "source": [
        "#!pip install flask_ngrok"
      ],
      "execution_count": null,
      "outputs": [
        {
          "output_type": "stream",
          "text": [
            "Collecting flask_ngrok\n",
            "  Downloading flask_ngrok-0.0.25-py3-none-any.whl (3.1 kB)\n",
            "Requirement already satisfied: Flask>=0.8 in /usr/local/lib/python3.7/dist-packages (from flask_ngrok) (1.1.4)\n",
            "Requirement already satisfied: requests in /usr/local/lib/python3.7/dist-packages (from flask_ngrok) (2.23.0)\n",
            "Requirement already satisfied: click<8.0,>=5.1 in /usr/local/lib/python3.7/dist-packages (from Flask>=0.8->flask_ngrok) (7.1.2)\n",
            "Requirement already satisfied: Jinja2<3.0,>=2.10.1 in /usr/local/lib/python3.7/dist-packages (from Flask>=0.8->flask_ngrok) (2.11.3)\n",
            "Requirement already satisfied: Werkzeug<2.0,>=0.15 in /usr/local/lib/python3.7/dist-packages (from Flask>=0.8->flask_ngrok) (1.0.1)\n",
            "Requirement already satisfied: itsdangerous<2.0,>=0.24 in /usr/local/lib/python3.7/dist-packages (from Flask>=0.8->flask_ngrok) (1.1.0)\n",
            "Requirement already satisfied: MarkupSafe>=0.23 in /usr/local/lib/python3.7/dist-packages (from Jinja2<3.0,>=2.10.1->Flask>=0.8->flask_ngrok) (2.0.1)\n",
            "Requirement already satisfied: certifi>=2017.4.17 in /usr/local/lib/python3.7/dist-packages (from requests->flask_ngrok) (2021.5.30)\n",
            "Requirement already satisfied: idna<3,>=2.5 in /usr/local/lib/python3.7/dist-packages (from requests->flask_ngrok) (2.10)\n",
            "Requirement already satisfied: urllib3!=1.25.0,!=1.25.1,<1.26,>=1.21.1 in /usr/local/lib/python3.7/dist-packages (from requests->flask_ngrok) (1.24.3)\n",
            "Requirement already satisfied: chardet<4,>=3.0.2 in /usr/local/lib/python3.7/dist-packages (from requests->flask_ngrok) (3.0.4)\n",
            "Installing collected packages: flask-ngrok\n",
            "Successfully installed flask-ngrok-0.0.25\n"
          ],
          "name": "stdout"
        }
      ]
    },
    {
      "cell_type": "code",
      "metadata": {
        "colab": {
          "base_uri": "https://localhost:8080/",
          "height": 206
        },
        "id": "6AqEGIlCIEIH",
        "outputId": "c453f2e4-10da-4380-9d69-00d16f17edf5"
      },
      "source": [
        "df=pd.read_csv('samples.csv')\n",
        "df['sex']='男'\n",
        "df.loc[df['性別']==2,'sex']='女'\n",
        "x=df[['sex','年齡','BSRS總分','網路成癮分數YDQ','家庭滿意度apgar']]\n",
        "x=pd.get_dummies(data=x,drop_first=True)\n",
        "y=df['自殺意念01'].astype(int).to_frame()\n",
        "x_y=pd.concat([x,y],axis=1)\n",
        "\n",
        "##區分training, validating, testing 組\n",
        "x_y['remainder']=x_y.index%6\n",
        "x_y['group']='train'\n",
        "x_y.loc[x_y['remainder']==0,'group']='test'\n",
        "x_y.loc[x_y['remainder']==1,'group']='valid'\n",
        "x_y.loc[x_y['remainder']==2,'group']='valid'\n",
        "x_test=x_y.loc[x_y['group']=='test'][['sex_男','年齡','BSRS總分','網路成癮分數YDQ','家庭滿意度apgar']]\n",
        "x_valid=x_y.loc[x_y['group']=='valid'][['sex_男','年齡','BSRS總分','網路成癮分數YDQ','家庭滿意度apgar']]\n",
        "x_train=x_y.loc[x_y['group']=='train'][['sex_男','年齡','BSRS總分','網路成癮分數YDQ','家庭滿意度apgar']]\n",
        "y_test=x_y.loc[x_y['group']=='test'][['自殺意念01']]\n",
        "y_valid=x_y.loc[x_y['group']=='valid'][['自殺意念01']]\n",
        "y_train=x_y.loc[x_y['group']=='train'][['自殺意念01']]"
      ],
      "execution_count": 28,
      "outputs": [
        {
          "output_type": "execute_result",
          "data": {
            "text/html": [
              "<div>\n",
              "<style scoped>\n",
              "    .dataframe tbody tr th:only-of-type {\n",
              "        vertical-align: middle;\n",
              "    }\n",
              "\n",
              "    .dataframe tbody tr th {\n",
              "        vertical-align: top;\n",
              "    }\n",
              "\n",
              "    .dataframe thead th {\n",
              "        text-align: right;\n",
              "    }\n",
              "</style>\n",
              "<table border=\"1\" class=\"dataframe\">\n",
              "  <thead>\n",
              "    <tr style=\"text-align: right;\">\n",
              "      <th></th>\n",
              "      <th>自殺意念01</th>\n",
              "    </tr>\n",
              "  </thead>\n",
              "  <tbody>\n",
              "    <tr>\n",
              "      <th>178</th>\n",
              "      <td>0</td>\n",
              "    </tr>\n",
              "    <tr>\n",
              "      <th>179</th>\n",
              "      <td>1</td>\n",
              "    </tr>\n",
              "    <tr>\n",
              "      <th>183</th>\n",
              "      <td>0</td>\n",
              "    </tr>\n",
              "    <tr>\n",
              "      <th>184</th>\n",
              "      <td>1</td>\n",
              "    </tr>\n",
              "    <tr>\n",
              "      <th>185</th>\n",
              "      <td>0</td>\n",
              "    </tr>\n",
              "  </tbody>\n",
              "</table>\n",
              "</div>"
            ],
            "text/plain": [
              "     自殺意念01\n",
              "178       0\n",
              "179       1\n",
              "183       0\n",
              "184       1\n",
              "185       0"
            ]
          },
          "metadata": {
            "tags": []
          },
          "execution_count": 28
        }
      ]
    },
    {
      "cell_type": "code",
      "metadata": {
        "colab": {
          "base_uri": "https://localhost:8080/"
        },
        "id": "8V1sJatkaGLP",
        "outputId": "32b8d466-5c5e-4d1c-8e85-32a88c8df30a"
      },
      "source": [
        "from sklearn.linear_model import LogisticRegression\n",
        "from sklearn.metrics import roc_curve, roc_auc_score\n",
        "import joblib\n",
        "model_logit=LogisticRegression()\n",
        "result_logit=model_logit.fit(x_train,y_train)\n",
        "predict_logit=result_logit.predict_proba(x_test)\n",
        "type(predict_logit[:,1])\n",
        "AUC=roc_auc_score(y_test,pd.DataFrame(predict_logit[:,1]))\n",
        "joblib.dump(model_logit,'model_logit.sav')"
      ],
      "execution_count": 53,
      "outputs": [
        {
          "output_type": "stream",
          "text": [
            "/usr/local/lib/python3.7/dist-packages/sklearn/utils/validation.py:760: DataConversionWarning: A column-vector y was passed when a 1d array was expected. Please change the shape of y to (n_samples, ), for example using ravel().\n",
            "  y = column_or_1d(y, warn=True)\n"
          ],
          "name": "stderr"
        },
        {
          "output_type": "execute_result",
          "data": {
            "text/plain": [
              "['model_logit.sav']"
            ]
          },
          "metadata": {
            "tags": []
          },
          "execution_count": 53
        }
      ]
    },
    {
      "cell_type": "code",
      "metadata": {
        "colab": {
          "base_uri": "https://localhost:8080/"
        },
        "id": "AFVaYA5Rd17v",
        "outputId": "ccda18bf-c456-46b5-bef2-9c2e1f9bbf07"
      },
      "source": [
        "import joblib\n",
        "load_model=joblib.load('model_logit.sav')\n",
        "newCase=pd.DataFrame({'sex_男':[1],'年齡':[20],'BSRS總分':[20],'網路成癮分數YDQ':[20],'家庭滿意度apgar':[2]})\n",
        "##predict_prob=result_logit.predict_proba(newCase)\n",
        "predict_prob=load_model.predict_proba(newCase)\n",
        "round(predict_prob[:,1].item(),4)"
      ],
      "execution_count": 59,
      "outputs": [
        {
          "output_type": "execute_result",
          "data": {
            "text/plain": [
              "0.8397"
            ]
          },
          "metadata": {
            "tags": []
          },
          "execution_count": 59
        }
      ]
    },
    {
      "cell_type": "code",
      "metadata": {
        "colab": {
          "base_uri": "https://localhost:8080/"
        },
        "id": "G2F3jEVGhzQz",
        "outputId": "d745a6de-b8cd-445a-b8aa-0635b9122c49"
      },
      "source": [
        "###利用已建利好的model_logit.sav作prediction的flask網頁......\n",
        "from flask_ngrok import run_with_ngrok\n",
        "###\n",
        "from flask import Flask, render_template, request\n",
        "app=Flask(__name__,template_folder='templates')\n",
        "####\n",
        "run_with_ngrok(app)\n",
        "####\n",
        "\n",
        "import pandas as pd\n",
        "import numpy as np\n",
        "import joblib\n",
        "\n",
        "def fun_predict(SEX,AGE,BSRS,YDQ,APGAR):\n",
        "  newCase=pd.DataFrame({'sex_男':[SEX],'年齡':[AGE],'BSRS總分':[BSRS],'網路成癮分數YDQ':[YDQ],'家庭滿意度apgar':[APGAR]})\n",
        "  load_model=joblib.load('model_logit.sav')\n",
        "  predict_prob=load_model.predict_proba(newCase)\n",
        "  return round(predict_prob[:,1].item(),4)\n",
        "\n",
        "@app.route('/',methods=['POST','GET'])\n",
        "def index():\n",
        "  title='輸入觀察值:'\n",
        "  SEX=1\n",
        "  AGE=2\n",
        "  BSRS=2\n",
        "  YDQ=2\n",
        "  APGAR=2\n",
        "  PRED=fun_predict(SEX,AGE,BSRS,YDQ,APGAR)\n",
        "  if request.method=='POST':\n",
        "    SEX=int(request.form.get('SEX'))\n",
        "    AGE=int(request.form.get('AGE'))\n",
        "    BSRS=int(request.form.get('BSRS'))\n",
        "    YDQ=int(request.form.get('YDQ'))\n",
        "    APGAR=int(request.form.get('APGAR'))\n",
        "    PRED=fun_predict(SEX,AGE,BSRS,YDQ,APGAR)\n",
        "  return render_template('index.html',title=title,SEX=SEX,AGE=AGE,BSRS=BSRS,YDQ=YDQ,APGAR=APGAR,PRED=PRED)\n",
        "\n",
        "##index()\n",
        "app.run()"
      ],
      "execution_count": 71,
      "outputs": [
        {
          "output_type": "stream",
          "text": [
            " * Serving Flask app \"__main__\" (lazy loading)\n",
            " * Environment: production\n",
            "\u001b[31m   WARNING: This is a development server. Do not use it in a production deployment.\u001b[0m\n",
            "\u001b[2m   Use a production WSGI server instead.\u001b[0m\n",
            " * Debug mode: off\n"
          ],
          "name": "stdout"
        },
        {
          "output_type": "stream",
          "text": [
            " * Running on http://127.0.0.1:5000/ (Press CTRL+C to quit)\n"
          ],
          "name": "stderr"
        },
        {
          "output_type": "stream",
          "text": [
            " * Running on http://d5dcd8b7bb75.ngrok.io\n",
            " * Traffic stats available on http://127.0.0.1:4040\n"
          ],
          "name": "stdout"
        },
        {
          "output_type": "stream",
          "text": [
            "127.0.0.1 - - [24/Jul/2021 04:49:29] \"\u001b[37mGET / HTTP/1.1\u001b[0m\" 200 -\n",
            "127.0.0.1 - - [24/Jul/2021 04:49:30] \"\u001b[33mGET /favicon.ico HTTP/1.1\u001b[0m\" 404 -\n",
            "127.0.0.1 - - [24/Jul/2021 04:49:42] \"\u001b[37mPOST / HTTP/1.1\u001b[0m\" 200 -\n"
          ],
          "name": "stderr"
        }
      ]
    },
    {
      "cell_type": "code",
      "metadata": {
        "id": "X47two9e0j4b"
      },
      "source": [
        "\n",
        "load_model=joblib.load('model_logit.sav')\n",
        "newCase=pd.DataFrame({'sex_男':[1],'年齡':[20],'BSRS總分':[20],'網路成癮分數YDQ':[20],'家庭滿意度apgar':[2]})\n",
        "##predict_prob=result_logit.predict_proba(newCase)\n",
        "predict_prob=load_model.predict_proba(newCase)\n",
        "PREDICT=round(predict_prob[:,1].item(),4)"
      ],
      "execution_count": null,
      "outputs": []
    },
    {
      "cell_type": "markdown",
      "metadata": {
        "id": "caO1AesOiLxw"
      },
      "source": [
        "##以下空白##"
      ]
    },
    {
      "cell_type": "code",
      "metadata": {
        "colab": {
          "base_uri": "https://localhost:8080/"
        },
        "id": "ZViD6ZE6GiFc",
        "outputId": "b82834cf-a280-48d8-90a6-18cfd609fe4e"
      },
      "source": [
        "###單純只是show資料的flask網頁\n",
        "from flask_ngrok import run_with_ngrok\n",
        "###\n",
        "from flask import Flask, render_template, request\n",
        "app=Flask(__name__,template_folder='templates')\n",
        "####\n",
        "run_with_ngrok(app)\n",
        "####\n",
        "\n",
        "df=pd.read_csv('samples.csv')\n",
        "i=15\n",
        "\n",
        "@app.route('/',methods=['POST','GET'])\n",
        "def index():\n",
        "  title='指定筆數:'\n",
        "  ID=i\n",
        "  if request.method=='POST':\n",
        "    ID=int(request.form.get('ID'))\n",
        "  myDf=df.loc[ID][['年齡','性別','網路成癮分數YDQ','家庭滿意度apgar']]\n",
        "  AGE=myDf['年齡']\n",
        "  SEX=myDf['性別']\n",
        "  YDQ=myDf['網路成癮分數YDQ']\n",
        "  APGAR=myDf['家庭滿意度apgar']\n",
        "  return render_template('index.html',title=title,ID=ID,AGE=AGE,SEX=SEX,YDQ=YDQ,APGAR=APGAR)\n",
        "\n",
        "app.run()"
      ],
      "execution_count": null,
      "outputs": [
        {
          "output_type": "stream",
          "text": [
            " * Serving Flask app \"__main__\" (lazy loading)\n",
            " * Environment: production\n",
            "\u001b[31m   WARNING: This is a development server. Do not use it in a production deployment.\u001b[0m\n",
            "\u001b[2m   Use a production WSGI server instead.\u001b[0m\n",
            " * Debug mode: off\n"
          ],
          "name": "stdout"
        },
        {
          "output_type": "stream",
          "text": [
            " * Running on http://127.0.0.1:5000/ (Press CTRL+C to quit)\n"
          ],
          "name": "stderr"
        },
        {
          "output_type": "stream",
          "text": [
            " * Running on http://2cc20a614cce.ngrok.io\n",
            " * Traffic stats available on http://127.0.0.1:4040\n"
          ],
          "name": "stdout"
        },
        {
          "output_type": "stream",
          "text": [
            "127.0.0.1 - - [23/Jul/2021 13:10:32] \"\u001b[37mGET / HTTP/1.1\u001b[0m\" 200 -\n",
            "127.0.0.1 - - [23/Jul/2021 13:10:33] \"\u001b[33mGET /favicon.ico HTTP/1.1\u001b[0m\" 404 -\n",
            "127.0.0.1 - - [23/Jul/2021 13:10:38] \"\u001b[37mPOST / HTTP/1.1\u001b[0m\" 200 -\n",
            "[2021-07-23 13:10:46,342] ERROR in app: Exception on / [POST]\n",
            "Traceback (most recent call last):\n",
            "  File \"/usr/local/lib/python3.7/dist-packages/pandas/core/indexes/range.py\", line 355, in get_loc\n",
            "    return self._range.index(new_key)\n",
            "ValueError: 200 is not in range\n",
            "\n",
            "The above exception was the direct cause of the following exception:\n",
            "\n",
            "Traceback (most recent call last):\n",
            "  File \"/usr/local/lib/python3.7/dist-packages/flask/app.py\", line 2447, in wsgi_app\n",
            "    response = self.full_dispatch_request()\n",
            "  File \"/usr/local/lib/python3.7/dist-packages/flask/app.py\", line 1952, in full_dispatch_request\n",
            "    rv = self.handle_user_exception(e)\n",
            "  File \"/usr/local/lib/python3.7/dist-packages/flask/app.py\", line 1821, in handle_user_exception\n",
            "    reraise(exc_type, exc_value, tb)\n",
            "  File \"/usr/local/lib/python3.7/dist-packages/flask/_compat.py\", line 39, in reraise\n",
            "    raise value\n",
            "  File \"/usr/local/lib/python3.7/dist-packages/flask/app.py\", line 1950, in full_dispatch_request\n",
            "    rv = self.dispatch_request()\n",
            "  File \"/usr/local/lib/python3.7/dist-packages/flask/app.py\", line 1936, in dispatch_request\n",
            "    return self.view_functions[rule.endpoint](**req.view_args)\n",
            "  File \"<ipython-input-47-21b2f6bf1a89>\", line 19, in index\n",
            "    myDf=df.loc[ID][['年齡','性別','網路成癮分數YDQ','家庭滿意度apgar']]\n",
            "  File \"/usr/local/lib/python3.7/dist-packages/pandas/core/indexing.py\", line 879, in __getitem__\n",
            "    return self._getitem_axis(maybe_callable, axis=axis)\n",
            "  File \"/usr/local/lib/python3.7/dist-packages/pandas/core/indexing.py\", line 1110, in _getitem_axis\n",
            "    return self._get_label(key, axis=axis)\n",
            "  File \"/usr/local/lib/python3.7/dist-packages/pandas/core/indexing.py\", line 1059, in _get_label\n",
            "    return self.obj.xs(label, axis=axis)\n",
            "  File \"/usr/local/lib/python3.7/dist-packages/pandas/core/generic.py\", line 3493, in xs\n",
            "    loc = self.index.get_loc(key)\n",
            "  File \"/usr/local/lib/python3.7/dist-packages/pandas/core/indexes/range.py\", line 357, in get_loc\n",
            "    raise KeyError(key) from err\n",
            "KeyError: 200\n",
            "127.0.0.1 - - [23/Jul/2021 13:10:46] \"\u001b[35m\u001b[1mPOST / HTTP/1.1\u001b[0m\" 500 -\n",
            "127.0.0.1 - - [23/Jul/2021 13:10:56] \"\u001b[37mPOST / HTTP/1.1\u001b[0m\" 200 -\n",
            "[2021-07-23 13:11:04,661] ERROR in app: Exception on / [POST]\n",
            "Traceback (most recent call last):\n",
            "  File \"/usr/local/lib/python3.7/dist-packages/pandas/core/indexes/range.py\", line 355, in get_loc\n",
            "    return self._range.index(new_key)\n",
            "ValueError: 205 is not in range\n",
            "\n",
            "The above exception was the direct cause of the following exception:\n",
            "\n",
            "Traceback (most recent call last):\n",
            "  File \"/usr/local/lib/python3.7/dist-packages/flask/app.py\", line 2447, in wsgi_app\n",
            "    response = self.full_dispatch_request()\n",
            "  File \"/usr/local/lib/python3.7/dist-packages/flask/app.py\", line 1952, in full_dispatch_request\n",
            "    rv = self.handle_user_exception(e)\n",
            "  File \"/usr/local/lib/python3.7/dist-packages/flask/app.py\", line 1821, in handle_user_exception\n",
            "    reraise(exc_type, exc_value, tb)\n",
            "  File \"/usr/local/lib/python3.7/dist-packages/flask/_compat.py\", line 39, in reraise\n",
            "    raise value\n",
            "  File \"/usr/local/lib/python3.7/dist-packages/flask/app.py\", line 1950, in full_dispatch_request\n",
            "    rv = self.dispatch_request()\n",
            "  File \"/usr/local/lib/python3.7/dist-packages/flask/app.py\", line 1936, in dispatch_request\n",
            "    return self.view_functions[rule.endpoint](**req.view_args)\n",
            "  File \"<ipython-input-47-21b2f6bf1a89>\", line 19, in index\n",
            "    myDf=df.loc[ID][['年齡','性別','網路成癮分數YDQ','家庭滿意度apgar']]\n",
            "  File \"/usr/local/lib/python3.7/dist-packages/pandas/core/indexing.py\", line 879, in __getitem__\n",
            "    return self._getitem_axis(maybe_callable, axis=axis)\n",
            "  File \"/usr/local/lib/python3.7/dist-packages/pandas/core/indexing.py\", line 1110, in _getitem_axis\n",
            "    return self._get_label(key, axis=axis)\n",
            "  File \"/usr/local/lib/python3.7/dist-packages/pandas/core/indexing.py\", line 1059, in _get_label\n",
            "    return self.obj.xs(label, axis=axis)\n",
            "  File \"/usr/local/lib/python3.7/dist-packages/pandas/core/generic.py\", line 3493, in xs\n",
            "    loc = self.index.get_loc(key)\n",
            "  File \"/usr/local/lib/python3.7/dist-packages/pandas/core/indexes/range.py\", line 357, in get_loc\n",
            "    raise KeyError(key) from err\n",
            "KeyError: 205\n",
            "127.0.0.1 - - [23/Jul/2021 13:11:04] \"\u001b[35m\u001b[1mPOST / HTTP/1.1\u001b[0m\" 500 -\n",
            "127.0.0.1 - - [23/Jul/2021 13:11:11] \"\u001b[37mPOST / HTTP/1.1\u001b[0m\" 200 -\n"
          ],
          "name": "stderr"
        }
      ]
    },
    {
      "cell_type": "code",
      "metadata": {
        "colab": {
          "base_uri": "https://localhost:8080/"
        },
        "id": "mfqwzc1VG0Ue",
        "outputId": "286a0193-de05-45f7-dc77-26de616dd4d1"
      },
      "source": [
        "df=pd.read_csv('samples.csv')\n",
        "i=20\n",
        "myDf=df.loc[i][['年齡','性別','網路成癮分數YDQ','家庭滿意度apgar']]\n",
        "myDf['網路成癮分數YDQ']"
      ],
      "execution_count": null,
      "outputs": [
        {
          "output_type": "execute_result",
          "data": {
            "text/plain": [
              "1"
            ]
          },
          "metadata": {
            "tags": []
          },
          "execution_count": 17
        }
      ]
    }
  ]
}