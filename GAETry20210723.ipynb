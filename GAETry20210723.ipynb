{
  "nbformat": 4,
  "nbformat_minor": 0,
  "metadata": {
    "colab": {
      "name": "「GAETry20210723.ipynb」的副本",
      "provenance": [],
      "authorship_tag": "ABX9TyNstvGvSr8/i1UyiWliwFci",
      "include_colab_link": true
    },
    "kernelspec": {
      "name": "python3",
      "display_name": "Python 3"
    },
    "language_info": {
      "name": "python"
    }
  },
  "cells": [
    {
      "cell_type": "markdown",
      "metadata": {
        "id": "view-in-github",
        "colab_type": "text"
      },
      "source": [
        "<a href=\"https://colab.research.google.com/github/YuehMintTai/GAETest20210722/blob/main/GAETry20210723.ipynb\" target=\"_parent\"><img src=\"https://colab.research.google.com/assets/colab-badge.svg\" alt=\"Open In Colab\"/></a>"
      ]
    },
    {
      "cell_type": "code",
      "metadata": {
        "colab": {
          "base_uri": "https://localhost:8080/"
        },
        "id": "ozcwq0Ba-JeJ",
        "outputId": "90bf142f-038f-42a6-939c-1000894af407"
      },
      "source": [
        "!git clone https://github.com/YuehMintTai/GAETest20210722.git"
      ],
      "execution_count": 1,
      "outputs": [
        {
          "output_type": "stream",
          "text": [
            "Cloning into 'GAETest20210722'...\n",
            "remote: Enumerating objects: 136, done.\u001b[K\n",
            "remote: Counting objects: 100% (136/136), done.\u001b[K\n",
            "remote: Compressing objects: 100% (131/131), done.\u001b[K\n",
            "remote: Total 136 (delta 51), reused 0 (delta 0), pack-reused 0\u001b[K\n",
            "Receiving objects: 100% (136/136), 57.26 KiB | 2.38 MiB/s, done.\n",
            "Resolving deltas: 100% (51/51), done.\n"
          ],
          "name": "stdout"
        }
      ]
    },
    {
      "cell_type": "code",
      "metadata": {
        "colab": {
          "base_uri": "https://localhost:8080/"
        },
        "id": "ZyTpWr7rFcOK",
        "outputId": "b6bd1767-e911-45c6-9cb1-e55830d335b4"
      },
      "source": [
        "import pandas as pd\n",
        "import numpy as np\n",
        "import flask \n",
        "import sklearn\n",
        "import joblib\n",
        "print('pandas==',pd.__version__)\n",
        "print('numpy==',np.__version__)\n",
        "print('flask==',flask.__version__)\n",
        "print('sklearn==',sklearn.__version__)\n",
        "print('joblib==',joblib.__version__)"
      ],
      "execution_count": 2,
      "outputs": [
        {
          "output_type": "stream",
          "text": [
            "pandas== 1.1.5\n",
            "numpy== 1.19.5\n",
            "flask== 1.1.4\n",
            "sklearn== 0.22.2.post1\n",
            "joblib== 1.0.1\n"
          ],
          "name": "stdout"
        }
      ]
    },
    {
      "cell_type": "code",
      "metadata": {
        "id": "nqJUpqpEGbCT"
      },
      "source": [
        "#!pip install flask_ngrok"
      ],
      "execution_count": 3,
      "outputs": []
    },
    {
      "cell_type": "code",
      "metadata": {
        "id": "6AqEGIlCIEIH"
      },
      "source": [
        "##Create Training and Testing set...\n",
        "df=pd.read_csv('samples.csv')\n",
        "df['sex']='男'\n",
        "df.loc[df['性別']==2,'sex']='女'\n",
        "x=df[['sex','年齡','BSRS總分','網路成癮分數YDQ','家庭滿意度apgar']]\n",
        "x=pd.get_dummies(data=x,drop_first=True)\n",
        "y=df['自殺意念01'].astype(int).to_frame()\n",
        "x_y=pd.concat([x,y],axis=1)\n",
        "\n",
        "##區分training, validating, testing 組\n",
        "x_y['remainder']=x_y.index%6\n",
        "x_y['group']='train'\n",
        "x_y.loc[x_y['remainder']==0,'group']='test'\n",
        "x_y.loc[x_y['remainder']==1,'group']='valid'\n",
        "x_y.loc[x_y['remainder']==2,'group']='valid'\n",
        "x_test=x_y.loc[x_y['group']=='test'][['sex_男','年齡','BSRS總分','網路成癮分數YDQ','家庭滿意度apgar']]\n",
        "x_valid=x_y.loc[x_y['group']=='valid'][['sex_男','年齡','BSRS總分','網路成癮分數YDQ','家庭滿意度apgar']]\n",
        "x_train=x_y.loc[x_y['group']=='train'][['sex_男','年齡','BSRS總分','網路成癮分數YDQ','家庭滿意度apgar']]\n",
        "y_test=x_y.loc[x_y['group']=='test'][['自殺意念01']]\n",
        "y_valid=x_y.loc[x_y['group']=='valid'][['自殺意念01']]\n",
        "y_train=x_y.loc[x_y['group']=='train'][['自殺意念01']]"
      ],
      "execution_count": 5,
      "outputs": []
    },
    {
      "cell_type": "code",
      "metadata": {
        "colab": {
          "base_uri": "https://localhost:8080/"
        },
        "id": "4P4aIQ83iTUA",
        "outputId": "77aa8ec6-80c1-465f-bbe6-18d28f6d7897"
      },
      "source": [
        "##Create tensorflow model..\n",
        "import tensorflow as tf \n",
        "print('tensorflow==',tf.__version__)"
      ],
      "execution_count": 6,
      "outputs": [
        {
          "output_type": "stream",
          "text": [
            "tensorflow== 2.5.0\n"
          ],
          "name": "stdout"
        }
      ]
    },
    {
      "cell_type": "code",
      "metadata": {
        "colab": {
          "base_uri": "https://localhost:8080/"
        },
        "id": "6vX30cX_jBm5",
        "outputId": "45b6c4b7-9872-416c-8cd3-997def1a3dfa"
      },
      "source": [
        "##create and save tf model...\n",
        "from tensorflow.keras.layers import Dense\n",
        "from tensorflow.keras import Sequential\n",
        "from tensorflow.keras.metrics import AUC,Precision,Recall\n",
        "\n",
        "model_tf=Sequential()\n",
        "model_tf.add(Dense(10,input_dim=5,activation='relu'))\n",
        "model_tf.add(Dense(10,activation='relu'))\n",
        "model_tf.add(Dense(1,activation='sigmoid'))\n",
        "model_tf.compile(loss='binary_crossentropy',optimizer='adam',metrics=['accuracy',AUC(),Precision(),Recall()])\n",
        "model_tf.fit(x_train,y_train,epochs=200, batch_size=10, validation_data=(x_valid,y_valid))"
      ],
      "execution_count": 13,
      "outputs": [
        {
          "output_type": "stream",
          "text": [
            "Epoch 1/200\n",
            "10/10 [==============================] - 2s 68ms/step - loss: 1.0556 - accuracy: 0.8280 - auc_3: 0.4785 - precision_3: 0.0000e+00 - recall_3: 0.0000e+00 - val_loss: 0.7247 - val_accuracy: 0.8413 - val_auc_3: 0.6774 - val_precision_3: 0.0000e+00 - val_recall_3: 0.0000e+00\n",
            "Epoch 2/200\n",
            "10/10 [==============================] - 0s 7ms/step - loss: 0.8589 - accuracy: 0.8280 - auc_3: 0.4131 - precision_3: 0.0000e+00 - recall_3: 0.0000e+00 - val_loss: 0.5666 - val_accuracy: 0.8413 - val_auc_3: 0.7142 - val_precision_3: 0.0000e+00 - val_recall_3: 0.0000e+00\n",
            "Epoch 3/200\n",
            "10/10 [==============================] - 0s 6ms/step - loss: 0.6589 - accuracy: 0.8280 - auc_3: 0.4752 - precision_3: 0.0000e+00 - recall_3: 0.0000e+00 - val_loss: 0.4588 - val_accuracy: 0.8413 - val_auc_3: 0.7472 - val_precision_3: 0.0000e+00 - val_recall_3: 0.0000e+00\n",
            "Epoch 4/200\n",
            "10/10 [==============================] - 0s 5ms/step - loss: 0.5483 - accuracy: 0.8280 - auc_3: 0.4890 - precision_3: 0.0000e+00 - recall_3: 0.0000e+00 - val_loss: 0.3957 - val_accuracy: 0.8413 - val_auc_3: 0.7896 - val_precision_3: 0.0000e+00 - val_recall_3: 0.0000e+00\n",
            "Epoch 5/200\n",
            "10/10 [==============================] - 0s 6ms/step - loss: 0.4690 - accuracy: 0.8387 - auc_3: 0.5722 - precision_3: 1.0000 - recall_3: 0.0625 - val_loss: 0.3753 - val_accuracy: 0.8413 - val_auc_3: 0.8142 - val_precision_3: 0.0000e+00 - val_recall_3: 0.0000e+00\n",
            "Epoch 6/200\n",
            "10/10 [==============================] - 0s 7ms/step - loss: 0.4430 - accuracy: 0.8495 - auc_3: 0.6023 - precision_3: 1.0000 - recall_3: 0.1250 - val_loss: 0.3768 - val_accuracy: 0.8254 - val_auc_3: 0.8377 - val_precision_3: 0.0000e+00 - val_recall_3: 0.0000e+00\n",
            "Epoch 7/200\n",
            "10/10 [==============================] - 0s 8ms/step - loss: 0.4366 - accuracy: 0.8602 - auc_3: 0.6197 - precision_3: 1.0000 - recall_3: 0.1875 - val_loss: 0.3819 - val_accuracy: 0.8571 - val_auc_3: 0.8481 - val_precision_3: 0.6667 - val_recall_3: 0.2000\n",
            "Epoch 8/200\n",
            "10/10 [==============================] - 0s 7ms/step - loss: 0.4324 - accuracy: 0.8710 - auc_3: 0.6542 - precision_3: 1.0000 - recall_3: 0.2500 - val_loss: 0.3759 - val_accuracy: 0.8571 - val_auc_3: 0.8557 - val_precision_3: 0.6667 - val_recall_3: 0.2000\n",
            "Epoch 9/200\n",
            "10/10 [==============================] - 0s 5ms/step - loss: 0.4303 - accuracy: 0.8710 - auc_3: 0.6368 - precision_3: 1.0000 - recall_3: 0.2500 - val_loss: 0.3684 - val_accuracy: 0.8413 - val_auc_3: 0.8509 - val_precision_3: 0.5000 - val_recall_3: 0.1000\n",
            "Epoch 10/200\n",
            "10/10 [==============================] - 0s 5ms/step - loss: 0.4250 - accuracy: 0.8710 - auc_3: 0.6607 - precision_3: 1.0000 - recall_3: 0.2500 - val_loss: 0.3715 - val_accuracy: 0.8413 - val_auc_3: 0.8557 - val_precision_3: 0.5000 - val_recall_3: 0.2000\n",
            "Epoch 11/200\n",
            "10/10 [==============================] - 0s 6ms/step - loss: 0.4223 - accuracy: 0.8710 - auc_3: 0.6737 - precision_3: 1.0000 - recall_3: 0.2500 - val_loss: 0.3656 - val_accuracy: 0.8413 - val_auc_3: 0.8557 - val_precision_3: 0.5000 - val_recall_3: 0.1000\n",
            "Epoch 12/200\n",
            "10/10 [==============================] - 0s 5ms/step - loss: 0.4186 - accuracy: 0.8710 - auc_3: 0.6709 - precision_3: 1.0000 - recall_3: 0.2500 - val_loss: 0.3622 - val_accuracy: 0.8413 - val_auc_3: 0.8462 - val_precision_3: 0.5000 - val_recall_3: 0.1000\n",
            "Epoch 13/200\n",
            "10/10 [==============================] - 0s 7ms/step - loss: 0.4132 - accuracy: 0.8602 - auc_3: 0.6871 - precision_3: 0.8000 - recall_3: 0.2500 - val_loss: 0.3631 - val_accuracy: 0.8254 - val_auc_3: 0.8538 - val_precision_3: 0.3333 - val_recall_3: 0.1000\n",
            "Epoch 14/200\n",
            "10/10 [==============================] - 0s 9ms/step - loss: 0.4121 - accuracy: 0.8495 - auc_3: 0.6924 - precision_3: 0.6667 - recall_3: 0.2500 - val_loss: 0.3607 - val_accuracy: 0.8254 - val_auc_3: 0.8491 - val_precision_3: 0.3333 - val_recall_3: 0.1000\n",
            "Epoch 15/200\n",
            "10/10 [==============================] - 0s 7ms/step - loss: 0.4069 - accuracy: 0.8602 - auc_3: 0.7033 - precision_3: 0.8000 - recall_3: 0.2500 - val_loss: 0.3536 - val_accuracy: 0.8254 - val_auc_3: 0.8509 - val_precision_3: 0.3333 - val_recall_3: 0.1000\n",
            "Epoch 16/200\n",
            "10/10 [==============================] - 0s 5ms/step - loss: 0.4063 - accuracy: 0.8602 - auc_3: 0.6936 - precision_3: 1.0000 - recall_3: 0.1875 - val_loss: 0.3492 - val_accuracy: 0.8413 - val_auc_3: 0.8547 - val_precision_3: 0.5000 - val_recall_3: 0.1000\n",
            "Epoch 17/200\n",
            "10/10 [==============================] - 0s 5ms/step - loss: 0.4068 - accuracy: 0.8602 - auc_3: 0.6972 - precision_3: 1.0000 - recall_3: 0.1875 - val_loss: 0.3488 - val_accuracy: 0.8413 - val_auc_3: 0.8651 - val_precision_3: 0.5000 - val_recall_3: 0.1000\n",
            "Epoch 18/200\n",
            "10/10 [==============================] - 0s 6ms/step - loss: 0.4010 - accuracy: 0.8602 - auc_3: 0.7098 - precision_3: 1.0000 - recall_3: 0.1875 - val_loss: 0.3450 - val_accuracy: 0.8413 - val_auc_3: 0.8660 - val_precision_3: 0.5000 - val_recall_3: 0.1000\n",
            "Epoch 19/200\n",
            "10/10 [==============================] - 0s 6ms/step - loss: 0.3987 - accuracy: 0.8602 - auc_3: 0.7143 - precision_3: 1.0000 - recall_3: 0.1875 - val_loss: 0.3441 - val_accuracy: 0.8413 - val_auc_3: 0.8708 - val_precision_3: 0.5000 - val_recall_3: 0.1000\n",
            "Epoch 20/200\n",
            "10/10 [==============================] - 0s 7ms/step - loss: 0.3971 - accuracy: 0.8602 - auc_3: 0.7273 - precision_3: 1.0000 - recall_3: 0.1875 - val_loss: 0.3442 - val_accuracy: 0.8254 - val_auc_3: 0.8698 - val_precision_3: 0.3333 - val_recall_3: 0.1000\n",
            "Epoch 21/200\n",
            "10/10 [==============================] - 0s 5ms/step - loss: 0.3928 - accuracy: 0.8495 - auc_3: 0.7342 - precision_3: 0.7500 - recall_3: 0.1875 - val_loss: 0.3436 - val_accuracy: 0.8254 - val_auc_3: 0.8708 - val_precision_3: 0.3333 - val_recall_3: 0.1000\n",
            "Epoch 22/200\n",
            "10/10 [==============================] - 0s 6ms/step - loss: 0.3913 - accuracy: 0.8602 - auc_3: 0.7431 - precision_3: 0.8000 - recall_3: 0.2500 - val_loss: 0.3433 - val_accuracy: 0.8095 - val_auc_3: 0.8670 - val_precision_3: 0.2500 - val_recall_3: 0.1000\n",
            "Epoch 23/200\n",
            "10/10 [==============================] - 0s 5ms/step - loss: 0.3905 - accuracy: 0.8495 - auc_3: 0.7463 - precision_3: 0.6667 - recall_3: 0.2500 - val_loss: 0.3437 - val_accuracy: 0.8095 - val_auc_3: 0.8698 - val_precision_3: 0.2500 - val_recall_3: 0.1000\n",
            "Epoch 24/200\n",
            "10/10 [==============================] - 0s 8ms/step - loss: 0.3869 - accuracy: 0.8387 - auc_3: 0.7630 - precision_3: 0.6000 - recall_3: 0.1875 - val_loss: 0.3386 - val_accuracy: 0.8095 - val_auc_3: 0.8736 - val_precision_3: 0.2500 - val_recall_3: 0.1000\n",
            "Epoch 25/200\n",
            "10/10 [==============================] - 0s 6ms/step - loss: 0.3839 - accuracy: 0.8495 - auc_3: 0.7589 - precision_3: 0.7500 - recall_3: 0.1875 - val_loss: 0.3333 - val_accuracy: 0.8095 - val_auc_3: 0.8811 - val_precision_3: 0.2500 - val_recall_3: 0.1000\n",
            "Epoch 26/200\n",
            "10/10 [==============================] - 0s 6ms/step - loss: 0.3824 - accuracy: 0.8495 - auc_3: 0.7532 - precision_3: 0.7500 - recall_3: 0.1875 - val_loss: 0.3306 - val_accuracy: 0.8095 - val_auc_3: 0.8792 - val_precision_3: 0.2500 - val_recall_3: 0.1000\n",
            "Epoch 27/200\n",
            "10/10 [==============================] - 0s 7ms/step - loss: 0.3808 - accuracy: 0.8495 - auc_3: 0.7573 - precision_3: 0.7500 - recall_3: 0.1875 - val_loss: 0.3283 - val_accuracy: 0.8095 - val_auc_3: 0.8849 - val_precision_3: 0.2500 - val_recall_3: 0.1000\n",
            "Epoch 28/200\n",
            "10/10 [==============================] - 0s 6ms/step - loss: 0.3776 - accuracy: 0.8495 - auc_3: 0.7695 - precision_3: 0.7500 - recall_3: 0.1875 - val_loss: 0.3316 - val_accuracy: 0.8095 - val_auc_3: 0.8896 - val_precision_3: 0.2500 - val_recall_3: 0.1000\n",
            "Epoch 29/200\n",
            "10/10 [==============================] - 0s 7ms/step - loss: 0.3758 - accuracy: 0.8495 - auc_3: 0.7886 - precision_3: 0.6667 - recall_3: 0.2500 - val_loss: 0.3283 - val_accuracy: 0.8095 - val_auc_3: 0.8896 - val_precision_3: 0.2500 - val_recall_3: 0.1000\n",
            "Epoch 30/200\n",
            "10/10 [==============================] - 0s 9ms/step - loss: 0.3711 - accuracy: 0.8495 - auc_3: 0.7942 - precision_3: 0.7500 - recall_3: 0.1875 - val_loss: 0.3251 - val_accuracy: 0.8095 - val_auc_3: 0.8802 - val_precision_3: 0.2500 - val_recall_3: 0.1000\n",
            "Epoch 31/200\n",
            "10/10 [==============================] - 0s 5ms/step - loss: 0.3694 - accuracy: 0.8495 - auc_3: 0.7849 - precision_3: 0.7500 - recall_3: 0.1875 - val_loss: 0.3200 - val_accuracy: 0.8254 - val_auc_3: 0.8830 - val_precision_3: 0.3333 - val_recall_3: 0.1000\n",
            "Epoch 32/200\n",
            "10/10 [==============================] - 0s 7ms/step - loss: 0.3687 - accuracy: 0.8495 - auc_3: 0.7881 - precision_3: 0.7500 - recall_3: 0.1875 - val_loss: 0.3172 - val_accuracy: 0.8254 - val_auc_3: 0.8840 - val_precision_3: 0.3333 - val_recall_3: 0.1000\n",
            "Epoch 33/200\n",
            "10/10 [==============================] - 0s 6ms/step - loss: 0.3645 - accuracy: 0.8495 - auc_3: 0.7971 - precision_3: 0.7500 - recall_3: 0.1875 - val_loss: 0.3176 - val_accuracy: 0.8095 - val_auc_3: 0.8868 - val_precision_3: 0.2500 - val_recall_3: 0.1000\n",
            "Epoch 34/200\n",
            "10/10 [==============================] - 0s 7ms/step - loss: 0.3599 - accuracy: 0.8495 - auc_3: 0.8149 - precision_3: 0.7500 - recall_3: 0.1875 - val_loss: 0.3168 - val_accuracy: 0.8095 - val_auc_3: 0.8830 - val_precision_3: 0.2500 - val_recall_3: 0.1000\n",
            "Epoch 35/200\n",
            "10/10 [==============================] - 0s 7ms/step - loss: 0.3570 - accuracy: 0.8495 - auc_3: 0.8162 - precision_3: 0.7500 - recall_3: 0.1875 - val_loss: 0.3141 - val_accuracy: 0.8254 - val_auc_3: 0.8858 - val_precision_3: 0.3333 - val_recall_3: 0.1000\n",
            "Epoch 36/200\n",
            "10/10 [==============================] - 0s 7ms/step - loss: 0.3582 - accuracy: 0.8495 - auc_3: 0.8109 - precision_3: 0.7500 - recall_3: 0.1875 - val_loss: 0.3131 - val_accuracy: 0.8254 - val_auc_3: 0.8840 - val_precision_3: 0.3333 - val_recall_3: 0.1000\n",
            "Epoch 37/200\n",
            "10/10 [==============================] - 0s 5ms/step - loss: 0.3601 - accuracy: 0.8495 - auc_3: 0.8093 - precision_3: 0.6250 - recall_3: 0.3125 - val_loss: 0.3186 - val_accuracy: 0.8571 - val_auc_3: 0.8887 - val_precision_3: 0.5714 - val_recall_3: 0.4000\n",
            "Epoch 38/200\n",
            "10/10 [==============================] - 0s 6ms/step - loss: 0.3520 - accuracy: 0.8387 - auc_3: 0.8454 - precision_3: 0.5556 - recall_3: 0.3125 - val_loss: 0.3156 - val_accuracy: 0.8571 - val_auc_3: 0.8877 - val_precision_3: 0.5714 - val_recall_3: 0.4000\n",
            "Epoch 39/200\n",
            "10/10 [==============================] - 0s 7ms/step - loss: 0.3501 - accuracy: 0.8602 - auc_3: 0.8413 - precision_3: 0.7143 - recall_3: 0.3125 - val_loss: 0.3129 - val_accuracy: 0.8413 - val_auc_3: 0.8868 - val_precision_3: 0.5000 - val_recall_3: 0.3000\n",
            "Epoch 40/200\n",
            "10/10 [==============================] - 0s 8ms/step - loss: 0.3479 - accuracy: 0.8495 - auc_3: 0.8474 - precision_3: 0.6250 - recall_3: 0.3125 - val_loss: 0.3136 - val_accuracy: 0.8571 - val_auc_3: 0.8868 - val_precision_3: 0.5714 - val_recall_3: 0.4000\n",
            "Epoch 41/200\n",
            "10/10 [==============================] - 0s 8ms/step - loss: 0.3476 - accuracy: 0.8280 - auc_3: 0.8397 - precision_3: 0.5000 - recall_3: 0.1875 - val_loss: 0.3109 - val_accuracy: 0.8571 - val_auc_3: 0.8868 - val_precision_3: 0.6000 - val_recall_3: 0.3000\n",
            "Epoch 42/200\n",
            "10/10 [==============================] - 0s 6ms/step - loss: 0.3455 - accuracy: 0.8387 - auc_3: 0.8454 - precision_3: 0.6000 - recall_3: 0.1875 - val_loss: 0.3103 - val_accuracy: 0.8571 - val_auc_3: 0.8858 - val_precision_3: 0.6000 - val_recall_3: 0.3000\n",
            "Epoch 43/200\n",
            "10/10 [==============================] - 0s 5ms/step - loss: 0.3437 - accuracy: 0.8387 - auc_3: 0.8446 - precision_3: 0.6000 - recall_3: 0.1875 - val_loss: 0.3088 - val_accuracy: 0.8571 - val_auc_3: 0.8868 - val_precision_3: 0.6000 - val_recall_3: 0.3000\n",
            "Epoch 44/200\n",
            "10/10 [==============================] - 0s 5ms/step - loss: 0.3425 - accuracy: 0.8495 - auc_3: 0.8446 - precision_3: 0.6667 - recall_3: 0.2500 - val_loss: 0.3077 - val_accuracy: 0.8730 - val_auc_3: 0.8868 - val_precision_3: 0.6667 - val_recall_3: 0.4000\n",
            "Epoch 45/200\n",
            "10/10 [==============================] - 0s 6ms/step - loss: 0.3397 - accuracy: 0.8495 - auc_3: 0.8535 - precision_3: 0.6250 - recall_3: 0.3125 - val_loss: 0.3114 - val_accuracy: 0.8571 - val_auc_3: 0.8887 - val_precision_3: 0.5714 - val_recall_3: 0.4000\n",
            "Epoch 46/200\n",
            "10/10 [==============================] - 0s 5ms/step - loss: 0.3420 - accuracy: 0.8387 - auc_3: 0.8640 - precision_3: 0.5556 - recall_3: 0.3125 - val_loss: 0.3158 - val_accuracy: 0.8571 - val_auc_3: 0.8877 - val_precision_3: 0.5714 - val_recall_3: 0.4000\n",
            "Epoch 47/200\n",
            "10/10 [==============================] - 0s 5ms/step - loss: 0.3397 - accuracy: 0.8387 - auc_3: 0.8600 - precision_3: 0.5556 - recall_3: 0.3125 - val_loss: 0.3115 - val_accuracy: 0.8571 - val_auc_3: 0.8896 - val_precision_3: 0.5714 - val_recall_3: 0.4000\n",
            "Epoch 48/200\n",
            "10/10 [==============================] - 0s 5ms/step - loss: 0.3351 - accuracy: 0.8495 - auc_3: 0.8563 - precision_3: 0.6250 - recall_3: 0.3125 - val_loss: 0.3078 - val_accuracy: 0.8730 - val_auc_3: 0.8915 - val_precision_3: 0.6667 - val_recall_3: 0.4000\n",
            "Epoch 49/200\n",
            "10/10 [==============================] - 0s 6ms/step - loss: 0.3364 - accuracy: 0.8387 - auc_3: 0.8486 - precision_3: 0.5714 - recall_3: 0.2500 - val_loss: 0.3055 - val_accuracy: 0.8730 - val_auc_3: 0.8925 - val_precision_3: 0.6667 - val_recall_3: 0.4000\n",
            "Epoch 50/200\n",
            "10/10 [==============================] - 0s 6ms/step - loss: 0.3362 - accuracy: 0.8495 - auc_3: 0.8543 - precision_3: 0.6250 - recall_3: 0.3125 - val_loss: 0.3063 - val_accuracy: 0.8730 - val_auc_3: 0.8887 - val_precision_3: 0.6667 - val_recall_3: 0.4000\n",
            "Epoch 51/200\n",
            "10/10 [==============================] - 0s 5ms/step - loss: 0.3314 - accuracy: 0.8495 - auc_3: 0.8669 - precision_3: 0.6250 - recall_3: 0.3125 - val_loss: 0.3114 - val_accuracy: 0.8571 - val_auc_3: 0.8858 - val_precision_3: 0.5714 - val_recall_3: 0.4000\n",
            "Epoch 52/200\n",
            "10/10 [==============================] - 0s 6ms/step - loss: 0.3342 - accuracy: 0.8495 - auc_3: 0.8661 - precision_3: 0.6250 - recall_3: 0.3125 - val_loss: 0.3079 - val_accuracy: 0.8571 - val_auc_3: 0.8840 - val_precision_3: 0.5714 - val_recall_3: 0.4000\n",
            "Epoch 53/200\n",
            "10/10 [==============================] - 0s 6ms/step - loss: 0.3307 - accuracy: 0.8495 - auc_3: 0.8640 - precision_3: 0.6250 - recall_3: 0.3125 - val_loss: 0.3060 - val_accuracy: 0.8730 - val_auc_3: 0.8887 - val_precision_3: 0.6667 - val_recall_3: 0.4000\n",
            "Epoch 54/200\n",
            "10/10 [==============================] - 0s 6ms/step - loss: 0.3294 - accuracy: 0.8495 - auc_3: 0.8604 - precision_3: 0.6250 - recall_3: 0.3125 - val_loss: 0.3052 - val_accuracy: 0.8730 - val_auc_3: 0.8906 - val_precision_3: 0.6667 - val_recall_3: 0.4000\n",
            "Epoch 55/200\n",
            "10/10 [==============================] - 0s 6ms/step - loss: 0.3306 - accuracy: 0.8495 - auc_3: 0.8543 - precision_3: 0.6667 - recall_3: 0.2500 - val_loss: 0.3041 - val_accuracy: 0.8889 - val_auc_3: 0.8868 - val_precision_3: 0.8000 - val_recall_3: 0.4000\n",
            "Epoch 56/200\n",
            "10/10 [==============================] - 0s 5ms/step - loss: 0.3276 - accuracy: 0.8387 - auc_3: 0.8612 - precision_3: 0.5714 - recall_3: 0.2500 - val_loss: 0.3043 - val_accuracy: 0.8730 - val_auc_3: 0.8849 - val_precision_3: 0.6667 - val_recall_3: 0.4000\n",
            "Epoch 57/200\n",
            "10/10 [==============================] - 0s 5ms/step - loss: 0.3277 - accuracy: 0.8495 - auc_3: 0.8665 - precision_3: 0.6250 - recall_3: 0.3125 - val_loss: 0.3051 - val_accuracy: 0.8730 - val_auc_3: 0.8858 - val_precision_3: 0.6667 - val_recall_3: 0.4000\n",
            "Epoch 58/200\n",
            "10/10 [==============================] - 0s 7ms/step - loss: 0.3338 - accuracy: 0.8387 - auc_3: 0.8478 - precision_3: 0.5714 - recall_3: 0.2500 - val_loss: 0.3028 - val_accuracy: 0.8889 - val_auc_3: 0.8887 - val_precision_3: 0.8000 - val_recall_3: 0.4000\n",
            "Epoch 59/200\n",
            "10/10 [==============================] - 0s 6ms/step - loss: 0.3271 - accuracy: 0.8495 - auc_3: 0.8604 - precision_3: 0.6667 - recall_3: 0.2500 - val_loss: 0.3023 - val_accuracy: 0.8889 - val_auc_3: 0.8896 - val_precision_3: 0.8000 - val_recall_3: 0.4000\n",
            "Epoch 60/200\n",
            "10/10 [==============================] - 0s 7ms/step - loss: 0.3256 - accuracy: 0.8495 - auc_3: 0.8665 - precision_3: 0.6667 - recall_3: 0.2500 - val_loss: 0.3026 - val_accuracy: 0.8889 - val_auc_3: 0.8877 - val_precision_3: 0.8000 - val_recall_3: 0.4000\n",
            "Epoch 61/200\n",
            "10/10 [==============================] - 0s 7ms/step - loss: 0.3240 - accuracy: 0.8495 - auc_3: 0.8685 - precision_3: 0.6250 - recall_3: 0.3125 - val_loss: 0.3030 - val_accuracy: 0.8730 - val_auc_3: 0.8868 - val_precision_3: 0.6667 - val_recall_3: 0.4000\n",
            "Epoch 62/200\n",
            "10/10 [==============================] - 0s 6ms/step - loss: 0.3207 - accuracy: 0.8495 - auc_3: 0.8734 - precision_3: 0.6250 - recall_3: 0.3125 - val_loss: 0.3088 - val_accuracy: 0.8571 - val_auc_3: 0.8821 - val_precision_3: 0.5714 - val_recall_3: 0.4000\n",
            "Epoch 63/200\n",
            "10/10 [==============================] - 0s 6ms/step - loss: 0.3235 - accuracy: 0.8710 - auc_3: 0.8819 - precision_3: 0.7000 - recall_3: 0.4375 - val_loss: 0.3099 - val_accuracy: 0.8571 - val_auc_3: 0.8821 - val_precision_3: 0.5714 - val_recall_3: 0.4000\n",
            "Epoch 64/200\n",
            "10/10 [==============================] - 0s 5ms/step - loss: 0.3227 - accuracy: 0.8710 - auc_3: 0.8843 - precision_3: 0.7000 - recall_3: 0.4375 - val_loss: 0.3051 - val_accuracy: 0.8571 - val_auc_3: 0.8840 - val_precision_3: 0.5714 - val_recall_3: 0.4000\n",
            "Epoch 65/200\n",
            "10/10 [==============================] - 0s 7ms/step - loss: 0.3203 - accuracy: 0.8495 - auc_3: 0.8726 - precision_3: 0.6250 - recall_3: 0.3125 - val_loss: 0.3030 - val_accuracy: 0.8730 - val_auc_3: 0.8840 - val_precision_3: 0.6667 - val_recall_3: 0.4000\n",
            "Epoch 66/200\n",
            "10/10 [==============================] - 0s 6ms/step - loss: 0.3210 - accuracy: 0.8387 - auc_3: 0.8681 - precision_3: 0.5714 - recall_3: 0.2500 - val_loss: 0.3031 - val_accuracy: 0.8889 - val_auc_3: 0.8840 - val_precision_3: 0.8000 - val_recall_3: 0.4000\n",
            "Epoch 67/200\n",
            "10/10 [==============================] - 0s 8ms/step - loss: 0.3200 - accuracy: 0.8495 - auc_3: 0.8718 - precision_3: 0.6250 - recall_3: 0.3125 - val_loss: 0.3038 - val_accuracy: 0.8571 - val_auc_3: 0.8849 - val_precision_3: 0.5714 - val_recall_3: 0.4000\n",
            "Epoch 68/200\n",
            "10/10 [==============================] - 0s 6ms/step - loss: 0.3186 - accuracy: 0.8495 - auc_3: 0.8713 - precision_3: 0.6250 - recall_3: 0.3125 - val_loss: 0.3045 - val_accuracy: 0.8571 - val_auc_3: 0.8840 - val_precision_3: 0.5714 - val_recall_3: 0.4000\n",
            "Epoch 69/200\n",
            "10/10 [==============================] - 0s 7ms/step - loss: 0.3186 - accuracy: 0.8602 - auc_3: 0.8766 - precision_3: 0.6667 - recall_3: 0.3750 - val_loss: 0.3074 - val_accuracy: 0.8571 - val_auc_3: 0.8755 - val_precision_3: 0.5714 - val_recall_3: 0.4000\n",
            "Epoch 70/200\n",
            "10/10 [==============================] - 0s 5ms/step - loss: 0.3183 - accuracy: 0.8495 - auc_3: 0.8766 - precision_3: 0.6250 - recall_3: 0.3125 - val_loss: 0.3055 - val_accuracy: 0.8889 - val_auc_3: 0.8717 - val_precision_3: 0.8000 - val_recall_3: 0.4000\n",
            "Epoch 71/200\n",
            "10/10 [==============================] - 0s 7ms/step - loss: 0.3172 - accuracy: 0.8495 - auc_3: 0.8762 - precision_3: 0.6250 - recall_3: 0.3125 - val_loss: 0.3047 - val_accuracy: 0.8730 - val_auc_3: 0.8821 - val_precision_3: 0.6667 - val_recall_3: 0.4000\n",
            "Epoch 72/200\n",
            "10/10 [==============================] - 0s 7ms/step - loss: 0.3155 - accuracy: 0.8495 - auc_3: 0.8774 - precision_3: 0.6250 - recall_3: 0.3125 - val_loss: 0.3036 - val_accuracy: 0.8889 - val_auc_3: 0.8840 - val_precision_3: 0.8000 - val_recall_3: 0.4000\n",
            "Epoch 73/200\n",
            "10/10 [==============================] - 0s 6ms/step - loss: 0.3136 - accuracy: 0.8495 - auc_3: 0.8770 - precision_3: 0.6250 - recall_3: 0.3125 - val_loss: 0.3052 - val_accuracy: 0.8730 - val_auc_3: 0.8811 - val_precision_3: 0.6667 - val_recall_3: 0.4000\n",
            "Epoch 74/200\n",
            "10/10 [==============================] - 0s 8ms/step - loss: 0.3174 - accuracy: 0.8495 - auc_3: 0.8722 - precision_3: 0.6250 - recall_3: 0.3125 - val_loss: 0.3050 - val_accuracy: 0.8889 - val_auc_3: 0.8821 - val_precision_3: 0.8000 - val_recall_3: 0.4000\n",
            "Epoch 75/200\n",
            "10/10 [==============================] - 0s 5ms/step - loss: 0.3150 - accuracy: 0.8710 - auc_3: 0.8754 - precision_3: 0.7000 - recall_3: 0.4375 - val_loss: 0.3072 - val_accuracy: 0.8571 - val_auc_3: 0.8802 - val_precision_3: 0.5714 - val_recall_3: 0.4000\n",
            "Epoch 76/200\n",
            "10/10 [==============================] - 0s 6ms/step - loss: 0.3118 - accuracy: 0.8710 - auc_3: 0.8864 - precision_3: 0.7000 - recall_3: 0.4375 - val_loss: 0.3056 - val_accuracy: 0.8571 - val_auc_3: 0.8745 - val_precision_3: 0.5714 - val_recall_3: 0.4000\n",
            "Epoch 77/200\n",
            "10/10 [==============================] - 0s 6ms/step - loss: 0.3111 - accuracy: 0.8495 - auc_3: 0.8795 - precision_3: 0.6250 - recall_3: 0.3125 - val_loss: 0.3041 - val_accuracy: 0.8889 - val_auc_3: 0.8783 - val_precision_3: 0.8000 - val_recall_3: 0.4000\n",
            "Epoch 78/200\n",
            "10/10 [==============================] - 0s 5ms/step - loss: 0.3118 - accuracy: 0.8495 - auc_3: 0.8770 - precision_3: 0.6250 - recall_3: 0.3125 - val_loss: 0.3042 - val_accuracy: 0.8889 - val_auc_3: 0.8792 - val_precision_3: 0.8000 - val_recall_3: 0.4000\n",
            "Epoch 79/200\n",
            "10/10 [==============================] - 0s 6ms/step - loss: 0.3117 - accuracy: 0.8495 - auc_3: 0.8815 - precision_3: 0.6250 - recall_3: 0.3125 - val_loss: 0.3065 - val_accuracy: 0.8571 - val_auc_3: 0.8764 - val_precision_3: 0.5714 - val_recall_3: 0.4000\n",
            "Epoch 80/200\n",
            "10/10 [==============================] - 0s 7ms/step - loss: 0.3095 - accuracy: 0.8710 - auc_3: 0.8864 - precision_3: 0.7000 - recall_3: 0.4375 - val_loss: 0.3075 - val_accuracy: 0.8571 - val_auc_3: 0.8708 - val_precision_3: 0.5714 - val_recall_3: 0.4000\n",
            "Epoch 81/200\n",
            "10/10 [==============================] - 0s 5ms/step - loss: 0.3090 - accuracy: 0.8817 - auc_3: 0.8868 - precision_3: 0.7273 - recall_3: 0.5000 - val_loss: 0.3072 - val_accuracy: 0.8571 - val_auc_3: 0.8745 - val_precision_3: 0.5714 - val_recall_3: 0.4000\n",
            "Epoch 82/200\n",
            "10/10 [==============================] - 0s 5ms/step - loss: 0.3161 - accuracy: 0.8387 - auc_3: 0.8734 - precision_3: 0.5714 - recall_3: 0.2500 - val_loss: 0.3053 - val_accuracy: 0.8889 - val_auc_3: 0.8774 - val_precision_3: 0.8000 - val_recall_3: 0.4000\n",
            "Epoch 83/200\n",
            "10/10 [==============================] - 0s 7ms/step - loss: 0.3092 - accuracy: 0.8495 - auc_3: 0.8807 - precision_3: 0.6250 - recall_3: 0.3125 - val_loss: 0.3054 - val_accuracy: 0.8730 - val_auc_3: 0.8792 - val_precision_3: 0.6667 - val_recall_3: 0.4000\n",
            "Epoch 84/200\n",
            "10/10 [==============================] - 0s 6ms/step - loss: 0.3068 - accuracy: 0.8710 - auc_3: 0.8876 - precision_3: 0.7000 - recall_3: 0.4375 - val_loss: 0.3086 - val_accuracy: 0.8571 - val_auc_3: 0.8755 - val_precision_3: 0.5714 - val_recall_3: 0.4000\n",
            "Epoch 85/200\n",
            "10/10 [==============================] - 0s 5ms/step - loss: 0.3079 - accuracy: 0.8817 - auc_3: 0.8880 - precision_3: 0.7273 - recall_3: 0.5000 - val_loss: 0.3097 - val_accuracy: 0.8571 - val_auc_3: 0.8717 - val_precision_3: 0.5714 - val_recall_3: 0.4000\n",
            "Epoch 86/200\n",
            "10/10 [==============================] - 0s 7ms/step - loss: 0.3120 - accuracy: 0.8602 - auc_3: 0.8766 - precision_3: 0.6667 - recall_3: 0.3750 - val_loss: 0.3102 - val_accuracy: 0.8571 - val_auc_3: 0.8708 - val_precision_3: 0.5714 - val_recall_3: 0.4000\n",
            "Epoch 87/200\n",
            "10/10 [==============================] - 0s 7ms/step - loss: 0.3131 - accuracy: 0.8710 - auc_3: 0.8876 - precision_3: 0.6667 - recall_3: 0.5000 - val_loss: 0.3216 - val_accuracy: 0.8413 - val_auc_3: 0.8708 - val_precision_3: 0.5000 - val_recall_3: 0.4000\n",
            "Epoch 88/200\n",
            "10/10 [==============================] - 0s 7ms/step - loss: 0.3116 - accuracy: 0.8602 - auc_3: 0.8916 - precision_3: 0.6000 - recall_3: 0.5625 - val_loss: 0.3137 - val_accuracy: 0.8413 - val_auc_3: 0.8708 - val_precision_3: 0.5000 - val_recall_3: 0.4000\n",
            "Epoch 89/200\n",
            "10/10 [==============================] - 0s 5ms/step - loss: 0.3080 - accuracy: 0.8817 - auc_3: 0.8904 - precision_3: 0.7273 - recall_3: 0.5000 - val_loss: 0.3049 - val_accuracy: 0.8571 - val_auc_3: 0.8868 - val_precision_3: 0.5714 - val_recall_3: 0.4000\n",
            "Epoch 90/200\n",
            "10/10 [==============================] - 0s 6ms/step - loss: 0.3062 - accuracy: 0.8817 - auc_3: 0.8920 - precision_3: 0.7273 - recall_3: 0.5000 - val_loss: 0.3037 - val_accuracy: 0.8571 - val_auc_3: 0.8868 - val_precision_3: 0.5714 - val_recall_3: 0.4000\n",
            "Epoch 91/200\n",
            "10/10 [==============================] - 0s 6ms/step - loss: 0.3090 - accuracy: 0.8602 - auc_3: 0.8811 - precision_3: 0.6667 - recall_3: 0.3750 - val_loss: 0.3017 - val_accuracy: 0.8730 - val_auc_3: 0.8887 - val_precision_3: 0.6667 - val_recall_3: 0.4000\n",
            "Epoch 92/200\n",
            "10/10 [==============================] - 0s 7ms/step - loss: 0.3055 - accuracy: 0.8602 - auc_3: 0.8856 - precision_3: 0.6667 - recall_3: 0.3750 - val_loss: 0.3040 - val_accuracy: 0.8571 - val_auc_3: 0.8868 - val_precision_3: 0.5714 - val_recall_3: 0.4000\n",
            "Epoch 93/200\n",
            "10/10 [==============================] - 0s 6ms/step - loss: 0.3052 - accuracy: 0.8710 - auc_3: 0.8880 - precision_3: 0.7000 - recall_3: 0.4375 - val_loss: 0.3056 - val_accuracy: 0.8571 - val_auc_3: 0.8868 - val_precision_3: 0.5714 - val_recall_3: 0.4000\n",
            "Epoch 94/200\n",
            "10/10 [==============================] - 0s 7ms/step - loss: 0.3024 - accuracy: 0.8817 - auc_3: 0.8916 - precision_3: 0.7273 - recall_3: 0.5000 - val_loss: 0.3052 - val_accuracy: 0.8571 - val_auc_3: 0.8896 - val_precision_3: 0.5714 - val_recall_3: 0.4000\n",
            "Epoch 95/200\n",
            "10/10 [==============================] - 0s 6ms/step - loss: 0.3029 - accuracy: 0.8710 - auc_3: 0.8892 - precision_3: 0.7000 - recall_3: 0.4375 - val_loss: 0.3054 - val_accuracy: 0.8571 - val_auc_3: 0.8887 - val_precision_3: 0.5714 - val_recall_3: 0.4000\n",
            "Epoch 96/200\n",
            "10/10 [==============================] - 0s 7ms/step - loss: 0.3013 - accuracy: 0.8710 - auc_3: 0.8920 - precision_3: 0.7000 - recall_3: 0.4375 - val_loss: 0.3052 - val_accuracy: 0.8571 - val_auc_3: 0.8877 - val_precision_3: 0.5714 - val_recall_3: 0.4000\n",
            "Epoch 97/200\n",
            "10/10 [==============================] - 0s 5ms/step - loss: 0.3028 - accuracy: 0.8602 - auc_3: 0.8892 - precision_3: 0.6667 - recall_3: 0.3750 - val_loss: 0.3062 - val_accuracy: 0.8889 - val_auc_3: 0.8840 - val_precision_3: 0.8000 - val_recall_3: 0.4000\n",
            "Epoch 98/200\n",
            "10/10 [==============================] - 0s 5ms/step - loss: 0.3029 - accuracy: 0.8602 - auc_3: 0.8900 - precision_3: 0.6667 - recall_3: 0.3750 - val_loss: 0.3067 - val_accuracy: 0.8571 - val_auc_3: 0.8802 - val_precision_3: 0.5714 - val_recall_3: 0.4000\n",
            "Epoch 99/200\n",
            "10/10 [==============================] - 0s 6ms/step - loss: 0.3017 - accuracy: 0.8817 - auc_3: 0.8896 - precision_3: 0.7273 - recall_3: 0.5000 - val_loss: 0.3057 - val_accuracy: 0.8571 - val_auc_3: 0.8840 - val_precision_3: 0.5714 - val_recall_3: 0.4000\n",
            "Epoch 100/200\n",
            "10/10 [==============================] - 0s 8ms/step - loss: 0.3001 - accuracy: 0.8817 - auc_3: 0.8900 - precision_3: 0.7273 - recall_3: 0.5000 - val_loss: 0.3048 - val_accuracy: 0.8889 - val_auc_3: 0.8840 - val_precision_3: 0.8000 - val_recall_3: 0.4000\n",
            "Epoch 101/200\n",
            "10/10 [==============================] - 0s 6ms/step - loss: 0.3005 - accuracy: 0.8602 - auc_3: 0.8900 - precision_3: 0.6667 - recall_3: 0.3750 - val_loss: 0.3068 - val_accuracy: 0.8571 - val_auc_3: 0.8840 - val_precision_3: 0.5714 - val_recall_3: 0.4000\n",
            "Epoch 102/200\n",
            "10/10 [==============================] - 0s 8ms/step - loss: 0.2995 - accuracy: 0.8710 - auc_3: 0.8904 - precision_3: 0.7000 - recall_3: 0.4375 - val_loss: 0.3083 - val_accuracy: 0.8571 - val_auc_3: 0.8821 - val_precision_3: 0.5714 - val_recall_3: 0.4000\n",
            "Epoch 103/200\n",
            "10/10 [==============================] - 0s 6ms/step - loss: 0.2976 - accuracy: 0.8817 - auc_3: 0.8920 - precision_3: 0.7273 - recall_3: 0.5000 - val_loss: 0.3111 - val_accuracy: 0.8571 - val_auc_3: 0.8783 - val_precision_3: 0.5714 - val_recall_3: 0.4000\n",
            "Epoch 104/200\n",
            "10/10 [==============================] - 0s 6ms/step - loss: 0.2979 - accuracy: 0.8817 - auc_3: 0.8941 - precision_3: 0.7273 - recall_3: 0.5000 - val_loss: 0.3094 - val_accuracy: 0.8571 - val_auc_3: 0.8821 - val_precision_3: 0.5714 - val_recall_3: 0.4000\n",
            "Epoch 105/200\n",
            "10/10 [==============================] - 0s 7ms/step - loss: 0.2957 - accuracy: 0.8817 - auc_3: 0.8953 - precision_3: 0.7273 - recall_3: 0.5000 - val_loss: 0.3099 - val_accuracy: 0.8571 - val_auc_3: 0.8736 - val_precision_3: 0.5714 - val_recall_3: 0.4000\n",
            "Epoch 106/200\n",
            "10/10 [==============================] - 0s 7ms/step - loss: 0.2968 - accuracy: 0.8817 - auc_3: 0.8916 - precision_3: 0.7273 - recall_3: 0.5000 - val_loss: 0.3095 - val_accuracy: 0.8571 - val_auc_3: 0.8755 - val_precision_3: 0.5714 - val_recall_3: 0.4000\n",
            "Epoch 107/200\n",
            "10/10 [==============================] - 0s 5ms/step - loss: 0.2952 - accuracy: 0.8817 - auc_3: 0.8981 - precision_3: 0.7273 - recall_3: 0.5000 - val_loss: 0.3124 - val_accuracy: 0.8571 - val_auc_3: 0.8745 - val_precision_3: 0.5714 - val_recall_3: 0.4000\n",
            "Epoch 108/200\n",
            "10/10 [==============================] - 0s 7ms/step - loss: 0.2974 - accuracy: 0.8925 - auc_3: 0.8953 - precision_3: 0.7500 - recall_3: 0.5625 - val_loss: 0.3169 - val_accuracy: 0.8413 - val_auc_3: 0.8632 - val_precision_3: 0.5000 - val_recall_3: 0.4000\n",
            "Epoch 109/200\n",
            "10/10 [==============================] - 0s 6ms/step - loss: 0.2971 - accuracy: 0.8925 - auc_3: 0.8925 - precision_3: 0.7500 - recall_3: 0.5625 - val_loss: 0.3150 - val_accuracy: 0.8571 - val_auc_3: 0.8613 - val_precision_3: 0.5714 - val_recall_3: 0.4000\n",
            "Epoch 110/200\n",
            "10/10 [==============================] - 0s 6ms/step - loss: 0.2978 - accuracy: 0.8925 - auc_3: 0.8929 - precision_3: 0.7500 - recall_3: 0.5625 - val_loss: 0.3149 - val_accuracy: 0.8571 - val_auc_3: 0.8585 - val_precision_3: 0.5714 - val_recall_3: 0.4000\n",
            "Epoch 111/200\n",
            "10/10 [==============================] - 0s 7ms/step - loss: 0.2942 - accuracy: 0.8817 - auc_3: 0.8920 - precision_3: 0.7273 - recall_3: 0.5000 - val_loss: 0.3155 - val_accuracy: 0.8571 - val_auc_3: 0.8613 - val_precision_3: 0.5714 - val_recall_3: 0.4000\n",
            "Epoch 112/200\n",
            "10/10 [==============================] - 0s 6ms/step - loss: 0.2952 - accuracy: 0.8817 - auc_3: 0.8929 - precision_3: 0.7273 - recall_3: 0.5000 - val_loss: 0.3144 - val_accuracy: 0.8571 - val_auc_3: 0.8575 - val_precision_3: 0.5714 - val_recall_3: 0.4000\n",
            "Epoch 113/200\n",
            "10/10 [==============================] - 0s 6ms/step - loss: 0.2951 - accuracy: 0.8925 - auc_3: 0.8949 - precision_3: 0.7500 - recall_3: 0.5625 - val_loss: 0.3155 - val_accuracy: 0.8413 - val_auc_3: 0.8689 - val_precision_3: 0.5000 - val_recall_3: 0.4000\n",
            "Epoch 114/200\n",
            "10/10 [==============================] - 0s 7ms/step - loss: 0.2940 - accuracy: 0.8817 - auc_3: 0.8994 - precision_3: 0.6923 - recall_3: 0.5625 - val_loss: 0.3172 - val_accuracy: 0.8413 - val_auc_3: 0.8660 - val_precision_3: 0.5000 - val_recall_3: 0.4000\n",
            "Epoch 115/200\n",
            "10/10 [==============================] - 0s 6ms/step - loss: 0.2925 - accuracy: 0.8817 - auc_3: 0.8981 - precision_3: 0.6923 - recall_3: 0.5625 - val_loss: 0.3157 - val_accuracy: 0.8571 - val_auc_3: 0.8585 - val_precision_3: 0.5714 - val_recall_3: 0.4000\n",
            "Epoch 116/200\n",
            "10/10 [==============================] - 0s 5ms/step - loss: 0.2922 - accuracy: 0.8817 - auc_3: 0.8920 - precision_3: 0.7273 - recall_3: 0.5000 - val_loss: 0.3160 - val_accuracy: 0.8571 - val_auc_3: 0.8604 - val_precision_3: 0.5714 - val_recall_3: 0.4000\n",
            "Epoch 117/200\n",
            "10/10 [==============================] - 0s 7ms/step - loss: 0.2904 - accuracy: 0.8817 - auc_3: 0.8941 - precision_3: 0.7273 - recall_3: 0.5000 - val_loss: 0.3149 - val_accuracy: 0.8571 - val_auc_3: 0.8585 - val_precision_3: 0.5714 - val_recall_3: 0.4000\n",
            "Epoch 118/200\n",
            "10/10 [==============================] - 0s 7ms/step - loss: 0.2922 - accuracy: 0.8817 - auc_3: 0.8981 - precision_3: 0.6923 - recall_3: 0.5625 - val_loss: 0.3169 - val_accuracy: 0.8413 - val_auc_3: 0.8632 - val_precision_3: 0.5000 - val_recall_3: 0.4000\n",
            "Epoch 119/200\n",
            "10/10 [==============================] - 0s 8ms/step - loss: 0.2908 - accuracy: 0.8817 - auc_3: 0.8981 - precision_3: 0.7273 - recall_3: 0.5000 - val_loss: 0.3139 - val_accuracy: 0.8571 - val_auc_3: 0.8632 - val_precision_3: 0.5714 - val_recall_3: 0.4000\n",
            "Epoch 120/200\n",
            "10/10 [==============================] - 0s 6ms/step - loss: 0.2913 - accuracy: 0.8817 - auc_3: 0.8941 - precision_3: 0.7273 - recall_3: 0.5000 - val_loss: 0.3161 - val_accuracy: 0.8571 - val_auc_3: 0.8585 - val_precision_3: 0.5714 - val_recall_3: 0.4000\n",
            "Epoch 121/200\n",
            "10/10 [==============================] - 0s 7ms/step - loss: 0.2883 - accuracy: 0.8925 - auc_3: 0.8953 - precision_3: 0.7500 - recall_3: 0.5625 - val_loss: 0.3182 - val_accuracy: 0.8413 - val_auc_3: 0.8585 - val_precision_3: 0.5000 - val_recall_3: 0.4000\n",
            "Epoch 122/200\n",
            "10/10 [==============================] - 0s 8ms/step - loss: 0.2901 - accuracy: 0.8817 - auc_3: 0.8973 - precision_3: 0.6923 - recall_3: 0.5625 - val_loss: 0.3192 - val_accuracy: 0.8413 - val_auc_3: 0.8604 - val_precision_3: 0.5000 - val_recall_3: 0.4000\n",
            "Epoch 123/200\n",
            "10/10 [==============================] - 0s 5ms/step - loss: 0.2893 - accuracy: 0.8925 - auc_3: 0.8945 - precision_3: 0.7500 - recall_3: 0.5625 - val_loss: 0.3187 - val_accuracy: 0.8571 - val_auc_3: 0.8575 - val_precision_3: 0.5714 - val_recall_3: 0.4000\n",
            "Epoch 124/200\n",
            "10/10 [==============================] - 0s 6ms/step - loss: 0.2869 - accuracy: 0.8817 - auc_3: 0.9006 - precision_3: 0.6923 - recall_3: 0.5625 - val_loss: 0.3196 - val_accuracy: 0.8413 - val_auc_3: 0.8585 - val_precision_3: 0.5000 - val_recall_3: 0.4000\n",
            "Epoch 125/200\n",
            "10/10 [==============================] - 0s 7ms/step - loss: 0.2898 - accuracy: 0.8817 - auc_3: 0.9022 - precision_3: 0.6923 - recall_3: 0.5625 - val_loss: 0.3221 - val_accuracy: 0.8413 - val_auc_3: 0.8538 - val_precision_3: 0.5000 - val_recall_3: 0.4000\n",
            "Epoch 126/200\n",
            "10/10 [==============================] - 0s 6ms/step - loss: 0.2881 - accuracy: 0.8817 - auc_3: 0.9010 - precision_3: 0.6923 - recall_3: 0.5625 - val_loss: 0.3187 - val_accuracy: 0.8571 - val_auc_3: 0.8585 - val_precision_3: 0.5714 - val_recall_3: 0.4000\n",
            "Epoch 127/200\n",
            "10/10 [==============================] - 0s 7ms/step - loss: 0.2872 - accuracy: 0.8925 - auc_3: 0.8998 - precision_3: 0.7500 - recall_3: 0.5625 - val_loss: 0.3207 - val_accuracy: 0.8571 - val_auc_3: 0.8528 - val_precision_3: 0.5714 - val_recall_3: 0.4000\n",
            "Epoch 128/200\n",
            "10/10 [==============================] - 0s 8ms/step - loss: 0.2860 - accuracy: 0.8925 - auc_3: 0.9006 - precision_3: 0.7500 - recall_3: 0.5625 - val_loss: 0.3227 - val_accuracy: 0.8571 - val_auc_3: 0.8462 - val_precision_3: 0.5714 - val_recall_3: 0.4000\n",
            "Epoch 129/200\n",
            "10/10 [==============================] - 0s 7ms/step - loss: 0.2852 - accuracy: 0.8925 - auc_3: 0.8981 - precision_3: 0.7500 - recall_3: 0.5625 - val_loss: 0.3231 - val_accuracy: 0.8571 - val_auc_3: 0.8472 - val_precision_3: 0.5714 - val_recall_3: 0.4000\n",
            "Epoch 130/200\n",
            "10/10 [==============================] - 0s 7ms/step - loss: 0.2849 - accuracy: 0.8925 - auc_3: 0.8981 - precision_3: 0.7500 - recall_3: 0.5625 - val_loss: 0.3218 - val_accuracy: 0.8571 - val_auc_3: 0.8481 - val_precision_3: 0.5714 - val_recall_3: 0.4000\n",
            "Epoch 131/200\n",
            "10/10 [==============================] - 0s 6ms/step - loss: 0.2849 - accuracy: 0.9032 - auc_3: 0.8961 - precision_3: 0.8182 - recall_3: 0.5625 - val_loss: 0.3226 - val_accuracy: 0.8571 - val_auc_3: 0.8500 - val_precision_3: 0.5714 - val_recall_3: 0.4000\n",
            "Epoch 132/200\n",
            "10/10 [==============================] - 0s 7ms/step - loss: 0.2846 - accuracy: 0.8925 - auc_3: 0.8985 - precision_3: 0.7500 - recall_3: 0.5625 - val_loss: 0.3232 - val_accuracy: 0.8571 - val_auc_3: 0.8472 - val_precision_3: 0.5714 - val_recall_3: 0.4000\n",
            "Epoch 133/200\n",
            "10/10 [==============================] - 0s 6ms/step - loss: 0.2837 - accuracy: 0.8925 - auc_3: 0.8981 - precision_3: 0.7500 - recall_3: 0.5625 - val_loss: 0.3218 - val_accuracy: 0.8571 - val_auc_3: 0.8481 - val_precision_3: 0.5714 - val_recall_3: 0.4000\n",
            "Epoch 134/200\n",
            "10/10 [==============================] - 0s 6ms/step - loss: 0.2828 - accuracy: 0.8925 - auc_3: 0.8989 - precision_3: 0.7500 - recall_3: 0.5625 - val_loss: 0.3223 - val_accuracy: 0.8571 - val_auc_3: 0.8462 - val_precision_3: 0.5714 - val_recall_3: 0.4000\n",
            "Epoch 135/200\n",
            "10/10 [==============================] - 0s 6ms/step - loss: 0.2856 - accuracy: 0.8817 - auc_3: 0.8969 - precision_3: 0.6923 - recall_3: 0.5625 - val_loss: 0.3242 - val_accuracy: 0.8571 - val_auc_3: 0.8481 - val_precision_3: 0.5714 - val_recall_3: 0.4000\n",
            "Epoch 136/200\n",
            "10/10 [==============================] - 0s 6ms/step - loss: 0.2817 - accuracy: 0.8925 - auc_3: 0.8989 - precision_3: 0.7500 - recall_3: 0.5625 - val_loss: 0.3252 - val_accuracy: 0.8571 - val_auc_3: 0.8453 - val_precision_3: 0.5714 - val_recall_3: 0.4000\n",
            "Epoch 137/200\n",
            "10/10 [==============================] - 0s 7ms/step - loss: 0.2828 - accuracy: 0.8817 - auc_3: 0.9002 - precision_3: 0.6923 - recall_3: 0.5625 - val_loss: 0.3279 - val_accuracy: 0.8413 - val_auc_3: 0.8462 - val_precision_3: 0.5000 - val_recall_3: 0.4000\n",
            "Epoch 138/200\n",
            "10/10 [==============================] - 0s 8ms/step - loss: 0.2836 - accuracy: 0.8817 - auc_3: 0.8989 - precision_3: 0.6923 - recall_3: 0.5625 - val_loss: 0.3261 - val_accuracy: 0.8571 - val_auc_3: 0.8462 - val_precision_3: 0.5714 - val_recall_3: 0.4000\n",
            "Epoch 139/200\n",
            "10/10 [==============================] - 0s 5ms/step - loss: 0.2806 - accuracy: 0.8925 - auc_3: 0.9022 - precision_3: 0.7500 - recall_3: 0.5625 - val_loss: 0.3267 - val_accuracy: 0.8571 - val_auc_3: 0.8462 - val_precision_3: 0.5714 - val_recall_3: 0.4000\n",
            "Epoch 140/200\n",
            "10/10 [==============================] - 0s 7ms/step - loss: 0.2810 - accuracy: 0.8817 - auc_3: 0.9030 - precision_3: 0.6923 - recall_3: 0.5625 - val_loss: 0.3272 - val_accuracy: 0.8571 - val_auc_3: 0.8481 - val_precision_3: 0.5714 - val_recall_3: 0.4000\n",
            "Epoch 141/200\n",
            "10/10 [==============================] - 0s 6ms/step - loss: 0.2783 - accuracy: 0.9032 - auc_3: 0.9010 - precision_3: 0.8182 - recall_3: 0.5625 - val_loss: 0.3273 - val_accuracy: 0.8571 - val_auc_3: 0.8453 - val_precision_3: 0.5714 - val_recall_3: 0.4000\n",
            "Epoch 142/200\n",
            "10/10 [==============================] - 0s 6ms/step - loss: 0.2835 - accuracy: 0.8925 - auc_3: 0.8985 - precision_3: 0.8000 - recall_3: 0.5000 - val_loss: 0.3277 - val_accuracy: 0.8889 - val_auc_3: 0.8462 - val_precision_3: 0.8000 - val_recall_3: 0.4000\n",
            "Epoch 143/200\n",
            "10/10 [==============================] - 0s 7ms/step - loss: 0.2804 - accuracy: 0.9032 - auc_3: 0.9002 - precision_3: 0.8182 - recall_3: 0.5625 - val_loss: 0.3261 - val_accuracy: 0.8571 - val_auc_3: 0.8481 - val_precision_3: 0.5714 - val_recall_3: 0.4000\n",
            "Epoch 144/200\n",
            "10/10 [==============================] - 0s 7ms/step - loss: 0.2799 - accuracy: 0.8925 - auc_3: 0.8981 - precision_3: 0.7500 - recall_3: 0.5625 - val_loss: 0.3278 - val_accuracy: 0.8413 - val_auc_3: 0.8491 - val_precision_3: 0.5000 - val_recall_3: 0.4000\n",
            "Epoch 145/200\n",
            "10/10 [==============================] - 0s 6ms/step - loss: 0.2794 - accuracy: 0.8817 - auc_3: 0.9058 - precision_3: 0.6923 - recall_3: 0.5625 - val_loss: 0.3282 - val_accuracy: 0.8413 - val_auc_3: 0.8453 - val_precision_3: 0.5000 - val_recall_3: 0.4000\n",
            "Epoch 146/200\n",
            "10/10 [==============================] - 0s 6ms/step - loss: 0.2786 - accuracy: 0.8817 - auc_3: 0.9050 - precision_3: 0.6923 - recall_3: 0.5625 - val_loss: 0.3296 - val_accuracy: 0.8413 - val_auc_3: 0.8481 - val_precision_3: 0.5000 - val_recall_3: 0.4000\n",
            "Epoch 147/200\n",
            "10/10 [==============================] - 0s 6ms/step - loss: 0.2797 - accuracy: 0.8925 - auc_3: 0.9022 - precision_3: 0.7500 - recall_3: 0.5625 - val_loss: 0.3284 - val_accuracy: 0.8571 - val_auc_3: 0.8462 - val_precision_3: 0.5714 - val_recall_3: 0.4000\n",
            "Epoch 148/200\n",
            "10/10 [==============================] - 0s 7ms/step - loss: 0.2790 - accuracy: 0.8925 - auc_3: 0.9014 - precision_3: 0.8000 - recall_3: 0.5000 - val_loss: 0.3292 - val_accuracy: 0.8571 - val_auc_3: 0.8434 - val_precision_3: 0.5714 - val_recall_3: 0.4000\n",
            "Epoch 149/200\n",
            "10/10 [==============================] - 0s 7ms/step - loss: 0.2779 - accuracy: 0.9032 - auc_3: 0.9030 - precision_3: 0.8182 - recall_3: 0.5625 - val_loss: 0.3280 - val_accuracy: 0.8571 - val_auc_3: 0.8481 - val_precision_3: 0.5714 - val_recall_3: 0.4000\n",
            "Epoch 150/200\n",
            "10/10 [==============================] - 0s 7ms/step - loss: 0.2764 - accuracy: 0.9032 - auc_3: 0.9038 - precision_3: 0.8182 - recall_3: 0.5625 - val_loss: 0.3283 - val_accuracy: 0.8571 - val_auc_3: 0.8462 - val_precision_3: 0.5714 - val_recall_3: 0.4000\n",
            "Epoch 151/200\n",
            "10/10 [==============================] - 0s 6ms/step - loss: 0.2752 - accuracy: 0.8817 - auc_3: 0.9014 - precision_3: 0.6923 - recall_3: 0.5625 - val_loss: 0.3297 - val_accuracy: 0.8413 - val_auc_3: 0.8509 - val_precision_3: 0.5000 - val_recall_3: 0.4000\n",
            "Epoch 152/200\n",
            "10/10 [==============================] - 0s 7ms/step - loss: 0.2764 - accuracy: 0.8817 - auc_3: 0.9127 - precision_3: 0.6923 - recall_3: 0.5625 - val_loss: 0.3323 - val_accuracy: 0.8413 - val_auc_3: 0.8500 - val_precision_3: 0.5000 - val_recall_3: 0.4000\n",
            "Epoch 153/200\n",
            "10/10 [==============================] - 0s 6ms/step - loss: 0.2735 - accuracy: 0.8817 - auc_3: 0.9115 - precision_3: 0.6923 - recall_3: 0.5625 - val_loss: 0.3322 - val_accuracy: 0.8413 - val_auc_3: 0.8453 - val_precision_3: 0.5000 - val_recall_3: 0.4000\n",
            "Epoch 154/200\n",
            "10/10 [==============================] - 0s 9ms/step - loss: 0.2761 - accuracy: 0.8817 - auc_3: 0.9058 - precision_3: 0.6923 - recall_3: 0.5625 - val_loss: 0.3290 - val_accuracy: 0.8571 - val_auc_3: 0.8472 - val_precision_3: 0.5714 - val_recall_3: 0.4000\n",
            "Epoch 155/200\n",
            "10/10 [==============================] - 0s 7ms/step - loss: 0.2739 - accuracy: 0.9032 - auc_3: 0.9062 - precision_3: 0.8182 - recall_3: 0.5625 - val_loss: 0.3298 - val_accuracy: 0.8571 - val_auc_3: 0.8472 - val_precision_3: 0.5714 - val_recall_3: 0.4000\n",
            "Epoch 156/200\n",
            "10/10 [==============================] - 0s 5ms/step - loss: 0.2711 - accuracy: 0.8925 - auc_3: 0.9107 - precision_3: 0.7500 - recall_3: 0.5625 - val_loss: 0.3317 - val_accuracy: 0.8413 - val_auc_3: 0.8519 - val_precision_3: 0.5000 - val_recall_3: 0.4000\n",
            "Epoch 157/200\n",
            "10/10 [==============================] - 0s 6ms/step - loss: 0.2733 - accuracy: 0.8817 - auc_3: 0.9091 - precision_3: 0.6923 - recall_3: 0.5625 - val_loss: 0.3308 - val_accuracy: 0.8413 - val_auc_3: 0.8509 - val_precision_3: 0.5000 - val_recall_3: 0.4000\n",
            "Epoch 158/200\n",
            "10/10 [==============================] - 0s 7ms/step - loss: 0.2722 - accuracy: 0.8817 - auc_3: 0.9075 - precision_3: 0.6923 - recall_3: 0.5625 - val_loss: 0.3330 - val_accuracy: 0.8571 - val_auc_3: 0.8462 - val_precision_3: 0.5714 - val_recall_3: 0.4000\n",
            "Epoch 159/200\n",
            "10/10 [==============================] - 0s 7ms/step - loss: 0.2704 - accuracy: 0.9032 - auc_3: 0.9071 - precision_3: 0.8182 - recall_3: 0.5625 - val_loss: 0.3311 - val_accuracy: 0.8571 - val_auc_3: 0.8462 - val_precision_3: 0.5714 - val_recall_3: 0.4000\n",
            "Epoch 160/200\n",
            "10/10 [==============================] - 0s 7ms/step - loss: 0.2714 - accuracy: 0.9032 - auc_3: 0.9050 - precision_3: 0.8182 - recall_3: 0.5625 - val_loss: 0.3287 - val_accuracy: 0.8571 - val_auc_3: 0.8538 - val_precision_3: 0.5714 - val_recall_3: 0.4000\n",
            "Epoch 161/200\n",
            "10/10 [==============================] - 0s 8ms/step - loss: 0.2758 - accuracy: 0.8817 - auc_3: 0.9075 - precision_3: 0.6923 - recall_3: 0.5625 - val_loss: 0.3307 - val_accuracy: 0.8571 - val_auc_3: 0.8500 - val_precision_3: 0.5714 - val_recall_3: 0.4000\n",
            "Epoch 162/200\n",
            "10/10 [==============================] - 0s 7ms/step - loss: 0.2753 - accuracy: 0.9032 - auc_3: 0.9014 - precision_3: 0.8182 - recall_3: 0.5625 - val_loss: 0.3318 - val_accuracy: 0.8571 - val_auc_3: 0.8453 - val_precision_3: 0.5714 - val_recall_3: 0.4000\n",
            "Epoch 163/200\n",
            "10/10 [==============================] - 0s 6ms/step - loss: 0.2711 - accuracy: 0.9032 - auc_3: 0.9091 - precision_3: 0.8182 - recall_3: 0.5625 - val_loss: 0.3315 - val_accuracy: 0.8571 - val_auc_3: 0.8519 - val_precision_3: 0.5714 - val_recall_3: 0.4000\n",
            "Epoch 164/200\n",
            "10/10 [==============================] - 0s 8ms/step - loss: 0.2706 - accuracy: 0.8817 - auc_3: 0.9123 - precision_3: 0.6923 - recall_3: 0.5625 - val_loss: 0.3348 - val_accuracy: 0.8413 - val_auc_3: 0.8519 - val_precision_3: 0.5000 - val_recall_3: 0.4000\n",
            "Epoch 165/200\n",
            "10/10 [==============================] - 0s 6ms/step - loss: 0.2714 - accuracy: 0.8925 - auc_3: 0.9119 - precision_3: 0.7143 - recall_3: 0.6250 - val_loss: 0.3336 - val_accuracy: 0.8413 - val_auc_3: 0.8509 - val_precision_3: 0.5000 - val_recall_3: 0.4000\n",
            "Epoch 166/200\n",
            "10/10 [==============================] - 0s 6ms/step - loss: 0.2670 - accuracy: 0.9140 - auc_3: 0.9131 - precision_3: 0.8333 - recall_3: 0.6250 - val_loss: 0.3297 - val_accuracy: 0.8571 - val_auc_3: 0.8472 - val_precision_3: 0.5714 - val_recall_3: 0.4000\n",
            "Epoch 167/200\n",
            "10/10 [==============================] - 0s 8ms/step - loss: 0.2686 - accuracy: 0.8925 - auc_3: 0.9107 - precision_3: 0.8000 - recall_3: 0.5000 - val_loss: 0.3326 - val_accuracy: 0.8571 - val_auc_3: 0.8434 - val_precision_3: 0.5714 - val_recall_3: 0.4000\n",
            "Epoch 168/200\n",
            "10/10 [==============================] - 0s 6ms/step - loss: 0.2685 - accuracy: 0.8925 - auc_3: 0.9131 - precision_3: 0.8000 - recall_3: 0.5000 - val_loss: 0.3289 - val_accuracy: 0.8571 - val_auc_3: 0.8462 - val_precision_3: 0.5714 - val_recall_3: 0.4000\n",
            "Epoch 169/200\n",
            "10/10 [==============================] - 0s 6ms/step - loss: 0.2687 - accuracy: 0.8817 - auc_3: 0.9164 - precision_3: 0.6923 - recall_3: 0.5625 - val_loss: 0.3282 - val_accuracy: 0.8413 - val_auc_3: 0.8528 - val_precision_3: 0.5000 - val_recall_3: 0.4000\n",
            "Epoch 170/200\n",
            "10/10 [==============================] - 0s 6ms/step - loss: 0.2690 - accuracy: 0.8817 - auc_3: 0.9152 - precision_3: 0.6923 - recall_3: 0.5625 - val_loss: 0.3285 - val_accuracy: 0.8413 - val_auc_3: 0.8528 - val_precision_3: 0.5000 - val_recall_3: 0.4000\n",
            "Epoch 171/200\n",
            "10/10 [==============================] - 0s 7ms/step - loss: 0.2650 - accuracy: 0.8925 - auc_3: 0.9136 - precision_3: 0.8000 - recall_3: 0.5000 - val_loss: 0.3285 - val_accuracy: 0.8571 - val_auc_3: 0.8519 - val_precision_3: 0.5714 - val_recall_3: 0.4000\n",
            "Epoch 172/200\n",
            "10/10 [==============================] - 0s 7ms/step - loss: 0.2717 - accuracy: 0.8817 - auc_3: 0.9131 - precision_3: 0.7778 - recall_3: 0.4375 - val_loss: 0.3320 - val_accuracy: 0.8571 - val_auc_3: 0.8500 - val_precision_3: 0.5714 - val_recall_3: 0.4000\n",
            "Epoch 173/200\n",
            "10/10 [==============================] - 0s 6ms/step - loss: 0.2708 - accuracy: 0.8710 - auc_3: 0.9087 - precision_3: 0.6667 - recall_3: 0.5000 - val_loss: 0.3337 - val_accuracy: 0.8413 - val_auc_3: 0.8453 - val_precision_3: 0.5000 - val_recall_3: 0.4000\n",
            "Epoch 174/200\n",
            "10/10 [==============================] - 0s 7ms/step - loss: 0.2661 - accuracy: 0.8817 - auc_3: 0.9148 - precision_3: 0.6923 - recall_3: 0.5625 - val_loss: 0.3355 - val_accuracy: 0.8413 - val_auc_3: 0.8434 - val_precision_3: 0.5000 - val_recall_3: 0.4000\n",
            "Epoch 175/200\n",
            "10/10 [==============================] - 0s 6ms/step - loss: 0.2668 - accuracy: 0.8817 - auc_3: 0.9176 - precision_3: 0.6923 - recall_3: 0.5625 - val_loss: 0.3370 - val_accuracy: 0.8413 - val_auc_3: 0.8462 - val_precision_3: 0.5000 - val_recall_3: 0.4000\n",
            "Epoch 176/200\n",
            "10/10 [==============================] - 0s 8ms/step - loss: 0.2644 - accuracy: 0.8817 - auc_3: 0.9172 - precision_3: 0.6923 - recall_3: 0.5625 - val_loss: 0.3364 - val_accuracy: 0.8413 - val_auc_3: 0.8443 - val_precision_3: 0.5000 - val_recall_3: 0.4000\n",
            "Epoch 177/200\n",
            "10/10 [==============================] - 0s 7ms/step - loss: 0.2646 - accuracy: 0.8817 - auc_3: 0.9152 - precision_3: 0.6923 - recall_3: 0.5625 - val_loss: 0.3355 - val_accuracy: 0.8571 - val_auc_3: 0.8462 - val_precision_3: 0.5714 - val_recall_3: 0.4000\n",
            "Epoch 178/200\n",
            "10/10 [==============================] - 0s 7ms/step - loss: 0.2630 - accuracy: 0.9032 - auc_3: 0.9144 - precision_3: 0.8182 - recall_3: 0.5625 - val_loss: 0.3363 - val_accuracy: 0.8571 - val_auc_3: 0.8472 - val_precision_3: 0.5714 - val_recall_3: 0.4000\n",
            "Epoch 179/200\n",
            "10/10 [==============================] - 0s 7ms/step - loss: 0.2624 - accuracy: 0.9032 - auc_3: 0.9148 - precision_3: 0.8182 - recall_3: 0.5625 - val_loss: 0.3378 - val_accuracy: 0.8571 - val_auc_3: 0.8472 - val_precision_3: 0.5714 - val_recall_3: 0.4000\n",
            "Epoch 180/200\n",
            "10/10 [==============================] - 0s 6ms/step - loss: 0.2625 - accuracy: 0.8817 - auc_3: 0.9164 - precision_3: 0.6923 - recall_3: 0.5625 - val_loss: 0.3395 - val_accuracy: 0.8571 - val_auc_3: 0.8453 - val_precision_3: 0.5714 - val_recall_3: 0.4000\n",
            "Epoch 181/200\n",
            "10/10 [==============================] - 0s 6ms/step - loss: 0.2613 - accuracy: 0.8925 - auc_3: 0.9164 - precision_3: 0.7143 - recall_3: 0.6250 - val_loss: 0.3404 - val_accuracy: 0.8571 - val_auc_3: 0.8453 - val_precision_3: 0.5714 - val_recall_3: 0.4000\n",
            "Epoch 182/200\n",
            "10/10 [==============================] - 0s 6ms/step - loss: 0.2625 - accuracy: 0.9032 - auc_3: 0.9127 - precision_3: 0.8182 - recall_3: 0.5625 - val_loss: 0.3380 - val_accuracy: 0.8571 - val_auc_3: 0.8462 - val_precision_3: 0.5714 - val_recall_3: 0.4000\n",
            "Epoch 183/200\n",
            "10/10 [==============================] - 0s 8ms/step - loss: 0.2605 - accuracy: 0.9032 - auc_3: 0.9168 - precision_3: 0.8182 - recall_3: 0.5625 - val_loss: 0.3371 - val_accuracy: 0.8571 - val_auc_3: 0.8425 - val_precision_3: 0.5714 - val_recall_3: 0.4000\n",
            "Epoch 184/200\n",
            "10/10 [==============================] - 0s 7ms/step - loss: 0.2611 - accuracy: 0.9032 - auc_3: 0.9164 - precision_3: 0.8182 - recall_3: 0.5625 - val_loss: 0.3383 - val_accuracy: 0.8571 - val_auc_3: 0.8415 - val_precision_3: 0.5714 - val_recall_3: 0.4000\n",
            "Epoch 185/200\n",
            "10/10 [==============================] - 0s 6ms/step - loss: 0.2599 - accuracy: 0.8925 - auc_3: 0.9221 - precision_3: 0.7500 - recall_3: 0.5625 - val_loss: 0.3393 - val_accuracy: 0.8413 - val_auc_3: 0.8472 - val_precision_3: 0.5000 - val_recall_3: 0.4000\n",
            "Epoch 186/200\n",
            "10/10 [==============================] - 0s 7ms/step - loss: 0.2602 - accuracy: 0.8817 - auc_3: 0.9209 - precision_3: 0.6923 - recall_3: 0.5625 - val_loss: 0.3401 - val_accuracy: 0.8413 - val_auc_3: 0.8509 - val_precision_3: 0.5000 - val_recall_3: 0.4000\n",
            "Epoch 187/200\n",
            "10/10 [==============================] - 0s 6ms/step - loss: 0.2591 - accuracy: 0.8925 - auc_3: 0.9209 - precision_3: 0.7500 - recall_3: 0.5625 - val_loss: 0.3375 - val_accuracy: 0.8571 - val_auc_3: 0.8509 - val_precision_3: 0.5714 - val_recall_3: 0.4000\n",
            "Epoch 188/200\n",
            "10/10 [==============================] - 0s 8ms/step - loss: 0.2578 - accuracy: 0.9032 - auc_3: 0.9205 - precision_3: 0.8182 - recall_3: 0.5625 - val_loss: 0.3365 - val_accuracy: 0.8571 - val_auc_3: 0.8519 - val_precision_3: 0.5714 - val_recall_3: 0.4000\n",
            "Epoch 189/200\n",
            "10/10 [==============================] - 0s 6ms/step - loss: 0.2569 - accuracy: 0.8925 - auc_3: 0.9209 - precision_3: 0.7500 - recall_3: 0.5625 - val_loss: 0.3372 - val_accuracy: 0.8571 - val_auc_3: 0.8500 - val_precision_3: 0.5714 - val_recall_3: 0.4000\n",
            "Epoch 190/200\n",
            "10/10 [==============================] - 0s 7ms/step - loss: 0.2573 - accuracy: 0.9032 - auc_3: 0.9213 - precision_3: 0.8182 - recall_3: 0.5625 - val_loss: 0.3387 - val_accuracy: 0.8571 - val_auc_3: 0.8500 - val_precision_3: 0.5714 - val_recall_3: 0.4000\n",
            "Epoch 191/200\n",
            "10/10 [==============================] - 0s 6ms/step - loss: 0.2554 - accuracy: 0.9032 - auc_3: 0.9213 - precision_3: 0.8182 - recall_3: 0.5625 - val_loss: 0.3393 - val_accuracy: 0.8571 - val_auc_3: 0.8500 - val_precision_3: 0.5714 - val_recall_3: 0.4000\n",
            "Epoch 192/200\n",
            "10/10 [==============================] - 0s 8ms/step - loss: 0.2576 - accuracy: 0.9032 - auc_3: 0.9188 - precision_3: 0.8182 - recall_3: 0.5625 - val_loss: 0.3405 - val_accuracy: 0.8571 - val_auc_3: 0.8472 - val_precision_3: 0.5714 - val_recall_3: 0.4000\n",
            "Epoch 193/200\n",
            "10/10 [==============================] - 0s 6ms/step - loss: 0.2556 - accuracy: 0.9032 - auc_3: 0.9225 - precision_3: 0.8182 - recall_3: 0.5625 - val_loss: 0.3416 - val_accuracy: 0.8571 - val_auc_3: 0.8472 - val_precision_3: 0.5714 - val_recall_3: 0.4000\n",
            "Epoch 194/200\n",
            "10/10 [==============================] - 0s 7ms/step - loss: 0.2540 - accuracy: 0.8925 - auc_3: 0.9253 - precision_3: 0.7500 - recall_3: 0.5625 - val_loss: 0.3390 - val_accuracy: 0.8571 - val_auc_3: 0.8500 - val_precision_3: 0.5714 - val_recall_3: 0.4000\n",
            "Epoch 195/200\n",
            "10/10 [==============================] - 0s 5ms/step - loss: 0.2557 - accuracy: 0.8925 - auc_3: 0.9245 - precision_3: 0.7500 - recall_3: 0.5625 - val_loss: 0.3364 - val_accuracy: 0.8571 - val_auc_3: 0.8491 - val_precision_3: 0.5714 - val_recall_3: 0.4000\n",
            "Epoch 196/200\n",
            "10/10 [==============================] - 0s 6ms/step - loss: 0.2583 - accuracy: 0.9032 - auc_3: 0.9205 - precision_3: 0.8182 - recall_3: 0.5625 - val_loss: 0.3358 - val_accuracy: 0.8571 - val_auc_3: 0.8538 - val_precision_3: 0.5714 - val_recall_3: 0.4000\n",
            "Epoch 197/200\n",
            "10/10 [==============================] - 0s 6ms/step - loss: 0.2549 - accuracy: 0.9032 - auc_3: 0.9233 - precision_3: 0.8182 - recall_3: 0.5625 - val_loss: 0.3374 - val_accuracy: 0.8571 - val_auc_3: 0.8509 - val_precision_3: 0.5714 - val_recall_3: 0.4000\n",
            "Epoch 198/200\n",
            "10/10 [==============================] - 0s 6ms/step - loss: 0.2554 - accuracy: 0.9032 - auc_3: 0.9205 - precision_3: 0.8182 - recall_3: 0.5625 - val_loss: 0.3403 - val_accuracy: 0.8571 - val_auc_3: 0.8481 - val_precision_3: 0.5714 - val_recall_3: 0.4000\n",
            "Epoch 199/200\n",
            "10/10 [==============================] - 0s 7ms/step - loss: 0.2553 - accuracy: 0.8925 - auc_3: 0.9217 - precision_3: 0.7143 - recall_3: 0.6250 - val_loss: 0.3379 - val_accuracy: 0.8571 - val_auc_3: 0.8491 - val_precision_3: 0.5714 - val_recall_3: 0.4000\n",
            "Epoch 200/200\n",
            "10/10 [==============================] - 0s 8ms/step - loss: 0.2527 - accuracy: 0.9032 - auc_3: 0.9249 - precision_3: 0.8182 - recall_3: 0.5625 - val_loss: 0.3370 - val_accuracy: 0.8571 - val_auc_3: 0.8519 - val_precision_3: 0.5714 - val_recall_3: 0.4000\n"
          ],
          "name": "stdout"
        },
        {
          "output_type": "execute_result",
          "data": {
            "text/plain": [
              "<tensorflow.python.keras.callbacks.History at 0x7fe5517daf10>"
            ]
          },
          "metadata": {
            "tags": []
          },
          "execution_count": 13
        }
      ]
    },
    {
      "cell_type": "code",
      "metadata": {
        "colab": {
          "base_uri": "https://localhost:8080/"
        },
        "id": "-69NLyRel6H9",
        "outputId": "50f5252b-2df7-4c97-bb5d-eee7abd3f12d"
      },
      "source": [
        "##SAVE tf model\n",
        "score_tf=model_tf.evaluate(x_test,y_test)\n",
        "print('{}-->{}'.format(model_tf.metrics_names[0],score_tf[0])) ##loss-->0.3530723452568054\n",
        "print('{}-->{}'.format(model_tf.metrics_names[1],score_tf[1])) ##accuracy-->0.8125\n",
        "print('{}-->{}'.format(model_tf.metrics_names[2],score_tf[2])) ##auc_1-->0.9347826838493347\n",
        "print('{}-->{}'.format(model_tf.metrics_names[3],score_tf[3])) ##precision_1-->1.0\n",
        "print('{}-->{}'.format(model_tf.metrics_names[4],score_tf[4])) ##recall_1-->0.3333333432674408\n",
        "model_tf.save('model_tf',save_format='tf')"
      ],
      "execution_count": 14,
      "outputs": [
        {
          "output_type": "stream",
          "text": [
            "1/1 [==============================] - 1s 529ms/step - loss: 0.4196 - accuracy: 0.8125 - auc_3: 0.9179 - precision_3: 1.0000 - recall_3: 0.3333\n",
            "loss-->0.41957658529281616\n",
            "accuracy-->0.8125\n",
            "auc_3-->0.9178743362426758\n",
            "precision_3-->1.0\n",
            "recall_3-->0.3333333432674408\n",
            "INFO:tensorflow:Assets written to: model_tf/assets\n"
          ],
          "name": "stdout"
        }
      ]
    },
    {
      "cell_type": "code",
      "metadata": {
        "colab": {
          "base_uri": "https://localhost:8080/"
        },
        "id": "gUUfRG4Gn7HH",
        "outputId": "226d263e-c4ee-4f0b-f753-73666faae645"
      },
      "source": [
        "##Predict newCase by model_tf\n",
        "load_model=tf.keras.models.load_model('model_tf')\n",
        "newCase=pd.DataFrame({'sex_男':[1],'年齡':[20],'BSRS總分':[20],'網路成癮分數YDQ':[20],'家庭滿意度apgar':[2]})\n",
        "load_model.predict(newCase)[0][0]"
      ],
      "execution_count": 12,
      "outputs": [
        {
          "output_type": "execute_result",
          "data": {
            "text/plain": [
              "0.9835056"
            ]
          },
          "metadata": {
            "tags": []
          },
          "execution_count": 12
        }
      ]
    },
    {
      "cell_type": "code",
      "metadata": {
        "colab": {
          "base_uri": "https://localhost:8080/"
        },
        "id": "8V1sJatkaGLP",
        "outputId": "32b8d466-5c5e-4d1c-8e85-32a88c8df30a"
      },
      "source": [
        "from sklearn.linear_model import LogisticRegression\n",
        "from sklearn.metrics import roc_curve, roc_auc_score\n",
        "import joblib\n",
        "model_logit=LogisticRegression()\n",
        "result_logit=model_logit.fit(x_train,y_train)\n",
        "predict_logit=result_logit.predict_proba(x_test)\n",
        "type(predict_logit[:,1])\n",
        "AUC=roc_auc_score(y_test,pd.DataFrame(predict_logit[:,1]))\n",
        "joblib.dump(model_logit,'model_logit.sav')"
      ],
      "execution_count": null,
      "outputs": [
        {
          "output_type": "stream",
          "text": [
            "/usr/local/lib/python3.7/dist-packages/sklearn/utils/validation.py:760: DataConversionWarning: A column-vector y was passed when a 1d array was expected. Please change the shape of y to (n_samples, ), for example using ravel().\n",
            "  y = column_or_1d(y, warn=True)\n"
          ],
          "name": "stderr"
        },
        {
          "output_type": "execute_result",
          "data": {
            "text/plain": [
              "['model_logit.sav']"
            ]
          },
          "metadata": {
            "tags": []
          },
          "execution_count": 53
        }
      ]
    },
    {
      "cell_type": "code",
      "metadata": {
        "colab": {
          "base_uri": "https://localhost:8080/"
        },
        "id": "AFVaYA5Rd17v",
        "outputId": "ccda18bf-c456-46b5-bef2-9c2e1f9bbf07"
      },
      "source": [
        "import joblib\n",
        "load_model=joblib.load('model_logit.sav')\n",
        "newCase=pd.DataFrame({'sex_男':[1],'年齡':[20],'BSRS總分':[20],'網路成癮分數YDQ':[20],'家庭滿意度apgar':[2]})\n",
        "##predict_prob=result_logit.predict_proba(newCase)\n",
        "predict_prob=load_model.predict_proba(newCase)\n",
        "round(predict_prob[:,1].item(),4)"
      ],
      "execution_count": null,
      "outputs": [
        {
          "output_type": "execute_result",
          "data": {
            "text/plain": [
              "0.8397"
            ]
          },
          "metadata": {
            "tags": []
          },
          "execution_count": 59
        }
      ]
    },
    {
      "cell_type": "code",
      "metadata": {
        "colab": {
          "base_uri": "https://localhost:8080/"
        },
        "id": "G2F3jEVGhzQz",
        "outputId": "deb25bdb-e111-433f-d8ad-7e44d60a407f"
      },
      "source": [
        "###利用已建利好的model_logit.sav作prediction的flask網頁......\n",
        "from flask_ngrok import run_with_ngrok\n",
        "###\n",
        "from flask import Flask, render_template, request\n",
        "app=Flask(__name__,template_folder='templates')\n",
        "####\n",
        "run_with_ngrok(app)\n",
        "####\n",
        "\n",
        "import pandas as pd\n",
        "import numpy as np\n",
        "import joblib\n",
        "import sklearn\n",
        "\n",
        "\n",
        "load_model=joblib.load('model_logit.sav')\n",
        "newCase=pd.DataFrame({'sex_男':[1],'年齡':[20],'BSRS總分':[20],'網路成癮分數YDQ':[20],'家庭滿意度apgar':[2]})\n",
        "##predict_prob=result_logit.predict_proba(newCase)\n",
        "predict_prob=load_model.predict_proba(newCase)\n",
        "PREDICT=round(predict_prob[:,1].item(),4)\n",
        "\n",
        "def fun_predict(SEX,AGE,BSRS,YDQ,APGAR):\n",
        "  newCase=pd.DataFrame({'sex_男':[SEX],'年齡':[AGE],'BSRS總分':[BSRS],'網路成癮分數YDQ':[YDQ],'家庭滿意度apgar':[APGAR]})\n",
        "  load_model=joblib.load('model_logit.sav')\n",
        "  predict_prob=load_model.predict_proba(newCase)\n",
        "  return round(predict_prob[:,1].item(),4)\n",
        "\n",
        "@app.route('/',methods=['POST','GET'])\n",
        "def index():\n",
        "  title='輸入觀察值:'\n",
        "  SEX=1\n",
        "  AGE=2\n",
        "  BSRS=2\n",
        "  YDQ=2\n",
        "  APGAR=2\n",
        "  PRED=fun_predict(SEX,AGE,BSRS,YDQ,APGAR)\n",
        "  if request.method=='POST':\n",
        "    SEX=int(request.form.get('SEX'))\n",
        "    AGE=int(request.form.get('AGE'))\n",
        "    BSRS=int(request.form.get('BSRS'))\n",
        "    YDQ=int(request.form.get('YDQ'))\n",
        "    APGAR=int(request.form.get('APGAR'))\n",
        "    PRED=fun_predict(SEX,AGE,BSRS,YDQ,APGAR)\n",
        "  return render_template('index.html',title=title,SEX=SEX,AGE=AGE,BSRS=BSRS,YDQ=YDQ,APGAR=APGAR,PRED=PRED)\n",
        "\n",
        "##index()\n",
        "app.run()"
      ],
      "execution_count": null,
      "outputs": [
        {
          "output_type": "stream",
          "text": [
            " * Serving Flask app \"__main__\" (lazy loading)\n",
            " * Environment: production\n",
            "\u001b[31m   WARNING: This is a development server. Do not use it in a production deployment.\u001b[0m\n",
            "\u001b[2m   Use a production WSGI server instead.\u001b[0m\n",
            " * Debug mode: off\n"
          ],
          "name": "stdout"
        },
        {
          "output_type": "stream",
          "text": [
            " * Running on http://127.0.0.1:5000/ (Press CTRL+C to quit)\n"
          ],
          "name": "stderr"
        },
        {
          "output_type": "stream",
          "text": [
            " * Running on http://d76c49fe41f4.ngrok.io\n",
            " * Traffic stats available on http://127.0.0.1:4040\n"
          ],
          "name": "stdout"
        },
        {
          "output_type": "stream",
          "text": [
            "127.0.0.1 - - [24/Jul/2021 04:43:53] \"\u001b[37mGET / HTTP/1.1\u001b[0m\" 200 -\n",
            "127.0.0.1 - - [24/Jul/2021 04:43:54] \"\u001b[33mGET /favicon.ico HTTP/1.1\u001b[0m\" 404 -\n",
            "127.0.0.1 - - [24/Jul/2021 04:44:11] \"\u001b[37mPOST / HTTP/1.1\u001b[0m\" 200 -\n",
            "127.0.0.1 - - [24/Jul/2021 04:44:47] \"\u001b[37mPOST / HTTP/1.1\u001b[0m\" 200 -\n"
          ],
          "name": "stderr"
        }
      ]
    },
    {
      "cell_type": "code",
      "metadata": {
        "id": "X47two9e0j4b"
      },
      "source": [
        "  if request.method=='POST':\n",
        "    SEX=int(request.form.get('SEX'))\n",
        "    AGE=int(request.form.get('AGE'))\n",
        "    BSRS=int(request.form.get('BSRS'))\n",
        "    YDQ=int(request.form.get('YDQ'))\n",
        "    APGAR=int(request.form.get('APGAR'))\n",
        "    PRED=fun_predict(SEX,AGE,BSRS,YDQ,APGAR)"
      ],
      "execution_count": null,
      "outputs": []
    },
    {
      "cell_type": "markdown",
      "metadata": {
        "id": "caO1AesOiLxw"
      },
      "source": [
        "##以下空白##"
      ]
    },
    {
      "cell_type": "code",
      "metadata": {
        "colab": {
          "base_uri": "https://localhost:8080/"
        },
        "id": "ZViD6ZE6GiFc",
        "outputId": "b82834cf-a280-48d8-90a6-18cfd609fe4e"
      },
      "source": [
        "###單純只是show資料的flask網頁\n",
        "from flask_ngrok import run_with_ngrok\n",
        "###\n",
        "from flask import Flask, render_template, request\n",
        "app=Flask(__name__,template_folder='templates')\n",
        "####\n",
        "run_with_ngrok(app)\n",
        "####\n",
        "\n",
        "df=pd.read_csv('samples.csv')\n",
        "i=15\n",
        "\n",
        "@app.route('/',methods=['POST','GET'])\n",
        "def index():\n",
        "  title='指定筆數:'\n",
        "  ID=i\n",
        "  if request.method=='POST':\n",
        "    ID=int(request.form.get('ID'))\n",
        "  myDf=df.loc[ID][['年齡','性別','網路成癮分數YDQ','家庭滿意度apgar']]\n",
        "  AGE=myDf['年齡']\n",
        "  SEX=myDf['性別']\n",
        "  YDQ=myDf['網路成癮分數YDQ']\n",
        "  APGAR=myDf['家庭滿意度apgar']\n",
        "  return render_template('index.html',title=title,ID=ID,AGE=AGE,SEX=SEX,YDQ=YDQ,APGAR=APGAR)\n",
        "\n",
        "app.run()"
      ],
      "execution_count": null,
      "outputs": [
        {
          "output_type": "stream",
          "text": [
            " * Serving Flask app \"__main__\" (lazy loading)\n",
            " * Environment: production\n",
            "\u001b[31m   WARNING: This is a development server. Do not use it in a production deployment.\u001b[0m\n",
            "\u001b[2m   Use a production WSGI server instead.\u001b[0m\n",
            " * Debug mode: off\n"
          ],
          "name": "stdout"
        },
        {
          "output_type": "stream",
          "text": [
            " * Running on http://127.0.0.1:5000/ (Press CTRL+C to quit)\n"
          ],
          "name": "stderr"
        },
        {
          "output_type": "stream",
          "text": [
            " * Running on http://2cc20a614cce.ngrok.io\n",
            " * Traffic stats available on http://127.0.0.1:4040\n"
          ],
          "name": "stdout"
        },
        {
          "output_type": "stream",
          "text": [
            "127.0.0.1 - - [23/Jul/2021 13:10:32] \"\u001b[37mGET / HTTP/1.1\u001b[0m\" 200 -\n",
            "127.0.0.1 - - [23/Jul/2021 13:10:33] \"\u001b[33mGET /favicon.ico HTTP/1.1\u001b[0m\" 404 -\n",
            "127.0.0.1 - - [23/Jul/2021 13:10:38] \"\u001b[37mPOST / HTTP/1.1\u001b[0m\" 200 -\n",
            "[2021-07-23 13:10:46,342] ERROR in app: Exception on / [POST]\n",
            "Traceback (most recent call last):\n",
            "  File \"/usr/local/lib/python3.7/dist-packages/pandas/core/indexes/range.py\", line 355, in get_loc\n",
            "    return self._range.index(new_key)\n",
            "ValueError: 200 is not in range\n",
            "\n",
            "The above exception was the direct cause of the following exception:\n",
            "\n",
            "Traceback (most recent call last):\n",
            "  File \"/usr/local/lib/python3.7/dist-packages/flask/app.py\", line 2447, in wsgi_app\n",
            "    response = self.full_dispatch_request()\n",
            "  File \"/usr/local/lib/python3.7/dist-packages/flask/app.py\", line 1952, in full_dispatch_request\n",
            "    rv = self.handle_user_exception(e)\n",
            "  File \"/usr/local/lib/python3.7/dist-packages/flask/app.py\", line 1821, in handle_user_exception\n",
            "    reraise(exc_type, exc_value, tb)\n",
            "  File \"/usr/local/lib/python3.7/dist-packages/flask/_compat.py\", line 39, in reraise\n",
            "    raise value\n",
            "  File \"/usr/local/lib/python3.7/dist-packages/flask/app.py\", line 1950, in full_dispatch_request\n",
            "    rv = self.dispatch_request()\n",
            "  File \"/usr/local/lib/python3.7/dist-packages/flask/app.py\", line 1936, in dispatch_request\n",
            "    return self.view_functions[rule.endpoint](**req.view_args)\n",
            "  File \"<ipython-input-47-21b2f6bf1a89>\", line 19, in index\n",
            "    myDf=df.loc[ID][['年齡','性別','網路成癮分數YDQ','家庭滿意度apgar']]\n",
            "  File \"/usr/local/lib/python3.7/dist-packages/pandas/core/indexing.py\", line 879, in __getitem__\n",
            "    return self._getitem_axis(maybe_callable, axis=axis)\n",
            "  File \"/usr/local/lib/python3.7/dist-packages/pandas/core/indexing.py\", line 1110, in _getitem_axis\n",
            "    return self._get_label(key, axis=axis)\n",
            "  File \"/usr/local/lib/python3.7/dist-packages/pandas/core/indexing.py\", line 1059, in _get_label\n",
            "    return self.obj.xs(label, axis=axis)\n",
            "  File \"/usr/local/lib/python3.7/dist-packages/pandas/core/generic.py\", line 3493, in xs\n",
            "    loc = self.index.get_loc(key)\n",
            "  File \"/usr/local/lib/python3.7/dist-packages/pandas/core/indexes/range.py\", line 357, in get_loc\n",
            "    raise KeyError(key) from err\n",
            "KeyError: 200\n",
            "127.0.0.1 - - [23/Jul/2021 13:10:46] \"\u001b[35m\u001b[1mPOST / HTTP/1.1\u001b[0m\" 500 -\n",
            "127.0.0.1 - - [23/Jul/2021 13:10:56] \"\u001b[37mPOST / HTTP/1.1\u001b[0m\" 200 -\n",
            "[2021-07-23 13:11:04,661] ERROR in app: Exception on / [POST]\n",
            "Traceback (most recent call last):\n",
            "  File \"/usr/local/lib/python3.7/dist-packages/pandas/core/indexes/range.py\", line 355, in get_loc\n",
            "    return self._range.index(new_key)\n",
            "ValueError: 205 is not in range\n",
            "\n",
            "The above exception was the direct cause of the following exception:\n",
            "\n",
            "Traceback (most recent call last):\n",
            "  File \"/usr/local/lib/python3.7/dist-packages/flask/app.py\", line 2447, in wsgi_app\n",
            "    response = self.full_dispatch_request()\n",
            "  File \"/usr/local/lib/python3.7/dist-packages/flask/app.py\", line 1952, in full_dispatch_request\n",
            "    rv = self.handle_user_exception(e)\n",
            "  File \"/usr/local/lib/python3.7/dist-packages/flask/app.py\", line 1821, in handle_user_exception\n",
            "    reraise(exc_type, exc_value, tb)\n",
            "  File \"/usr/local/lib/python3.7/dist-packages/flask/_compat.py\", line 39, in reraise\n",
            "    raise value\n",
            "  File \"/usr/local/lib/python3.7/dist-packages/flask/app.py\", line 1950, in full_dispatch_request\n",
            "    rv = self.dispatch_request()\n",
            "  File \"/usr/local/lib/python3.7/dist-packages/flask/app.py\", line 1936, in dispatch_request\n",
            "    return self.view_functions[rule.endpoint](**req.view_args)\n",
            "  File \"<ipython-input-47-21b2f6bf1a89>\", line 19, in index\n",
            "    myDf=df.loc[ID][['年齡','性別','網路成癮分數YDQ','家庭滿意度apgar']]\n",
            "  File \"/usr/local/lib/python3.7/dist-packages/pandas/core/indexing.py\", line 879, in __getitem__\n",
            "    return self._getitem_axis(maybe_callable, axis=axis)\n",
            "  File \"/usr/local/lib/python3.7/dist-packages/pandas/core/indexing.py\", line 1110, in _getitem_axis\n",
            "    return self._get_label(key, axis=axis)\n",
            "  File \"/usr/local/lib/python3.7/dist-packages/pandas/core/indexing.py\", line 1059, in _get_label\n",
            "    return self.obj.xs(label, axis=axis)\n",
            "  File \"/usr/local/lib/python3.7/dist-packages/pandas/core/generic.py\", line 3493, in xs\n",
            "    loc = self.index.get_loc(key)\n",
            "  File \"/usr/local/lib/python3.7/dist-packages/pandas/core/indexes/range.py\", line 357, in get_loc\n",
            "    raise KeyError(key) from err\n",
            "KeyError: 205\n",
            "127.0.0.1 - - [23/Jul/2021 13:11:04] \"\u001b[35m\u001b[1mPOST / HTTP/1.1\u001b[0m\" 500 -\n",
            "127.0.0.1 - - [23/Jul/2021 13:11:11] \"\u001b[37mPOST / HTTP/1.1\u001b[0m\" 200 -\n"
          ],
          "name": "stderr"
        }
      ]
    },
    {
      "cell_type": "code",
      "metadata": {
        "colab": {
          "base_uri": "https://localhost:8080/"
        },
        "id": "mfqwzc1VG0Ue",
        "outputId": "286a0193-de05-45f7-dc77-26de616dd4d1"
      },
      "source": [
        "df=pd.read_csv('samples.csv')\n",
        "i=20\n",
        "myDf=df.loc[i][['年齡','性別','網路成癮分數YDQ','家庭滿意度apgar']]\n",
        "myDf['網路成癮分數YDQ']"
      ],
      "execution_count": null,
      "outputs": [
        {
          "output_type": "execute_result",
          "data": {
            "text/plain": [
              "1"
            ]
          },
          "metadata": {
            "tags": []
          },
          "execution_count": 17
        }
      ]
    },
    {
      "cell_type": "code",
      "metadata": {
        "colab": {
          "base_uri": "https://localhost:8080/"
        },
        "id": "-rWXEDmDLZz2",
        "outputId": "29500faa-a83e-4f85-c5f4-fd23f3218e4a"
      },
      "source": [
        "!zip -r /content/model_tf.zip  /content/model_tf/"
      ],
      "execution_count": 15,
      "outputs": [
        {
          "output_type": "stream",
          "text": [
            "  adding: content/model_tf/ (stored 0%)\n",
            "  adding: content/model_tf/variables/ (stored 0%)\n",
            "  adding: content/model_tf/variables/variables.index (deflated 66%)\n",
            "  adding: content/model_tf/variables/variables.data-00000-of-00001 (deflated 69%)\n",
            "  adding: content/model_tf/assets/ (stored 0%)\n",
            "  adding: content/model_tf/keras_metadata.pb (deflated 87%)\n",
            "  adding: content/model_tf/saved_model.pb (deflated 88%)\n"
          ],
          "name": "stdout"
        }
      ]
    }
  ]
}