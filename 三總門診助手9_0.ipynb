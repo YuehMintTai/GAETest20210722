{
  "nbformat": 4,
  "nbformat_minor": 0,
  "metadata": {
    "colab": {
      "name": "三總門診助手9.0.ipynb",
      "provenance": [],
      "authorship_tag": "ABX9TyPou3oeSZMIaLvHaLAbYano",
      "include_colab_link": true
    },
    "kernelspec": {
      "name": "python3",
      "display_name": "Python 3"
    },
    "language_info": {
      "name": "python"
    }
  },
  "cells": [
    {
      "cell_type": "markdown",
      "metadata": {
        "id": "view-in-github",
        "colab_type": "text"
      },
      "source": [
        "<a href=\"https://colab.research.google.com/github/YuehMintTai/GAETest20210722/blob/main/%E4%B8%89%E7%B8%BD%E9%96%80%E8%A8%BA%E5%8A%A9%E6%89%8B9_0.ipynb\" target=\"_parent\"><img src=\"https://colab.research.google.com/assets/colab-badge.svg\" alt=\"Open In Colab\"/></a>"
      ]
    },
    {
      "cell_type": "code",
      "metadata": {
        "colab": {
          "base_uri": "https://localhost:8080/"
        },
        "id": "r5uiF8CqOEhz",
        "outputId": "59361784-ec71-44ab-d5b5-7504c9a26730"
      },
      "source": [
        "!pip install flask_ngrok\n",
        "!pip install line-bot-sdk\n",
        "!pip install bs4\n",
        "!pip install requests"
      ],
      "execution_count": 2,
      "outputs": [
        {
          "output_type": "stream",
          "name": "stdout",
          "text": [
            "Collecting flask_ngrok\n",
            "  Downloading flask_ngrok-0.0.25-py3-none-any.whl (3.1 kB)\n",
            "Requirement already satisfied: Flask>=0.8 in /usr/local/lib/python3.7/dist-packages (from flask_ngrok) (1.1.4)\n",
            "Requirement already satisfied: requests in /usr/local/lib/python3.7/dist-packages (from flask_ngrok) (2.23.0)\n",
            "Requirement already satisfied: itsdangerous<2.0,>=0.24 in /usr/local/lib/python3.7/dist-packages (from Flask>=0.8->flask_ngrok) (1.1.0)\n",
            "Requirement already satisfied: Jinja2<3.0,>=2.10.1 in /usr/local/lib/python3.7/dist-packages (from Flask>=0.8->flask_ngrok) (2.11.3)\n",
            "Requirement already satisfied: Werkzeug<2.0,>=0.15 in /usr/local/lib/python3.7/dist-packages (from Flask>=0.8->flask_ngrok) (1.0.1)\n",
            "Requirement already satisfied: click<8.0,>=5.1 in /usr/local/lib/python3.7/dist-packages (from Flask>=0.8->flask_ngrok) (7.1.2)\n",
            "Requirement already satisfied: MarkupSafe>=0.23 in /usr/local/lib/python3.7/dist-packages (from Jinja2<3.0,>=2.10.1->Flask>=0.8->flask_ngrok) (2.0.1)\n",
            "Requirement already satisfied: chardet<4,>=3.0.2 in /usr/local/lib/python3.7/dist-packages (from requests->flask_ngrok) (3.0.4)\n",
            "Requirement already satisfied: idna<3,>=2.5 in /usr/local/lib/python3.7/dist-packages (from requests->flask_ngrok) (2.10)\n",
            "Requirement already satisfied: urllib3!=1.25.0,!=1.25.1,<1.26,>=1.21.1 in /usr/local/lib/python3.7/dist-packages (from requests->flask_ngrok) (1.24.3)\n",
            "Requirement already satisfied: certifi>=2017.4.17 in /usr/local/lib/python3.7/dist-packages (from requests->flask_ngrok) (2021.5.30)\n",
            "Installing collected packages: flask-ngrok\n",
            "Successfully installed flask-ngrok-0.0.25\n",
            "Collecting line-bot-sdk\n",
            "  Downloading line_bot_sdk-1.20.0-py2.py3-none-any.whl (72 kB)\n",
            "\u001b[K     |████████████████████████████████| 72 kB 539 kB/s \n",
            "\u001b[?25hRequirement already satisfied: future in /usr/local/lib/python3.7/dist-packages (from line-bot-sdk) (0.16.0)\n",
            "Requirement already satisfied: requests>=2.0 in /usr/local/lib/python3.7/dist-packages (from line-bot-sdk) (2.23.0)\n",
            "Requirement already satisfied: urllib3!=1.25.0,!=1.25.1,<1.26,>=1.21.1 in /usr/local/lib/python3.7/dist-packages (from requests>=2.0->line-bot-sdk) (1.24.3)\n",
            "Requirement already satisfied: chardet<4,>=3.0.2 in /usr/local/lib/python3.7/dist-packages (from requests>=2.0->line-bot-sdk) (3.0.4)\n",
            "Requirement already satisfied: certifi>=2017.4.17 in /usr/local/lib/python3.7/dist-packages (from requests>=2.0->line-bot-sdk) (2021.5.30)\n",
            "Requirement already satisfied: idna<3,>=2.5 in /usr/local/lib/python3.7/dist-packages (from requests>=2.0->line-bot-sdk) (2.10)\n",
            "Installing collected packages: line-bot-sdk\n",
            "Successfully installed line-bot-sdk-1.20.0\n",
            "Requirement already satisfied: bs4 in /usr/local/lib/python3.7/dist-packages (0.0.1)\n",
            "Requirement already satisfied: beautifulsoup4 in /usr/local/lib/python3.7/dist-packages (from bs4) (4.6.3)\n",
            "Requirement already satisfied: requests in /usr/local/lib/python3.7/dist-packages (2.23.0)\n",
            "Requirement already satisfied: urllib3!=1.25.0,!=1.25.1,<1.26,>=1.21.1 in /usr/local/lib/python3.7/dist-packages (from requests) (1.24.3)\n",
            "Requirement already satisfied: chardet<4,>=3.0.2 in /usr/local/lib/python3.7/dist-packages (from requests) (3.0.4)\n",
            "Requirement already satisfied: idna<3,>=2.5 in /usr/local/lib/python3.7/dist-packages (from requests) (2.10)\n",
            "Requirement already satisfied: certifi>=2017.4.17 in /usr/local/lib/python3.7/dist-packages (from requests) (2021.5.30)\n"
          ]
        }
      ]
    },
    {
      "cell_type": "code",
      "metadata": {
        "id": "BZG2drydNDuf"
      },
      "source": [
        "from linebot.models import *\n",
        "from bs4 import BeautifulSoup\n",
        "import requests\n"
      ],
      "execution_count": 3,
      "outputs": []
    },
    {
      "cell_type": "code",
      "metadata": {
        "id": "S67cxHbWPxp-"
      },
      "source": [
        "def myBubble_Drs(k):\n",
        "  DrsContent=[]\n",
        "  target_url='https://wwwv.tsgh.ndmctsgh.edu.tw/Doclist/194/30000/25075' \n",
        "  responses=requests.get(target_url)\n",
        "  soup=BeautifulSoup(responses.text,'html.parser')\n",
        "  myDivs=soup.find_all('div',{'class':'col-xs-12 col-md-12'})\n",
        "  myTitle=myDivs[k].find('h3').contents[0].strip() ##i科\n",
        "  for i, tag in enumerate(myDivs[k].find_all('a')):\n",
        "      myButton=ButtonComponent(style='link',height='sm',\n",
        "      action=URIAction(label=tag.contents[0].strip(),uri='https://wwwv.tsgh.ndmctsgh.edu.tw/'+tag.get('href')))\n",
        "      DrsContent.append(myButton)\n",
        "  myBubble_Drs=FlexSendMessage(\n",
        "      alt_text=myTitle,\n",
        "      contents=BubbleContainer(\n",
        "        direction='ltr',\n",
        "        hero=ImageComponent(\n",
        "            url='https://encrypted-tbn0.gstatic.com/images?q=tbn:ANd9GcSblvaiDh5qhGVMEjT-5H6VDWuezc4mXvtogQ&usqp=CAU',\n",
        "            size='full',\n",
        "            aspect_ratio='20:13',\n",
        "            aspect_mode='fit',\n",
        "            action=actions.URIAction(uri='https://wwwv.tsgh.ndmctsgh.edu.tw/Doclist/194/30000/25075',label='醫師查詢')\n",
        "        ),\n",
        "        body=BoxComponent(\n",
        "            layout='vertical',\n",
        "            contents=[TextComponent(text=myTitle+'醫師查詢',weight='bold',size='lg',align='center')]),\n",
        "        footer=BoxComponent(\n",
        "            layout='vertical',spacing='sm',\n",
        "            contents=DrsContent\n",
        "        )\n",
        "        ))\n",
        "  return myBubble_Drs"
      ],
      "execution_count": 4,
      "outputs": []
    },
    {
      "cell_type": "code",
      "metadata": {
        "colab": {
          "base_uri": "https://localhost:8080/",
          "height": 35
        },
        "id": "g0Dlky2TP1Sm",
        "outputId": "00686d76-a776-47a7-fd2b-d1dd869d60f3"
      },
      "source": [
        "target_url='https://wwwv.tsgh.ndmctsgh.edu.tw/Doclist/194/30000/25075' \n",
        "responses=requests.get(target_url)\n",
        "soup=BeautifulSoup(responses.text,'html.parser')\n",
        "myDivs=soup.find_all('div',{'class':'col-xs-12 col-md-12'})\n",
        "##myTitle=myDivs[1].find('h3').contents[0].strip() ##i科\n",
        "##myTitle\n",
        "myDivs[0].find('h2').contents[0]"
      ],
      "execution_count": 12,
      "outputs": [
        {
          "output_type": "execute_result",
          "data": {
            "application/vnd.google.colaboratory.intrinsic+json": {
              "type": "string"
            },
            "text/plain": [
              "'藥癮科'"
            ]
          },
          "metadata": {},
          "execution_count": 12
        }
      ]
    },
    {
      "cell_type": "code",
      "metadata": {
        "colab": {
          "base_uri": "https://localhost:8080/"
        },
        "id": "mMQPouu5S9VS",
        "outputId": "0454c950-d03f-415e-dd23-4c993592ea35"
      },
      "source": [
        "from flask_ngrok import (run_with_ngrok)\n",
        "from flask import (Flask, request, abort)\n",
        "from linebot import (LineBotApi, WebhookHandler)\n",
        "from linebot.exceptions import (InvalidSignatureError)\n",
        "from linebot.models import *\n",
        "from linebot.models.flex_message import (BubbleContainer, IconComponent)\n",
        "from linebot.models.actions import URIAction\n",
        "\n",
        "from flask import (Flask, request, abort)\n",
        "from linebot import (LineBotApi, WebhookHandler)\n",
        "from linebot.exceptions import (InvalidSignatureError)\n",
        "from linebot.models import *\n",
        "from linebot.models.flex_message import (BubbleContainer, IconComponent)\n",
        "from linebot.models.actions import URIAction\n",
        "from bs4 import BeautifulSoup\n",
        "import requests\n",
        "import OPDAid9_SN\n",
        "import re\n",
        "import myBubbles\n",
        "import myBubbles2\n",
        "import myBubbles3\n",
        "\n",
        "app=Flask(__name__)\n",
        "run_with_ngrok(app)\n",
        "\n",
        "line_bot_api=LineBotApi(OPDAid9_SN.myLineBotApi)\n",
        "handler=WebhookHandler(OPDAid9_SN.myWebhookHandler)\n",
        "myID=OPDAid9_SN.myUserID\n",
        "\n",
        "def myBubble_Drs(k):\n",
        "  DrsContent=[]\n",
        "  target_url='https://wwwv.tsgh.ndmctsgh.edu.tw/Doclist/194/30000/25075' \n",
        "  responses=requests.get(target_url)\n",
        "  soup=BeautifulSoup(responses.text,'html.parser')\n",
        "  myDivs=soup.find_all('div',{'class':'col-xs-12 col-md-12'})\n",
        "  myTitle=myDivs[k].find('h2').contents[0].strip() ##i科\n",
        "  for i, tag in enumerate(myDivs[k].find_all('a')):\n",
        "      myButton=ButtonComponent(style='link',height='sm',\n",
        "      action=URIAction(label=tag.contents[0].strip(),uri='https://wwwv.tsgh.ndmctsgh.edu.tw/'+tag.get('href')))\n",
        "      DrsContent.append(myButton)\n",
        "  myBubble_Drs=FlexSendMessage(\n",
        "      alt_text=myTitle,\n",
        "      contents=BubbleContainer(\n",
        "        direction='ltr',\n",
        "        hero=ImageComponent(\n",
        "            url='https://encrypted-tbn0.gstatic.com/images?q=tbn:ANd9GcSblvaiDh5qhGVMEjT-5H6VDWuezc4mXvtogQ&usqp=CAU',\n",
        "            size='full',\n",
        "            aspect_ratio='20:13',\n",
        "            aspect_mode='fit',\n",
        "            action=actions.URIAction(uri='https://wwwv.tsgh.ndmctsgh.edu.tw/Doclist/194/30000/25075',label='醫師查詢')\n",
        "        ),\n",
        "        body=BoxComponent(\n",
        "            layout='vertical',\n",
        "            contents=[TextComponent(text=myTitle+'醫師查詢',weight='bold',size='lg',align='center')]),\n",
        "        footer=BoxComponent(\n",
        "            layout='vertical',spacing='sm',\n",
        "            contents=DrsContent\n",
        "        )\n",
        "        ))\n",
        "  return myBubble_Drs\n",
        "\n",
        "@app.route('/')\n",
        "def index():\n",
        "  return '歡迎使用三總北投門診助手9.0'\n",
        "\n",
        "@app.route('/callback',methods=['POST'])\n",
        "def callback():\n",
        "  signature=request.headers['X-Line-Signature']\n",
        "  body=request.get_data(as_text=True)\n",
        "  try:\n",
        "    handler.handle(body,signature)\n",
        "  except InvalidSignatureError:\n",
        "    abort(400)\n",
        "  return 'OK'\n",
        "\n",
        "@handler.add(MessageEvent,message=TextMessage)\n",
        "def handle_message(event):\n",
        "  message=text=event.message.text\n",
        "\n",
        "  if re.match('門診時間',message):\n",
        "    line_bot_api.reply_message(event.reply_token, FlexSendMessage(alt_text=message,contents=myBubbles.myBubble_OPD1()))\n",
        "  elif re.match('費用查詢',message):\n",
        "    line_bot_api.reply_message(event.reply_token, FlexSendMessage(alt_text=message,contents=myBubbles.myBubble_Fee()))\n",
        "  elif re.match('重大公告',message):\n",
        "    line_bot_api.reply_message(event.reply_token, FlexSendMessage(alt_text=message,contents=myBubbles.myBubble_News()))\n",
        "  elif re.match('院長',message):\n",
        "    line_bot_api.reply_message(event.reply_token, myBubbles2.myBubble_dir())\n",
        "  elif re.match('副院長',message):\n",
        "    line_bot_api.reply_message(event.reply_token, myBubbles2.myBubble_vdir())\n",
        "  elif re.match('醫療部主任',message):\n",
        "    line_bot_api.reply_message(event.reply_token, myBubbles2.myBubble_head())\n",
        "  elif re.match('藥癮科',message):\n",
        "    line_bot_api.reply_message(event.reply_token, myBubble_Drs(0))\n",
        "  elif re.match('心身精神科',message):\n",
        "    line_bot_api.reply_message(event.reply_token, myBubble_Drs(1))\n",
        "  elif re.match('老人精神科',message):\n",
        "    line_bot_api.reply_message(event.reply_token, myBubble_Drs(2))\n",
        "  elif re.match('神經精神科',message):\n",
        "    line_bot_api.reply_message(event.reply_token, myBubble_Drs(3))\n",
        "  elif re.match('軍陣精神科',message):\n",
        "    line_bot_api.reply_message(event.reply_token, myBubble_Drs(4))\n",
        "  elif re.match('兒青科',message):\n",
        "    line_bot_api.reply_message(event.reply_token, myBubble_Drs(7))\n",
        "  elif re.match('社區精神科',message):\n",
        "    line_bot_api.reply_message(event.reply_token, myBubble_Drs(6))\n",
        "  elif re.match('家醫科/牙科',message):\n",
        "    line_bot_api.reply_message(event.reply_token, myBubble_Drs(8))\n",
        "  elif re.match('門診兼任醫師',message):\n",
        "    line_bot_api.reply_message(event.reply_token, myBubble_Drs(9))\n",
        "  elif re.match('成人精神科',message):\n",
        "    line_bot_api.reply_message(event.reply_token, myBubble_Drs(5))\n",
        "  else:\n",
        "    line_bot_api.push_message(myID,FlexSendMessage(alt_text='你好',contents=myBubbles.myBubble_greeting()))\n",
        "\n",
        "app.run()"
      ],
      "execution_count": 17,
      "outputs": [
        {
          "output_type": "stream",
          "name": "stdout",
          "text": [
            " * Serving Flask app \"__main__\" (lazy loading)\n",
            " * Environment: production\n",
            "\u001b[31m   WARNING: This is a development server. Do not use it in a production deployment.\u001b[0m\n",
            "\u001b[2m   Use a production WSGI server instead.\u001b[0m\n",
            " * Debug mode: off\n"
          ]
        },
        {
          "output_type": "stream",
          "name": "stderr",
          "text": [
            " * Running on http://127.0.0.1:5000/ (Press CTRL+C to quit)\n"
          ]
        },
        {
          "output_type": "stream",
          "name": "stdout",
          "text": [
            " * Running on http://f44a-34-83-123-238.ngrok.io\n",
            " * Traffic stats available on http://127.0.0.1:4040\n"
          ]
        },
        {
          "output_type": "stream",
          "name": "stderr",
          "text": [
            "127.0.0.1 - - [21/Oct/2021 14:48:47] \"\u001b[37mGET / HTTP/1.1\u001b[0m\" 200 -\n",
            "127.0.0.1 - - [21/Oct/2021 14:48:48] \"\u001b[33mGET /favicon.ico HTTP/1.1\u001b[0m\" 404 -\n",
            "127.0.0.1 - - [21/Oct/2021 14:50:01] \"\u001b[37mPOST /callback HTTP/1.1\u001b[0m\" 200 -\n",
            "127.0.0.1 - - [21/Oct/2021 14:50:02] \"\u001b[37mPOST /callback HTTP/1.1\u001b[0m\" 200 -\n",
            "127.0.0.1 - - [21/Oct/2021 14:50:05] \"\u001b[37mPOST /callback HTTP/1.1\u001b[0m\" 200 -\n"
          ]
        }
      ]
    },
    {
      "cell_type": "code",
      "metadata": {
        "id": "B1qJ5W6gTxwb"
      },
      "source": [
        "def myBubble_Drs(k):\n",
        "  DrsContent=[]\n",
        "  target_url='https://wwwv.tsgh.ndmctsgh.edu.tw/Doclist/194/30000/25075' \n",
        "  responses=requests.get(target_url)\n",
        "  soup=BeautifulSoup(responses.text,'html.parser')\n",
        "  myDivs=soup.find_all('div',{'class':'col-xs-12 col-md-12'})\n",
        "  myTitle=myDivs[k].find('h2').contents[0].strip() ##i科\n",
        "  for i, tag in enumerate(myDivs[k].find_all('a')):\n",
        "      myButton=ButtonComponent(style='link',height='sm',\n",
        "      action=URIAction(label=tag.contents[0].strip(),uri='https://wwwv.tsgh.ndmctsgh.edu.tw/'+tag.get('href')))\n",
        "      DrsContent.append(myButton)\n",
        "  myBubble_Drs=FlexSendMessage(\n",
        "      alt_text=myTitle,\n",
        "      contents=BubbleContainer(\n",
        "        direction='ltr',\n",
        "        hero=ImageComponent(\n",
        "            url='https://encrypted-tbn0.gstatic.com/images?q=tbn:ANd9GcSblvaiDh5qhGVMEjT-5H6VDWuezc4mXvtogQ&usqp=CAU',\n",
        "            size='full',\n",
        "            aspect_ratio='20:13',\n",
        "            aspect_mode='fit',\n",
        "            action=actions.URIAction(uri='https://wwwv.tsgh.ndmctsgh.edu.tw/Doclist/194/30000/25075',label='醫師查詢')\n",
        "        ),\n",
        "        body=BoxComponent(\n",
        "            layout='vertical',\n",
        "            contents=[TextComponent(text=myTitle+'醫師查詢',weight='bold',size='lg',align='center')]),\n",
        "        footer=BoxComponent(\n",
        "            layout='vertical',spacing='sm',\n",
        "            contents=DrsContent\n",
        "        )\n",
        "        ))\n",
        "  return myBubble_Drs"
      ],
      "execution_count": 14,
      "outputs": []
    }
  ]
}