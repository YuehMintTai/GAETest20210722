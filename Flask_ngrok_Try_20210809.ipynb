{
  "nbformat": 4,
  "nbformat_minor": 0,
  "metadata": {
    "colab": {
      "name": "Flask_ngrok_Try_20210809.ipynb",
      "provenance": [],
      "authorship_tag": "ABX9TyOXeaJE4VyY8q1lNK0by7jP",
      "include_colab_link": true
    },
    "kernelspec": {
      "name": "python3",
      "display_name": "Python 3"
    },
    "language_info": {
      "name": "python"
    }
  },
  "cells": [
    {
      "cell_type": "markdown",
      "metadata": {
        "id": "view-in-github",
        "colab_type": "text"
      },
      "source": [
        "<a href=\"https://colab.research.google.com/github/YuehMintTai/GAETest20210722/blob/main/Flask_ngrok_Try_20210809.ipynb\" target=\"_parent\"><img src=\"https://colab.research.google.com/assets/colab-badge.svg\" alt=\"Open In Colab\"/></a>"
      ]
    },
    {
      "cell_type": "code",
      "metadata": {
        "colab": {
          "base_uri": "https://localhost:8080/"
        },
        "id": "AoP3qMGBprLx",
        "outputId": "fc1e1576-c0b1-44c1-dc02-dfa695344b20"
      },
      "source": [
        "!pip install flask_ngrok"
      ],
      "execution_count": 1,
      "outputs": [
        {
          "output_type": "stream",
          "text": [
            "Collecting flask_ngrok\n",
            "  Downloading flask_ngrok-0.0.25-py3-none-any.whl (3.1 kB)\n",
            "Requirement already satisfied: requests in /usr/local/lib/python3.7/dist-packages (from flask_ngrok) (2.23.0)\n",
            "Requirement already satisfied: Flask>=0.8 in /usr/local/lib/python3.7/dist-packages (from flask_ngrok) (1.1.4)\n",
            "Requirement already satisfied: itsdangerous<2.0,>=0.24 in /usr/local/lib/python3.7/dist-packages (from Flask>=0.8->flask_ngrok) (1.1.0)\n",
            "Requirement already satisfied: Jinja2<3.0,>=2.10.1 in /usr/local/lib/python3.7/dist-packages (from Flask>=0.8->flask_ngrok) (2.11.3)\n",
            "Requirement already satisfied: Werkzeug<2.0,>=0.15 in /usr/local/lib/python3.7/dist-packages (from Flask>=0.8->flask_ngrok) (1.0.1)\n",
            "Requirement already satisfied: click<8.0,>=5.1 in /usr/local/lib/python3.7/dist-packages (from Flask>=0.8->flask_ngrok) (7.1.2)\n",
            "Requirement already satisfied: MarkupSafe>=0.23 in /usr/local/lib/python3.7/dist-packages (from Jinja2<3.0,>=2.10.1->Flask>=0.8->flask_ngrok) (2.0.1)\n",
            "Requirement already satisfied: urllib3!=1.25.0,!=1.25.1,<1.26,>=1.21.1 in /usr/local/lib/python3.7/dist-packages (from requests->flask_ngrok) (1.24.3)\n",
            "Requirement already satisfied: chardet<4,>=3.0.2 in /usr/local/lib/python3.7/dist-packages (from requests->flask_ngrok) (3.0.4)\n",
            "Requirement already satisfied: idna<3,>=2.5 in /usr/local/lib/python3.7/dist-packages (from requests->flask_ngrok) (2.10)\n",
            "Requirement already satisfied: certifi>=2017.4.17 in /usr/local/lib/python3.7/dist-packages (from requests->flask_ngrok) (2021.5.30)\n",
            "Installing collected packages: flask-ngrok\n",
            "Successfully installed flask-ngrok-0.0.25\n"
          ],
          "name": "stdout"
        }
      ]
    },
    {
      "cell_type": "code",
      "metadata": {
        "colab": {
          "base_uri": "https://localhost:8080/"
        },
        "id": "AFm558GWxaMZ",
        "outputId": "c211959e-ead5-4b63-fb62-8d1e4aa402b2"
      },
      "source": [
        "!pip install flask-login"
      ],
      "execution_count": 2,
      "outputs": [
        {
          "output_type": "stream",
          "text": [
            "Collecting flask-login\n",
            "  Downloading Flask_Login-0.5.0-py2.py3-none-any.whl (16 kB)\n",
            "Requirement already satisfied: Flask in /usr/local/lib/python3.7/dist-packages (from flask-login) (1.1.4)\n",
            "Requirement already satisfied: Werkzeug<2.0,>=0.15 in /usr/local/lib/python3.7/dist-packages (from Flask->flask-login) (1.0.1)\n",
            "Requirement already satisfied: itsdangerous<2.0,>=0.24 in /usr/local/lib/python3.7/dist-packages (from Flask->flask-login) (1.1.0)\n",
            "Requirement already satisfied: click<8.0,>=5.1 in /usr/local/lib/python3.7/dist-packages (from Flask->flask-login) (7.1.2)\n",
            "Requirement already satisfied: Jinja2<3.0,>=2.10.1 in /usr/local/lib/python3.7/dist-packages (from Flask->flask-login) (2.11.3)\n",
            "Requirement already satisfied: MarkupSafe>=0.23 in /usr/local/lib/python3.7/dist-packages (from Jinja2<3.0,>=2.10.1->Flask->flask-login) (2.0.1)\n",
            "Installing collected packages: flask-login\n",
            "Successfully installed flask-login-0.5.0\n"
          ],
          "name": "stdout"
        }
      ]
    },
    {
      "cell_type": "code",
      "metadata": {
        "id": "EdBo0gf3x7C6",
        "colab": {
          "base_uri": "https://localhost:8080/"
        },
        "outputId": "82ff5f9a-1467-4ad3-f9ac-637cdb528444"
      },
      "source": [
        "!pip install flask-bootstrap"
      ],
      "execution_count": 3,
      "outputs": [
        {
          "output_type": "stream",
          "text": [
            "Collecting flask-bootstrap\n",
            "  Downloading Flask-Bootstrap-3.3.7.1.tar.gz (456 kB)\n",
            "\u001b[?25l\r\u001b[K     |▊                               | 10 kB 22.5 MB/s eta 0:00:01\r\u001b[K     |█▍                              | 20 kB 25.8 MB/s eta 0:00:01\r\u001b[K     |██▏                             | 30 kB 18.9 MB/s eta 0:00:01\r\u001b[K     |██▉                             | 40 kB 12.8 MB/s eta 0:00:01\r\u001b[K     |███▋                            | 51 kB 5.8 MB/s eta 0:00:01\r\u001b[K     |████▎                           | 61 kB 5.9 MB/s eta 0:00:01\r\u001b[K     |█████                           | 71 kB 5.6 MB/s eta 0:00:01\r\u001b[K     |█████▊                          | 81 kB 6.3 MB/s eta 0:00:01\r\u001b[K     |██████▌                         | 92 kB 6.0 MB/s eta 0:00:01\r\u001b[K     |███████▏                        | 102 kB 5.4 MB/s eta 0:00:01\r\u001b[K     |████████                        | 112 kB 5.4 MB/s eta 0:00:01\r\u001b[K     |████████▋                       | 122 kB 5.4 MB/s eta 0:00:01\r\u001b[K     |█████████▍                      | 133 kB 5.4 MB/s eta 0:00:01\r\u001b[K     |██████████                      | 143 kB 5.4 MB/s eta 0:00:01\r\u001b[K     |██████████▊                     | 153 kB 5.4 MB/s eta 0:00:01\r\u001b[K     |███████████▌                    | 163 kB 5.4 MB/s eta 0:00:01\r\u001b[K     |████████████▏                   | 174 kB 5.4 MB/s eta 0:00:01\r\u001b[K     |█████████████                   | 184 kB 5.4 MB/s eta 0:00:01\r\u001b[K     |█████████████▋                  | 194 kB 5.4 MB/s eta 0:00:01\r\u001b[K     |██████████████▍                 | 204 kB 5.4 MB/s eta 0:00:01\r\u001b[K     |███████████████                 | 215 kB 5.4 MB/s eta 0:00:01\r\u001b[K     |███████████████▉                | 225 kB 5.4 MB/s eta 0:00:01\r\u001b[K     |████████████████▌               | 235 kB 5.4 MB/s eta 0:00:01\r\u001b[K     |█████████████████▎              | 245 kB 5.4 MB/s eta 0:00:01\r\u001b[K     |██████████████████              | 256 kB 5.4 MB/s eta 0:00:01\r\u001b[K     |██████████████████▊             | 266 kB 5.4 MB/s eta 0:00:01\r\u001b[K     |███████████████████▍            | 276 kB 5.4 MB/s eta 0:00:01\r\u001b[K     |████████████████████            | 286 kB 5.4 MB/s eta 0:00:01\r\u001b[K     |████████████████████▉           | 296 kB 5.4 MB/s eta 0:00:01\r\u001b[K     |█████████████████████▌          | 307 kB 5.4 MB/s eta 0:00:01\r\u001b[K     |██████████████████████▎         | 317 kB 5.4 MB/s eta 0:00:01\r\u001b[K     |███████████████████████         | 327 kB 5.4 MB/s eta 0:00:01\r\u001b[K     |███████████████████████▊        | 337 kB 5.4 MB/s eta 0:00:01\r\u001b[K     |████████████████████████▍       | 348 kB 5.4 MB/s eta 0:00:01\r\u001b[K     |█████████████████████████▏      | 358 kB 5.4 MB/s eta 0:00:01\r\u001b[K     |█████████████████████████▉      | 368 kB 5.4 MB/s eta 0:00:01\r\u001b[K     |██████████████████████████▋     | 378 kB 5.4 MB/s eta 0:00:01\r\u001b[K     |███████████████████████████▎    | 389 kB 5.4 MB/s eta 0:00:01\r\u001b[K     |████████████████████████████    | 399 kB 5.4 MB/s eta 0:00:01\r\u001b[K     |████████████████████████████▊   | 409 kB 5.4 MB/s eta 0:00:01\r\u001b[K     |█████████████████████████████▍  | 419 kB 5.4 MB/s eta 0:00:01\r\u001b[K     |██████████████████████████████▏ | 430 kB 5.4 MB/s eta 0:00:01\r\u001b[K     |██████████████████████████████▉ | 440 kB 5.4 MB/s eta 0:00:01\r\u001b[K     |███████████████████████████████▋| 450 kB 5.4 MB/s eta 0:00:01\r\u001b[K     |████████████████████████████████| 456 kB 5.4 MB/s \n",
            "\u001b[?25hRequirement already satisfied: Flask>=0.8 in /usr/local/lib/python3.7/dist-packages (from flask-bootstrap) (1.1.4)\n",
            "Collecting dominate\n",
            "  Downloading dominate-2.6.0-py2.py3-none-any.whl (29 kB)\n",
            "Collecting visitor\n",
            "  Downloading visitor-0.1.3.tar.gz (3.3 kB)\n",
            "Requirement already satisfied: Jinja2<3.0,>=2.10.1 in /usr/local/lib/python3.7/dist-packages (from Flask>=0.8->flask-bootstrap) (2.11.3)\n",
            "Requirement already satisfied: Werkzeug<2.0,>=0.15 in /usr/local/lib/python3.7/dist-packages (from Flask>=0.8->flask-bootstrap) (1.0.1)\n",
            "Requirement already satisfied: itsdangerous<2.0,>=0.24 in /usr/local/lib/python3.7/dist-packages (from Flask>=0.8->flask-bootstrap) (1.1.0)\n",
            "Requirement already satisfied: click<8.0,>=5.1 in /usr/local/lib/python3.7/dist-packages (from Flask>=0.8->flask-bootstrap) (7.1.2)\n",
            "Requirement already satisfied: MarkupSafe>=0.23 in /usr/local/lib/python3.7/dist-packages (from Jinja2<3.0,>=2.10.1->Flask>=0.8->flask-bootstrap) (2.0.1)\n",
            "Building wheels for collected packages: flask-bootstrap, visitor\n",
            "  Building wheel for flask-bootstrap (setup.py) ... \u001b[?25l\u001b[?25hdone\n",
            "  Created wheel for flask-bootstrap: filename=Flask_Bootstrap-3.3.7.1-py3-none-any.whl size=460123 sha256=96db2efa23ce2bf59ef20633b2c8be04258fd0cdb3876a392f8a4b135a4c1de9\n",
            "  Stored in directory: /root/.cache/pip/wheels/67/a2/d6/50d039c9b59b4caca6d7b53839c8100354a52ab7553d2456eb\n",
            "  Building wheel for visitor (setup.py) ... \u001b[?25l\u001b[?25hdone\n",
            "  Created wheel for visitor: filename=visitor-0.1.3-py3-none-any.whl size=3943 sha256=a883ea6e0a8723acfddcb5074d7c26ae8f321256e84ab23186423bc2c2fbf2b7\n",
            "  Stored in directory: /root/.cache/pip/wheels/64/34/11/053f47218984c9a31a00f911ed98dda036b867481dcc527a12\n",
            "Successfully built flask-bootstrap visitor\n",
            "Installing collected packages: visitor, dominate, flask-bootstrap\n",
            "Successfully installed dominate-2.6.0 flask-bootstrap-3.3.7.1 visitor-0.1.3\n"
          ],
          "name": "stdout"
        }
      ]
    },
    {
      "cell_type": "code",
      "metadata": {
        "colab": {
          "base_uri": "https://localhost:8080/"
        },
        "id": "3RbsNNKr7cuh",
        "outputId": "e75489f7-2a77-40cf-cb09-7e31fc950648"
      },
      "source": [
        "##Try flask-bootstrap\n",
        "\n",
        "from flask_ngrok import run_with_ngrok\n",
        "from flask import Flask, render_template\n",
        "from flask_bootstrap import Bootstrap\n",
        "\n",
        "app=Flask(__name__)\n",
        "bootstrap=Bootstrap(app)\n",
        "run_with_ngrok(app)\n",
        "\n",
        "@app.route('/',methods=['POST','GET'])\n",
        "def index():\n",
        "  ##return render_template('index.html')\n",
        "  return '''\n",
        "    <form  method='POST'>\n",
        "     <input type='text' name='email' id='email' placeholder='email'/> <br>\n",
        "     <input type='password' name='password' id='password' placeholder='password'/><br>\n",
        "     <input type='submit' name='submit'/>\n",
        "     </form>                  \n",
        "    '''\n",
        "app.run()"
      ],
      "execution_count": 7,
      "outputs": [
        {
          "output_type": "stream",
          "text": [
            " * Serving Flask app \"__main__\" (lazy loading)\n",
            " * Environment: production\n",
            "\u001b[31m   WARNING: This is a development server. Do not use it in a production deployment.\u001b[0m\n",
            "\u001b[2m   Use a production WSGI server instead.\u001b[0m\n",
            " * Debug mode: off\n"
          ],
          "name": "stdout"
        },
        {
          "output_type": "stream",
          "text": [
            " * Running on http://127.0.0.1:5000/ (Press CTRL+C to quit)\n"
          ],
          "name": "stderr"
        },
        {
          "output_type": "stream",
          "text": [
            " * Running on http://cf0503a391ff.ngrok.io\n",
            " * Traffic stats available on http://127.0.0.1:4040\n"
          ],
          "name": "stdout"
        },
        {
          "output_type": "stream",
          "text": [
            "127.0.0.1 - - [09/Aug/2021 15:10:14] \"\u001b[37mGET / HTTP/1.1\u001b[0m\" 200 -\n",
            "127.0.0.1 - - [09/Aug/2021 15:10:14] \"\u001b[33mGET /favicon.ico HTTP/1.1\u001b[0m\" 404 -\n",
            "127.0.0.1 - - [09/Aug/2021 15:10:16] \"\u001b[37mPOST / HTTP/1.1\u001b[0m\" 200 -\n",
            "127.0.0.1 - - [09/Aug/2021 15:10:18] \"\u001b[37mPOST / HTTP/1.1\u001b[0m\" 200 -\n",
            "127.0.0.1 - - [09/Aug/2021 15:10:24] \"\u001b[37mPOST / HTTP/1.1\u001b[0m\" 200 -\n"
          ],
          "name": "stderr"
        }
      ]
    },
    {
      "cell_type": "code",
      "metadata": {
        "colab": {
          "base_uri": "https://localhost:8080/"
        },
        "id": "XNLphPftp2Qq",
        "outputId": "d88fbc01-25fb-4fa6-bb1e-3d067b559746"
      },
      "source": [
        "##Try flask-login\n",
        "\n",
        "from flask_ngrok import run_with_ngrok\n",
        "from flask import Flask, render_template, request, redirect, url_for\n",
        "from flask_login import LoginManager, UserMixin, login_user, current_user,login_required, logout_user\n",
        "\n",
        "app=Flask(__name__)\n",
        "app.secret_key='admin'\n",
        "login_manager=LoginManager(app)\n",
        "users={'123@123.123':{'password':'password'}} ###預設userid及密碼##\n",
        "run_with_ngrok(app)\n",
        "\n",
        "class User(UserMixin):\n",
        "  pass\n",
        "\n",
        "@login_manager.user_loader\n",
        "def user_loader(email):\n",
        "  if email not in users:\n",
        "    return \n",
        "  user=User()\n",
        "  user.id=email\n",
        "  return user\n",
        "\n",
        "@app.route('/login',methods=['GET','POST'])\n",
        "def login():\n",
        "  if request.method=='GET':\n",
        "    return '''\n",
        "    <form action='login' method='POST'>\n",
        "     <input type='text' name='email' id='email' placeholder='email'/> <br>\n",
        "     <input type='password' name='password' id='password' placeholder='password'/><br>\n",
        "     <input type='submit' name='submit'/>\n",
        "     </form>\n",
        "                  \n",
        "    '''\n",
        "  email=request.form['email']\n",
        "  if request.form['password']==users[email]['password']:\n",
        "    user=User()\n",
        "    user.id=email\n",
        "    login_user(user)\n",
        "    return redirect(url_for('protected'))\n",
        "  return '登入錯誤'\n",
        "\n",
        "\n",
        "@app.route('/protected')\n",
        "@login_required\n",
        "def protected():\n",
        "  if current_user.is_active:\n",
        "    return 'logged in as:'+current_user.id +'login is _active:True.'\n",
        "\n",
        "@app.route('/logout')\n",
        "def logout():\n",
        "  logout_user()\n",
        "  return '登出完成'\n",
        "\n",
        "@app.route('/')\n",
        "def idnex():\n",
        "  requestURL=request.url\n",
        "  return render_template('index.html',myPara=requestURL)\n",
        "\n",
        "@app.route('/callback')\n",
        "def callback():\n",
        "  requestURL=request.url\n",
        "  return render_template('index.html',myPara=requestURL)\n",
        "\n",
        "\n",
        "app.run()\n"
      ],
      "execution_count": null,
      "outputs": [
        {
          "output_type": "stream",
          "text": [
            " * Serving Flask app \"__main__\" (lazy loading)\n",
            " * Environment: production\n",
            "\u001b[31m   WARNING: This is a development server. Do not use it in a production deployment.\u001b[0m\n",
            "\u001b[2m   Use a production WSGI server instead.\u001b[0m\n",
            " * Debug mode: off\n"
          ],
          "name": "stdout"
        },
        {
          "output_type": "stream",
          "text": [
            " * Running on http://127.0.0.1:5000/ (Press CTRL+C to quit)\n"
          ],
          "name": "stderr"
        },
        {
          "output_type": "stream",
          "text": [
            " * Running on http://e687b640e5b8.ngrok.io\n",
            " * Traffic stats available on http://127.0.0.1:4040\n"
          ],
          "name": "stdout"
        },
        {
          "output_type": "stream",
          "text": [
            "127.0.0.1 - - [09/Aug/2021 03:27:48] \"\u001b[37mGET / HTTP/1.1\u001b[0m\" 200 -\n",
            "127.0.0.1 - - [09/Aug/2021 03:27:48] \"\u001b[33mGET /favicon.ico HTTP/1.1\u001b[0m\" 404 -\n",
            "127.0.0.1 - - [09/Aug/2021 03:27:53] \"\u001b[37mGET /login HTTP/1.1\u001b[0m\" 200 -\n",
            "127.0.0.1 - - [09/Aug/2021 03:27:53] \"\u001b[33mGET /favicon.ico HTTP/1.1\u001b[0m\" 404 -\n",
            "127.0.0.1 - - [09/Aug/2021 03:28:05] \"\u001b[32mPOST /login HTTP/1.1\u001b[0m\" 302 -\n",
            "127.0.0.1 - - [09/Aug/2021 03:28:05] \"\u001b[37mGET /protected HTTP/1.1\u001b[0m\" 200 -\n",
            "127.0.0.1 - - [09/Aug/2021 03:28:57] \"\u001b[37mGET /logout HTTP/1.1\u001b[0m\" 200 -\n"
          ],
          "name": "stderr"
        }
      ]
    },
    {
      "cell_type": "code",
      "metadata": {
        "id": "89pqm5fgqj9n"
      },
      "source": [
        ""
      ],
      "execution_count": null,
      "outputs": []
    }
  ]
}