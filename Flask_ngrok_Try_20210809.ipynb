{
  "nbformat": 4,
  "nbformat_minor": 0,
  "metadata": {
    "colab": {
      "name": "Flask_ngrok_Try_20210809.ipynb",
      "provenance": [],
      "authorship_tag": "ABX9TyPwVYHIrOIQEefsuc21/Nnl",
      "include_colab_link": true
    },
    "kernelspec": {
      "name": "python3",
      "display_name": "Python 3"
    },
    "language_info": {
      "name": "python"
    }
  },
  "cells": [
    {
      "cell_type": "markdown",
      "metadata": {
        "id": "view-in-github",
        "colab_type": "text"
      },
      "source": [
        "<a href=\"https://colab.research.google.com/github/YuehMintTai/GAETest20210722/blob/main/Flask_ngrok_Try_20210809.ipynb\" target=\"_parent\"><img src=\"https://colab.research.google.com/assets/colab-badge.svg\" alt=\"Open In Colab\"/></a>"
      ]
    },
    {
      "cell_type": "code",
      "metadata": {
        "colab": {
          "base_uri": "https://localhost:8080/"
        },
        "id": "AoP3qMGBprLx",
        "outputId": "dcf4ae15-3cba-49e0-b519-e9eeb55547c4"
      },
      "source": [
        "!pip install flask_ngrok"
      ],
      "execution_count": 1,
      "outputs": [
        {
          "output_type": "stream",
          "text": [
            "Collecting flask_ngrok\n",
            "  Downloading flask_ngrok-0.0.25-py3-none-any.whl (3.1 kB)\n",
            "Requirement already satisfied: requests in /usr/local/lib/python3.7/dist-packages (from flask_ngrok) (2.23.0)\n",
            "Requirement already satisfied: Flask>=0.8 in /usr/local/lib/python3.7/dist-packages (from flask_ngrok) (1.1.4)\n",
            "Requirement already satisfied: itsdangerous<2.0,>=0.24 in /usr/local/lib/python3.7/dist-packages (from Flask>=0.8->flask_ngrok) (1.1.0)\n",
            "Requirement already satisfied: Werkzeug<2.0,>=0.15 in /usr/local/lib/python3.7/dist-packages (from Flask>=0.8->flask_ngrok) (1.0.1)\n",
            "Requirement already satisfied: Jinja2<3.0,>=2.10.1 in /usr/local/lib/python3.7/dist-packages (from Flask>=0.8->flask_ngrok) (2.11.3)\n",
            "Requirement already satisfied: click<8.0,>=5.1 in /usr/local/lib/python3.7/dist-packages (from Flask>=0.8->flask_ngrok) (7.1.2)\n",
            "Requirement already satisfied: MarkupSafe>=0.23 in /usr/local/lib/python3.7/dist-packages (from Jinja2<3.0,>=2.10.1->Flask>=0.8->flask_ngrok) (2.0.1)\n",
            "Requirement already satisfied: chardet<4,>=3.0.2 in /usr/local/lib/python3.7/dist-packages (from requests->flask_ngrok) (3.0.4)\n",
            "Requirement already satisfied: idna<3,>=2.5 in /usr/local/lib/python3.7/dist-packages (from requests->flask_ngrok) (2.10)\n",
            "Requirement already satisfied: certifi>=2017.4.17 in /usr/local/lib/python3.7/dist-packages (from requests->flask_ngrok) (2021.5.30)\n",
            "Requirement already satisfied: urllib3!=1.25.0,!=1.25.1,<1.26,>=1.21.1 in /usr/local/lib/python3.7/dist-packages (from requests->flask_ngrok) (1.24.3)\n",
            "Installing collected packages: flask-ngrok\n",
            "Successfully installed flask-ngrok-0.0.25\n"
          ],
          "name": "stdout"
        }
      ]
    },
    {
      "cell_type": "code",
      "metadata": {
        "colab": {
          "base_uri": "https://localhost:8080/"
        },
        "id": "AFm558GWxaMZ",
        "outputId": "aa30af41-bfac-4dd6-d0c0-7b1443801573"
      },
      "source": [
        "!pip install flask-login"
      ],
      "execution_count": 8,
      "outputs": [
        {
          "output_type": "stream",
          "text": [
            "Collecting flask-login\n",
            "  Downloading Flask_Login-0.5.0-py2.py3-none-any.whl (16 kB)\n",
            "Requirement already satisfied: Flask in /usr/local/lib/python3.7/dist-packages (from flask-login) (1.1.4)\n",
            "Requirement already satisfied: click<8.0,>=5.1 in /usr/local/lib/python3.7/dist-packages (from Flask->flask-login) (7.1.2)\n",
            "Requirement already satisfied: Jinja2<3.0,>=2.10.1 in /usr/local/lib/python3.7/dist-packages (from Flask->flask-login) (2.11.3)\n",
            "Requirement already satisfied: Werkzeug<2.0,>=0.15 in /usr/local/lib/python3.7/dist-packages (from Flask->flask-login) (1.0.1)\n",
            "Requirement already satisfied: itsdangerous<2.0,>=0.24 in /usr/local/lib/python3.7/dist-packages (from Flask->flask-login) (1.1.0)\n",
            "Requirement already satisfied: MarkupSafe>=0.23 in /usr/local/lib/python3.7/dist-packages (from Jinja2<3.0,>=2.10.1->Flask->flask-login) (2.0.1)\n",
            "Installing collected packages: flask-login\n",
            "Successfully installed flask-login-0.5.0\n"
          ],
          "name": "stdout"
        }
      ]
    },
    {
      "cell_type": "code",
      "metadata": {
        "id": "EdBo0gf3x7C6"
      },
      "source": [
        ""
      ],
      "execution_count": null,
      "outputs": []
    },
    {
      "cell_type": "code",
      "metadata": {
        "colab": {
          "base_uri": "https://localhost:8080/"
        },
        "id": "XNLphPftp2Qq",
        "outputId": "d88fbc01-25fb-4fa6-bb1e-3d067b559746"
      },
      "source": [
        "from flask_ngrok import run_with_ngrok\n",
        "from flask import Flask, render_template, request, redirect, url_for\n",
        "from flask_login import LoginManager, UserMixin, login_user, current_user,login_required, logout_user\n",
        "\n",
        "app=Flask(__name__)\n",
        "app.secret_key='admin'\n",
        "login_manager=LoginManager(app)\n",
        "users={'123@123.123':{'password':'password'}} ###預設userid及密碼##\n",
        "run_with_ngrok(app)\n",
        "\n",
        "class User(UserMixin):\n",
        "  pass\n",
        "\n",
        "@login_manager.user_loader\n",
        "def user_loader(email):\n",
        "  if email not in users:\n",
        "    return \n",
        "  user=User()\n",
        "  user.id=email\n",
        "  return user\n",
        "\n",
        "@app.route('/login',methods=['GET','POST'])\n",
        "def login():\n",
        "  if request.method=='GET':\n",
        "    return '''\n",
        "    <form action='login' method='POST'>\n",
        "     <input type='text' name='email' id='email' placeholder='email'/> <br>\n",
        "     <input type='password' name='password' id='password' placeholder='password'/><br>\n",
        "     <input type='submit' name='submit'/>\n",
        "     </form>\n",
        "                  \n",
        "    '''\n",
        "  email=request.form['email']\n",
        "  if request.form['password']==users[email]['password']:\n",
        "    user=User()\n",
        "    user.id=email\n",
        "    login_user(user)\n",
        "    return redirect(url_for('protected'))\n",
        "  return '登入錯誤'\n",
        "\n",
        "\n",
        "@app.route('/protected')\n",
        "@login_required\n",
        "def protected():\n",
        "  if current_user.is_active:\n",
        "    return 'logged in as:'+current_user.id +'login is _active:True.'\n",
        "\n",
        "@app.route('/logout')\n",
        "def logout():\n",
        "  logout_user()\n",
        "  return '登出完成'\n",
        "\n",
        "@app.route('/')\n",
        "def idnex():\n",
        "  requestURL=request.url\n",
        "  return render_template('index.html',myPara=requestURL)\n",
        "\n",
        "@app.route('/callback')\n",
        "def callback():\n",
        "  requestURL=request.url\n",
        "  return render_template('index.html',myPara=requestURL)\n",
        "\n",
        "\n",
        "app.run()\n"
      ],
      "execution_count": 19,
      "outputs": [
        {
          "output_type": "stream",
          "text": [
            " * Serving Flask app \"__main__\" (lazy loading)\n",
            " * Environment: production\n",
            "\u001b[31m   WARNING: This is a development server. Do not use it in a production deployment.\u001b[0m\n",
            "\u001b[2m   Use a production WSGI server instead.\u001b[0m\n",
            " * Debug mode: off\n"
          ],
          "name": "stdout"
        },
        {
          "output_type": "stream",
          "text": [
            " * Running on http://127.0.0.1:5000/ (Press CTRL+C to quit)\n"
          ],
          "name": "stderr"
        },
        {
          "output_type": "stream",
          "text": [
            " * Running on http://e687b640e5b8.ngrok.io\n",
            " * Traffic stats available on http://127.0.0.1:4040\n"
          ],
          "name": "stdout"
        },
        {
          "output_type": "stream",
          "text": [
            "127.0.0.1 - - [09/Aug/2021 03:27:48] \"\u001b[37mGET / HTTP/1.1\u001b[0m\" 200 -\n",
            "127.0.0.1 - - [09/Aug/2021 03:27:48] \"\u001b[33mGET /favicon.ico HTTP/1.1\u001b[0m\" 404 -\n",
            "127.0.0.1 - - [09/Aug/2021 03:27:53] \"\u001b[37mGET /login HTTP/1.1\u001b[0m\" 200 -\n",
            "127.0.0.1 - - [09/Aug/2021 03:27:53] \"\u001b[33mGET /favicon.ico HTTP/1.1\u001b[0m\" 404 -\n",
            "127.0.0.1 - - [09/Aug/2021 03:28:05] \"\u001b[32mPOST /login HTTP/1.1\u001b[0m\" 302 -\n",
            "127.0.0.1 - - [09/Aug/2021 03:28:05] \"\u001b[37mGET /protected HTTP/1.1\u001b[0m\" 200 -\n",
            "127.0.0.1 - - [09/Aug/2021 03:28:57] \"\u001b[37mGET /logout HTTP/1.1\u001b[0m\" 200 -\n"
          ],
          "name": "stderr"
        }
      ]
    },
    {
      "cell_type": "code",
      "metadata": {
        "id": "89pqm5fgqj9n"
      },
      "source": [
        ""
      ],
      "execution_count": null,
      "outputs": []
    }
  ]
}