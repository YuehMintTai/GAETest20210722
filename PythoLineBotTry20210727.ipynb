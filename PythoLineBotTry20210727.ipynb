{
  "nbformat": 4,
  "nbformat_minor": 0,
  "metadata": {
    "colab": {
      "name": "PythoLineBotTry20210727.ipynb",
      "provenance": [],
      "authorship_tag": "ABX9TyPrEGpK1PIBsU1gFx+q+xcw",
      "include_colab_link": true
    },
    "kernelspec": {
      "name": "python3",
      "display_name": "Python 3"
    },
    "language_info": {
      "name": "python"
    }
  },
  "cells": [
    {
      "cell_type": "markdown",
      "metadata": {
        "id": "view-in-github",
        "colab_type": "text"
      },
      "source": [
        "<a href=\"https://colab.research.google.com/github/YuehMintTai/GAETest20210722/blob/main/PythoLineBotTry20210727.ipynb\" target=\"_parent\"><img src=\"https://colab.research.google.com/assets/colab-badge.svg\" alt=\"Open In Colab\"/></a>"
      ]
    },
    {
      "cell_type": "markdown",
      "metadata": {
        "id": "raHSQu6ct_Wy"
      },
      "source": [
        "#Python -flask-ngrok-LineBot try 20210727\n"
      ]
    },
    {
      "cell_type": "code",
      "metadata": {
        "colab": {
          "base_uri": "https://localhost:8080/"
        },
        "id": "uG_vozXVtVJ9",
        "outputId": "0fd60f44-2a61-441f-a0bc-5ce219949a55"
      },
      "source": [
        "!pip install flask_ngrok"
      ],
      "execution_count": 1,
      "outputs": [
        {
          "output_type": "stream",
          "text": [
            "Collecting flask_ngrok\n",
            "  Downloading flask_ngrok-0.0.25-py3-none-any.whl (3.1 kB)\n",
            "Requirement already satisfied: requests in /usr/local/lib/python3.7/dist-packages (from flask_ngrok) (2.23.0)\n",
            "Requirement already satisfied: Flask>=0.8 in /usr/local/lib/python3.7/dist-packages (from flask_ngrok) (1.1.4)\n",
            "Requirement already satisfied: click<8.0,>=5.1 in /usr/local/lib/python3.7/dist-packages (from Flask>=0.8->flask_ngrok) (7.1.2)\n",
            "Requirement already satisfied: Jinja2<3.0,>=2.10.1 in /usr/local/lib/python3.7/dist-packages (from Flask>=0.8->flask_ngrok) (2.11.3)\n",
            "Requirement already satisfied: itsdangerous<2.0,>=0.24 in /usr/local/lib/python3.7/dist-packages (from Flask>=0.8->flask_ngrok) (1.1.0)\n",
            "Requirement already satisfied: Werkzeug<2.0,>=0.15 in /usr/local/lib/python3.7/dist-packages (from Flask>=0.8->flask_ngrok) (1.0.1)\n",
            "Requirement already satisfied: MarkupSafe>=0.23 in /usr/local/lib/python3.7/dist-packages (from Jinja2<3.0,>=2.10.1->Flask>=0.8->flask_ngrok) (2.0.1)\n",
            "Requirement already satisfied: idna<3,>=2.5 in /usr/local/lib/python3.7/dist-packages (from requests->flask_ngrok) (2.10)\n",
            "Requirement already satisfied: chardet<4,>=3.0.2 in /usr/local/lib/python3.7/dist-packages (from requests->flask_ngrok) (3.0.4)\n",
            "Requirement already satisfied: certifi>=2017.4.17 in /usr/local/lib/python3.7/dist-packages (from requests->flask_ngrok) (2021.5.30)\n",
            "Requirement already satisfied: urllib3!=1.25.0,!=1.25.1,<1.26,>=1.21.1 in /usr/local/lib/python3.7/dist-packages (from requests->flask_ngrok) (1.24.3)\n",
            "Installing collected packages: flask-ngrok\n",
            "Successfully installed flask-ngrok-0.0.25\n"
          ],
          "name": "stdout"
        }
      ]
    },
    {
      "cell_type": "code",
      "metadata": {
        "colab": {
          "base_uri": "https://localhost:8080/"
        },
        "id": "dWaTHM843N0t",
        "outputId": "baba87d9-a844-4d20-952c-812fca32e27f"
      },
      "source": [
        "!pip install flask-cors\n",
        "!pip install line-bot-sdk"
      ],
      "execution_count": 2,
      "outputs": [
        {
          "output_type": "stream",
          "text": [
            "Collecting flask-cors\n",
            "  Downloading Flask_Cors-3.0.10-py2.py3-none-any.whl (14 kB)\n",
            "Requirement already satisfied: Six in /usr/local/lib/python3.7/dist-packages (from flask-cors) (1.15.0)\n",
            "Requirement already satisfied: Flask>=0.9 in /usr/local/lib/python3.7/dist-packages (from flask-cors) (1.1.4)\n",
            "Requirement already satisfied: itsdangerous<2.0,>=0.24 in /usr/local/lib/python3.7/dist-packages (from Flask>=0.9->flask-cors) (1.1.0)\n",
            "Requirement already satisfied: Werkzeug<2.0,>=0.15 in /usr/local/lib/python3.7/dist-packages (from Flask>=0.9->flask-cors) (1.0.1)\n",
            "Requirement already satisfied: click<8.0,>=5.1 in /usr/local/lib/python3.7/dist-packages (from Flask>=0.9->flask-cors) (7.1.2)\n",
            "Requirement already satisfied: Jinja2<3.0,>=2.10.1 in /usr/local/lib/python3.7/dist-packages (from Flask>=0.9->flask-cors) (2.11.3)\n",
            "Requirement already satisfied: MarkupSafe>=0.23 in /usr/local/lib/python3.7/dist-packages (from Jinja2<3.0,>=2.10.1->Flask>=0.9->flask-cors) (2.0.1)\n",
            "Installing collected packages: flask-cors\n",
            "Successfully installed flask-cors-3.0.10\n",
            "Collecting line-bot-sdk\n",
            "  Downloading line_bot_sdk-1.19.0-py2.py3-none-any.whl (68 kB)\n",
            "\u001b[K     |████████████████████████████████| 68 kB 2.9 MB/s \n",
            "\u001b[?25hRequirement already satisfied: future in /usr/local/lib/python3.7/dist-packages (from line-bot-sdk) (0.16.0)\n",
            "Requirement already satisfied: requests>=2.0 in /usr/local/lib/python3.7/dist-packages (from line-bot-sdk) (2.23.0)\n",
            "Requirement already satisfied: certifi>=2017.4.17 in /usr/local/lib/python3.7/dist-packages (from requests>=2.0->line-bot-sdk) (2021.5.30)\n",
            "Requirement already satisfied: urllib3!=1.25.0,!=1.25.1,<1.26,>=1.21.1 in /usr/local/lib/python3.7/dist-packages (from requests>=2.0->line-bot-sdk) (1.24.3)\n",
            "Requirement already satisfied: idna<3,>=2.5 in /usr/local/lib/python3.7/dist-packages (from requests>=2.0->line-bot-sdk) (2.10)\n",
            "Requirement already satisfied: chardet<4,>=3.0.2 in /usr/local/lib/python3.7/dist-packages (from requests>=2.0->line-bot-sdk) (3.0.4)\n",
            "Installing collected packages: line-bot-sdk\n",
            "Successfully installed line-bot-sdk-1.19.0\n"
          ],
          "name": "stdout"
        }
      ]
    },
    {
      "cell_type": "code",
      "metadata": {
        "colab": {
          "base_uri": "https://localhost:8080/"
        },
        "id": "rrU9o9Qgj2Ei",
        "outputId": "dfbd8a38-6f90-4c9e-ec26-6a0c266816ae"
      },
      "source": [
        "##藉用別人寫好的程式來建立自己的LINE Bot\n",
        "\n",
        "#from linebot.models import *\n",
        "from flask_ngrok import run_with_ngrok\n",
        "from flask import Flask,request,abort\n",
        "from linebot import (LineBotApi,WebhookHandler)\n",
        "from linebot.exceptions import (InvalidSignatureError)\n",
        "from datetime import date\n",
        "'''\n",
        "from message2 import *\n",
        "from Function import *\n",
        "from new import *\n",
        "'''\n",
        "import os\n",
        "today=date.today()\n",
        "app=Flask(__name__)\n",
        "static_tmp_path=os.path.join(os.path.dirname('__file__'),'static','tmp')\n",
        "line_bot_api=LineBotApi('p3/PN2ckr0z59bMYA4szL6fR2f7Ux2W7J2sOtgR4mDy2hbj4FxAn5A/V26AdBBl5qY5oWb32NOHkCOdJhnUV/+zDkbAp0cElS75xx7/lHNPWP+MnZNv1Uns+cnarC+ttgyH9wGmHP+CMTnbUI72lbwdB04t89/1O/w1cDnyilFU=')\n",
        "handler=WebhookHandler('3f7b23f9d983e33e5861d314e644c2c7')\n",
        "run_with_ngrok(app)\n",
        "\n",
        "@app.route('/callback',methods=['POST'])\n",
        "def callback():\n",
        "  signature=request.headers['X-Line-Signature']\n",
        "  body=request.get_data(as_text=True)\n",
        "  app.logger.info('Request body:'+body)\n",
        "  try:\n",
        "    handler.handle(body,signature)\n",
        "  except InvalidSignatureError:\n",
        "    abort(400)\n",
        "  return 'OK'\n",
        "\n",
        "\n",
        "\n",
        "@handler.add(MessageEvent, message=TextMessage)\n",
        "\n",
        "def handle_message(event):\n",
        "  msg=event.message.text\n",
        "  message=FlexSendMessage(\n",
        "      alt_text='This is alt_text.',\n",
        "      contents={\n",
        "          \n",
        "{\n",
        "  \"type\": \"bubble\",\n",
        "  \"hero\": {\n",
        "    \"type\": \"image\",\n",
        "    \"url\": \"https://scdn.line-apps.com/n/channel_devcenter/img/fx/01_1_cafe.png\",\n",
        "    \"size\": \"full\",\n",
        "    \"aspectRatio\": \"20:13\",\n",
        "    \"aspectMode\": \"cover\",\n",
        "    \"action\": {\n",
        "      \"type\": \"uri\",\n",
        "      \"uri\": \"http://linecorp.com/\"\n",
        "    }\n",
        "  },\n",
        "  \"body\": {\n",
        "    \"type\": \"box\",\n",
        "    \"layout\": \"vertical\",\n",
        "    \"contents\": [\n",
        "      {\n",
        "        \"type\": \"text\",\n",
        "        \"text\": \"Brown Cafe\",\n",
        "        \"weight\": \"bold\",\n",
        "        \"size\": \"xl\"\n",
        "      },\n",
        "      {\n",
        "        \"type\": \"box\",\n",
        "        \"layout\": \"baseline\",\n",
        "        \"margin\": \"md\",\n",
        "        \"contents\": [\n",
        "          {\n",
        "            \"type\": \"icon\",\n",
        "            \"size\": \"sm\",\n",
        "            \"url\": \"https://scdn.line-apps.com/n/channel_devcenter/img/fx/review_gold_star_28.png\"\n",
        "          },\n",
        "          {\n",
        "            \"type\": \"icon\",\n",
        "            \"size\": \"sm\",\n",
        "            \"url\": \"https://scdn.line-apps.com/n/channel_devcenter/img/fx/review_gold_star_28.png\"\n",
        "          },\n",
        "          {\n",
        "            \"type\": \"icon\",\n",
        "            \"size\": \"sm\",\n",
        "            \"url\": \"https://scdn.line-apps.com/n/channel_devcenter/img/fx/review_gold_star_28.png\"\n",
        "          },\n",
        "          {\n",
        "            \"type\": \"icon\",\n",
        "            \"size\": \"sm\",\n",
        "            \"url\": \"https://scdn.line-apps.com/n/channel_devcenter/img/fx/review_gold_star_28.png\"\n",
        "          },\n",
        "          {\n",
        "            \"type\": \"icon\",\n",
        "            \"size\": \"sm\",\n",
        "            \"url\": \"https://scdn.line-apps.com/n/channel_devcenter/img/fx/review_gray_star_28.png\"\n",
        "          },\n",
        "          {\n",
        "            \"type\": \"text\",\n",
        "            \"text\": \"4.0\",\n",
        "            \"size\": \"sm\",\n",
        "            \"color\": \"#999999\",\n",
        "            \"margin\": \"md\",\n",
        "            \"flex\": 0\n",
        "          }\n",
        "        ]\n",
        "      },\n",
        "      {\n",
        "        \"type\": \"box\",\n",
        "        \"layout\": \"vertical\",\n",
        "        \"margin\": \"lg\",\n",
        "        \"spacing\": \"sm\",\n",
        "        \"contents\": [\n",
        "          {\n",
        "            \"type\": \"box\",\n",
        "            \"layout\": \"baseline\",\n",
        "            \"spacing\": \"sm\",\n",
        "            \"contents\": [\n",
        "              {\n",
        "                \"type\": \"text\",\n",
        "                \"text\": \"Place\",\n",
        "                \"color\": \"#aaaaaa\",\n",
        "                \"size\": \"sm\",\n",
        "                \"flex\": 1\n",
        "              },\n",
        "              {\n",
        "                \"type\": \"text\",\n",
        "                \"text\": \"Miraina Tower, 4-1-6 Shinjuku, Tokyo\",\n",
        "                \"wrap\": true,\n",
        "                \"color\": \"#666666\",\n",
        "                \"size\": \"sm\",\n",
        "                \"flex\": 5\n",
        "              }\n",
        "            ]\n",
        "          },\n",
        "          {\n",
        "            \"type\": \"box\",\n",
        "            \"layout\": \"baseline\",\n",
        "            \"spacing\": \"sm\",\n",
        "            \"contents\": [\n",
        "              {\n",
        "                \"type\": \"text\",\n",
        "                \"text\": \"Time\",\n",
        "                \"color\": \"#aaaaaa\",\n",
        "                \"size\": \"sm\",\n",
        "                \"flex\": 1\n",
        "              },\n",
        "              {\n",
        "                \"type\": \"text\",\n",
        "                \"text\": \"10:00 - 23:00\",\n",
        "                \"wrap\": true,\n",
        "                \"color\": \"#666666\",\n",
        "                \"size\": \"sm\",\n",
        "                \"flex\": 5\n",
        "              }\n",
        "            ]\n",
        "          }\n",
        "        ]\n",
        "      }\n",
        "    ]\n",
        "  },\n",
        "  \"footer\": {\n",
        "    \"type\": \"box\",\n",
        "    \"layout\": \"vertical\",\n",
        "    \"spacing\": \"sm\",\n",
        "    \"contents\": [\n",
        "      {\n",
        "        \"type\": \"button\",\n",
        "        \"style\": \"link\",\n",
        "        \"height\": \"sm\",\n",
        "        \"action\": {\n",
        "          \"type\": \"uri\",\n",
        "          \"label\": \"CALL\",\n",
        "          \"uri\": \"https://linecorp.com\"\n",
        "        }\n",
        "      },\n",
        "      {\n",
        "        \"type\": \"button\",\n",
        "        \"style\": \"link\",\n",
        "        \"height\": \"sm\",\n",
        "        \"action\": {\n",
        "          \"type\": \"uri\",\n",
        "          \"label\": \"WEBSITE\",\n",
        "          \"uri\": \"https://linecorp.com\"\n",
        "        }\n",
        "      },\n",
        "      {\n",
        "        \"type\": \"spacer\",\n",
        "        \"size\": \"sm\"\n",
        "      }\n",
        "    ],\n",
        "    \"flex\": 0\n",
        "  }\n",
        "}\n",
        "\n",
        "      }\n",
        "  )\n",
        "  line_bot_api.reply_message(event.reply_token,message)\n",
        "\n",
        "\n",
        "'''\n",
        "def handle_message(event):\n",
        "    msg = event.message.text\n",
        "    if '最新合作廠商' in msg:\n",
        "        message = imagemap_message()\n",
        "        line_bot_api.reply_message(event.reply_token, message)\n",
        "    elif '最新活動訊息' in msg:\n",
        "        message = buttons_message()\n",
        "        line_bot_api.reply_message(event.reply_token, message)\n",
        "    elif '註冊會員' in msg:\n",
        "        message = Confirm_Template()\n",
        "        line_bot_api.reply_message(event.reply_token, message)\n",
        "    elif '旋轉木馬' in msg:\n",
        "        message = Carousel_Template()\n",
        "        line_bot_api.reply_message(event.reply_token, message)\n",
        "    elif '圖片畫廊' in msg:\n",
        "        message = test()\n",
        "        line_bot_api.reply_message(event.reply_token, message)\n",
        "    elif '功能列表' in msg:\n",
        "        ##message = function_list()\n",
        "        message = flex_message()\n",
        "        line_bot_api.reply_message(event.reply_token, message)\n",
        "    else:\n",
        "        message = TextSendMessage(text=msg)\n",
        "        line_bot_api.reply_message(event.reply_token, message)\n",
        "'''\n",
        "app.run()"
      ],
      "execution_count": 7,
      "outputs": [
        {
          "output_type": "stream",
          "text": [
            " * Serving Flask app \"__main__\" (lazy loading)\n",
            " * Environment: production\n",
            "\u001b[31m   WARNING: This is a development server. Do not use it in a production deployment.\u001b[0m\n",
            "\u001b[2m   Use a production WSGI server instead.\u001b[0m\n",
            " * Debug mode: off\n"
          ],
          "name": "stdout"
        },
        {
          "output_type": "stream",
          "text": [
            " * Running on http://127.0.0.1:5000/ (Press CTRL+C to quit)\n"
          ],
          "name": "stderr"
        },
        {
          "output_type": "stream",
          "text": [
            " * Running on http://1a4da0347c3c.ngrok.io\n",
            " * Traffic stats available on http://127.0.0.1:4040\n"
          ],
          "name": "stdout"
        }
      ]
    },
    {
      "cell_type": "code",
      "metadata": {
        "colab": {
          "base_uri": "https://localhost:8080/"
        },
        "id": "xtaQaIsNfR0O",
        "outputId": "e444feb1-0877-41af-eb65-9b6a0fe91aba"
      },
      "source": [
        "##藉用別人寫好的程式來建立自己的LINE Bot\n",
        "from linebot.models import *\n",
        "from flask_ngrok import run_with_ngrok\n",
        "from flask import Flask, request, abort\n",
        "from linebot import (LineBotApi,WebhookHandler)\n",
        "from linebot.exceptions import (InvalidSignatureError)\n",
        "\n",
        "from datetime import date\n",
        "from message2 import *\n",
        "from Function import *\n",
        "from new import *\n",
        "import os\n",
        "today=date.today()\n",
        "app=Flask(__name__)\n",
        "static_tmp_path=os.path.join(os.path.dirname('__file__'),'static','tmp')\n",
        "line_bot_api=LineBotApi('p3/PN2ckr0z59bMYA4szL6fR2f7Ux2W7J2sOtgR4mDy2hbj4FxAn5A/V26AdBBl5qY5oWb32NOHkCOdJhnUV/+zDkbAp0cElS75xx7/lHNPWP+MnZNv1Uns+cnarC+ttgyH9wGmHP+CMTnbUI72lbwdB04t89/1O/w1cDnyilFU=')\n",
        "handler=WebhookHandler('3f7b23f9d983e33e5861d314e644c2c7')\n",
        "run_with_ngrok(app)\n",
        "\n",
        "@app.route('/callback',methods=['POST'])\n",
        "def callback():\n",
        "  signature=request.headers['X-Line-Signature']\n",
        "  body=request.get_data(as_text=True)\n",
        "  app.logger.info('Request body:'+body)\n",
        "  try:\n",
        "    handler.handle(body,signature)\n",
        "  except InvalidSignatureError:\n",
        "    abort(400)\n",
        "  return 'OK'\n",
        "\n",
        "@handler.add(MessageEvent, message=TextMessage)\n",
        "def handle_message(event):\n",
        "    msg = event.message.text\n",
        "    if '最新合作廠商' in msg:\n",
        "        message = imagemap_message()\n",
        "        line_bot_api.reply_message(event.reply_token, message)\n",
        "    elif '最新活動訊息' in msg:\n",
        "        message = buttons_message()\n",
        "        line_bot_api.reply_message(event.reply_token, message)\n",
        "    elif '註冊會員' in msg:\n",
        "        message = Confirm_Template()\n",
        "        line_bot_api.reply_message(event.reply_token, message)\n",
        "    elif '旋轉木馬' in msg:\n",
        "        message = Carousel_Template()\n",
        "        line_bot_api.reply_message(event.reply_token, message)\n",
        "    elif '圖片畫廊' in msg:\n",
        "        message = test()\n",
        "        line_bot_api.reply_message(event.reply_token, message)\n",
        "    elif '功能列表' in msg:\n",
        "        ##message = function_list()\n",
        "        message=flex_message()\n",
        "        line_bot_api.reply_message(event.reply_token, message)\n",
        "    else:\n",
        "        message = TextSendMessage(text=msg)\n",
        "        line_bot_api.reply_message(event.reply_token, message)\n",
        "app.run()\n"
      ],
      "execution_count": 5,
      "outputs": [
        {
          "output_type": "stream",
          "text": [
            " * Serving Flask app \"__main__\" (lazy loading)\n",
            " * Environment: production\n",
            "\u001b[31m   WARNING: This is a development server. Do not use it in a production deployment.\u001b[0m\n",
            "\u001b[2m   Use a production WSGI server instead.\u001b[0m\n",
            " * Debug mode: off\n"
          ],
          "name": "stdout"
        },
        {
          "output_type": "stream",
          "text": [
            " * Running on http://127.0.0.1:5000/ (Press CTRL+C to quit)\n"
          ],
          "name": "stderr"
        }
      ]
    },
    {
      "cell_type": "code",
      "metadata": {
        "colab": {
          "base_uri": "https://localhost:8080/"
        },
        "id": "loesvvzhxCYL",
        "outputId": "9aadfc98-e019-4d5f-d52b-121cf1c83201"
      },
      "source": [
        "##使用text以外的傳訊方式...ConfirmTemplate\n",
        "from flask_ngrok import run_with_ngrok\n",
        "from flask import Flask,request,abort\n",
        "from flask_cors import CORS\n",
        "from datetime import date \n",
        "from linebot import (LineBotApi, WebhookHandler)\n",
        "from linebot.exceptions import (InvalidSignatureError)\n",
        "from linebot.models import *\n",
        "\n",
        "today=date.today()\n",
        "app=Flask(__name__)\n",
        "CORS(app)\n",
        "line_bot_api=LineBotApi('p3/PN2ckr0z59bMYA4szL6fR2f7Ux2W7J2sOtgR4mDy2hbj4FxAn5A/V26AdBBl5qY5oWb32NOHkCOdJhnUV/+zDkbAp0cElS75xx7/lHNPWP+MnZNv1Uns+cnarC+ttgyH9wGmHP+CMTnbUI72lbwdB04t89/1O/w1cDnyilFU=')\n",
        "handler=WebhookHandler('3f7b23f9d983e33e5861d314e644c2c7')\n",
        "run_with_ngrok(app)\n",
        "\n",
        "@app.route('/')\n",
        "def hello():\n",
        "  return '歡迎使用本API-->'+str(today)\n",
        "\n",
        "@app.route('/callback',methods=['POST'])\n",
        "def callback():\n",
        "  signature=request.headers['X-Line-Signature']\n",
        "  body=request.get_data(as_text=True)\n",
        "  app.logger.info(\"Request body:\"+body)\n",
        "  try:\n",
        "    handler.handle(body,signature)\n",
        "  except InvalidSignatureError:\n",
        "    abort(400)\n",
        "  return 'OK'\n",
        "\n",
        "def Confirm_template():\n",
        "  message=TemplateSendMessage(\n",
        "      alt_text='是否註冊成會員?',\n",
        "      template=ConfirmTemplate(\n",
        "          text='是否註冊成會員?',\n",
        "          actions=[\n",
        "                   PostbackTemplateAction(\n",
        "                       label='馬上註冊',\n",
        "                       text='註冊成功',\n",
        "                       data='會員註冊'\n",
        "                   ),\n",
        "                   MessageTemplateAction(\n",
        "                       label='再考慮',\n",
        "                       text='考慮再說'\n",
        "                   )\n",
        "          ]\n",
        "      )\n",
        "  )\n",
        "  return message\n",
        "\n",
        "@handler.add(MessageEvent,message=TextMessage)\n",
        "def hanle_message(event):\n",
        "  msg=event.message.text\n",
        "  if '會員' in msg:\n",
        "    message=Confirm_template()\n",
        "    line_bot_api.reply_message(event.reply_token,message)\n",
        "app.run()\n"
      ],
      "execution_count": null,
      "outputs": [
        {
          "output_type": "stream",
          "text": [
            " * Serving Flask app \"__main__\" (lazy loading)\n",
            " * Environment: production\n",
            "\u001b[31m   WARNING: This is a development server. Do not use it in a production deployment.\u001b[0m\n",
            "\u001b[2m   Use a production WSGI server instead.\u001b[0m\n",
            " * Debug mode: off\n"
          ],
          "name": "stdout"
        },
        {
          "output_type": "stream",
          "text": [
            " * Running on http://127.0.0.1:5000/ (Press CTRL+C to quit)\n"
          ],
          "name": "stderr"
        },
        {
          "output_type": "stream",
          "text": [
            " * Running on http://5e5f7e763c4c.ngrok.io\n",
            " * Traffic stats available on http://127.0.0.1:4040\n"
          ],
          "name": "stdout"
        },
        {
          "output_type": "stream",
          "text": [
            "127.0.0.1 - - [28/Jul/2021 08:04:37] \"\u001b[37mGET / HTTP/1.1\u001b[0m\" 200 -\n",
            "127.0.0.1 - - [28/Jul/2021 08:04:37] \"\u001b[33mGET /favicon.ico HTTP/1.1\u001b[0m\" 404 -\n",
            "127.0.0.1 - - [28/Jul/2021 08:05:10] \"\u001b[37mPOST /callback HTTP/1.1\u001b[0m\" 200 -\n",
            "127.0.0.1 - - [28/Jul/2021 08:05:14] \"\u001b[37mPOST /callback HTTP/1.1\u001b[0m\" 200 -\n"
          ],
          "name": "stderr"
        }
      ]
    },
    {
      "cell_type": "code",
      "metadata": {
        "id": "WE5zGoNvIg8R"
      },
      "source": [
        "##以下是有問題的ButtonsTemplate....\n",
        "def buttons_message():\n",
        "  message=TemplateSendMessage(\n",
        "      alt_text='最新訊息',\n",
        "      template=ButtonsTemplate(\n",
        "          thumbnail_image_url=\"https://image.flaticon.com/icons/png/256/5020/5020405.png\",\n",
        "          title='是否參加抽獎?',\n",
        "          actions=[\n",
        "            DatetimePickerTemplateAction(\n",
        "                label='請選生日:',\n",
        "                data='input_birthday',\n",
        "                mode='date',\n",
        "                initial='1990-01-01',\n",
        "                max='2019-03-10',\n",
        "                min='1900-01-01'\n",
        "            ),\n",
        "            MessageTemplateAction(\n",
        "                label='看抽獎品項',\n",
        "                text='有哪些抽獎品項呢?'\n",
        "            ),\n",
        "            URITemplateAction(\n",
        "                label='免費註冊享優惠..',\n",
        "                uri='https://www.google.com'\n",
        "            )\n",
        "          ]\n",
        "      )\n",
        "  )\n",
        "  return message"
      ],
      "execution_count": null,
      "outputs": []
    },
    {
      "cell_type": "code",
      "metadata": {
        "colab": {
          "base_uri": "https://localhost:8080/"
        },
        "id": "y4NSt4rzuIde",
        "outputId": "c69a13b9-67de-4acf-b11d-6fe6f28c2d27"
      },
      "source": [
        "##不知道print出來的東西會在哪裏?\n",
        "from flask_ngrok import run_with_ngrok\n",
        "from flask import Flask, request, abort\n",
        "from flask_cors import CORS\n",
        "from datetime import date\n",
        "from linebot import (LineBotApi, WebhookHandler)\n",
        "from linebot.exceptions import (InvalidSignatureError)\n",
        "from linebot.models import (MessageEvent, TextMessage,TextSendMessage)\n",
        "today=date.today()\n",
        "app=Flask(__name__)\n",
        "CORS(app)\n",
        "line_bot_api=LineBotApi('p3/PN2ckr0z59bMYA4szL6fR2f7Ux2W7J2sOtgR4mDy2hbj4FxAn5A/V26AdBBl5qY5oWb32NOHkCOdJhnUV/+zDkbAp0cElS75xx7/lHNPWP+MnZNv1Uns+cnarC+ttgyH9wGmHP+CMTnbUI72lbwdB04t89/1O/w1cDnyilFU=')\n",
        "handler=WebhookHandler('3f7b23f9d983e33e5861d314e644c2c7')\n",
        "run_with_ngrok(app)\n",
        "\n",
        "@app.route('/')\n",
        "def hello():\n",
        "  name=request.args.get(\"name\",\"World\")\n",
        "  ##return f'Hello, {name} !'+str(today)\n",
        "  return '這是PythonLineBot'+str(today)\n",
        "\n",
        "@app.route('/callback',methods=['POST'])\n",
        "def callback():\n",
        "  signature=request.headers['X-Line-Signature']\n",
        "  body=request.get_data(as_text=True)\n",
        "  \n",
        "  requestJson=request.get_json()\n",
        "  print(requestJson)\n",
        "  print(\"使用者id:\"+requestJson[\"events\"][0]['source']['userId'])\n",
        "  app.logger.info(\"Request body:\"+body)\n",
        "\n",
        "  app.logger.info(\"Request body:\"+body)\n",
        "  try:\n",
        "    handler.handle(body,signature)\n",
        "  except InvalidSignatureError:\n",
        "    print(\"Access token 錯誤\")\n",
        "    abort(400)\n",
        "  return 'OK'\n",
        "\n",
        "@handler.add(MessageEvent, message=TextMessage)\n",
        "def handle_message(event):\n",
        "  line_bot_api.reply_message(\n",
        "      event.reply_token,\n",
        "      TextSendMessage(text=event.message.text+'-->'+str(today))\n",
        "  )\n",
        "\n",
        "app.run()"
      ],
      "execution_count": null,
      "outputs": [
        {
          "output_type": "stream",
          "text": [
            " * Serving Flask app \"__main__\" (lazy loading)\n",
            " * Environment: production\n",
            "\u001b[31m   WARNING: This is a development server. Do not use it in a production deployment.\u001b[0m\n",
            "\u001b[2m   Use a production WSGI server instead.\u001b[0m\n",
            " * Debug mode: off\n"
          ],
          "name": "stdout"
        },
        {
          "output_type": "stream",
          "text": [
            " * Running on http://127.0.0.1:5000/ (Press CTRL+C to quit)\n"
          ],
          "name": "stderr"
        },
        {
          "output_type": "stream",
          "text": [
            " * Running on http://3d367ca0c1c7.ngrok.io\n",
            " * Traffic stats available on http://127.0.0.1:4040\n"
          ],
          "name": "stdout"
        },
        {
          "output_type": "stream",
          "text": [
            "127.0.0.1 - - [27/Jul/2021 09:11:39] \"\u001b[37mGET / HTTP/1.1\u001b[0m\" 200 -\n",
            "127.0.0.1 - - [27/Jul/2021 09:11:39] \"\u001b[33mGET /favicon.ico HTTP/1.1\u001b[0m\" 404 -\n",
            "127.0.0.1 - - [27/Jul/2021 09:11:57] \"\u001b[31m\u001b[1mGET /callback HTTP/1.1\u001b[0m\" 405 -\n",
            "127.0.0.1 - - [27/Jul/2021 09:11:57] \"\u001b[33mGET /favicon.ico HTTP/1.1\u001b[0m\" 404 -\n",
            "127.0.0.1 - - [27/Jul/2021 09:12:12] \"\u001b[33mGET /callback/ HTTP/1.1\u001b[0m\" 404 -\n",
            "127.0.0.1 - - [27/Jul/2021 09:12:32] \"\u001b[33mGET /callback/send/AAA HTTP/1.1\u001b[0m\" 404 -\n",
            "127.0.0.1 - - [27/Jul/2021 09:13:34] \"\u001b[33mGET /callback/send/AAA/Ucb5d982c74cd386200ab3bfa798dd9ab HTTP/1.1\u001b[0m\" 404 -\n"
          ],
          "name": "stderr"
        }
      ]
    },
    {
      "cell_type": "code",
      "metadata": {
        "colab": {
          "base_uri": "https://localhost:8080/"
        },
        "id": "cTTiCo3zQCnO",
        "outputId": "ad5414e3-9017-4c57-86a7-3f49feba3046"
      },
      "source": [
        "from flask_ngrok import run_with_ngrok\n",
        "from flask import Flask, request, abort\n",
        "from flask_cors import CORS\n",
        "from datetime import date\n",
        "from linebot import (LineBotApi, WebhookHandler)\n",
        "from linebot.exceptions import (InvalidSignatureError)\n",
        "from linebot.models import (MessageEvent, TextMessage,TextSendMessage)\n",
        "today=date.today()\n",
        "app=Flask(__name__)\n",
        "CORS(app)\n",
        "line_bot_api=LineBotApi('p3/PN2ckr0z59bMYA4szL6fR2f7Ux2W7J2sOtgR4mDy2hbj4FxAn5A/V26AdBBl5qY5oWb32NOHkCOdJhnUV/+zDkbAp0cElS75xx7/lHNPWP+MnZNv1Uns+cnarC+ttgyH9wGmHP+CMTnbUI72lbwdB04t89/1O/w1cDnyilFU=')\n",
        "handler=WebhookHandler('3f7b23f9d983e33e5861d314e644c2c7')\n",
        "run_with_ngrok(app)\n",
        "\n",
        "@app.route('/')\n",
        "def hello():\n",
        "  name=request.args.get(\"name\",\"World\")\n",
        "  ##return f'Hello, {name} !'+str(today)\n",
        "  return '這是PythonLineBot'+str(today)\n",
        "\n",
        "@app.route('/callback',methods=['POST'])\n",
        "def callback():\n",
        "  signature=request.headers['X-Line-Signature']\n",
        "  body=request.get_data(as_text=True)\n",
        "  \n",
        "  requestJson=request.get_json()\n",
        "  print(requestJson)\n",
        "  print(\"使用者id:\"+requestJson[\"events\"][0]['source']['userId'])\n",
        "  app.logger.info(\"Request body:\"+body)\n",
        "\n",
        "  app.logger.info(\"Request body:\"+body)\n",
        "  try:\n",
        "    handler.handle(body,signature)\n",
        "  except InvalidSignatureError:\n",
        "    print(\"Access token 錯誤\")\n",
        "    abort(400)\n",
        "  return 'OK'\n",
        "\n",
        "import linebot \n",
        "@app.route('/send/<path:message>/<id>',methods=['GET'])\n",
        "def send(message,id):\n",
        "  try:\n",
        "    line_bot_api.push_message(id,TextSendMessage(text=message))\n",
        "  except linebot.exceptions.LineBotApiError as e:\n",
        "    print(e.status_code)\n",
        "    print(e.error.message)\n",
        "    print(e.error.details)\n",
        "  return 'OK'\n",
        "\n",
        "app.run()"
      ],
      "execution_count": null,
      "outputs": [
        {
          "output_type": "stream",
          "text": [
            " * Serving Flask app \"__main__\" (lazy loading)\n",
            " * Environment: production\n",
            "\u001b[31m   WARNING: This is a development server. Do not use it in a production deployment.\u001b[0m\n",
            "\u001b[2m   Use a production WSGI server instead.\u001b[0m\n",
            " * Debug mode: off\n"
          ],
          "name": "stdout"
        },
        {
          "output_type": "stream",
          "text": [
            " * Running on http://127.0.0.1:5000/ (Press CTRL+C to quit)\n"
          ],
          "name": "stderr"
        },
        {
          "output_type": "stream",
          "text": [
            " * Running on http://2f56f7c0bbf4.ngrok.io\n",
            " * Traffic stats available on http://127.0.0.1:4040\n"
          ],
          "name": "stdout"
        },
        {
          "output_type": "stream",
          "text": [
            "127.0.0.1 - - [27/Jul/2021 09:29:25] \"\u001b[37mGET / HTTP/1.1\u001b[0m\" 200 -\n",
            "127.0.0.1 - - [27/Jul/2021 09:29:25] \"\u001b[33mGET /favicon.ico HTTP/1.1\u001b[0m\" 404 -\n",
            "127.0.0.1 - - [27/Jul/2021 09:29:32] \"\u001b[37mGET /send/AAA/Ucb5d982c74cd386200ab3bfa798dd9ab HTTP/1.1\u001b[0m\" 200 -\n",
            "127.0.0.1 - - [27/Jul/2021 09:29:32] \"\u001b[33mGET /favicon.ico HTTP/1.1\u001b[0m\" 404 -\n",
            "127.0.0.1 - - [27/Jul/2021 09:29:47] \"\u001b[37mGET /send/戴月明/Ucb5d982c74cd386200ab3bfa798dd9ab HTTP/1.1\u001b[0m\" 200 -\n",
            "127.0.0.1 - - [27/Jul/2021 09:31:57] \"\u001b[33mGET /send/戴月明/ HTTP/1.1\u001b[0m\" 404 -\n",
            "127.0.0.1 - - [27/Jul/2021 09:32:03] \"\u001b[33mGET /send/戴月明 HTTP/1.1\u001b[0m\" 404 -\n",
            "127.0.0.1 - - [27/Jul/2021 09:32:08] \"\u001b[37mGET /send/戴月明/123 HTTP/1.1\u001b[0m\" 200 -\n"
          ],
          "name": "stderr"
        },
        {
          "output_type": "stream",
          "text": [
            "400\n",
            "The property, 'to', in the request body is invalid (line: -, column: -)\n",
            "[]\n"
          ],
          "name": "stdout"
        }
      ]
    }
  ]
}