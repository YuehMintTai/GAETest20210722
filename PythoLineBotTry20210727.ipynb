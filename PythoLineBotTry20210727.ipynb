{
  "nbformat": 4,
  "nbformat_minor": 0,
  "metadata": {
    "colab": {
      "name": "PythoLineBotTry20210727.ipynb",
      "provenance": [],
      "authorship_tag": "ABX9TyOJkBuiYnY6Z88VZKb3FK9n",
      "include_colab_link": true
    },
    "kernelspec": {
      "name": "python3",
      "display_name": "Python 3"
    },
    "language_info": {
      "name": "python"
    }
  },
  "cells": [
    {
      "cell_type": "markdown",
      "metadata": {
        "id": "view-in-github",
        "colab_type": "text"
      },
      "source": [
        "<a href=\"https://colab.research.google.com/github/YuehMintTai/GAETest20210722/blob/main/PythoLineBotTry20210727.ipynb\" target=\"_parent\"><img src=\"https://colab.research.google.com/assets/colab-badge.svg\" alt=\"Open In Colab\"/></a>"
      ]
    },
    {
      "cell_type": "markdown",
      "metadata": {
        "id": "raHSQu6ct_Wy"
      },
      "source": [
        "#Python -flask-ngrok-LineBot try 20210727\n"
      ]
    },
    {
      "cell_type": "code",
      "metadata": {
        "colab": {
          "base_uri": "https://localhost:8080/"
        },
        "id": "uG_vozXVtVJ9",
        "outputId": "e9d89c99-bdd7-4c3a-fe97-13f0db15018f"
      },
      "source": [
        "!pip install flask_ngrok"
      ],
      "execution_count": 1,
      "outputs": [
        {
          "output_type": "stream",
          "text": [
            "Collecting flask_ngrok\n",
            "  Downloading flask_ngrok-0.0.25-py3-none-any.whl (3.1 kB)\n",
            "Requirement already satisfied: requests in /usr/local/lib/python3.7/dist-packages (from flask_ngrok) (2.23.0)\n",
            "Requirement already satisfied: Flask>=0.8 in /usr/local/lib/python3.7/dist-packages (from flask_ngrok) (1.1.4)\n",
            "Requirement already satisfied: Werkzeug<2.0,>=0.15 in /usr/local/lib/python3.7/dist-packages (from Flask>=0.8->flask_ngrok) (1.0.1)\n",
            "Requirement already satisfied: Jinja2<3.0,>=2.10.1 in /usr/local/lib/python3.7/dist-packages (from Flask>=0.8->flask_ngrok) (2.11.3)\n",
            "Requirement already satisfied: click<8.0,>=5.1 in /usr/local/lib/python3.7/dist-packages (from Flask>=0.8->flask_ngrok) (7.1.2)\n",
            "Requirement already satisfied: itsdangerous<2.0,>=0.24 in /usr/local/lib/python3.7/dist-packages (from Flask>=0.8->flask_ngrok) (1.1.0)\n",
            "Requirement already satisfied: MarkupSafe>=0.23 in /usr/local/lib/python3.7/dist-packages (from Jinja2<3.0,>=2.10.1->Flask>=0.8->flask_ngrok) (2.0.1)\n",
            "Requirement already satisfied: chardet<4,>=3.0.2 in /usr/local/lib/python3.7/dist-packages (from requests->flask_ngrok) (3.0.4)\n",
            "Requirement already satisfied: urllib3!=1.25.0,!=1.25.1,<1.26,>=1.21.1 in /usr/local/lib/python3.7/dist-packages (from requests->flask_ngrok) (1.24.3)\n",
            "Requirement already satisfied: certifi>=2017.4.17 in /usr/local/lib/python3.7/dist-packages (from requests->flask_ngrok) (2021.5.30)\n",
            "Requirement already satisfied: idna<3,>=2.5 in /usr/local/lib/python3.7/dist-packages (from requests->flask_ngrok) (2.10)\n",
            "Installing collected packages: flask-ngrok\n",
            "Successfully installed flask-ngrok-0.0.25\n"
          ],
          "name": "stdout"
        }
      ]
    },
    {
      "cell_type": "code",
      "metadata": {
        "colab": {
          "base_uri": "https://localhost:8080/"
        },
        "id": "dWaTHM843N0t",
        "outputId": "8cf5f40e-5743-4bf2-c65d-27974b01ceae"
      },
      "source": [
        "!pip install flask-cors\n",
        "!pip install line-bot-sdk"
      ],
      "execution_count": 2,
      "outputs": [
        {
          "output_type": "stream",
          "text": [
            "Collecting flask-cors\n",
            "  Downloading Flask_Cors-3.0.10-py2.py3-none-any.whl (14 kB)\n",
            "Requirement already satisfied: Flask>=0.9 in /usr/local/lib/python3.7/dist-packages (from flask-cors) (1.1.4)\n",
            "Requirement already satisfied: Six in /usr/local/lib/python3.7/dist-packages (from flask-cors) (1.15.0)\n",
            "Requirement already satisfied: itsdangerous<2.0,>=0.24 in /usr/local/lib/python3.7/dist-packages (from Flask>=0.9->flask-cors) (1.1.0)\n",
            "Requirement already satisfied: Werkzeug<2.0,>=0.15 in /usr/local/lib/python3.7/dist-packages (from Flask>=0.9->flask-cors) (1.0.1)\n",
            "Requirement already satisfied: Jinja2<3.0,>=2.10.1 in /usr/local/lib/python3.7/dist-packages (from Flask>=0.9->flask-cors) (2.11.3)\n",
            "Requirement already satisfied: click<8.0,>=5.1 in /usr/local/lib/python3.7/dist-packages (from Flask>=0.9->flask-cors) (7.1.2)\n",
            "Requirement already satisfied: MarkupSafe>=0.23 in /usr/local/lib/python3.7/dist-packages (from Jinja2<3.0,>=2.10.1->Flask>=0.9->flask-cors) (2.0.1)\n",
            "Installing collected packages: flask-cors\n",
            "Successfully installed flask-cors-3.0.10\n",
            "Collecting line-bot-sdk\n",
            "  Downloading line_bot_sdk-1.19.0-py2.py3-none-any.whl (68 kB)\n",
            "\u001b[K     |████████████████████████████████| 68 kB 4.3 MB/s \n",
            "\u001b[?25hRequirement already satisfied: requests>=2.0 in /usr/local/lib/python3.7/dist-packages (from line-bot-sdk) (2.23.0)\n",
            "Requirement already satisfied: future in /usr/local/lib/python3.7/dist-packages (from line-bot-sdk) (0.16.0)\n",
            "Requirement already satisfied: idna<3,>=2.5 in /usr/local/lib/python3.7/dist-packages (from requests>=2.0->line-bot-sdk) (2.10)\n",
            "Requirement already satisfied: urllib3!=1.25.0,!=1.25.1,<1.26,>=1.21.1 in /usr/local/lib/python3.7/dist-packages (from requests>=2.0->line-bot-sdk) (1.24.3)\n",
            "Requirement already satisfied: chardet<4,>=3.0.2 in /usr/local/lib/python3.7/dist-packages (from requests>=2.0->line-bot-sdk) (3.0.4)\n",
            "Requirement already satisfied: certifi>=2017.4.17 in /usr/local/lib/python3.7/dist-packages (from requests>=2.0->line-bot-sdk) (2021.5.30)\n",
            "Installing collected packages: line-bot-sdk\n",
            "Successfully installed line-bot-sdk-1.19.0\n"
          ],
          "name": "stdout"
        }
      ]
    },
    {
      "cell_type": "code",
      "metadata": {
        "colab": {
          "base_uri": "https://localhost:8080/"
        },
        "id": "loesvvzhxCYL",
        "outputId": "5b083ec1-5f3c-4e92-dc12-35dd6c559bf2"
      },
      "source": [
        "##使用text以外的傳訊方式...\n",
        "from flask_ngrok import run_with_ngrok\n",
        "from flask import Flask,request,abort\n",
        "from flask_cors import CORS\n",
        "from datetime import date \n",
        "from linebot import (LineBotApi, WebhookHandler)\n",
        "from linebot.exceptions import (InvalidSignatureError)\n",
        "from linebot.models import *\n",
        "\n",
        "today=date.today()\n",
        "app=Flask(__name__)\n",
        "CORS(app)\n",
        "line_bot_api=LineBotApi('p3/PN2ckr0z59bMYA4szL6fR2f7Ux2W7J2sOtgR4mDy2hbj4FxAn5A/V26AdBBl5qY5oWb32NOHkCOdJhnUV/+zDkbAp0cElS75xx7/lHNPWP+MnZNv1Uns+cnarC+ttgyH9wGmHP+CMTnbUI72lbwdB04t89/1O/w1cDnyilFU=')\n",
        "handler=WebhookHandler('3f7b23f9d983e33e5861d314e644c2c7')\n",
        "run_with_ngrok(app)\n",
        "\n",
        "@app.route('/')\n",
        "def hello():\n",
        "  return '歡迎使用本API-->'+str(today)\n",
        "\n",
        "@app.route('/callback',methods=['POST'])\n",
        "def callback():\n",
        "  signature=request.headers['X-Line-Signature']\n",
        "  body=request.get_data(as_text=True)\n",
        "  app.logger.info(\"Request body:\"+body)\n",
        "  try:\n",
        "    handler.handle(body,signature)\n",
        "  except InvalidSignatureError:\n",
        "    abort(400)\n",
        "  return 'OK'\n",
        "\n",
        "def buttons_message():\n",
        "  message=TemplateSendMessage(\n",
        "      alt_text='最新訊息',\n",
        "      template=ButtonsTemplate(\n",
        "          thumbnail_image_url=\"https://image.flaticon.com/icons/png/256/5020/5020405.png\",\n",
        "          title='是否參加抽獎?',\n",
        "          actions=[\n",
        "            DatetimePickerTemplateAction(\n",
        "                label='請選生日:',\n",
        "                data='input_birthday',\n",
        "                mode='date',\n",
        "                initial='1990-01-01',\n",
        "                max='2019-03-10',\n",
        "                min='1900-01-01'\n",
        "            ),\n",
        "            MessageTemplateAction(\n",
        "                label='看抽獎品項',\n",
        "                text='有哪些抽獎品項呢?'\n",
        "            ),\n",
        "            URITemplateAction(\n",
        "                label='免費註冊享優惠..',\n",
        "                uri='https://www.google.com'\n",
        "            )\n",
        "          ]\n",
        "      )\n",
        "  )\n",
        "  return message\n",
        "\n",
        "def Confirm_template():\n",
        "  message=TemplateSendMessage(\n",
        "      alt_text='AAA',\n",
        "      template=ConfirmTemplate(\n",
        "          text='BBBB',\n",
        "          actions=[\n",
        "                   PostbackTemplateAction(\n",
        "                       label='label',\n",
        "                       text='text',\n",
        "                       data='data'\n",
        "                   ),\n",
        "                   MessageTemplateAction(\n",
        "                       label='label...',\n",
        "                       text='text...'\n",
        "                   )\n",
        "          ]\n",
        "      )\n",
        "  )\n",
        "  return message\n",
        "\n",
        "\n",
        "@handler.add(MessageEvent,message=TextMessage)\n",
        "def hanle_message(event):\n",
        "  msg=event.message.text\n",
        "  message=Confirm_template()\n",
        "  line_bot_api.reply_message(event.reply_token,message)\n",
        "app.run()\n"
      ],
      "execution_count": 13,
      "outputs": [
        {
          "output_type": "stream",
          "text": [
            " * Serving Flask app \"__main__\" (lazy loading)\n",
            " * Environment: production\n",
            "\u001b[31m   WARNING: This is a development server. Do not use it in a production deployment.\u001b[0m\n",
            "\u001b[2m   Use a production WSGI server instead.\u001b[0m\n",
            " * Debug mode: off\n"
          ],
          "name": "stdout"
        },
        {
          "output_type": "stream",
          "text": [
            " * Running on http://127.0.0.1:5000/ (Press CTRL+C to quit)\n"
          ],
          "name": "stderr"
        },
        {
          "output_type": "stream",
          "text": [
            " * Running on http://186b13cc13eb.ngrok.io\n",
            " * Traffic stats available on http://127.0.0.1:4040\n"
          ],
          "name": "stdout"
        },
        {
          "output_type": "stream",
          "text": [
            "127.0.0.1 - - [28/Jul/2021 03:49:04] \"\u001b[37mGET / HTTP/1.1\u001b[0m\" 200 -\n",
            "127.0.0.1 - - [28/Jul/2021 03:49:04] \"\u001b[33mGET /favicon.ico HTTP/1.1\u001b[0m\" 404 -\n",
            "127.0.0.1 - - [28/Jul/2021 03:49:28] \"\u001b[37mPOST /callback HTTP/1.1\u001b[0m\" 200 -\n",
            "127.0.0.1 - - [28/Jul/2021 03:49:49] \"\u001b[37mPOST /callback HTTP/1.1\u001b[0m\" 200 -\n",
            "127.0.0.1 - - [28/Jul/2021 03:49:52] \"\u001b[37mPOST /callback HTTP/1.1\u001b[0m\" 200 -\n",
            "127.0.0.1 - - [28/Jul/2021 03:49:55] \"\u001b[37mPOST /callback HTTP/1.1\u001b[0m\" 200 -\n",
            "127.0.0.1 - - [28/Jul/2021 03:50:03] \"\u001b[37mPOST /callback HTTP/1.1\u001b[0m\" 200 -\n",
            "127.0.0.1 - - [28/Jul/2021 03:50:25] \"\u001b[37mPOST /callback HTTP/1.1\u001b[0m\" 200 -\n"
          ],
          "name": "stderr"
        }
      ]
    },
    {
      "cell_type": "code",
      "metadata": {
        "colab": {
          "base_uri": "https://localhost:8080/"
        },
        "id": "y4NSt4rzuIde",
        "outputId": "c69a13b9-67de-4acf-b11d-6fe6f28c2d27"
      },
      "source": [
        "##不知道print出來的東西會在哪裏?\n",
        "from flask_ngrok import run_with_ngrok\n",
        "from flask import Flask, request, abort\n",
        "from flask_cors import CORS\n",
        "from datetime import date\n",
        "from linebot import (LineBotApi, WebhookHandler)\n",
        "from linebot.exceptions import (InvalidSignatureError)\n",
        "from linebot.models import (MessageEvent, TextMessage,TextSendMessage)\n",
        "today=date.today()\n",
        "app=Flask(__name__)\n",
        "CORS(app)\n",
        "line_bot_api=LineBotApi('p3/PN2ckr0z59bMYA4szL6fR2f7Ux2W7J2sOtgR4mDy2hbj4FxAn5A/V26AdBBl5qY5oWb32NOHkCOdJhnUV/+zDkbAp0cElS75xx7/lHNPWP+MnZNv1Uns+cnarC+ttgyH9wGmHP+CMTnbUI72lbwdB04t89/1O/w1cDnyilFU=')\n",
        "handler=WebhookHandler('3f7b23f9d983e33e5861d314e644c2c7')\n",
        "run_with_ngrok(app)\n",
        "\n",
        "@app.route('/')\n",
        "def hello():\n",
        "  name=request.args.get(\"name\",\"World\")\n",
        "  ##return f'Hello, {name} !'+str(today)\n",
        "  return '這是PythonLineBot'+str(today)\n",
        "\n",
        "@app.route('/callback',methods=['POST'])\n",
        "def callback():\n",
        "  signature=request.headers['X-Line-Signature']\n",
        "  body=request.get_data(as_text=True)\n",
        "  \n",
        "  requestJson=request.get_json()\n",
        "  print(requestJson)\n",
        "  print(\"使用者id:\"+requestJson[\"events\"][0]['source']['userId'])\n",
        "  app.logger.info(\"Request body:\"+body)\n",
        "\n",
        "  app.logger.info(\"Request body:\"+body)\n",
        "  try:\n",
        "    handler.handle(body,signature)\n",
        "  except InvalidSignatureError:\n",
        "    print(\"Access token 錯誤\")\n",
        "    abort(400)\n",
        "  return 'OK'\n",
        "\n",
        "@handler.add(MessageEvent, message=TextMessage)\n",
        "def handle_message(event):\n",
        "  line_bot_api.reply_message(\n",
        "      event.reply_token,\n",
        "      TextSendMessage(text=event.message.text+'-->'+str(today))\n",
        "  )\n",
        "\n",
        "app.run()"
      ],
      "execution_count": null,
      "outputs": [
        {
          "output_type": "stream",
          "text": [
            " * Serving Flask app \"__main__\" (lazy loading)\n",
            " * Environment: production\n",
            "\u001b[31m   WARNING: This is a development server. Do not use it in a production deployment.\u001b[0m\n",
            "\u001b[2m   Use a production WSGI server instead.\u001b[0m\n",
            " * Debug mode: off\n"
          ],
          "name": "stdout"
        },
        {
          "output_type": "stream",
          "text": [
            " * Running on http://127.0.0.1:5000/ (Press CTRL+C to quit)\n"
          ],
          "name": "stderr"
        },
        {
          "output_type": "stream",
          "text": [
            " * Running on http://3d367ca0c1c7.ngrok.io\n",
            " * Traffic stats available on http://127.0.0.1:4040\n"
          ],
          "name": "stdout"
        },
        {
          "output_type": "stream",
          "text": [
            "127.0.0.1 - - [27/Jul/2021 09:11:39] \"\u001b[37mGET / HTTP/1.1\u001b[0m\" 200 -\n",
            "127.0.0.1 - - [27/Jul/2021 09:11:39] \"\u001b[33mGET /favicon.ico HTTP/1.1\u001b[0m\" 404 -\n",
            "127.0.0.1 - - [27/Jul/2021 09:11:57] \"\u001b[31m\u001b[1mGET /callback HTTP/1.1\u001b[0m\" 405 -\n",
            "127.0.0.1 - - [27/Jul/2021 09:11:57] \"\u001b[33mGET /favicon.ico HTTP/1.1\u001b[0m\" 404 -\n",
            "127.0.0.1 - - [27/Jul/2021 09:12:12] \"\u001b[33mGET /callback/ HTTP/1.1\u001b[0m\" 404 -\n",
            "127.0.0.1 - - [27/Jul/2021 09:12:32] \"\u001b[33mGET /callback/send/AAA HTTP/1.1\u001b[0m\" 404 -\n",
            "127.0.0.1 - - [27/Jul/2021 09:13:34] \"\u001b[33mGET /callback/send/AAA/Ucb5d982c74cd386200ab3bfa798dd9ab HTTP/1.1\u001b[0m\" 404 -\n"
          ],
          "name": "stderr"
        }
      ]
    },
    {
      "cell_type": "code",
      "metadata": {
        "colab": {
          "base_uri": "https://localhost:8080/"
        },
        "id": "cTTiCo3zQCnO",
        "outputId": "ad5414e3-9017-4c57-86a7-3f49feba3046"
      },
      "source": [
        "from flask_ngrok import run_with_ngrok\n",
        "from flask import Flask, request, abort\n",
        "from flask_cors import CORS\n",
        "from datetime import date\n",
        "from linebot import (LineBotApi, WebhookHandler)\n",
        "from linebot.exceptions import (InvalidSignatureError)\n",
        "from linebot.models import (MessageEvent, TextMessage,TextSendMessage)\n",
        "today=date.today()\n",
        "app=Flask(__name__)\n",
        "CORS(app)\n",
        "line_bot_api=LineBotApi('p3/PN2ckr0z59bMYA4szL6fR2f7Ux2W7J2sOtgR4mDy2hbj4FxAn5A/V26AdBBl5qY5oWb32NOHkCOdJhnUV/+zDkbAp0cElS75xx7/lHNPWP+MnZNv1Uns+cnarC+ttgyH9wGmHP+CMTnbUI72lbwdB04t89/1O/w1cDnyilFU=')\n",
        "handler=WebhookHandler('3f7b23f9d983e33e5861d314e644c2c7')\n",
        "run_with_ngrok(app)\n",
        "\n",
        "@app.route('/')\n",
        "def hello():\n",
        "  name=request.args.get(\"name\",\"World\")\n",
        "  ##return f'Hello, {name} !'+str(today)\n",
        "  return '這是PythonLineBot'+str(today)\n",
        "\n",
        "@app.route('/callback',methods=['POST'])\n",
        "def callback():\n",
        "  signature=request.headers['X-Line-Signature']\n",
        "  body=request.get_data(as_text=True)\n",
        "  \n",
        "  requestJson=request.get_json()\n",
        "  print(requestJson)\n",
        "  print(\"使用者id:\"+requestJson[\"events\"][0]['source']['userId'])\n",
        "  app.logger.info(\"Request body:\"+body)\n",
        "\n",
        "  app.logger.info(\"Request body:\"+body)\n",
        "  try:\n",
        "    handler.handle(body,signature)\n",
        "  except InvalidSignatureError:\n",
        "    print(\"Access token 錯誤\")\n",
        "    abort(400)\n",
        "  return 'OK'\n",
        "\n",
        "import linebot \n",
        "@app.route('/send/<path:message>/<id>',methods=['GET'])\n",
        "def send(message,id):\n",
        "  try:\n",
        "    line_bot_api.push_message(id,TextSendMessage(text=message))\n",
        "  except linebot.exceptions.LineBotApiError as e:\n",
        "    print(e.status_code)\n",
        "    print(e.error.message)\n",
        "    print(e.error.details)\n",
        "  return 'OK'\n",
        "\n",
        "app.run()"
      ],
      "execution_count": null,
      "outputs": [
        {
          "output_type": "stream",
          "text": [
            " * Serving Flask app \"__main__\" (lazy loading)\n",
            " * Environment: production\n",
            "\u001b[31m   WARNING: This is a development server. Do not use it in a production deployment.\u001b[0m\n",
            "\u001b[2m   Use a production WSGI server instead.\u001b[0m\n",
            " * Debug mode: off\n"
          ],
          "name": "stdout"
        },
        {
          "output_type": "stream",
          "text": [
            " * Running on http://127.0.0.1:5000/ (Press CTRL+C to quit)\n"
          ],
          "name": "stderr"
        },
        {
          "output_type": "stream",
          "text": [
            " * Running on http://2f56f7c0bbf4.ngrok.io\n",
            " * Traffic stats available on http://127.0.0.1:4040\n"
          ],
          "name": "stdout"
        },
        {
          "output_type": "stream",
          "text": [
            "127.0.0.1 - - [27/Jul/2021 09:29:25] \"\u001b[37mGET / HTTP/1.1\u001b[0m\" 200 -\n",
            "127.0.0.1 - - [27/Jul/2021 09:29:25] \"\u001b[33mGET /favicon.ico HTTP/1.1\u001b[0m\" 404 -\n",
            "127.0.0.1 - - [27/Jul/2021 09:29:32] \"\u001b[37mGET /send/AAA/Ucb5d982c74cd386200ab3bfa798dd9ab HTTP/1.1\u001b[0m\" 200 -\n",
            "127.0.0.1 - - [27/Jul/2021 09:29:32] \"\u001b[33mGET /favicon.ico HTTP/1.1\u001b[0m\" 404 -\n",
            "127.0.0.1 - - [27/Jul/2021 09:29:47] \"\u001b[37mGET /send/戴月明/Ucb5d982c74cd386200ab3bfa798dd9ab HTTP/1.1\u001b[0m\" 200 -\n",
            "127.0.0.1 - - [27/Jul/2021 09:31:57] \"\u001b[33mGET /send/戴月明/ HTTP/1.1\u001b[0m\" 404 -\n",
            "127.0.0.1 - - [27/Jul/2021 09:32:03] \"\u001b[33mGET /send/戴月明 HTTP/1.1\u001b[0m\" 404 -\n",
            "127.0.0.1 - - [27/Jul/2021 09:32:08] \"\u001b[37mGET /send/戴月明/123 HTTP/1.1\u001b[0m\" 200 -\n"
          ],
          "name": "stderr"
        },
        {
          "output_type": "stream",
          "text": [
            "400\n",
            "The property, 'to', in the request body is invalid (line: -, column: -)\n",
            "[]\n"
          ],
          "name": "stdout"
        }
      ]
    }
  ]
}