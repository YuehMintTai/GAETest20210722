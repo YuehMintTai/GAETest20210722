{
  "nbformat": 4,
  "nbformat_minor": 0,
  "metadata": {
    "colab": {
      "name": "三總北投門診助手7.0.ipynb",
      "provenance": [],
      "authorship_tag": "ABX9TyN6chWUg/zmfiSrNgBeXRA7",
      "include_colab_link": true
    },
    "kernelspec": {
      "name": "python3",
      "display_name": "Python 3"
    },
    "language_info": {
      "name": "python"
    }
  },
  "cells": [
    {
      "cell_type": "markdown",
      "metadata": {
        "id": "view-in-github",
        "colab_type": "text"
      },
      "source": [
        "<a href=\"https://colab.research.google.com/github/YuehMintTai/GAETest20210722/blob/main/%E4%B8%89%E7%B8%BD%E5%8C%97%E6%8A%95%E9%96%80%E8%A8%BA%E5%8A%A9%E6%89%8B7_0.ipynb\" target=\"_parent\"><img src=\"https://colab.research.google.com/assets/colab-badge.svg\" alt=\"Open In Colab\"/></a>"
      ]
    },
    {
      "cell_type": "code",
      "metadata": {
        "id": "K_yr-4HxhvJb",
        "colab": {
          "base_uri": "https://localhost:8080/"
        },
        "outputId": "b3c29453-4ae5-4b26-f7d1-23b61c80b56b"
      },
      "source": [
        "!pip install flask_ngrok\n",
        "!pip install line-bot-sdk\n",
        "!pip install bs4\n",
        "!pip install requests"
      ],
      "execution_count": null,
      "outputs": [
        {
          "output_type": "stream",
          "name": "stdout",
          "text": [
            "Collecting flask_ngrok\n",
            "  Downloading flask_ngrok-0.0.25-py3-none-any.whl (3.1 kB)\n",
            "Requirement already satisfied: requests in /usr/local/lib/python3.7/dist-packages (from flask_ngrok) (2.23.0)\n",
            "Requirement already satisfied: Flask>=0.8 in /usr/local/lib/python3.7/dist-packages (from flask_ngrok) (1.1.4)\n",
            "Requirement already satisfied: itsdangerous<2.0,>=0.24 in /usr/local/lib/python3.7/dist-packages (from Flask>=0.8->flask_ngrok) (1.1.0)\n",
            "Requirement already satisfied: Jinja2<3.0,>=2.10.1 in /usr/local/lib/python3.7/dist-packages (from Flask>=0.8->flask_ngrok) (2.11.3)\n",
            "Requirement already satisfied: click<8.0,>=5.1 in /usr/local/lib/python3.7/dist-packages (from Flask>=0.8->flask_ngrok) (7.1.2)\n",
            "Requirement already satisfied: Werkzeug<2.0,>=0.15 in /usr/local/lib/python3.7/dist-packages (from Flask>=0.8->flask_ngrok) (1.0.1)\n",
            "Requirement already satisfied: MarkupSafe>=0.23 in /usr/local/lib/python3.7/dist-packages (from Jinja2<3.0,>=2.10.1->Flask>=0.8->flask_ngrok) (2.0.1)\n",
            "Requirement already satisfied: certifi>=2017.4.17 in /usr/local/lib/python3.7/dist-packages (from requests->flask_ngrok) (2021.5.30)\n",
            "Requirement already satisfied: idna<3,>=2.5 in /usr/local/lib/python3.7/dist-packages (from requests->flask_ngrok) (2.10)\n",
            "Requirement already satisfied: urllib3!=1.25.0,!=1.25.1,<1.26,>=1.21.1 in /usr/local/lib/python3.7/dist-packages (from requests->flask_ngrok) (1.24.3)\n",
            "Requirement already satisfied: chardet<4,>=3.0.2 in /usr/local/lib/python3.7/dist-packages (from requests->flask_ngrok) (3.0.4)\n",
            "Installing collected packages: flask-ngrok\n",
            "Successfully installed flask-ngrok-0.0.25\n",
            "Collecting line-bot-sdk\n",
            "  Downloading line_bot_sdk-1.20.0-py2.py3-none-any.whl (72 kB)\n",
            "\u001b[K     |████████████████████████████████| 72 kB 513 kB/s \n",
            "\u001b[?25hRequirement already satisfied: requests>=2.0 in /usr/local/lib/python3.7/dist-packages (from line-bot-sdk) (2.23.0)\n",
            "Requirement already satisfied: future in /usr/local/lib/python3.7/dist-packages (from line-bot-sdk) (0.16.0)\n",
            "Requirement already satisfied: certifi>=2017.4.17 in /usr/local/lib/python3.7/dist-packages (from requests>=2.0->line-bot-sdk) (2021.5.30)\n",
            "Requirement already satisfied: urllib3!=1.25.0,!=1.25.1,<1.26,>=1.21.1 in /usr/local/lib/python3.7/dist-packages (from requests>=2.0->line-bot-sdk) (1.24.3)\n",
            "Requirement already satisfied: idna<3,>=2.5 in /usr/local/lib/python3.7/dist-packages (from requests>=2.0->line-bot-sdk) (2.10)\n",
            "Requirement already satisfied: chardet<4,>=3.0.2 in /usr/local/lib/python3.7/dist-packages (from requests>=2.0->line-bot-sdk) (3.0.4)\n",
            "Installing collected packages: line-bot-sdk\n",
            "Successfully installed line-bot-sdk-1.20.0\n",
            "Requirement already satisfied: bs4 in /usr/local/lib/python3.7/dist-packages (0.0.1)\n",
            "Requirement already satisfied: beautifulsoup4 in /usr/local/lib/python3.7/dist-packages (from bs4) (4.6.3)\n",
            "Requirement already satisfied: requests in /usr/local/lib/python3.7/dist-packages (2.23.0)\n",
            "Requirement already satisfied: certifi>=2017.4.17 in /usr/local/lib/python3.7/dist-packages (from requests) (2021.5.30)\n",
            "Requirement already satisfied: urllib3!=1.25.0,!=1.25.1,<1.26,>=1.21.1 in /usr/local/lib/python3.7/dist-packages (from requests) (1.24.3)\n",
            "Requirement already satisfied: chardet<4,>=3.0.2 in /usr/local/lib/python3.7/dist-packages (from requests) (3.0.4)\n",
            "Requirement already satisfied: idna<3,>=2.5 in /usr/local/lib/python3.7/dist-packages (from requests) (2.10)\n"
          ]
        }
      ]
    },
    {
      "cell_type": "code",
      "metadata": {
        "id": "dgpViWap_MPf"
      },
      "source": [
        "from flask_ngrok import (run_with_ngrok)\n",
        "from flask import (Flask, request, abort)\n",
        "from linebot import (LineBotApi, WebhookHandler)\n",
        "from linebot.exceptions import (InvalidSignatureError)\n",
        "from linebot.models import *\n",
        "from linebot.models.flex_message import (BubbleContainer, IconComponent)\n",
        "from linebot.models.actions import URIAction\n",
        "from bs4 import BeautifulSoup\n",
        "import requests\n",
        "import OPDAid7_SN\n",
        "import re\n",
        "import myBubbles\n",
        "import myBubbles2"
      ],
      "execution_count": 1,
      "outputs": []
    },
    {
      "cell_type": "code",
      "metadata": {
        "id": "jqx4ogD9PThE",
        "colab": {
          "base_uri": "https://localhost:8080/"
        },
        "outputId": "ad3d085c-5498-43d9-c702-10dfb1e933fd"
      },
      "source": [
        "##myBubble_dir出問題,要修正它...\n",
        "app=Flask(__name__)\n",
        "run_with_ngrok(app)\n",
        "\n",
        "line_bot_api=LineBotApi(OPDAid7_SN.myLineBotApi)\n",
        "handler=WebhookHandler(OPDAid7_SN.myWebhookHandler)\n",
        "myID=OPDAid7_SN.myUserID\n",
        "\n",
        "@app.route('/')\n",
        "def index():\n",
        "  return '歡迎使用三總北投門診助手7.0'\n",
        "\n",
        "@app.route('/callback',methods=['POST'])\n",
        "def callback():\n",
        "  signature=request.headers['X-Line-Signature']\n",
        "  body=request.get_data(as_text=True)\n",
        "  try:\n",
        "    handler.handle(body,signature)\n",
        "  except InvalidSignatureError:\n",
        "    abort(400)\n",
        "  return 'OK'\n",
        "\n",
        "@handler.add(MessageEvent,message=TextMessage)\n",
        "def handle_message(event):\n",
        "  message=text=event.message.text\n",
        "  if re.match('門診時間',message):\n",
        "    line_bot_api.reply_message(event.reply_token, FlexSendMessage(alt_text=message,contents=myBubbles.myBubble_OPD1()))\n",
        "  elif re.match('費用查詢',message):\n",
        "    line_bot_api.reply_message(event.reply_token, FlexSendMessage(alt_text=message,contents=myBubbles.myBubble_Fee()))\n",
        "  elif re.match('重大公告',message):\n",
        "    line_bot_api.reply_message(event.reply_token, FlexSendMessage(alt_text=message,contents=myBubbles.myBubble_News()))\n",
        "  elif re.match('院長',message):\n",
        "    line_bot_api.reply_message(event.reply_token, myBubbles2.myBubble_dir())\n",
        "  elif re.match('副院長',message):\n",
        "    line_bot_api.reply_message(event.reply_token, myBubbles2.myBubble_vdir())\n",
        "  elif re.match('醫療部主任',message):\n",
        "    line_bot_api.reply_message(event.reply_token, myBubbles2.myBubble_head())\n",
        "  elif re.match('藥癮科',message):\n",
        "    line_bot_api.reply_message(event.reply_token, myBubbles2.myBubble_all())###drug())\n",
        "  elif re.match('心身精神科',message):\n",
        "    line_bot_api.reply_message(event.reply_token, myBubbles2.myBubble_all())###mind())\n",
        "  elif re.match('老人精神科',message):\n",
        "    line_bot_api.reply_message(event.reply_token, myBubbles2.myBubble_all())###old())\n",
        "  elif re.match('神經精神科',message):\n",
        "    line_bot_api.reply_message(event.reply_token, myBubbles2.myBubble_all())###neuro())\n",
        "  elif re.match('軍陣精神科',message):\n",
        "    line_bot_api.reply_message(event.reply_token, myBubbles2.myBubble_all())###military())\n",
        "  elif re.match('兒青科',message):\n",
        "    line_bot_api.reply_message(event.reply_token, myBubbles2.myBubble_all())###child())\n",
        "  elif re.match('社區精神科',message):\n",
        "    line_bot_api.reply_message(event.reply_token, myBubbles2.myBubble_all())###ocial())\n",
        "  elif re.match('家醫科/牙科',message):\n",
        "    line_bot_api.reply_message(event.reply_token, myBubbles2.myBubble_all())###family())\n",
        "  elif re.match('門診兼任醫師',message):\n",
        "    line_bot_api.reply_message(event.reply_token, myBubbles2.myBubble_all())###others())\n",
        "  else:\n",
        "    line_bot_api.push_message(myID,FlexSendMessage(alt_text='你好',contents=myBubbles.myBubble_greeting()))\n",
        "\n",
        "app.run()"
      ],
      "execution_count": 2,
      "outputs": [
        {
          "output_type": "stream",
          "name": "stdout",
          "text": [
            " * Serving Flask app \"__main__\" (lazy loading)\n",
            " * Environment: production\n",
            "\u001b[31m   WARNING: This is a development server. Do not use it in a production deployment.\u001b[0m\n",
            "\u001b[2m   Use a production WSGI server instead.\u001b[0m\n",
            " * Debug mode: off\n"
          ]
        },
        {
          "output_type": "stream",
          "name": "stderr",
          "text": [
            " * Running on http://127.0.0.1:5000/ (Press CTRL+C to quit)\n"
          ]
        },
        {
          "output_type": "stream",
          "name": "stdout",
          "text": [
            " * Running on http://4a7e-34-75-235-23.ngrok.io\n",
            " * Traffic stats available on http://127.0.0.1:4040\n"
          ]
        },
        {
          "output_type": "stream",
          "name": "stderr",
          "text": [
            "127.0.0.1 - - [26/Sep/2021 06:47:23] \"\u001b[37mGET / HTTP/1.1\u001b[0m\" 200 -\n",
            "127.0.0.1 - - [26/Sep/2021 06:47:24] \"\u001b[33mGET /favicon.ico HTTP/1.1\u001b[0m\" 404 -\n",
            "127.0.0.1 - - [26/Sep/2021 06:47:48] \"\u001b[37mPOST /callback HTTP/1.1\u001b[0m\" 200 -\n",
            "127.0.0.1 - - [26/Sep/2021 06:48:54] \"\u001b[37mPOST /callback HTTP/1.1\u001b[0m\" 200 -\n",
            "127.0.0.1 - - [26/Sep/2021 06:48:55] \"\u001b[37mPOST /callback HTTP/1.1\u001b[0m\" 200 -\n",
            "127.0.0.1 - - [26/Sep/2021 06:49:56] \"\u001b[37mPOST /callback HTTP/1.1\u001b[0m\" 200 -\n"
          ]
        }
      ]
    },
    {
      "cell_type": "code",
      "metadata": {
        "id": "05Yzk6I4wVDP"
      },
      "source": [
        "###FlexSendMessage範例\n",
        "  ####\n",
        "  myBubble_head=FlexSendMessage(\n",
        "      alt_text='醫療部主任',\n",
        "      contents=BubbleContainer(\n",
        "      direction='ltr',\n",
        "      hero=ImageComponent(\n",
        "          url='https://wwwv.tsgh.ndmctsgh.edu.tw/files/web/194/doctor/30000/25075/t11460364071911.jpg',\n",
        "          size='full',\n",
        "          aspect_ratio='20:13',\n",
        "          aspect_mode='cover',\n",
        "          action=actions.URIAction(uri='https://wwwv.tsgh.ndmctsgh.edu.tw/DocDet/194/30000/25075/1768', label='label')\n",
        "      )))"
      ],
      "execution_count": null,
      "outputs": []
    },
    {
      "cell_type": "code",
      "metadata": {
        "id": "pYbjyy_vvI7c"
      },
      "source": [
        "##FlexSendMessag範例...\n",
        "myBubble_dir=FlexSendMessage(\n",
        "    alt_text='楊斯年院長',\n",
        "    contents=BubbleContainer(\n",
        "      direction='ltr',\n",
        "      hero=ImageComponent(\n",
        "          url='https://wwwv.tsgh.ndmctsgh.edu.tw/files/web/194/doctor/30000/25075/%E7%B2%BE%E7%A5%9E%E7%A7%91-%E6%A5%8A%E6%96%AF%E5%B9%B4.jpg',\n",
        "          size='full',\n",
        "          aspect_ratio='20:13',\n",
        "          aspect_mode='fit',\n",
        "          action=actions.URIAction(uri='https://wwwv.tsgh.ndmctsgh.edu.tw/DocDet/194/30000/25075/1766',label='楊斯年院長')\n",
        "      ),\n",
        "      body=BoxComponent(\n",
        "          layout='vertical',\n",
        "          contents=[TextComponent(text='楊斯年院長',weight='bold',size='lg',align='center')]),\n",
        "      footer=BoxComponent(\n",
        "          layout='horizontal',\n",
        "          spacing='sm',\n",
        "          contents=[\n",
        "            ButtonComponent(\n",
        "                style='link',\n",
        "                height='sm',\n",
        "                action=URIAction(label='網頁',uri='https://wwwv.tsgh.ndmctsgh.edu.tw/DocDet/194/30000/25075/1766')\n",
        "            ),\n",
        "            ButtonComponent(\n",
        "                style='link',\n",
        "                height='sm',\n",
        "                action=URIAction(label='院長信箱',uri='https://wwwv.tsgh.ndmctsgh.edu.tw/Suggest/194/30000/27836')\n",
        "            )\n",
        "          ]\n",
        "      )\n",
        "      ))"
      ],
      "execution_count": null,
      "outputs": []
    },
    {
      "cell_type": "code",
      "metadata": {
        "colab": {
          "base_uri": "https://localhost:8080/"
        },
        "id": "xBtOIVN6Gdhg",
        "outputId": "00a1d9fd-f5cc-47f2-c5c6-ae17bbe4b8ee"
      },
      "source": [
        "\n",
        "##myBubble_OPDs出問題,要修正它...\n",
        "\n",
        "app=Flask(__name__)\n",
        "run_with_ngrok(app)\n",
        "\n",
        "line_bot_api=LineBotApi(OPDAid7_SN.myLineBotApi)\n",
        "handler=WebhookHandler(OPDAid7_SN.myWebhookHandler)\n",
        "myID=OPDAid7_SN.myUserID\n",
        "\n",
        "##line_bot_api.push_message(myID,FlexSendMessage(alt_text='三總北投門診助手6.0',contents=myBubbles.myBubble_greeting()))\n",
        "#######OPDLists############\n",
        "\n",
        "\n",
        "@app.route('/')\n",
        "def index():\n",
        "  return '歡迎使用三總北投門診助手7.0'\n",
        "\n",
        "@app.route('/callback',methods=['POST'])\n",
        "def callback():\n",
        "  signature=request.headers['X-Line-Signature']\n",
        "  body=request.get_data(as_text=True)\n",
        "  try:\n",
        "    handler.handle(body,signature)\n",
        "  except InvalidSignatureError:\n",
        "    abort(400)\n",
        "  return 'OK'\n",
        "\n",
        "@handler.add(MessageEvent,message=TextMessage)\n",
        "def handle_message(event):\n",
        "  message=text=event.message.text\n",
        "  if re.match('門診時間',message):\n",
        "    line_bot_api.reply_message(event.reply_token, FlexSendMessage(alt_text=message,contents=myBubble_OPD1()))\n",
        "  elif re.match('費用查詢',message):\n",
        "    line_bot_api.reply_message(event.reply_token, FlexSendMessage(alt_text=message,contents=myBubbles.myBubble_Fee()))\n",
        "  elif re.match('重大公告',message):\n",
        "    line_bot_api.reply_message(event.reply_token, FlexSendMessage(alt_text=message,contents=myBubbles.myBubble_News()))\n",
        "  elif re.match('院長',message):\n",
        "    ##line_bot_api.push_message(myID,myBubble_dir)\n",
        "    line_bot_api.reply_message(event.reply_token, myBubbles2.myBubble_dir())\n",
        "  elif re.match('副院長',message):\n",
        "    ##line_bot_api.push_message(myID,myBubble_vdir)\n",
        "    line_bot_api.reply_message(event.reply_token, myBubbles2.myBubble_vdir())\n",
        "  elif re.match('醫療部主任',message):\n",
        "    ##line_bot_api.push_message(myID,myBubble_head)\n",
        "    line_bot_api.reply_message(event.reply_token, myBubbles2.myBubble_head())\n",
        "  else:\n",
        "    line_bot_api.push_message(myID,FlexSendMessage(alt_text='你好',contents=myBubbles.myBubble_greeting()))\n",
        "    \n",
        "app.run()"
      ],
      "execution_count": null,
      "outputs": [
        {
          "output_type": "stream",
          "name": "stdout",
          "text": [
            " * Serving Flask app \"__main__\" (lazy loading)\n",
            " * Environment: production\n",
            "\u001b[31m   WARNING: This is a development server. Do not use it in a production deployment.\u001b[0m\n",
            "\u001b[2m   Use a production WSGI server instead.\u001b[0m\n",
            " * Debug mode: off\n"
          ]
        },
        {
          "output_type": "stream",
          "name": "stderr",
          "text": [
            " * Running on http://127.0.0.1:5000/ (Press CTRL+C to quit)\n"
          ]
        },
        {
          "output_type": "stream",
          "name": "stdout",
          "text": [
            " * Running on http://41cc-104-196-70-150.ngrok.io\n",
            " * Traffic stats available on http://127.0.0.1:4040\n"
          ]
        },
        {
          "output_type": "stream",
          "name": "stderr",
          "text": [
            "127.0.0.1 - - [25/Sep/2021 16:05:35] \"\u001b[37mGET / HTTP/1.1\u001b[0m\" 200 -\n",
            "127.0.0.1 - - [25/Sep/2021 16:05:36] \"\u001b[33mGET /favicon.ico HTTP/1.1\u001b[0m\" 404 -\n",
            "[2021-09-25 16:06:00,754] ERROR in app: Exception on /callback [POST]\n",
            "Traceback (most recent call last):\n",
            "  File \"/usr/local/lib/python3.7/dist-packages/flask/app.py\", line 2447, in wsgi_app\n",
            "    response = self.full_dispatch_request()\n",
            "  File \"/usr/local/lib/python3.7/dist-packages/flask/app.py\", line 1952, in full_dispatch_request\n",
            "    rv = self.handle_user_exception(e)\n",
            "  File \"/usr/local/lib/python3.7/dist-packages/flask/app.py\", line 1821, in handle_user_exception\n",
            "    reraise(exc_type, exc_value, tb)\n",
            "  File \"/usr/local/lib/python3.7/dist-packages/flask/_compat.py\", line 39, in reraise\n",
            "    raise value\n",
            "  File \"/usr/local/lib/python3.7/dist-packages/flask/app.py\", line 1950, in full_dispatch_request\n",
            "    rv = self.dispatch_request()\n",
            "  File \"/usr/local/lib/python3.7/dist-packages/flask/app.py\", line 1936, in dispatch_request\n",
            "    return self.view_functions[rule.endpoint](**req.view_args)\n",
            "  File \"<ipython-input-3-52d7d626c29c>\", line 24, in callback\n",
            "    handler.handle(body,signature)\n",
            "  File \"/usr/local/lib/python3.7/dist-packages/linebot/webhook.py\", line 260, in handle\n",
            "    self.__invoke_func(func, event, payload)\n",
            "  File \"/usr/local/lib/python3.7/dist-packages/linebot/webhook.py\", line 272, in __invoke_func\n",
            "    func(event)\n",
            "  File \"<ipython-input-3-52d7d626c29c>\", line 40, in handle_message\n",
            "    line_bot_api.reply_message(event.reply_token, myBubbles2.myBubble_dir())\n",
            "  File \"/usr/local/lib/python3.7/dist-packages/linebot/api.py\", line 111, in reply_message\n",
            "    '/v2/bot/message/reply', data=json.dumps(data), timeout=timeout\n",
            "  File \"/usr/local/lib/python3.7/dist-packages/linebot/api.py\", line 1621, in _post\n",
            "    self.__check_error(response)\n",
            "  File \"/usr/local/lib/python3.7/dist-packages/linebot/api.py\", line 1662, in __check_error\n",
            "    error=Error.new_from_json_dict(response.json)\n",
            "linebot.exceptions.LineBotApiError: LineBotApiError: status_code=400, request_id=e38e5798-31ce-4690-8a24-23e18171b416, error_response={\"details\": [{\"message\": \"invalid property\", \"property\": \"/body/contents/0/size\"}], \"message\": \"A message (messages[0])\\u00a0in the request body is invalid\"}, headers={'Server': 'openresty', 'Content-Type': 'application/json', 'Content-Length': '147', 'x-content-type-options': 'nosniff', 'x-frame-options': 'DENY', 'x-line-request-id': 'e38e5798-31ce-4690-8a24-23e18171b416', 'x-xss-protection': '1; mode=block', 'Expires': 'Sat, 25 Sep 2021 16:06:00 GMT', 'Cache-Control': 'max-age=0, no-cache, no-store', 'Pragma': 'no-cache', 'Date': 'Sat, 25 Sep 2021 16:06:00 GMT', 'Connection': 'close'}\n",
            "127.0.0.1 - - [25/Sep/2021 16:06:00] \"\u001b[35m\u001b[1mPOST /callback HTTP/1.1\u001b[0m\" 500 -\n"
          ]
        }
      ]
    },
    {
      "cell_type": "code",
      "metadata": {
        "id": "2RjFypoA_SYW"
      },
      "source": [
        "##Run with flask_ngrok import myBubbles\n",
        "app=Flask(__name__)\n",
        "run_with_ngrok(app)\n",
        "\n",
        "line_bot_api=LineBotApi(OPDAid6_SN.myLineBotApi)\n",
        "handler=WebhookHandler(OPDAid6_SN.myWebhookHandler)\n",
        "myID=OPDAid6_SN.myUserID\n",
        "line_bot_api.push_message(myID,FlexSendMessage(\n",
        "alt_text='三總北投門診助手6.0',\n",
        "contents=myBubbles.myBubble_greeting()))\n",
        "\n",
        "@app.route('/')\n",
        "def index():\n",
        "    return '歡迎使用三總北投門診助手6.0'\n",
        "\n",
        "@app.route('/callback',methods=['POST'])\n",
        "def callback():\n",
        "    signature=request.headers['X-Line-Signature']\n",
        "    body=request.get_data(as_text=True)\n",
        "    try:\n",
        "        handler.handle(body,signature)\n",
        "    except InvalidSignatureError:\n",
        "        abort(400)\n",
        "    return 'OK'\n",
        "\n",
        "\n",
        "@handler.add(MessageEvent,message=TextMessage)\n",
        "def handle_message(event):\n",
        "    message=text=event.message.text\n",
        "    if re.match('門診時間',message):\n",
        "      line_bot_api.reply_message(event.reply_token, FlexSendMessage(alt_text=message,contents=myBubbles.myBubble_OPDs(message)))\n",
        "    elif re.match('醫師查詢',message):\n",
        "      line_bot_api.reply_message(event.reply_token, FlexSendMessage(alt_text=message,contents=myBubbles.myBubble_doctors(message)))\n",
        "    elif re.match('重大公告',message):\n",
        "      line_bot_api.reply_message(event.reply_token, FlexSendMessage(alt_text=message,contents=myBubbles.myBubble_News(message)))\n",
        "    elif re.match('費用查詢',message):\n",
        "      line_bot_api.reply_message(event.reply_token, FlexSendMessage(alt_text=message,contents=myBubbles.myBubble_Fee('123')))\n",
        "    else:\n",
        "      line_bot_api.push_message(myID,FlexSendMessage(alt_text='你好',contents=myBubbles.myBubble_greeting()))\n",
        "      ##line_bot_api.reply_message(event.reply_token,FlexSendMessage(alt_text=message,contents=myBubbles.myBubble_greeting()))\n",
        "\n",
        "##if __name__=='__main__':\n",
        "app.run()"
      ],
      "execution_count": null,
      "outputs": []
    },
    {
      "cell_type": "code",
      "metadata": {
        "id": "FWe2PK5q9aGt"
      },
      "source": [
        "from linebot.models import *\n",
        "from bs4 import BeautifulSoup\n",
        "import requests\n",
        "target_url='https://wwwv.tsgh.ndmctsgh.edu.tw/Doclist/194/30000/25075'\n",
        "drugLists=[]\n",
        "drugLinks=[]\n",
        "responses1=requests.get(target_url)\n",
        "soup=BeautifulSoup(responses1.text,'html.parser')\n",
        "myDiv=soup.find(id='html_text')\n",
        "myDiv"
      ],
      "execution_count": 4,
      "outputs": []
    },
    {
      "cell_type": "code",
      "metadata": {
        "id": "kHGX4qfr79mo",
        "outputId": "9e8ef4e0-1f12-4ffc-be44-905c0feb5339",
        "colab": {
          "base_uri": "https://localhost:8080/",
          "height": 236
        }
      },
      "source": [
        "from linebot.models import *\n",
        "from bs4 import BeautifulSoup\n",
        "import requests\n",
        "target_url='https://wwwv.tsgh.ndmctsgh.edu.tw/Doclist/194/30000/25075'\n",
        "drugLists=[]\n",
        "drugLinks=[]\n",
        "responses1=requests.get(target_url)\n",
        "soup=BeautifulSoup(responses1.text,'html.parser')\n",
        "myDiv=soup.find(id='html_text')\n",
        "myList=myDiv.find_all('a')\n",
        "for tag in myList:\n",
        "  try:\n",
        "    drugLists.append(tag.find('u').contents[0])\n",
        "    drugLinks.append(tag.get('href'))\n",
        "  except:\n",
        "    drugLists.append(tag.contents[0])\n",
        "    drugLinks.append('https://wwwv.tsgh.ndmctsgh.edu.tw{}'.format(tag.get('href')))\n",
        "'''\n",
        "def myBubble_drug():\n",
        "  myContents_drug=[]\n",
        "  i=0\n",
        "  for i in range(len(drugLists)):\n",
        "    myContent=ButtonComponent(style='link',height='sm',action=URIAction(label=OPDLists[i],uri=OPDLinks[i]))\n",
        "    myContents_opd.append(myContent)\n",
        "  myBubble_opd=BubbleContainer(\n",
        "      body=BoxComponent(layout='vertical',spacing='sm',contents=myContents_opd))\n",
        "  return myBubble_opd\n",
        "'''\n",
        "\n",
        "drugLists"
      ],
      "execution_count": 3,
      "outputs": [
        {
          "output_type": "error",
          "ename": "AttributeError",
          "evalue": "ignored",
          "traceback": [
            "\u001b[0;31m---------------------------------------------------------------------------\u001b[0m",
            "\u001b[0;31mAttributeError\u001b[0m                            Traceback (most recent call last)",
            "\u001b[0;32m<ipython-input-3-9d9f7a6716ef>\u001b[0m in \u001b[0;36m<module>\u001b[0;34m()\u001b[0m\n\u001b[1;32m      8\u001b[0m \u001b[0msoup\u001b[0m\u001b[0;34m=\u001b[0m\u001b[0mBeautifulSoup\u001b[0m\u001b[0;34m(\u001b[0m\u001b[0mresponses1\u001b[0m\u001b[0;34m.\u001b[0m\u001b[0mtext\u001b[0m\u001b[0;34m,\u001b[0m\u001b[0;34m'html.parser'\u001b[0m\u001b[0;34m)\u001b[0m\u001b[0;34m\u001b[0m\u001b[0;34m\u001b[0m\u001b[0m\n\u001b[1;32m      9\u001b[0m \u001b[0mmyDiv\u001b[0m\u001b[0;34m=\u001b[0m\u001b[0msoup\u001b[0m\u001b[0;34m.\u001b[0m\u001b[0mfind\u001b[0m\u001b[0;34m(\u001b[0m\u001b[0mid\u001b[0m\u001b[0;34m=\u001b[0m\u001b[0;34m'html_text'\u001b[0m\u001b[0;34m)\u001b[0m\u001b[0;34m\u001b[0m\u001b[0;34m\u001b[0m\u001b[0m\n\u001b[0;32m---> 10\u001b[0;31m \u001b[0mmyList\u001b[0m\u001b[0;34m=\u001b[0m\u001b[0mmyDiv\u001b[0m\u001b[0;34m.\u001b[0m\u001b[0mfind_all\u001b[0m\u001b[0;34m(\u001b[0m\u001b[0;34m'a'\u001b[0m\u001b[0;34m)\u001b[0m\u001b[0;34m\u001b[0m\u001b[0;34m\u001b[0m\u001b[0m\n\u001b[0m\u001b[1;32m     11\u001b[0m \u001b[0;32mfor\u001b[0m \u001b[0mtag\u001b[0m \u001b[0;32min\u001b[0m \u001b[0mmyList\u001b[0m\u001b[0;34m:\u001b[0m\u001b[0;34m\u001b[0m\u001b[0;34m\u001b[0m\u001b[0m\n\u001b[1;32m     12\u001b[0m   \u001b[0;32mtry\u001b[0m\u001b[0;34m:\u001b[0m\u001b[0;34m\u001b[0m\u001b[0;34m\u001b[0m\u001b[0m\n",
            "\u001b[0;31mAttributeError\u001b[0m: 'NoneType' object has no attribute 'find_all'"
          ]
        }
      ]
    }
  ]
}