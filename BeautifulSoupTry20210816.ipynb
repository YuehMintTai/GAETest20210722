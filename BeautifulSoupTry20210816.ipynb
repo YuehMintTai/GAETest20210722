{
  "nbformat": 4,
  "nbformat_minor": 0,
  "metadata": {
    "colab": {
      "name": "BeautifulSoupTry20210816.ipynb",
      "provenance": [],
      "authorship_tag": "ABX9TyO4d2D7TKqQOeC2dKJwnwfP",
      "include_colab_link": true
    },
    "kernelspec": {
      "name": "python3",
      "display_name": "Python 3"
    },
    "language_info": {
      "name": "python"
    }
  },
  "cells": [
    {
      "cell_type": "markdown",
      "metadata": {
        "id": "view-in-github",
        "colab_type": "text"
      },
      "source": [
        "<a href=\"https://colab.research.google.com/github/YuehMintTai/GAETest20210722/blob/main/BeautifulSoupTry20210816.ipynb\" target=\"_parent\"><img src=\"https://colab.research.google.com/assets/colab-badge.svg\" alt=\"Open In Colab\"/></a>"
      ]
    },
    {
      "cell_type": "code",
      "metadata": {
        "colab": {
          "base_uri": "https://localhost:8080/"
        },
        "id": "JnyE5xaoM-Ed",
        "outputId": "f8bfe1c6-9e07-44bd-ce3a-623ec485d41b"
      },
      "source": [
        "##嚐試用BeautifulSoup找到網頁內容資料....\n",
        "!pip install bs4\n",
        "!pip install requests"
      ],
      "execution_count": 1,
      "outputs": [
        {
          "output_type": "stream",
          "text": [
            "Requirement already satisfied: bs4 in /usr/local/lib/python3.7/dist-packages (0.0.1)\n",
            "Requirement already satisfied: beautifulsoup4 in /usr/local/lib/python3.7/dist-packages (from bs4) (4.6.3)\n",
            "Requirement already satisfied: requests in /usr/local/lib/python3.7/dist-packages (2.23.0)\n",
            "Requirement already satisfied: certifi>=2017.4.17 in /usr/local/lib/python3.7/dist-packages (from requests) (2021.5.30)\n",
            "Requirement already satisfied: urllib3!=1.25.0,!=1.25.1,<1.26,>=1.21.1 in /usr/local/lib/python3.7/dist-packages (from requests) (1.24.3)\n",
            "Requirement already satisfied: chardet<4,>=3.0.2 in /usr/local/lib/python3.7/dist-packages (from requests) (3.0.4)\n",
            "Requirement already satisfied: idna<3,>=2.5 in /usr/local/lib/python3.7/dist-packages (from requests) (2.10)\n"
          ],
          "name": "stdout"
        }
      ]
    },
    {
      "cell_type": "code",
      "metadata": {
        "id": "RzCxNHDO2AQz",
        "outputId": "f2394a6a-42f9-437e-b977-5cc48afadf2f",
        "colab": {
          "base_uri": "https://localhost:8080/"
        }
      },
      "source": [
        "##醫師介紹\n",
        "target_url='https://wwwv.tsgh.ndmctsgh.edu.tw/Doclist/194/30000/25075'\n",
        "from bs4 import BeautifulSoup\n",
        "import requests\n",
        "responses=requests.get(target_url)\n",
        "soup=BeautifulSoup(responses.text,\"html.parser\")\n",
        "myDivs=soup.find_all('div',{'class':'column column-block lg-txt'})\n",
        "for myDiv in myDivs:\n",
        "  myLink=myDiv.find('a')\n",
        "  print(myLink.contents[0])\n",
        "  print('https://wwwv.tsgh.ndmctsgh.edu.tw/'+myLink.get('href'))"
      ],
      "execution_count": 42,
      "outputs": [
        {
          "output_type": "stream",
          "text": [
            "楊斯年 醫師\n",
            "https://wwwv.tsgh.ndmctsgh.edu.tw//DocDet/194/30000/25075/1766\n",
            "江國棟 醫師\n",
            "https://wwwv.tsgh.ndmctsgh.edu.tw//DocDet/194/30000/25075/1767\n",
            "楊立光 醫師\n",
            "https://wwwv.tsgh.ndmctsgh.edu.tw//DocDet/194/30000/25075/1768\n",
            "李添浚 醫師\n",
            "https://wwwv.tsgh.ndmctsgh.edu.tw//DocDet/194/30000/25075/1789\n",
            "王育琛 醫師\n",
            "https://wwwv.tsgh.ndmctsgh.edu.tw//DocDet/194/30000/25075/1787\n",
            "陳泰宇 醫師\n",
            "https://wwwv.tsgh.ndmctsgh.edu.tw//DocDet/194/30000/25075/1926\n",
            "簡建文 醫師\n",
            "https://wwwv.tsgh.ndmctsgh.edu.tw//DocDet/194/30000/25075/3509\n",
            "張復舜 醫師\n",
            "https://wwwv.tsgh.ndmctsgh.edu.tw//DocDet/194/30000/25075/3448\n",
            "鄭凱仁 醫師\n",
            "https://wwwv.tsgh.ndmctsgh.edu.tw//DocDet/194/30000/25075/1780\n",
            "吳永富 醫師\n",
            "https://wwwv.tsgh.ndmctsgh.edu.tw//DocDet/194/30000/25075/1785\n",
            "曾裕庭 醫師\n",
            "https://wwwv.tsgh.ndmctsgh.edu.tw//DocDet/194/30000/25075/1915\n",
            "鄒輝穎 醫師\n",
            "https://wwwv.tsgh.ndmctsgh.edu.tw//DocDet/194/30000/25075/1923\n",
            "梁志頌 醫師\n",
            "https://wwwv.tsgh.ndmctsgh.edu.tw//DocDet/194/30000/25075/1782\n",
            "曾志傑 醫師\n",
            "https://wwwv.tsgh.ndmctsgh.edu.tw//DocDet/194/30000/25075/1781\n",
            "古世傑 醫師\n",
            "https://wwwv.tsgh.ndmctsgh.edu.tw//DocDet/194/30000/25075/1914\n",
            "葉柏寬 醫師\n",
            "https://wwwv.tsgh.ndmctsgh.edu.tw//DocDet/194/30000/25075/1919\n",
            "羅羿凡 醫師\n",
            "https://wwwv.tsgh.ndmctsgh.edu.tw//DocDet/194/30000/25075/3510\n",
            "馬靖超 醫師\n",
            "https://wwwv.tsgh.ndmctsgh.edu.tw//DocDet/194/30000/25075/1779\n",
            "高廉程 醫師\n",
            "https://wwwv.tsgh.ndmctsgh.edu.tw//DocDet/194/30000/25075/2945\n",
            "黃敬軒 醫師\n",
            "https://wwwv.tsgh.ndmctsgh.edu.tw//DocDet/194/30000/25075/3511\n",
            "楊皓名 醫師\n",
            "https://wwwv.tsgh.ndmctsgh.edu.tw//DocDet/194/30000/25075/1786\n",
            "許崇智 醫師\n",
            "https://wwwv.tsgh.ndmctsgh.edu.tw//DocDet/194/30000/25075/1894\n",
            "楊蕙年 醫師\n",
            "https://wwwv.tsgh.ndmctsgh.edu.tw//DocDet/194/30000/25075/1784\n",
            "朱軒德 醫師\n",
            "https://wwwv.tsgh.ndmctsgh.edu.tw//DocDet/194/30000/25075/1918\n",
            "李彥鋒 醫師\n",
            "https://wwwv.tsgh.ndmctsgh.edu.tw//DocDet/194/30000/25075/1917\n",
            "彭柏瑞 醫師\n",
            "https://wwwv.tsgh.ndmctsgh.edu.tw//DocDet/194/30000/25075/1788\n",
            "李方齡 醫師\n",
            "https://wwwv.tsgh.ndmctsgh.edu.tw//DocDet/194/30000/25075/3512\n",
            "林弘義 醫師\n",
            "https://wwwv.tsgh.ndmctsgh.edu.tw//DocDet/194/30000/25075/3473\n",
            "楊立光 醫師\n",
            "https://wwwv.tsgh.ndmctsgh.edu.tw//DocDet/194/30000/25075/1778\n",
            "戴月明 醫師\n",
            "https://wwwv.tsgh.ndmctsgh.edu.tw//DocDet/194/30000/25075/1911\n",
            "張廷碩 醫師\n",
            "https://wwwv.tsgh.ndmctsgh.edu.tw//DocDet/194/30000/25075/1916\n",
            "林明瑋 醫師\n",
            "https://wwwv.tsgh.ndmctsgh.edu.tw//DocDet/194/30000/25075/1921\n",
            "孔繁璇  醫師\n",
            "https://wwwv.tsgh.ndmctsgh.edu.tw//DocDet/194/30000/25075/3474\n",
            "陳家勉 醫師\n",
            "https://wwwv.tsgh.ndmctsgh.edu.tw//DocDet/194/30000/25075/1769\n",
            "杜濬清 醫師(牙科)\n",
            "https://wwwv.tsgh.ndmctsgh.edu.tw//DocDet/194/30000/25075/1912\n",
            "陳人豪 醫師(牙科)\n",
            "https://wwwv.tsgh.ndmctsgh.edu.tw//DocDet/194/30000/25075/1913\n",
            "彭嘉和 醫師(身心科)\n",
            "https://wwwv.tsgh.ndmctsgh.edu.tw//DocDet/194/30000/25075/1772\n",
            "黃耀進 醫師(身心科)\n",
            "https://wwwv.tsgh.ndmctsgh.edu.tw//DocDet/194/30000/25075/3451\n",
            "周銘坤 醫師(神經內科)\n",
            "https://wwwv.tsgh.ndmctsgh.edu.tw//DocDet/194/30000/25075/3462\n",
            "黃仁弘 醫師(身心科)\n",
            "https://wwwv.tsgh.ndmctsgh.edu.tw//DocDet/194/30000/25075/3513\n",
            "張國榮 醫師(身心科)\n",
            "https://wwwv.tsgh.ndmctsgh.edu.tw//DocDet/194/30000/25075/3449\n",
            "羅時茂 醫師(身心科)\n",
            "https://wwwv.tsgh.ndmctsgh.edu.tw//DocDet/194/30000/25075/3454\n",
            "謝定宏 醫師(身心科)\n",
            "https://wwwv.tsgh.ndmctsgh.edu.tw//DocDet/194/30000/25075/1928\n",
            "鄭宇明 醫師(身心科)\n",
            "https://wwwv.tsgh.ndmctsgh.edu.tw//DocDet/194/30000/25075/3457\n",
            "劉崢偉 醫師(家醫科/心臟內科)\n",
            "https://wwwv.tsgh.ndmctsgh.edu.tw//DocDet/194/30000/25075/1930\n",
            "林晉賢 醫師(家醫科/含戒菸門診)\n",
            "https://wwwv.tsgh.ndmctsgh.edu.tw//DocDet/194/30000/25075/3450\n",
            "黃旭瑩 醫師(家醫科/小兒科)\n",
            "https://wwwv.tsgh.ndmctsgh.edu.tw//DocDet/194/30000/25075/3455\n",
            "陳美音 醫師(家醫科/胸腔內科)\n",
            "https://wwwv.tsgh.ndmctsgh.edu.tw//DocDet/194/30000/25075/3456\n",
            "邱勝博 醫師(家醫科/新陳代謝科)\n",
            "https://wwwv.tsgh.ndmctsgh.edu.tw//DocDet/194/30000/25075/3453\n",
            "方文輝 醫師(家醫科)\n",
            "https://wwwv.tsgh.ndmctsgh.edu.tw//DocDet/194/30000/25075/4298\n"
          ],
          "name": "stdout"
        }
      ]
    },
    {
      "cell_type": "code",
      "metadata": {
        "id": "P6IAGuFJtADk",
        "outputId": "976a7f82-2734-49f8-88ee-f68bfde81e30",
        "colab": {
          "base_uri": "https://localhost:8080/"
        }
      },
      "source": [
        "##門診時刻表\n",
        "target_url='https://wwwv.tsgh.ndmctsgh.edu.tw/unit/30000/28387'\n",
        "from bs4 import BeautifulSoup\n",
        "import requests\n",
        "responses=requests.get(target_url)\n",
        "soup=BeautifulSoup(responses.text,\"html.parser\")\n",
        "門診時刻表=soup.select_one('div.systems-information')\n",
        "每月時刻表=門診時刻表.find_all('a')\n",
        "for tag in 每月時刻表:\n",
        "  myLink=str(tag.get('href'))\n",
        "  myLink=f\"https://wwwv.tsgh.ndmctsgh.edu.tw/{myLink}\"\n",
        "  print(myLink)\n",
        "  print(tag.contents[0])\n",
        "\n"
      ],
      "execution_count": 24,
      "outputs": [
        {
          "output_type": "stream",
          "text": [
            "https://wwwv.tsgh.ndmctsgh.edu.tw//files/web/194/contents/30000/110年8月份門診時刻表.pdf\n",
            "門診時刻表110年08月\n",
            "https://wwwv.tsgh.ndmctsgh.edu.tw//files/web/194/contents/30000/110年7月份門診表(新).pdf\n",
            "門診時刻表110年07月\n",
            "https://wwwv.tsgh.ndmctsgh.edu.tw//files/web/194/contents/30000/0528.pdf\n",
            "門診時刻表110年06月\n",
            "https://wwwv.tsgh.ndmctsgh.edu.tw//files/web/194/contents/30000/5月門診時刻表(2).pdf\n",
            "門診時刻表110年05月\n",
            "https://wwwv.tsgh.ndmctsgh.edu.tw//files/web/194/contents/30000/四月門診時刻表.pdf\n",
            "門診時刻表110年04月\n",
            "https://wwwv.tsgh.ndmctsgh.edu.tw//files/web/194/contents/30000/11003門診時刻表1.pdf\n",
            "門診時刻表110年03月\n",
            "https://wwwv.tsgh.ndmctsgh.edu.tw//files/web/194/contents/30000/110.02門診時間表.pdf\n",
            "門診時刻表110年02月\n"
          ],
          "name": "stdout"
        }
      ]
    },
    {
      "cell_type": "code",
      "metadata": {
        "id": "3IkMOB40NI3b"
      },
      "source": [
        "target_url='https://wwwv.tsgh.ndmctsgh.edu.tw/unit/30000/29070'\n",
        "#target_url='https://wwwv.tsgh.ndmctsgh.edu.tw/unit/30000/16134'"
      ],
      "execution_count": null,
      "outputs": []
    },
    {
      "cell_type": "code",
      "metadata": {
        "id": "QCCMGsHeOnSv"
      },
      "source": [
        "from bs4 import BeautifulSoup\n",
        "import requests\n",
        "responses=requests.get(target_url)\n",
        "print(responses.text)"
      ],
      "execution_count": null,
      "outputs": []
    },
    {
      "cell_type": "code",
      "metadata": {
        "id": "01J2bRP3QBcW"
      },
      "source": [
        "soup=BeautifulSoup(responses.text,\"html.parser\")\n",
        "print(soup.prettify())"
      ],
      "execution_count": null,
      "outputs": []
    },
    {
      "cell_type": "code",
      "metadata": {
        "colab": {
          "base_uri": "https://localhost:8080/"
        },
        "id": "xp3ub69gRLBy",
        "outputId": "63a8520a-df2b-4a95-c287-d4bea919e516"
      },
      "source": [
        "print(soup.title)"
      ],
      "execution_count": null,
      "outputs": [
        {
          "output_type": "stream",
          "text": [
            "<title>\r\n",
            "\t自費藥品一覽表 -北投分院-三軍總醫院北投分院 - Tri-Service General Hospital Beitou Branch\r\n",
            "</title>\n"
          ],
          "name": "stdout"
        }
      ]
    },
    {
      "cell_type": "code",
      "metadata": {
        "colab": {
          "base_uri": "https://localhost:8080/"
        },
        "id": "Kv2r6fAjReMF",
        "outputId": "7fe5de66-4a0c-4b5d-d107-a1f98613be61"
      },
      "source": [
        "##針對網頁部份按滑鼠右鍵,選檢查。。。。。或按F12\n",
        "results=soup.select(\"div.systems-information\")\n",
        "type(results)"
      ],
      "execution_count": null,
      "outputs": [
        {
          "output_type": "execute_result",
          "data": {
            "text/plain": [
              "list"
            ]
          },
          "metadata": {},
          "execution_count": 43
        }
      ]
    },
    {
      "cell_type": "code",
      "metadata": {
        "colab": {
          "base_uri": "https://localhost:8080/"
        },
        "id": "AaiZ6iAZSVn3",
        "outputId": "dd648018-fbd7-4acc-829a-d8fff5ab661e"
      },
      "source": [
        "post=soup.find('div',{'class':'systems-information'})\n",
        "type(post)"
      ],
      "execution_count": null,
      "outputs": [
        {
          "output_type": "execute_result",
          "data": {
            "text/plain": [
              "bs4.element.Tag"
            ]
          },
          "metadata": {},
          "execution_count": 44
        }
      ]
    },
    {
      "cell_type": "code",
      "metadata": {
        "colab": {
          "base_uri": "https://localhost:8080/"
        },
        "id": "fIkr8PGRVvbh",
        "outputId": "3e8d59cc-bdd6-45b4-b483-1c27dacdac2a"
      },
      "source": [
        "#post2=soup.find('div',{'class':'html_text'})\n",
        "post2=soup.select_one(\"div.fixed-right-service\")\n",
        "type(post2)"
      ],
      "execution_count": null,
      "outputs": [
        {
          "output_type": "execute_result",
          "data": {
            "text/plain": [
              "bs4.element.Tag"
            ]
          },
          "metadata": {},
          "execution_count": 42
        }
      ]
    },
    {
      "cell_type": "code",
      "metadata": {
        "colab": {
          "base_uri": "https://localhost:8080/"
        },
        "id": "CzH6_a9IW7RF",
        "outputId": "999e012b-7e9f-412e-ed60-4868fe852538"
      },
      "source": [
        "post3=post2.find_all('a')\n",
        "for tag in post3:\n",
        "  print(tag.get('title'))\n",
        "  print(tag.get('href'))"
      ],
      "execution_count": null,
      "outputs": [
        {
          "output_type": "stream",
          "text": [
            "網路掛號(另開新視窗 Open a URL in a new tab)\n",
            "https://reg.818h.mnd.gov.tw/\n",
            "門診時刻表\n",
            "https://wwwv.tsgh.ndmctsgh.edu.tw/unit/30000/28387\n",
            "用藥查詢\n",
            "https://818h.mnd.gov.tw/btweb/OpenPage/TOPMED.aspx\n",
            "健保床位\n",
            "https://818h.mnd.gov.tw/btweb//openPage/safeBed.aspx\n"
          ],
          "name": "stdout"
        }
      ]
    },
    {
      "cell_type": "code",
      "metadata": {
        "id": "4yaDaD1nbIVS",
        "colab": {
          "base_uri": "https://localhost:8080/"
        },
        "outputId": "572d854f-07a7-494b-8c14-d81687020aa6"
      },
      "source": [
        "drugTable=soup.find(\"table\", border=\"2\")\n",
        "for child in drugTable.children:\n",
        "  for td in child: ##列出每個row的資料\n",
        "    print(td.text)\n",
        "  print('='*20)\n",
        "  for tr in child:\n",
        "    #print(tr.select_one('td')) \n",
        "    for i, td in enumerate(tr):\n",
        "      if i in [2,3,4]:\n",
        "        print(td.text)\n",
        "\n",
        "print(\"*\"*30)\n",
        "for td in drugTable:\n",
        "  print(td.text) ##就不會分行了..."
      ],
      "execution_count": null,
      "outputs": [
        {
          "output_type": "stream",
          "text": [
            "代碼英文名學名自費價適應症\n",
            "ALKALKANTIN100MG ※dihydroxyalumium allantoinate 100mg1.644胃潰瘍、十二指腸潰瘍、急慢性胃炎\n",
            "ANTAANTABUS 400MGdisulfiram 400mg42慢性嗜酒輔助治療\n",
            "BIOGBIOGEN 110MG ※biodiastase 110mg+cellulase ap3 5mg+biodiasmin f-2 25mg2.532營養補充\n",
            "CENCENTRUM複方7.524發育不良、營養補給、虛弱體質，熱性消耗性疾患之補助治療，妊娠婦之營養補給\n",
            "CENSCENTRUM SILVER複方8.34發育不良、營養補給、虛弱體質，熱性消耗性疾患之補助治療，妊娠婦之營養補給\n",
            "CITCITOSOL inj. (管4)Thiamylal sodium 300MG94各科手術而需要全身麻醉時\n",
            "DES8DESUD PLUS (管3) ＠Buprenorphine 8mg+Naloxone 2mg108藥癮治療\n",
            "ENEENEMA SOL.Sodium chloride 150mg/ml, 20ml3便祕\n",
            "INVI1INVEGA SUSTENNA INJ.75mg ↑Paliperidone 75mg0精神分裂症\n",
            "INVI2INVEGA SUSTENNA INJ.100mg ↑↑Paliperidone 100mg0精神分裂症\n",
            "INVI3INVEGA SUSTENNA INJ.150mg ↑↑↑Paliperidone 150mg0精神分裂症\n",
            "JALJALINE LOTION 250mg/ml 150mlBenzyl Benzoate 250mg/ml 150ml198.36疥癬、虱感染\n",
            "LOMLOMIDINE 10MG ※Loratadine 10mg2.016緩解過敏性鼻炎的相關症狀、如流鼻水、搔癢及眼睛搔癢和灼熱感及緩解因慢性蕁麻疹及過敏性皮膚病所引起的症狀\n",
            "METHMethadone 10mg/ML (管2) ＠Methadone 10mg/ML0海洛因替代治療\n",
            "NIC2Nicorette Chewing Gum 2mg ↑Nicorette 2mg8戒治煙癮\n",
            "NIC4Nicorette Chewing Gum 4mg ↑↑Nicorette 4mg10戒治煙癮\n",
            "PNE1PNEUMOVAX 23 i ＊Pneumococcal vaccine polyvalent 0.5ml1008預防肺炎\n",
            "SMOK1SMOKFREE 31.2MG ↑↑Nicotine 31.2 mg67戒菸\n",
            "SMOK2SMOKFREE 20.8MG ↑Nicotine 20.8 mg67戒菸\n",
            "SUB2SUBOXONE 2MG (管3) Θbuprenorphine 2mg+naloxone 0.5mg48藥癮治療\n",
            "VAXVAXIGRIP inj. ＊INFLUENZA VIRUS VACCINE 0.5ML294預防流行性感冒\n",
            "WATWATER inj.water for inj. 10ml4.2供注射使用\n",
            "XYL2XYLOCAINE 2% 20ML !!↑↑Lidocaine hcl 2% 20ml67.2外科手術局部麻醉\n",
            "====================\n",
            "學名\n",
            "自費價\n",
            "適應症\n",
            "dihydroxyalumium allantoinate 100mg\n",
            "1.644\n",
            "胃潰瘍、十二指腸潰瘍、急慢性胃炎\n",
            "disulfiram 400mg\n",
            "42\n",
            "慢性嗜酒輔助治療\n",
            "biodiastase 110mg+cellulase ap3 5mg+biodiasmin f-2 25mg\n",
            "2.532\n",
            "營養補充\n",
            "複方\n",
            "7.524\n",
            "發育不良、營養補給、虛弱體質，熱性消耗性疾患之補助治療，妊娠婦之營養補給\n",
            "複方\n",
            "8.34\n",
            "發育不良、營養補給、虛弱體質，熱性消耗性疾患之補助治療，妊娠婦之營養補給\n",
            "Thiamylal sodium 300MG\n",
            "94\n",
            "各科手術而需要全身麻醉時\n",
            "Buprenorphine 8mg+Naloxone 2mg\n",
            "108\n",
            "藥癮治療\n",
            "Sodium chloride 150mg/ml, 20ml\n",
            "3\n",
            "便祕\n",
            "Paliperidone 75mg\n",
            "0\n",
            "精神分裂症\n",
            "Paliperidone 100mg\n",
            "0\n",
            "精神分裂症\n",
            "Paliperidone 150mg\n",
            "0\n",
            "精神分裂症\n",
            "Benzyl Benzoate 250mg/ml 150ml\n",
            "198.36\n",
            "疥癬、虱感染\n",
            "Loratadine 10mg\n",
            "2.016\n",
            "緩解過敏性鼻炎的相關症狀、如流鼻水、搔癢及眼睛搔癢和灼熱感及緩解因慢性蕁麻疹及過敏性皮膚病所引起的症狀\n",
            "Methadone 10mg/ML\n",
            "0\n",
            "海洛因替代治療\n",
            "Nicorette 2mg\n",
            "8\n",
            "戒治煙癮\n",
            "Nicorette 4mg\n",
            "10\n",
            "戒治煙癮\n",
            "Pneumococcal vaccine polyvalent 0.5ml\n",
            "1008\n",
            "預防肺炎\n",
            "Nicotine 31.2 mg\n",
            "67\n",
            "戒菸\n",
            "Nicotine 20.8 mg\n",
            "67\n",
            "戒菸\n",
            "buprenorphine 2mg+naloxone 0.5mg\n",
            "48\n",
            "藥癮治療\n",
            "INFLUENZA VIRUS VACCINE 0.5ML\n",
            "294\n",
            "預防流行性感冒\n",
            "water for inj. 10ml\n",
            "4.2\n",
            "供注射使用\n",
            "Lidocaine hcl 2% 20ml\n",
            "67.2\n",
            "外科手術局部麻醉\n",
            "******************************\n",
            "代碼英文名學名自費價適應症ALKALKANTIN100MG ※dihydroxyalumium allantoinate 100mg1.644胃潰瘍、十二指腸潰瘍、急慢性胃炎ANTAANTABUS 400MGdisulfiram 400mg42慢性嗜酒輔助治療BIOGBIOGEN 110MG ※biodiastase 110mg+cellulase ap3 5mg+biodiasmin f-2 25mg2.532營養補充CENCENTRUM複方7.524發育不良、營養補給、虛弱體質，熱性消耗性疾患之補助治療，妊娠婦之營養補給CENSCENTRUM SILVER複方8.34發育不良、營養補給、虛弱體質，熱性消耗性疾患之補助治療，妊娠婦之營養補給CITCITOSOL inj. (管4)Thiamylal sodium 300MG94各科手術而需要全身麻醉時DES8DESUD PLUS (管3) ＠Buprenorphine 8mg+Naloxone 2mg108藥癮治療ENEENEMA SOL.Sodium chloride 150mg/ml, 20ml3便祕INVI1INVEGA SUSTENNA INJ.75mg ↑Paliperidone 75mg0精神分裂症INVI2INVEGA SUSTENNA INJ.100mg ↑↑Paliperidone 100mg0精神分裂症INVI3INVEGA SUSTENNA INJ.150mg ↑↑↑Paliperidone 150mg0精神分裂症JALJALINE LOTION 250mg/ml 150mlBenzyl Benzoate 250mg/ml 150ml198.36疥癬、虱感染LOMLOMIDINE 10MG ※Loratadine 10mg2.016緩解過敏性鼻炎的相關症狀、如流鼻水、搔癢及眼睛搔癢和灼熱感及緩解因慢性蕁麻疹及過敏性皮膚病所引起的症狀METHMethadone 10mg/ML (管2) ＠Methadone 10mg/ML0海洛因替代治療NIC2Nicorette Chewing Gum 2mg ↑Nicorette 2mg8戒治煙癮NIC4Nicorette Chewing Gum 4mg ↑↑Nicorette 4mg10戒治煙癮PNE1PNEUMOVAX 23 i ＊Pneumococcal vaccine polyvalent 0.5ml1008預防肺炎SMOK1SMOKFREE 31.2MG ↑↑Nicotine 31.2 mg67戒菸SMOK2SMOKFREE 20.8MG ↑Nicotine 20.8 mg67戒菸SUB2SUBOXONE 2MG (管3) Θbuprenorphine 2mg+naloxone 0.5mg48藥癮治療VAXVAXIGRIP inj. ＊INFLUENZA VIRUS VACCINE 0.5ML294預防流行性感冒WATWATER inj.water for inj. 10ml4.2供注射使用XYL2XYLOCAINE 2% 20ML !!↑↑Lidocaine hcl 2% 20ml67.2外科手術局部麻醉\n"
          ],
          "name": "stdout"
        }
      ]
    },
    {
      "cell_type": "code",
      "metadata": {
        "id": "_f4MLkZsdh13",
        "colab": {
          "base_uri": "https://localhost:8080/"
        },
        "outputId": "c2f70aff-9130-47ba-b33c-b08b0ea2ee7b"
      },
      "source": [
        "myTables=soup.find_all('table') ##Total 22 tables\n",
        "myTables[20]"
      ],
      "execution_count": null,
      "outputs": [
        {
          "output_type": "execute_result",
          "data": {
            "text/plain": [
              "<table cellpadding=\"0\" cellspacing=\"0\">\n",
              "<tr>\n",
              "<td></td>\n",
              "</tr><tr>\n",
              "<td><img alt=\"\" src=\"/images/app/noExpand24.png\"/></td><td><a href=\"javascript:__doPostBack('tv_menu','s16221')\" id=\"tv_menut85\" title=\"網站導覽\"><font color=\"Black\">網站導覽</font></a></td>\n",
              "</tr><tr>\n",
              "<td></td>\n",
              "</tr>\n",
              "</table>"
            ]
          },
          "metadata": {},
          "execution_count": 60
        }
      ]
    },
    {
      "cell_type": "code",
      "metadata": {
        "id": "CB7Y5XpNY4Ir"
      },
      "source": [
        "target_url='https://wwwv.tsgh.ndmctsgh.edu.tw/unit/30000/29070'\n",
        "responses=requests.get(target_url)\n",
        "soup=BeautifulSoup(responses.text,\"html.parser\")\n",
        "print (soup.prettify())"
      ],
      "execution_count": null,
      "outputs": []
    },
    {
      "cell_type": "code",
      "metadata": {
        "id": "x75nf1Vea2vH"
      },
      "source": [
        "result=soup.find_all(\"h1\")\n",
        "result"
      ],
      "execution_count": null,
      "outputs": []
    }
  ]
}