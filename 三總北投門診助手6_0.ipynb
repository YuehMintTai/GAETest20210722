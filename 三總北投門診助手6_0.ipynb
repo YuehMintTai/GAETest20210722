{
  "nbformat": 4,
  "nbformat_minor": 0,
  "metadata": {
    "colab": {
      "name": "三總北投門診助手6.0.ipynb",
      "provenance": [],
      "authorship_tag": "ABX9TyNmncLjZoSpoGCL4yk1dyLn",
      "include_colab_link": true
    },
    "kernelspec": {
      "name": "python3",
      "display_name": "Python 3"
    },
    "language_info": {
      "name": "python"
    }
  },
  "cells": [
    {
      "cell_type": "markdown",
      "metadata": {
        "id": "view-in-github",
        "colab_type": "text"
      },
      "source": [
        "<a href=\"https://colab.research.google.com/github/YuehMintTai/GAETest20210722/blob/main/%E4%B8%89%E7%B8%BD%E5%8C%97%E6%8A%95%E9%96%80%E8%A8%BA%E5%8A%A9%E6%89%8B6_0.ipynb\" target=\"_parent\"><img src=\"https://colab.research.google.com/assets/colab-badge.svg\" alt=\"Open In Colab\"/></a>"
      ]
    },
    {
      "cell_type": "code",
      "metadata": {
        "id": "K_yr-4HxhvJb"
      },
      "source": [
        "!pip install flask_ngrok\n",
        "!pip install line-bot-sdk\n",
        "!pip install bs4\n",
        "!pip install requests"
      ],
      "execution_count": null,
      "outputs": []
    },
    {
      "cell_type": "code",
      "metadata": {
        "id": "dgpViWap_MPf"
      },
      "source": [
        "from flask_ngrok import (run_with_ngrok)\n",
        "from flask import (Flask, request, abort)\n",
        "from linebot import (LineBotApi, WebhookHandler)\n",
        "from linebot.exceptions import (InvalidSignatureError)\n",
        "from linebot.models import *\n",
        "from bs4 import BeautifulSoup\n",
        "import requests\n",
        "import OPDAid6_SN\n",
        "import re\n",
        "import myBubbles"
      ],
      "execution_count": 4,
      "outputs": []
    },
    {
      "cell_type": "code",
      "metadata": {
        "colab": {
          "base_uri": "https://localhost:8080/"
        },
        "id": "xBtOIVN6Gdhg",
        "outputId": "426205e7-f53a-48fc-d95c-8dc1f3242bb0"
      },
      "source": [
        "from flask_ngrok import (run_with_ngrok)\n",
        "from flask import (Flask, request, abort)\n",
        "from linebot import (LineBotApi, WebhookHandler)\n",
        "from linebot.exceptions import (InvalidSignatureError)\n",
        "from linebot.models import *\n",
        "from bs4 import BeautifulSoup\n",
        "import requests\n",
        "import OPDAid6_SN\n",
        "import re\n",
        "import myBubbles\n",
        "##myBubble_OPDs出問題,要修正它...\n",
        "app=Flask(__name__)\n",
        "run_with_ngrok(app)\n",
        "\n",
        "line_bot_api=LineBotApi(OPDAid6_SN.myLineBotApi)\n",
        "handler=WebhookHandler(OPDAid6_SN.myWebhookHandler)\n",
        "myID=OPDAid6_SN.myUserID\n",
        "line_bot_api.push_message(myID,FlexSendMessage(\n",
        "alt_text='三總北投門診助手6.0',\n",
        "contents=myBubbles.myBubble_greeting()))\n",
        "#######OPDLists############\n",
        "OPDLists=[]\n",
        "OPDLinks=[]\n",
        "target_url='https://wwwv.tsgh.ndmctsgh.edu.tw/unit/30000/28387'\n",
        "responses1=requests.get(target_url)\n",
        "soup=BeautifulSoup(responses1.text,'html.parser')\n",
        "myDiv=soup.find(id='html_text')\n",
        "myList=myDiv.find_all('a')\n",
        "for tag in myList:\n",
        "  try:\n",
        "    OPDLists.append(tag.find('u').contents[0])\n",
        "    OPDLinks.append(tag.get('href'))\n",
        "  except:\n",
        "    OPDLists.append(tag.contents[0])\n",
        "    OPDLinks.append('https://wwwv.tsgh.ndmctsgh.edu.tw{}'.format(tag.get('href')))\n",
        "\n",
        "def myBubble_OPD1():\n",
        "  myContents_opd=[]\n",
        "  i=0\n",
        "  for i in range(len(OPDLists)):\n",
        "    myContent=ButtonComponent(style='link',height='sm',action=URIAction(label=OPDLists[i],uri=OPDLinks[i]))\n",
        "    myContents_opd.append(myContent)\n",
        "  myBubble_opd=BubbleContainer(\n",
        "      body=BoxComponent(layout='vertical',spacing='sm',contents=myContents_opd))\n",
        "  return myBubble_opd\n",
        "\n",
        "@app.route('/')\n",
        "def index():\n",
        "    return '歡迎使用三總北投門診助手6.0'\n",
        "\n",
        "@app.route('/callback',methods=['POST'])\n",
        "def callback():\n",
        "    signature=request.headers['X-Line-Signature']\n",
        "    body=request.get_data(as_text=True)\n",
        "    try:\n",
        "        handler.handle(body,signature)\n",
        "    except InvalidSignatureError:\n",
        "        abort(400)\n",
        "    return 'OK'\n",
        "\n",
        "\n",
        "@handler.add(MessageEvent,message=TextMessage)\n",
        "def handle_message(event):\n",
        "    message=text=event.message.text\n",
        "    line_bot_api.reply_message(event.reply_token, FlexSendMessage(alt_text=message,contents=myBubbles.myBubble_OPDs()))\n",
        "app.run()"
      ],
      "execution_count": 9,
      "outputs": [
        {
          "output_type": "stream",
          "name": "stdout",
          "text": [
            " * Serving Flask app \"__main__\" (lazy loading)\n",
            " * Environment: production\n",
            "\u001b[31m   WARNING: This is a development server. Do not use it in a production deployment.\u001b[0m\n",
            "\u001b[2m   Use a production WSGI server instead.\u001b[0m\n",
            " * Debug mode: off\n"
          ]
        },
        {
          "output_type": "stream",
          "name": "stderr",
          "text": [
            " * Running on http://127.0.0.1:5000/ (Press CTRL+C to quit)\n"
          ]
        },
        {
          "output_type": "stream",
          "name": "stdout",
          "text": [
            " * Running on http://f18e-34-122-70-23.ngrok.io\n",
            " * Traffic stats available on http://127.0.0.1:4040\n"
          ]
        },
        {
          "output_type": "stream",
          "name": "stderr",
          "text": [
            "127.0.0.1 - - [12/Sep/2021 08:01:12] \"\u001b[37mGET / HTTP/1.1\u001b[0m\" 200 -\n",
            "127.0.0.1 - - [12/Sep/2021 08:01:13] \"\u001b[33mGET /favicon.ico HTTP/1.1\u001b[0m\" 404 -\n",
            "127.0.0.1 - - [12/Sep/2021 08:01:42] \"\u001b[37mPOST /callback HTTP/1.1\u001b[0m\" 200 -\n"
          ]
        }
      ]
    },
    {
      "cell_type": "code",
      "metadata": {
        "id": "2RjFypoA_SYW"
      },
      "source": [
        "##Run with flask_ngrok import myBubbles\n",
        "app=Flask(__name__)\n",
        "run_with_ngrok(app)\n",
        "\n",
        "line_bot_api=LineBotApi(OPDAid6_SN.myLineBotApi)\n",
        "handler=WebhookHandler(OPDAid6_SN.myWebhookHandler)\n",
        "myID=OPDAid6_SN.myUserID\n",
        "line_bot_api.push_message(myID,FlexSendMessage(\n",
        "alt_text='三總北投門診助手6.0',\n",
        "contents=myBubbles.myBubble_greeting()))\n",
        "\n",
        "@app.route('/')\n",
        "def index():\n",
        "    return '歡迎使用三總北投門診助手6.0'\n",
        "\n",
        "@app.route('/callback',methods=['POST'])\n",
        "def callback():\n",
        "    signature=request.headers['X-Line-Signature']\n",
        "    body=request.get_data(as_text=True)\n",
        "    try:\n",
        "        handler.handle(body,signature)\n",
        "    except InvalidSignatureError:\n",
        "        abort(400)\n",
        "    return 'OK'\n",
        "\n",
        "\n",
        "@handler.add(MessageEvent,message=TextMessage)\n",
        "def handle_message(event):\n",
        "    message=text=event.message.text\n",
        "    if re.match('門診時間',message):\n",
        "      line_bot_api.reply_message(event.reply_token, FlexSendMessage(alt_text=message,contents=myBubbles.myBubble_OPDs(message)))\n",
        "    elif re.match('醫師查詢',message):\n",
        "      line_bot_api.reply_message(event.reply_token, FlexSendMessage(alt_text=message,contents=myBubbles.myBubble_doctors(message)))\n",
        "    elif re.match('重大公告',message):\n",
        "      line_bot_api.reply_message(event.reply_token, FlexSendMessage(alt_text=message,contents=myBubbles.myBubble_News(message)))\n",
        "    elif re.match('費用查詢',message):\n",
        "      line_bot_api.reply_message(event.reply_token, FlexSendMessage(alt_text=message,contents=myBubbles.myBubble_Fee('123')))\n",
        "    else:\n",
        "      line_bot_api.push_message(myID,FlexSendMessage(alt_text='你好',contents=myBubbles.myBubble_greeting()))\n",
        "      ##line_bot_api.reply_message(event.reply_token,FlexSendMessage(alt_text=message,contents=myBubbles.myBubble_greeting()))\n",
        "\n",
        "##if __name__=='__main__':\n",
        "app.run()"
      ],
      "execution_count": null,
      "outputs": []
    }
  ]
}