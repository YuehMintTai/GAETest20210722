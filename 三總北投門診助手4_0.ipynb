{
  "nbformat": 4,
  "nbformat_minor": 0,
  "metadata": {
    "colab": {
      "name": "三總北投門診助手4.0.ipynb",
      "provenance": [],
      "authorship_tag": "ABX9TyMlkqT8UmpNy1OHM5+STxO7",
      "include_colab_link": true
    },
    "kernelspec": {
      "name": "python3",
      "display_name": "Python 3"
    },
    "language_info": {
      "name": "python"
    }
  },
  "cells": [
    {
      "cell_type": "markdown",
      "metadata": {
        "id": "view-in-github",
        "colab_type": "text"
      },
      "source": [
        "<a href=\"https://colab.research.google.com/github/YuehMintTai/GAETest20210722/blob/main/%E4%B8%89%E7%B8%BD%E5%8C%97%E6%8A%95%E9%96%80%E8%A8%BA%E5%8A%A9%E6%89%8B4_0.ipynb\" target=\"_parent\"><img src=\"https://colab.research.google.com/assets/colab-badge.svg\" alt=\"Open In Colab\"/></a>"
      ]
    },
    {
      "cell_type": "code",
      "metadata": {
        "id": "_EymBJQ2LsBK",
        "colab": {
          "base_uri": "https://localhost:8080/"
        },
        "outputId": "593492c7-5736-4378-f011-0396bd610070"
      },
      "source": [
        "!pip install flask_ngrok\n",
        "!pip install line-bot-sdk\n",
        "!pip install bs4\n",
        "!pip install requests"
      ],
      "execution_count": 1,
      "outputs": [
        {
          "output_type": "stream",
          "text": [
            "Requirement already satisfied: flask_ngrok in /usr/local/lib/python3.7/dist-packages (0.0.25)\n",
            "Requirement already satisfied: requests in /usr/local/lib/python3.7/dist-packages (from flask_ngrok) (2.23.0)\n",
            "Requirement already satisfied: Flask>=0.8 in /usr/local/lib/python3.7/dist-packages (from flask_ngrok) (1.1.4)\n",
            "Requirement already satisfied: itsdangerous<2.0,>=0.24 in /usr/local/lib/python3.7/dist-packages (from Flask>=0.8->flask_ngrok) (1.1.0)\n",
            "Requirement already satisfied: Jinja2<3.0,>=2.10.1 in /usr/local/lib/python3.7/dist-packages (from Flask>=0.8->flask_ngrok) (2.11.3)\n",
            "Requirement already satisfied: Werkzeug<2.0,>=0.15 in /usr/local/lib/python3.7/dist-packages (from Flask>=0.8->flask_ngrok) (1.0.1)\n",
            "Requirement already satisfied: click<8.0,>=5.1 in /usr/local/lib/python3.7/dist-packages (from Flask>=0.8->flask_ngrok) (7.1.2)\n",
            "Requirement already satisfied: MarkupSafe>=0.23 in /usr/local/lib/python3.7/dist-packages (from Jinja2<3.0,>=2.10.1->Flask>=0.8->flask_ngrok) (2.0.1)\n",
            "Requirement already satisfied: chardet<4,>=3.0.2 in /usr/local/lib/python3.7/dist-packages (from requests->flask_ngrok) (3.0.4)\n",
            "Requirement already satisfied: certifi>=2017.4.17 in /usr/local/lib/python3.7/dist-packages (from requests->flask_ngrok) (2021.5.30)\n",
            "Requirement already satisfied: urllib3!=1.25.0,!=1.25.1,<1.26,>=1.21.1 in /usr/local/lib/python3.7/dist-packages (from requests->flask_ngrok) (1.24.3)\n",
            "Requirement already satisfied: idna<3,>=2.5 in /usr/local/lib/python3.7/dist-packages (from requests->flask_ngrok) (2.10)\n",
            "Requirement already satisfied: line-bot-sdk in /usr/local/lib/python3.7/dist-packages (1.20.0)\n",
            "Requirement already satisfied: future in /usr/local/lib/python3.7/dist-packages (from line-bot-sdk) (0.16.0)\n",
            "Requirement already satisfied: requests>=2.0 in /usr/local/lib/python3.7/dist-packages (from line-bot-sdk) (2.23.0)\n",
            "Requirement already satisfied: certifi>=2017.4.17 in /usr/local/lib/python3.7/dist-packages (from requests>=2.0->line-bot-sdk) (2021.5.30)\n",
            "Requirement already satisfied: chardet<4,>=3.0.2 in /usr/local/lib/python3.7/dist-packages (from requests>=2.0->line-bot-sdk) (3.0.4)\n",
            "Requirement already satisfied: idna<3,>=2.5 in /usr/local/lib/python3.7/dist-packages (from requests>=2.0->line-bot-sdk) (2.10)\n",
            "Requirement already satisfied: urllib3!=1.25.0,!=1.25.1,<1.26,>=1.21.1 in /usr/local/lib/python3.7/dist-packages (from requests>=2.0->line-bot-sdk) (1.24.3)\n",
            "Requirement already satisfied: bs4 in /usr/local/lib/python3.7/dist-packages (0.0.1)\n",
            "Requirement already satisfied: beautifulsoup4 in /usr/local/lib/python3.7/dist-packages (from bs4) (4.6.3)\n",
            "Requirement already satisfied: requests in /usr/local/lib/python3.7/dist-packages (2.23.0)\n",
            "Requirement already satisfied: chardet<4,>=3.0.2 in /usr/local/lib/python3.7/dist-packages (from requests) (3.0.4)\n",
            "Requirement already satisfied: idna<3,>=2.5 in /usr/local/lib/python3.7/dist-packages (from requests) (2.10)\n",
            "Requirement already satisfied: urllib3!=1.25.0,!=1.25.1,<1.26,>=1.21.1 in /usr/local/lib/python3.7/dist-packages (from requests) (1.24.3)\n",
            "Requirement already satisfied: certifi>=2017.4.17 in /usr/local/lib/python3.7/dist-packages (from requests) (2021.5.30)\n"
          ],
          "name": "stdout"
        }
      ]
    },
    {
      "cell_type": "code",
      "metadata": {
        "id": "ue_FFukmIoCv"
      },
      "source": [
        "from flask_ngrok import run_with_ngrok\n",
        "from flask import Flask, request, abort\n",
        "from datetime import date\n",
        "from linebot import (LineBotApi, WebhookHandler)\n",
        "from linebot.exceptions import (InvalidSignatureError)\n",
        "from linebot.models import (MessageEvent, TextMessage, TextSendMessage, ImagemapSendMessage)\n",
        "from linebot.models import *\n",
        "from bs4 import BeautifulSoup\n",
        "import requests, json\n",
        "import OPDAid4_SN\n",
        "from bs4 import BeautifulSoup\n",
        "import requests\n",
        "from datetime import date\n",
        "import re"
      ],
      "execution_count": 2,
      "outputs": []
    },
    {
      "cell_type": "code",
      "metadata": {
        "id": "AFKn3qayvcRI",
        "outputId": "25f95983-ea38-4b66-d650-4ed2a60d84f5",
        "colab": {
          "base_uri": "https://localhost:8080/"
        }
      },
      "source": [
        "##007-2 Useing of ButtonComponent\n",
        "import myBubbles\n",
        "app=Flask(__name__)\n",
        "run_with_ngrok(app)\n",
        "\n",
        "line_bot_api=LineBotApi(OPDAid4_SN.myLineBotApi)\n",
        "handler=WebhookHandler(OPDAid4_SN.myWebhookHandler)\n",
        "myID=OPDAid4_SN.myUserID\n",
        "\n",
        "#line_bot_api.push_message(myID,FlexSendMessage(alt_text='你好',contents=myBubble_greeting('321')))\n",
        "line_bot_api.push_message(myID,FlexSendMessage(alt_text='歡迎使用三總北投門診助手4.0',contents=myBubbles.myBubble_greeting('123')))\n",
        "@app.route('/')\n",
        "def index():\n",
        "  return '歡迎使用三總北投門診助手4.0!'\n",
        "\n",
        "\n",
        "@app.route('/callback',methods=['POST'])\n",
        "def callback():\n",
        "  signature=request.headers['X-Line-Signature']\n",
        "  body=request.get_data(as_text=True)\n",
        "  try:\n",
        "    handler.handle(body,signature)\n",
        "  except InvalidSignatureError:\n",
        "    abort(400)\n",
        "  return 'OK'\n",
        "\n",
        "@handler.add(MessageEvent,message=TextMessage)\n",
        "def handle_message(event):\n",
        "  message=text=event.message.text\n",
        "  #line_bot_api.reply_message(event.reply_token, FlexSendMessage(alt_text=message,contents=myBubble_greeting('123')))\n",
        "  line_bot_api.reply_message(event.reply_token, FlexSendMessage(alt_text=message,contents=myBubbles.myBubble_greeting(message)))\n",
        "  \n",
        "app.run()"
      ],
      "execution_count": 3,
      "outputs": [
        {
          "output_type": "stream",
          "text": [
            " * Serving Flask app \"__main__\" (lazy loading)\n",
            " * Environment: production\n",
            "\u001b[31m   WARNING: This is a development server. Do not use it in a production deployment.\u001b[0m\n",
            "\u001b[2m   Use a production WSGI server instead.\u001b[0m\n",
            " * Debug mode: off\n"
          ],
          "name": "stdout"
        },
        {
          "output_type": "stream",
          "text": [
            " * Running on http://127.0.0.1:5000/ (Press CTRL+C to quit)\n"
          ],
          "name": "stderr"
        },
        {
          "output_type": "stream",
          "text": [
            " * Running on http://f8c9-35-221-42-54.ngrok.io\n",
            " * Traffic stats available on http://127.0.0.1:4040\n"
          ],
          "name": "stdout"
        },
        {
          "output_type": "stream",
          "text": [
            "127.0.0.1 - - [29/Aug/2021 03:00:55] \"\u001b[37mGET / HTTP/1.1\u001b[0m\" 200 -\n",
            "127.0.0.1 - - [29/Aug/2021 03:00:55] \"\u001b[33mGET /favicon.ico HTTP/1.1\u001b[0m\" 404 -\n",
            "127.0.0.1 - - [29/Aug/2021 03:01:14] \"\u001b[37mPOST /callback HTTP/1.1\u001b[0m\" 200 -\n"
          ],
          "name": "stderr"
        }
      ]
    },
    {
      "cell_type": "code",
      "metadata": {
        "id": "3gSIePWHld1q",
        "outputId": "8b6236dd-5cfe-4396-d254-73b077b0a41c",
        "colab": {
          "base_uri": "https://localhost:8080/"
        }
      },
      "source": [
        "##007-1Test of ButtonComponent\n",
        "from linebot.models import *\n",
        "def myBubble_greeting(meesage):\n",
        "  myList_2=['三總北投分院網站','三總北投分院臉書','24hr自殺防治專線']\n",
        "  myLink_2=['https://beitou.tsgh.ndmctsgh.edu.tw/','https://zh-tw.facebook.com/pages/category/Hospital/三軍總醫院北投分院-204568046633204/','tel:+886-2-800-395-995']\n",
        "  myContents_2=[]\n",
        "  i=0\n",
        "  for i in range(len(myList_2)):\n",
        "    myContent=ButtonComponent(style='link',height='sm',action=URIAction(label=myList_2[i],uri=myLink_2[i]))\n",
        "    myContents_2.append(myContent)\n",
        "  myBubble_2=BubbleContainer(\n",
        "      hero=ImageComponent(\n",
        "          url='https://i.imgur.com/9KAkYf4.jpg',\n",
        "          size='full',\n",
        "          aspect_ratio='20:13',\n",
        "          aspect_mode='cover',\n",
        "          action=URIAction(uri='https://beitou.tsgh.ndmctsgh.edu.tw/',label='三總北投分院')\n",
        "      ),\n",
        "      body=BoxComponent(\n",
        "          layout='vertical',\n",
        "          spacing='sm',\n",
        "          contents=myContents_2\n",
        "      )\n",
        "  )\n",
        "  return myBubble_2\n",
        "myBubble_greeting('meesage')"
      ],
      "execution_count": 24,
      "outputs": [
        {
          "output_type": "execute_result",
          "data": {
            "text/plain": [
              "{\"body\": {\"contents\": [{\"action\": {\"label\": \"\\u4e09\\u7e3d\\u5317\\u6295\\u5206\\u9662\\u7db2\\u7ad9\", \"type\": \"uri\", \"uri\": \"https://beitou.tsgh.ndmctsgh.edu.tw/\"}, \"height\": \"sm\", \"style\": \"link\", \"type\": \"button\"}, {\"action\": {\"label\": \"\\u4e09\\u7e3d\\u5317\\u6295\\u5206\\u9662\\u81c9\\u66f8\", \"type\": \"uri\", \"uri\": \"https://zh-tw.facebook.com/pages/category/Hospital/\\u4e09\\u8ecd\\u7e3d\\u91ab\\u9662\\u5317\\u6295\\u5206\\u9662-204568046633204/\"}, \"height\": \"sm\", \"style\": \"link\", \"type\": \"button\"}, {\"action\": {\"label\": \"24hr\\u81ea\\u6bba\\u9632\\u6cbb\\u5c08\\u7dda\", \"type\": \"uri\", \"uri\": \"tel:+886-2-800-395-995\"}, \"height\": \"sm\", \"style\": \"link\", \"type\": \"button\"}], \"layout\": \"vertical\", \"spacing\": \"sm\", \"type\": \"box\"}, \"hero\": {\"action\": {\"label\": \"\\u4e09\\u7e3d\\u5317\\u6295\\u5206\\u9662\", \"type\": \"uri\", \"uri\": \"https://beitou.tsgh.ndmctsgh.edu.tw/\"}, \"aspectMode\": \"cover\", \"aspectRatio\": \"20:13\", \"size\": \"full\", \"type\": \"image\", \"url\": \"https://i.imgur.com/9KAkYf4.jpg\"}, \"type\": \"bubble\"}"
            ]
          },
          "metadata": {},
          "execution_count": 24
        }
      ]
    },
    {
      "cell_type": "code",
      "metadata": {
        "id": "3Lj5zUNBxd5e"
      },
      "source": [
        "  '''\n",
        "  myBubble=BubbleContainer(\n",
        "      body=BoxComponent(\n",
        "          layout='vertical',spacing='sm',\n",
        "          #contents=myBubbles.myContentList(message)\n",
        "          contents=myBubble_greeting('321')\n",
        "          )\n",
        "  )  "
      ],
      "execution_count": null,
      "outputs": []
    },
    {
      "cell_type": "code",
      "metadata": {
        "colab": {
          "base_uri": "https://localhost:8080/"
        },
        "id": "8PTUpXUf7awS",
        "outputId": "76f887c1-ac0b-467f-a11e-fa723813a659"
      },
      "source": [
        "###005嚐試使用linebot.models.flex_message-->將整個Bubble寫在另一個py檔,再import進來...(如果有修改,要記得refrash)\n",
        "import myBubbles\n",
        "app=Flask(__name__)\n",
        "run_with_ngrok(app)\n",
        "\n",
        "line_bot_api=LineBotApi(OPDAid4_SN.myLineBotApi)\n",
        "handler=WebhookHandler(OPDAid4_SN.myWebhookHandler)\n",
        "myID=OPDAid4_SN.myUserID\n",
        "myBubble=BubbleContainer(\n",
        "    body=BoxComponent(\n",
        "        layout='horizontal',\n",
        "        spacing='sm',\n",
        "        contents=[TextComponent(text='三總北投分院',size='md',wrap=True, type='text',margin='xs')]))\n",
        "\n",
        "\n",
        "##line_bot_api.push_message(myID,FlexSendMessage(alt_text='你好',contents=myBubbles))\n",
        "line_bot_api.push_message(myID,FlexSendMessage(alt_text='你好',contents=myBubbles.myBubble_1('321')))\n",
        "@app.route('/')\n",
        "def index():\n",
        "  return '歡迎使用三總北投門診助手4.0!'\n",
        "\n",
        "\n",
        "@app.route('/callback',methods=['POST'])\n",
        "def callback():\n",
        "  signature=request.headers['X-Line-Signature']\n",
        "  body=request.get_data(as_text=True)\n",
        "  ##app.loger.info(\"Request body:\"+body)\n",
        "\n",
        "  try:\n",
        "    handler.handle(body,signature)\n",
        "  except InvalidSignatureError:\n",
        "    abort(400)\n",
        "  return 'OK'\n",
        "\n",
        "@handler.add(MessageEvent,message=TextMessage)\n",
        "def handle_message(event):\n",
        "  message=text=event.message.text\n",
        "  \n",
        "  myBubble=BubbleContainer(\n",
        "      body=BoxComponent(\n",
        "          layout='vertical',spacing='sm',\n",
        "          contents=myBubbles.myContentList(message)\n",
        "          )\n",
        "  )  \n",
        "  line_bot_api.reply_message(event.reply_token, FlexSendMessage(alt_text='你好',contents=myBubble))\n",
        "  \n",
        "app.run()"
      ],
      "execution_count": null,
      "outputs": [
        {
          "output_type": "stream",
          "text": [
            " * Serving Flask app \"__main__\" (lazy loading)\n",
            " * Environment: production\n",
            "\u001b[31m   WARNING: This is a development server. Do not use it in a production deployment.\u001b[0m\n",
            "\u001b[2m   Use a production WSGI server instead.\u001b[0m\n",
            " * Debug mode: off\n"
          ],
          "name": "stdout"
        },
        {
          "output_type": "stream",
          "text": [
            " * Running on http://127.0.0.1:5000/ (Press CTRL+C to quit)\n"
          ],
          "name": "stderr"
        },
        {
          "output_type": "stream",
          "text": [
            " * Running on http://9cc6-35-227-87-215.ngrok.io\n",
            " * Traffic stats available on http://127.0.0.1:4040\n"
          ],
          "name": "stdout"
        }
      ]
    },
    {
      "cell_type": "code",
      "metadata": {
        "id": "IFCUhrDD7U2q"
      },
      "source": [
        "##006Test of TextComponent\n",
        "def myBubble_1(message):\n",
        "  myList1=['歡迎使用三總北投門診助手4.0','本院網址:https://beitou.tsgh.ndmctsgh.edu.tw/','本院臉書:https://zh-tw.facebook.com/pages/category/Hospital/%E4%B8%89%E8%BB%8D%E7%B8%BD%E9%86%AB%E9%99%A2%E5%8C%97%E6%8A%95%E5%88%86%E9%99%A2-204568046633204/']\n",
        "  #myList1=['一二三','456','seven, egight ,nine']\n",
        "  myContents1=[]\n",
        "  for item in myList1:\n",
        "    myContent=TextComponent(text=item, size='md', wrap=True, type='text',margin='xs')\n",
        "    myContents1.append(myContent)\n",
        "  myContents1.append(TextComponent(text=message,size='md',wrap=True, type='text',margin='xs'))\n",
        "  myBubble_1=BubbleContainer(\n",
        "      body=BoxComponent(\n",
        "          layout='vertical',\n",
        "          spacing='sm',\n",
        "          contents=myContents1         \n",
        "      )\n",
        "  )\n",
        "  return myBubble_1"
      ],
      "execution_count": null,
      "outputs": []
    },
    {
      "cell_type": "code",
      "metadata": {
        "id": "vHXU6l338aIx",
        "colab": {
          "base_uri": "https://localhost:8080/"
        },
        "outputId": "58800d4d-b283-4b9a-8fe7-3ad942c40378"
      },
      "source": [
        "myBubble_1('123')"
      ],
      "execution_count": null,
      "outputs": [
        {
          "output_type": "execute_result",
          "data": {
            "text/plain": [
              "{\"body\": {\"contents\": [{\"margin\": \"xs\", \"size\": \"md\", \"text\": \"\\u6b61\\u8fce\\u4f7f\\u7528\\u4e09\\u7e3d\\u5317\\u6295\\u9580\\u8a3a\\u52a9\\u624b4.0\", \"type\": \"text\", \"wrap\": true}, {\"margin\": \"xs\", \"size\": \"md\", \"text\": \"\\u672c\\u9662\\u7db2\\u5740:https://beitou.tsgh.ndmctsgh.edu.tw/\", \"type\": \"text\", \"wrap\": true}, {\"margin\": \"xs\", \"size\": \"md\", \"text\": \"\\u672c\\u9662\\u81c9\\u66f8:https://zh-tw.facebook.com/pages/category/Hospital/%E4%B8%89%E8%BB%8D%E7%B8%BD%E9%86%AB%E9%99%A2%E5%8C%97%E6%8A%95%E5%88%86%E9%99%A2-204568046633204/\", \"type\": \"text\", \"wrap\": true}, {\"margin\": \"xs\", \"size\": \"md\", \"text\": \"123\", \"type\": \"text\", \"wrap\": true}], \"layout\": \"vertical\", \"spacing\": \"sm\", \"type\": \"box\"}, \"type\": \"bubble\"}"
            ]
          },
          "metadata": {},
          "execution_count": 32
        }
      ]
    },
    {
      "cell_type": "code",
      "metadata": {
        "colab": {
          "base_uri": "https://localhost:8080/"
        },
        "id": "ZknciGpHvntq",
        "outputId": "8bb1d629-57a7-4e30-8091-7f476c86ea05"
      },
      "source": [
        "###004嚐試使用linebot.models.flex_message --> 將Contents寫在另一個py檔,再import進來...(如果有修改,要記得refrash)\n",
        "import myBubbles\n",
        "app=Flask(__name__)\n",
        "run_with_ngrok(app)\n",
        "\n",
        "line_bot_api=LineBotApi(OPDAid4_SN.myLineBotApi)\n",
        "handler=WebhookHandler(OPDAid4_SN.myWebhookHandler)\n",
        "myID=OPDAid4_SN.myUserID\n",
        "myBubble=BubbleContainer(\n",
        "    body=BoxComponent(\n",
        "        layout='horizontal',spacing='sm',\n",
        "        contents=[TextComponent(text='三總北投分院',size='md',wrap=True, type='text',margin='xs',)])\n",
        ")\n",
        "\n",
        "\n",
        "line_bot_api.push_message(myID,FlexSendMessage(alt_text='你好',contents=myBubble))\n",
        "@app.route('/')\n",
        "def index():\n",
        "  return '歡迎使用三總北投門診助手4.0!'\n",
        "\n",
        "\n",
        "@app.route('/callback',methods=['POST'])\n",
        "def callback():\n",
        "  signature=request.headers['X-Line-Signature']\n",
        "  body=request.get_data(as_text=True)\n",
        "  ##app.loger.info(\"Request body:\"+body)\n",
        "\n",
        "  try:\n",
        "    handler.handle(body,signature)\n",
        "  except InvalidSignatureError:\n",
        "    abort(400)\n",
        "  return 'OK'\n",
        "\n",
        "@handler.add(MessageEvent,message=TextMessage)\n",
        "def handle_message(event):\n",
        "  message=text=event.message.text\n",
        "  \n",
        "  myBubble=BubbleContainer(\n",
        "      body=BoxComponent(\n",
        "          layout='vertical',spacing='sm',\n",
        "          contents=myBubbles.myContentList(message)\n",
        "          )\n",
        "  )  \n",
        "  line_bot_api.reply_message(event.reply_token, FlexSendMessage(alt_text='你好',contents=myBubble))\n",
        "  \n",
        "app.run()"
      ],
      "execution_count": null,
      "outputs": [
        {
          "output_type": "stream",
          "text": [
            " * Serving Flask app \"__main__\" (lazy loading)\n",
            " * Environment: production\n",
            "\u001b[31m   WARNING: This is a development server. Do not use it in a production deployment.\u001b[0m\n",
            "\u001b[2m   Use a production WSGI server instead.\u001b[0m\n",
            " * Debug mode: off\n"
          ],
          "name": "stdout"
        },
        {
          "output_type": "stream",
          "text": [
            " * Running on http://127.0.0.1:5000/ (Press CTRL+C to quit)\n"
          ],
          "name": "stderr"
        },
        {
          "output_type": "stream",
          "text": [
            " * Running on http://2c32-35-227-87-215.ngrok.io\n",
            " * Traffic stats available on http://127.0.0.1:4040\n"
          ],
          "name": "stdout"
        },
        {
          "output_type": "stream",
          "text": [
            "127.0.0.1 - - [28/Aug/2021 08:23:36] \"\u001b[37mGET / HTTP/1.1\u001b[0m\" 200 -\n",
            "127.0.0.1 - - [28/Aug/2021 08:23:36] \"\u001b[33mGET /favicon.ico HTTP/1.1\u001b[0m\" 404 -\n",
            "127.0.0.1 - - [28/Aug/2021 08:24:14] \"\u001b[37mPOST /callback HTTP/1.1\u001b[0m\" 200 -\n"
          ],
          "name": "stderr"
        }
      ]
    },
    {
      "cell_type": "code",
      "metadata": {
        "id": "x5KbpynimK1K",
        "colab": {
          "base_uri": "https://localhost:8080/"
        },
        "outputId": "e2f67a18-e284-4dc4-c491-a0c4630b8bac"
      },
      "source": [
        "myList=['一二三','四五六','七八九']\n",
        "myTextComponentList=[]\n",
        "for myItem in myList:\n",
        "  myComponent=TextComponent(text=myList[0],size='md',wrap=True, type='text',margin='xs')\n",
        "  myTextComponentList.append(myComponent)\n",
        "\n",
        "myTextComponentList"
      ],
      "execution_count": null,
      "outputs": [
        {
          "output_type": "execute_result",
          "data": {
            "text/plain": [
              "[{\"margin\": \"xs\", \"size\": \"md\", \"text\": \"\\u4e00\\u4e8c\\u4e09\", \"type\": \"text\", \"wrap\": true},\n",
              " {\"margin\": \"xs\", \"size\": \"md\", \"text\": \"\\u4e00\\u4e8c\\u4e09\", \"type\": \"text\", \"wrap\": true},\n",
              " {\"margin\": \"xs\", \"size\": \"md\", \"text\": \"\\u4e00\\u4e8c\\u4e09\", \"type\": \"text\", \"wrap\": true}]"
            ]
          },
          "metadata": {},
          "execution_count": 12
        }
      ]
    },
    {
      "cell_type": "code",
      "metadata": {
        "id": "e-2m_Mq8v8QS"
      },
      "source": [
        "def myContentList(message):\n",
        "  myContents=[]\n",
        "  myList=['一二三','四五六','七八九']\n",
        "  for myItem in myList:\n",
        "    myComponent=TextComponent(text=myItem,size='md',wrap=True, type='text', margin='xs')\n",
        "    myContents.append(myComponent)\n",
        "  myContents.append(TextComponent(text=message,size='md',wrap=True, type='text',margin='xs'))\n",
        "  return myContents"
      ],
      "execution_count": null,
      "outputs": []
    },
    {
      "cell_type": "code",
      "metadata": {
        "id": "ssMY3oGWytXU",
        "colab": {
          "base_uri": "https://localhost:8080/"
        },
        "outputId": "aa720bfd-ebce-4b8a-c283-53f44dcdd4a2"
      },
      "source": [
        "myContentList('123')"
      ],
      "execution_count": null,
      "outputs": [
        {
          "output_type": "execute_result",
          "data": {
            "text/plain": [
              "[{\"margin\": \"xs\", \"size\": \"md\", \"text\": \"\\u4e00\\u4e8c\\u4e09\", \"type\": \"text\", \"wrap\": true},\n",
              " {\"margin\": \"xs\", \"size\": \"md\", \"text\": \"\\u56db\\u4e94\\u516d\", \"type\": \"text\", \"wrap\": true},\n",
              " {\"margin\": \"xs\", \"size\": \"md\", \"text\": \"\\u4e03\\u516b\\u4e5d\", \"type\": \"text\", \"wrap\": true},\n",
              " {\"margin\": \"xs\", \"size\": \"md\", \"text\": \"123\", \"type\": \"text\", \"wrap\": true}]"
            ]
          },
          "metadata": {},
          "execution_count": 24
        }
      ]
    },
    {
      "cell_type": "code",
      "metadata": {
        "colab": {
          "base_uri": "https://localhost:8080/"
        },
        "id": "riMHRGejiOEB",
        "outputId": "cdf62526-85c4-4c40-fde8-74baa036d496"
      },
      "source": [
        "###003嚐試使用linebot.models.flex_message -->pure text list\n",
        "app=Flask(__name__)\n",
        "run_with_ngrok(app)\n",
        "\n",
        "line_bot_api=LineBotApi(OPDAid4_SN.myLineBotApi)\n",
        "handler=WebhookHandler(OPDAid4_SN.myWebhookHandler)\n",
        "myID=OPDAid4_SN.myUserID\n",
        "myBubble=BubbleContainer(\n",
        "    body=BoxComponent(\n",
        "        layout='horizontal',spacing='sm',\n",
        "        contents=[TextComponent(text='三總北投分院',size='md',wrap=True, type='text',margin='xs',)])\n",
        ")\n",
        "\n",
        "\n",
        "line_bot_api.push_message(myID,FlexSendMessage(alt_text='你好',contents=myBubble))\n",
        "@app.route('/')\n",
        "def index():\n",
        "  return '歡迎使用三總北投門診助手4.0!'\n",
        "\n",
        "\n",
        "@app.route('/callback',methods=['POST'])\n",
        "def callback():\n",
        "  signature=request.headers['X-Line-Signature']\n",
        "  body=request.get_data(as_text=True)\n",
        "  ##app.loger.info(\"Request body:\"+body)\n",
        "\n",
        "  try:\n",
        "    handler.handle(body,signature)\n",
        "  except InvalidSignatureError:\n",
        "    abort(400)\n",
        "  return 'OK'\n",
        "\n",
        "@handler.add(MessageEvent,message=TextMessage)\n",
        "def handle_message(event):\n",
        "  message=text=event.message.text\n",
        "  myContents=[]\n",
        "  myList=['一二三','四五六','七八九']\n",
        "  for myItem in myList:\n",
        "    myComponent=TextComponent(text=myItem,size='md',wrap=True, type='text', margin='xs')\n",
        "    myContents.append(myComponent)\n",
        "  myContents.append(TextComponent(text=message,size='md',wrap=True, type='text',margin='xs'))\n",
        "\n",
        "  myBubble=BubbleContainer(\n",
        "      body=BoxComponent(\n",
        "          layout='vertical',spacing='sm',\n",
        "          contents=myContents\n",
        "          )\n",
        "  )  \n",
        "  line_bot_api.reply_message(event.reply_token, FlexSendMessage(alt_text='你好',contents=myBubble))\n",
        "  \n",
        "app.run()"
      ],
      "execution_count": null,
      "outputs": [
        {
          "output_type": "stream",
          "text": [
            " * Serving Flask app \"__main__\" (lazy loading)\n",
            " * Environment: production\n",
            "\u001b[31m   WARNING: This is a development server. Do not use it in a production deployment.\u001b[0m\n",
            "\u001b[2m   Use a production WSGI server instead.\u001b[0m\n",
            " * Debug mode: off\n"
          ],
          "name": "stdout"
        },
        {
          "output_type": "stream",
          "text": [
            " * Running on http://127.0.0.1:5000/ (Press CTRL+C to quit)\n"
          ],
          "name": "stderr"
        },
        {
          "output_type": "stream",
          "text": [
            " * Running on http://0fe1-35-227-87-215.ngrok.io\n",
            " * Traffic stats available on http://127.0.0.1:4040\n"
          ],
          "name": "stdout"
        },
        {
          "output_type": "stream",
          "text": [
            "127.0.0.1 - - [28/Aug/2021 07:48:27] \"\u001b[37mGET / HTTP/1.1\u001b[0m\" 200 -\n",
            "127.0.0.1 - - [28/Aug/2021 07:48:28] \"\u001b[33mGET /favicon.ico HTTP/1.1\u001b[0m\" 404 -\n",
            "127.0.0.1 - - [28/Aug/2021 07:49:01] \"\u001b[37mPOST /callback HTTP/1.1\u001b[0m\" 200 -\n",
            "127.0.0.1 - - [28/Aug/2021 07:49:09] \"\u001b[37mPOST /callback HTTP/1.1\u001b[0m\" 200 -\n"
          ],
          "name": "stderr"
        }
      ]
    },
    {
      "cell_type": "code",
      "metadata": {
        "colab": {
          "base_uri": "https://localhost:8080/"
        },
        "id": "Z2WxgvwLXxad",
        "outputId": "9a11049a-5cf5-431a-b386-e76516c4ea07"
      },
      "source": [
        "###002嚐試使用linebot.models.flex_message -->pure text\n",
        "app=Flask(__name__)\n",
        "run_with_ngrok(app)\n",
        "\n",
        "line_bot_api=LineBotApi(OPDAid4_SN.myLineBotApi)\n",
        "handler=WebhookHandler(OPDAid4_SN.myWebhookHandler)\n",
        "myID=OPDAid4_SN.myUserID\n",
        "myBubble=BubbleContainer(\n",
        "    body=BoxComponent(\n",
        "        layout='horizontal',spacing='sm',\n",
        "        contents=[TextComponent(text='三總北投分院',size='md',wrap=True, type='text',margin='xs',)])\n",
        ")\n",
        "\n",
        "\n",
        "line_bot_api.push_message(myID,FlexSendMessage(alt_text='你好',contents=myBubble))\n",
        "@app.route('/')\n",
        "def index():\n",
        "  return '歡迎使用三總北投門診助手4.0!'\n",
        "\n",
        "\n",
        "@app.route('/callback',methods=['POST'])\n",
        "def callback():\n",
        "  signature=request.headers['X-Line-Signature']\n",
        "  body=request.get_data(as_text=True)\n",
        "  ##app.loger.info(\"Request body:\"+body)\n",
        "\n",
        "  try:\n",
        "    handler.handle(body,signature)\n",
        "  except InvalidSignatureError:\n",
        "    abort(400)\n",
        "  return 'OK'\n",
        "\n",
        "@handler.add(MessageEvent,message=TextMessage)\n",
        "def handle_message(event):\n",
        "  message=text=event.message.text\n",
        "  myBubble=BubbleContainer(\n",
        "      body=BoxComponent(\n",
        "          layout='horizontal',spacing='sm',\n",
        "          contents=[TextComponent(text=message,size='md',wrap=True, type='text',margin='xs',)])\n",
        "  )  \n",
        "  line_bot_api.reply_message(event.reply_token, FlexSendMessage(alt_text='你好',contents=myBubble))\n",
        "  \n",
        "app.run()\n"
      ],
      "execution_count": null,
      "outputs": [
        {
          "output_type": "stream",
          "text": [
            " * Serving Flask app \"__main__\" (lazy loading)\n",
            " * Environment: production\n",
            "\u001b[31m   WARNING: This is a development server. Do not use it in a production deployment.\u001b[0m\n",
            "\u001b[2m   Use a production WSGI server instead.\u001b[0m\n",
            " * Debug mode: off\n"
          ],
          "name": "stdout"
        },
        {
          "output_type": "stream",
          "text": [
            " * Running on http://127.0.0.1:5000/ (Press CTRL+C to quit)\n"
          ],
          "name": "stderr"
        },
        {
          "output_type": "stream",
          "text": [
            " * Running on http://260b-35-227-87-215.ngrok.io\n",
            " * Traffic stats available on http://127.0.0.1:4040\n"
          ],
          "name": "stdout"
        },
        {
          "output_type": "stream",
          "text": [
            "127.0.0.1 - - [28/Aug/2021 07:00:43] \"\u001b[37mGET / HTTP/1.1\u001b[0m\" 200 -\n",
            "127.0.0.1 - - [28/Aug/2021 07:00:43] \"\u001b[33mGET /favicon.ico HTTP/1.1\u001b[0m\" 404 -\n",
            "127.0.0.1 - - [28/Aug/2021 07:01:35] \"\u001b[37mPOST /callback HTTP/1.1\u001b[0m\" 200 -\n"
          ],
          "name": "stderr"
        }
      ]
    },
    {
      "cell_type": "code",
      "metadata": {
        "colab": {
          "base_uri": "https://localhost:8080/"
        },
        "id": "FP3cCSxwS_nq",
        "outputId": "c8aedc3d-2bec-44da-e2cd-4389e4a86ae4"
      },
      "source": [
        "##001嚐試使用別人範例,回覆具有動畫的\n",
        "today=date.today()\n",
        "app=Flask(__name__)\n",
        "run_with_ngrok(app)\n",
        "\n",
        "line_bot_api=LineBotApi(OPDAid3_SN.myLineBotApi)\n",
        "handler=WebhookHandler(OPDAid3_SN.myWebhookHandler)\n",
        "myID=OPDAid3_SN.myUserID\n",
        "line_bot_api.push_message(myID,TextSendMessage(text='歡迎使用三總北投門診助手3.0!'))\n",
        "@app.route('/')\n",
        "def index():\n",
        "  return '歡迎使用三總北投門診助手3.0!'\n",
        "\n",
        "@app.route('/callback',methods=['POST'])\n",
        "def callback():\n",
        "  signature=request.headers['X-Line-Signature']\n",
        "  body=request.get_data(as_text=True)\n",
        "  ##app.loger.info(\"Request body:\"+body)\n",
        "\n",
        "  try:\n",
        "    handler.handle(body,signature)\n",
        "  except InvalidSignatureError:\n",
        "    abort(400)\n",
        "  return 'OK'\n",
        "\n",
        "@handler.add(MessageEvent,message=TextMessage)\n",
        "def handle_message(event):\n",
        "  message=text=event.message.text\n",
        "  imagemap_message=ImagemapSendMessage(\n",
        "      base_url='https://i.imgur.com/U8pVG9e.jpg',###'https://i.imgur.com/wpM584d.jpg',\n",
        "      alt_text='this is an imagemap',\n",
        "      base_size=BaseSize(height=1040, width=1040),\n",
        "      video=Video(\n",
        "          original_content_url='https://i.imgur.com/HVom87U.mp4',\n",
        "          preview_image_url='https://i.imgur.com/9KAkYf4.jpg',\n",
        "          area=ImagemapArea(x=40, y=0, width=1000, height=337),\n",
        "          external_link=ExternalLink(# 影片結束後的連結\n",
        "          link_uri='https://https://beitou.tsgh.ndmctsgh.edu.tw',\n",
        "          label='查看更多…',\n",
        "          ),\n",
        "          ),\n",
        "      actions=[URIImagemapAction(\n",
        "          link_uri='tel:+886-2-800395995',\n",
        "          area=ImagemapArea(x=49, y=344, width=304, height=193)\n",
        "          ),\n",
        "          URIImagemapAction(\n",
        "          link_uri='tel:+886-2-1925',\n",
        "          area=ImagemapArea(x=372, y=338, width=303, height=204)\n",
        "          ),\n",
        "      MessageImagemapAction(\n",
        "          text='戳我幹嘛！',\n",
        "          area=ImagemapArea(x=39, y=16, width=520, height=1040)\n",
        "                )]\n",
        "         )\n",
        "  line_bot_api.reply_message(event.reply_token, imagemap_message) \n",
        "\n",
        "app.run()"
      ],
      "execution_count": null,
      "outputs": [
        {
          "output_type": "stream",
          "text": [
            " * Serving Flask app \"__main__\" (lazy loading)\n",
            " * Environment: production\n",
            "\u001b[31m   WARNING: This is a development server. Do not use it in a production deployment.\u001b[0m\n",
            "\u001b[2m   Use a production WSGI server instead.\u001b[0m\n",
            " * Debug mode: off\n"
          ],
          "name": "stdout"
        },
        {
          "output_type": "stream",
          "text": [
            " * Running on http://127.0.0.1:5000/ (Press CTRL+C to quit)\n"
          ],
          "name": "stderr"
        },
        {
          "output_type": "stream",
          "text": [
            " * Running on http://7b5b-35-239-131-3.ngrok.io\n",
            " * Traffic stats available on http://127.0.0.1:4040\n"
          ],
          "name": "stdout"
        },
        {
          "output_type": "stream",
          "text": [
            "127.0.0.1 - - [26/Aug/2021 03:34:12] \"\u001b[37mGET / HTTP/1.1\u001b[0m\" 200 -\n",
            "127.0.0.1 - - [26/Aug/2021 03:34:12] \"\u001b[33mGET /favicon.ico HTTP/1.1\u001b[0m\" 404 -\n",
            "127.0.0.1 - - [26/Aug/2021 03:34:43] \"\u001b[37mPOST /callback HTTP/1.1\u001b[0m\" 200 -\n",
            "127.0.0.1 - - [26/Aug/2021 03:34:50] \"\u001b[37mPOST /callback HTTP/1.1\u001b[0m\" 200 -\n",
            "127.0.0.1 - - [26/Aug/2021 03:35:01] \"\u001b[37mPOST /callback HTTP/1.1\u001b[0m\" 200 -\n"
          ],
          "name": "stderr"
        }
      ]
    },
    {
      "cell_type": "code",
      "metadata": {
        "colab": {
          "base_uri": "https://localhost:8080/"
        },
        "id": "T3gImwwMI0sy",
        "outputId": "09eadd8a-bd32-4bda-e28a-0af75735d508"
      },
      "source": [
        ""
      ],
      "execution_count": null,
      "outputs": [
        {
          "output_type": "stream",
          "text": [
            " * Serving Flask app \"__main__\" (lazy loading)\n",
            " * Environment: production\n",
            "\u001b[31m   WARNING: This is a development server. Do not use it in a production deployment.\u001b[0m\n",
            "\u001b[2m   Use a production WSGI server instead.\u001b[0m\n",
            " * Debug mode: off\n"
          ],
          "name": "stdout"
        },
        {
          "output_type": "stream",
          "text": [
            " * Running on http://127.0.0.1:5000/ (Press CTRL+C to quit)\n"
          ],
          "name": "stderr"
        },
        {
          "output_type": "stream",
          "text": [
            " * Running on http://4fa0-34-90-151-62.ngrok.io\n",
            " * Traffic stats available on http://127.0.0.1:4040\n"
          ],
          "name": "stdout"
        },
        {
          "output_type": "stream",
          "text": [
            "127.0.0.1 - - [25/Aug/2021 12:28:33] \"\u001b[37mGET / HTTP/1.1\u001b[0m\" 200 -\n",
            "127.0.0.1 - - [25/Aug/2021 12:28:34] \"\u001b[33mGET /favicon.ico HTTP/1.1\u001b[0m\" 404 -\n"
          ],
          "name": "stderr"
        }
      ]
    }
  ]
}