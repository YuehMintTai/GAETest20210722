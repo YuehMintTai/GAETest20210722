{
  "nbformat": 4,
  "nbformat_minor": 0,
  "metadata": {
    "colab": {
      "name": "FlaskAPITry20210724.ipynb",
      "provenance": [],
      "authorship_tag": "ABX9TyMDcbWoob+vdLEEn6ET6f+W",
      "include_colab_link": true
    },
    "kernelspec": {
      "name": "python3",
      "display_name": "Python 3"
    },
    "language_info": {
      "name": "python"
    }
  },
  "cells": [
    {
      "cell_type": "markdown",
      "metadata": {
        "id": "view-in-github",
        "colab_type": "text"
      },
      "source": [
        "<a href=\"https://colab.research.google.com/github/YuehMintTai/GAETest20210722/blob/main/FlaskAPITry20210724.ipynb\" target=\"_parent\"><img src=\"https://colab.research.google.com/assets/colab-badge.svg\" alt=\"Open In Colab\"/></a>"
      ]
    },
    {
      "cell_type": "markdown",
      "metadata": {
        "id": "foCJGVSiBHHY"
      },
      "source": [
        "#Test of Flask API"
      ]
    },
    {
      "cell_type": "code",
      "metadata": {
        "colab": {
          "base_uri": "https://localhost:8080/"
        },
        "id": "3VhPgLA0A38l",
        "outputId": "d1298d8e-bfe7-403c-d32e-a883bb981c23"
      },
      "source": [
        "!pip install flask_ngrok"
      ],
      "execution_count": 1,
      "outputs": [
        {
          "output_type": "stream",
          "text": [
            "Collecting flask_ngrok\n",
            "  Downloading flask_ngrok-0.0.25-py3-none-any.whl (3.1 kB)\n",
            "Requirement already satisfied: requests in /usr/local/lib/python3.7/dist-packages (from flask_ngrok) (2.23.0)\n",
            "Requirement already satisfied: Flask>=0.8 in /usr/local/lib/python3.7/dist-packages (from flask_ngrok) (1.1.4)\n",
            "Requirement already satisfied: Werkzeug<2.0,>=0.15 in /usr/local/lib/python3.7/dist-packages (from Flask>=0.8->flask_ngrok) (1.0.1)\n",
            "Requirement already satisfied: Jinja2<3.0,>=2.10.1 in /usr/local/lib/python3.7/dist-packages (from Flask>=0.8->flask_ngrok) (2.11.3)\n",
            "Requirement already satisfied: click<8.0,>=5.1 in /usr/local/lib/python3.7/dist-packages (from Flask>=0.8->flask_ngrok) (7.1.2)\n",
            "Requirement already satisfied: itsdangerous<2.0,>=0.24 in /usr/local/lib/python3.7/dist-packages (from Flask>=0.8->flask_ngrok) (1.1.0)\n",
            "Requirement already satisfied: MarkupSafe>=0.23 in /usr/local/lib/python3.7/dist-packages (from Jinja2<3.0,>=2.10.1->Flask>=0.8->flask_ngrok) (2.0.1)\n",
            "Requirement already satisfied: idna<3,>=2.5 in /usr/local/lib/python3.7/dist-packages (from requests->flask_ngrok) (2.10)\n",
            "Requirement already satisfied: urllib3!=1.25.0,!=1.25.1,<1.26,>=1.21.1 in /usr/local/lib/python3.7/dist-packages (from requests->flask_ngrok) (1.24.3)\n",
            "Requirement already satisfied: chardet<4,>=3.0.2 in /usr/local/lib/python3.7/dist-packages (from requests->flask_ngrok) (3.0.4)\n",
            "Requirement already satisfied: certifi>=2017.4.17 in /usr/local/lib/python3.7/dist-packages (from requests->flask_ngrok) (2021.5.30)\n",
            "Installing collected packages: flask-ngrok\n",
            "Successfully installed flask-ngrok-0.0.25\n"
          ],
          "name": "stdout"
        }
      ]
    },
    {
      "cell_type": "code",
      "metadata": {
        "colab": {
          "base_uri": "https://localhost:8080/"
        },
        "id": "1KurNnaNFld7",
        "outputId": "9024c692-e77e-46d8-d6d4-06c6c007b5e0"
      },
      "source": [
        "##!pip install flask_cors\n",
        "!pip install -U flask-cors"
      ],
      "execution_count": 2,
      "outputs": [
        {
          "output_type": "stream",
          "text": [
            "Collecting flask-cors\n",
            "  Downloading Flask_Cors-3.0.10-py2.py3-none-any.whl (14 kB)\n",
            "Requirement already satisfied: Six in /usr/local/lib/python3.7/dist-packages (from flask-cors) (1.15.0)\n",
            "Requirement already satisfied: Flask>=0.9 in /usr/local/lib/python3.7/dist-packages (from flask-cors) (1.1.4)\n",
            "Requirement already satisfied: Werkzeug<2.0,>=0.15 in /usr/local/lib/python3.7/dist-packages (from Flask>=0.9->flask-cors) (1.0.1)\n",
            "Requirement already satisfied: click<8.0,>=5.1 in /usr/local/lib/python3.7/dist-packages (from Flask>=0.9->flask-cors) (7.1.2)\n",
            "Requirement already satisfied: itsdangerous<2.0,>=0.24 in /usr/local/lib/python3.7/dist-packages (from Flask>=0.9->flask-cors) (1.1.0)\n",
            "Requirement already satisfied: Jinja2<3.0,>=2.10.1 in /usr/local/lib/python3.7/dist-packages (from Flask>=0.9->flask-cors) (2.11.3)\n",
            "Requirement already satisfied: MarkupSafe>=0.23 in /usr/local/lib/python3.7/dist-packages (from Jinja2<3.0,>=2.10.1->Flask>=0.9->flask-cors) (2.0.1)\n",
            "Installing collected packages: flask-cors\n",
            "Successfully installed flask-cors-3.0.10\n"
          ],
          "name": "stdout"
        }
      ]
    },
    {
      "cell_type": "code",
      "metadata": {
        "colab": {
          "base_uri": "https://localhost:8080/"
        },
        "id": "ruLSDeA9xinb",
        "outputId": "05c164dc-d78b-42a0-98f5-8e2ac629355d"
      },
      "source": [
        "##very simple flask post api\n",
        "from flask_ngrok import run_with_ngrok\n",
        "from flask import Flask,request,jsonify\n",
        "\n",
        "app=Flask(__name__)\n",
        "run_with_ngrok(app)\n",
        "\n",
        "@app.route('/',methods=['POST'])\n",
        "\n",
        "def post():\n",
        "  request_data=request.get_json()\n",
        "  new_store={\n",
        "      'name':request_data['name'],\n",
        "      'price':request_data['price']\n",
        "  }\n",
        "  return jsonify(new_store)\n",
        "\n",
        "app.run()"
      ],
      "execution_count": 6,
      "outputs": [
        {
          "output_type": "stream",
          "text": [
            " * Serving Flask app \"__main__\" (lazy loading)\n",
            " * Environment: production\n",
            "\u001b[31m   WARNING: This is a development server. Do not use it in a production deployment.\u001b[0m\n",
            "\u001b[2m   Use a production WSGI server instead.\u001b[0m\n",
            " * Debug mode: off\n"
          ],
          "name": "stdout"
        },
        {
          "output_type": "stream",
          "text": [
            " * Running on http://127.0.0.1:5000/ (Press CTRL+C to quit)\n"
          ],
          "name": "stderr"
        },
        {
          "output_type": "stream",
          "text": [
            " * Running on http://96e219c18f2c.ngrok.io\n",
            " * Traffic stats available on http://127.0.0.1:4040\n"
          ],
          "name": "stdout"
        },
        {
          "output_type": "stream",
          "text": [
            "127.0.0.1 - - [26/Jul/2021 12:28:02] \"\u001b[37mPOST / HTTP/1.1\u001b[0m\" 200 -\n",
            "127.0.0.1 - - [26/Jul/2021 12:29:29] \"\u001b[31m\u001b[1mGET / HTTP/1.1\u001b[0m\" 405 -\n",
            "127.0.0.1 - - [26/Jul/2021 12:29:29] \"\u001b[33mGET /favicon.ico HTTP/1.1\u001b[0m\" 404 -\n"
          ],
          "name": "stderr"
        }
      ]
    },
    {
      "cell_type": "code",
      "metadata": {
        "colab": {
          "base_uri": "https://localhost:8080/"
        },
        "id": "7qcAgj6Wq-0e",
        "outputId": "9c81a8e2-7e53-4021-e6c6-a9d235698f6e"
      },
      "source": [
        "##simple flask post api\n",
        "from flask_ngrok import run_with_ngrok\n",
        "from flask import Flask,request,jsonify\n",
        "\n",
        "app=Flask(__name__)\n",
        "run_with_ngrok(app)\n",
        "stores=[\n",
        "    {\n",
        "    'name':'cool store',\n",
        "    'items':[{\n",
        "        'name':'Cool Item',\n",
        "        'price': 9.99\n",
        "    }]\n",
        "    }\n",
        "]\n",
        "\n",
        "@app.route('/')\n",
        "def index():\n",
        "  return jsonify({'stores':stores})\n",
        "\n",
        "@app.route('/post',methods=['POST'])\n",
        "def post():\n",
        "  request_data=request.get_json()\n",
        "  new_store={\n",
        "      'name':request_data['name'],\n",
        "      'itmes':[]\n",
        "  }\n",
        "  stores.append(new_store)\n",
        "  return jsonify(new_store)\n",
        "\n",
        "app.run()"
      ],
      "execution_count": 4,
      "outputs": [
        {
          "output_type": "stream",
          "text": [
            " * Serving Flask app \"__main__\" (lazy loading)\n",
            " * Environment: production\n",
            "\u001b[31m   WARNING: This is a development server. Do not use it in a production deployment.\u001b[0m\n",
            "\u001b[2m   Use a production WSGI server instead.\u001b[0m\n",
            " * Debug mode: off\n"
          ],
          "name": "stdout"
        },
        {
          "output_type": "stream",
          "text": [
            " * Running on http://127.0.0.1:5000/ (Press CTRL+C to quit)\n"
          ],
          "name": "stderr"
        },
        {
          "output_type": "stream",
          "text": [
            " * Running on http://53762bfd0583.ngrok.io\n",
            " * Traffic stats available on http://127.0.0.1:4040\n"
          ],
          "name": "stdout"
        },
        {
          "output_type": "stream",
          "text": [
            "127.0.0.1 - - [26/Jul/2021 12:15:49] \"\u001b[37mGET / HTTP/1.1\u001b[0m\" 200 -\n",
            "127.0.0.1 - - [26/Jul/2021 12:15:49] \"\u001b[33mGET /favicon.ico HTTP/1.1\u001b[0m\" 404 -\n",
            "127.0.0.1 - - [26/Jul/2021 12:15:56] \"\u001b[31m\u001b[1mGET /post HTTP/1.1\u001b[0m\" 405 -\n",
            "127.0.0.1 - - [26/Jul/2021 12:15:57] \"\u001b[33mGET /favicon.ico HTTP/1.1\u001b[0m\" 404 -\n",
            "127.0.0.1 - - [26/Jul/2021 12:16:00] \"\u001b[33mGET /post/ HTTP/1.1\u001b[0m\" 404 -\n",
            "127.0.0.1 - - [26/Jul/2021 12:17:04] \"\u001b[33mGET /post/ HTTP/1.1\u001b[0m\" 404 -\n",
            "127.0.0.1 - - [26/Jul/2021 12:17:16] \"\u001b[31m\u001b[1mGET /post HTTP/1.1\u001b[0m\" 405 -\n",
            "[2021-07-26 12:17:31,308] ERROR in app: Exception on /post [POST]\n",
            "Traceback (most recent call last):\n",
            "  File \"/usr/local/lib/python3.7/dist-packages/flask/app.py\", line 2447, in wsgi_app\n",
            "    response = self.full_dispatch_request()\n",
            "  File \"/usr/local/lib/python3.7/dist-packages/flask/app.py\", line 1952, in full_dispatch_request\n",
            "    rv = self.handle_user_exception(e)\n",
            "  File \"/usr/local/lib/python3.7/dist-packages/flask/app.py\", line 1821, in handle_user_exception\n",
            "    reraise(exc_type, exc_value, tb)\n",
            "  File \"/usr/local/lib/python3.7/dist-packages/flask/_compat.py\", line 39, in reraise\n",
            "    raise value\n",
            "  File \"/usr/local/lib/python3.7/dist-packages/flask/app.py\", line 1950, in full_dispatch_request\n",
            "    rv = self.dispatch_request()\n",
            "  File \"/usr/local/lib/python3.7/dist-packages/flask/app.py\", line 1936, in dispatch_request\n",
            "    return self.view_functions[rule.endpoint](**req.view_args)\n",
            "  File \"<ipython-input-4-7f7efd806d79>\", line 25, in post\n",
            "    'name':request_data['name'],\n",
            "TypeError: 'NoneType' object is not subscriptable\n",
            "127.0.0.1 - - [26/Jul/2021 12:17:31] \"\u001b[35m\u001b[1mPOST /post HTTP/1.1\u001b[0m\" 500 -\n",
            "127.0.0.1 - - [26/Jul/2021 12:20:42] \"\u001b[31m\u001b[1mPOST /post HTTP/1.1\u001b[0m\" 400 -\n",
            "127.0.0.1 - - [26/Jul/2021 12:21:02] \"\u001b[33mPOST /post/ HTTP/1.1\u001b[0m\" 404 -\n",
            "127.0.0.1 - - [26/Jul/2021 12:21:17] \"\u001b[31m\u001b[1mPOST /post HTTP/1.1\u001b[0m\" 400 -\n",
            "127.0.0.1 - - [26/Jul/2021 12:21:53] \"\u001b[37mPOST /post HTTP/1.1\u001b[0m\" 200 -\n"
          ],
          "name": "stderr"
        }
      ]
    },
    {
      "cell_type": "code",
      "metadata": {
        "colab": {
          "base_uri": "https://localhost:8080/"
        },
        "id": "g9C7sl3yoQcP",
        "outputId": "8865624e-eaa8-46f7-cca9-fc375a9ba844"
      },
      "source": [
        "##simple flask api\n",
        "from flask import Flask, request, jsonify\n",
        "from flask_ngrok import run_with_ngrok\n",
        "from flask_cors import CORS, cross_origin\n",
        "\n",
        "app=Flask(__name__)\n",
        "CORS(app,resources={\"/*\":{\"origins\":\"*\"}})\n",
        "run_with_ngrok(app)\n",
        "\n",
        "@app.route(\"/\",methods=['GET'])\n",
        "@cross_origin()\n",
        "def get():\n",
        "  return jsonify(request.args)\n",
        "  \n",
        "app.run()"
      ],
      "execution_count": null,
      "outputs": [
        {
          "output_type": "stream",
          "text": [
            " * Serving Flask app \"__main__\" (lazy loading)\n",
            " * Environment: production\n",
            "\u001b[31m   WARNING: This is a development server. Do not use it in a production deployment.\u001b[0m\n",
            "\u001b[2m   Use a production WSGI server instead.\u001b[0m\n",
            " * Debug mode: off\n"
          ],
          "name": "stdout"
        },
        {
          "output_type": "stream",
          "text": [
            " * Running on http://127.0.0.1:5000/ (Press CTRL+C to quit)\n"
          ],
          "name": "stderr"
        },
        {
          "output_type": "stream",
          "text": [
            " * Running on http://26302b1cf7a2.ngrok.io\n",
            " * Traffic stats available on http://127.0.0.1:4040\n"
          ],
          "name": "stdout"
        },
        {
          "output_type": "stream",
          "text": [
            "127.0.0.1 - - [25/Jul/2021 09:15:50] \"\u001b[37mGET / HTTP/1.1\u001b[0m\" 200 -\n",
            "127.0.0.1 - - [25/Jul/2021 09:15:53] \"\u001b[37mGET /?fname=AAA&lname=BBB HTTP/1.1\u001b[0m\" 200 -\n",
            "127.0.0.1 - - [25/Jul/2021 09:15:57] \"\u001b[37mGET /?fname=AAA&lname=BBB HTTP/1.1\u001b[0m\" 200 -\n",
            "127.0.0.1 - - [25/Jul/2021 09:16:24] \"\u001b[37mGET /?fname=AAA&lname=BBB HTTP/1.1\u001b[0m\" 200 -\n",
            "127.0.0.1 - - [25/Jul/2021 09:16:28] \"\u001b[37mGET /?fname=AAA&lname=BBB HTTP/1.1\u001b[0m\" 200 -\n",
            "127.0.0.1 - - [25/Jul/2021 09:18:17] \"\u001b[37mGET /?fname=AAA&lname=BBB HTTP/1.1\u001b[0m\" 200 -\n",
            "127.0.0.1 - - [25/Jul/2021 09:18:22] \"\u001b[37mGET /?fname=AAA&lname=BBB123 HTTP/1.1\u001b[0m\" 200 -\n"
          ],
          "name": "stderr"
        }
      ]
    },
    {
      "cell_type": "code",
      "metadata": {
        "colab": {
          "base_uri": "https://localhost:8080/"
        },
        "id": "_cUHlPgHBLvS",
        "outputId": "5a03a9e2-659a-4f40-c139-b89c5903a0b0"
      },
      "source": [
        "from flask import Flask, request, jsonify\n",
        "from flask_ngrok import run_with_ngrok\n",
        "from flask_cors import CORS, cross_origin\n",
        "\n",
        "app=Flask(__name__)\n",
        "CORS(app,resources={r\"/*\":{\"origins\":\"*\"}})\n",
        "run_with_ngrok(app)\n",
        "\n",
        "@app.route('/',methods=['GET'])\n",
        "@cross_origin()\n",
        "def get():\n",
        "  return jsonify({'data':'Hello, the World.'})\n",
        "\n",
        "@app.route('/api')\n",
        "@cross_origin()\n",
        "def api():\n",
        "  return jsonify({'data':'It is now working.'})\n",
        "\n",
        "app.run()"
      ],
      "execution_count": null,
      "outputs": [
        {
          "output_type": "stream",
          "text": [
            " * Serving Flask app \"__main__\" (lazy loading)\n",
            " * Environment: production\n",
            "\u001b[31m   WARNING: This is a development server. Do not use it in a production deployment.\u001b[0m\n",
            "\u001b[2m   Use a production WSGI server instead.\u001b[0m\n",
            " * Debug mode: off\n"
          ],
          "name": "stdout"
        },
        {
          "output_type": "stream",
          "text": [
            " * Running on http://127.0.0.1:5000/ (Press CTRL+C to quit)\n"
          ],
          "name": "stderr"
        },
        {
          "output_type": "stream",
          "text": [
            " * Running on http://2a70327a047a.ngrok.io\n",
            " * Traffic stats available on http://127.0.0.1:4040\n"
          ],
          "name": "stdout"
        },
        {
          "output_type": "stream",
          "text": [
            "127.0.0.1 - - [25/Jul/2021 03:19:11] \"\u001b[37mGET / HTTP/1.1\u001b[0m\" 200 -\n",
            "127.0.0.1 - - [25/Jul/2021 03:19:11] \"\u001b[33mGET /favicon.ico HTTP/1.1\u001b[0m\" 404 -\n",
            "127.0.0.1 - - [25/Jul/2021 03:19:30] \"\u001b[37mGET / HTTP/1.1\u001b[0m\" 200 -\n",
            "127.0.0.1 - - [25/Jul/2021 03:20:11] \"\u001b[37mGET / HTTP/1.1\u001b[0m\" 200 -\n",
            "127.0.0.1 - - [25/Jul/2021 03:20:34] \"\u001b[37mGET /api HTTP/1.1\u001b[0m\" 200 -\n",
            "127.0.0.1 - - [25/Jul/2021 03:27:45] \"\u001b[37mGET /api HTTP/1.1\u001b[0m\" 200 -\n"
          ],
          "name": "stderr"
        }
      ]
    }
  ]
}