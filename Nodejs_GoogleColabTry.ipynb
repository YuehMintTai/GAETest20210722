{
  "nbformat": 4,
  "nbformat_minor": 0,
  "metadata": {
    "colab": {
      "name": "Nodejs@GoogleColabTry.ipynb",
      "provenance": [],
      "authorship_tag": "ABX9TyNfmBLq2gVB2bSEuKnXRbCJ",
      "include_colab_link": true
    },
    "kernelspec": {
      "name": "python3",
      "display_name": "Python 3"
    },
    "language_info": {
      "name": "python"
    }
  },
  "cells": [
    {
      "cell_type": "markdown",
      "metadata": {
        "id": "view-in-github",
        "colab_type": "text"
      },
      "source": [
        "<a href=\"https://colab.research.google.com/github/YuehMintTai/GAETest20210722/blob/main/Nodejs_GoogleColabTry.ipynb\" target=\"_parent\"><img src=\"https://colab.research.google.com/assets/colab-badge.svg\" alt=\"Open In Colab\"/></a>"
      ]
    },
    {
      "cell_type": "code",
      "metadata": {
        "colab": {
          "base_uri": "https://localhost:8080/"
        },
        "id": "fOjjGTZ2RwMR",
        "outputId": "6ab63d8d-282c-4718-855d-b96ba28c0317"
      },
      "source": [
        "!pip install pixiedust_node"
      ],
      "execution_count": 2,
      "outputs": [
        {
          "output_type": "stream",
          "text": [
            "Collecting pixiedust_node\n",
            "  Downloading pixiedust_node-0.2.5.tar.gz (10 kB)\n",
            "Collecting pixiedust\n",
            "  Downloading pixiedust-1.1.19.tar.gz (197 kB)\n",
            "\u001b[K     |████████████████████████████████| 197 kB 6.6 MB/s \n",
            "\u001b[?25hRequirement already satisfied: pandas in /usr/local/lib/python3.7/dist-packages (from pixiedust_node) (1.1.5)\n",
            "Requirement already satisfied: ipython in /usr/local/lib/python3.7/dist-packages (from pixiedust_node) (5.5.0)\n",
            "Requirement already satisfied: pickleshare in /usr/local/lib/python3.7/dist-packages (from ipython->pixiedust_node) (0.7.5)\n",
            "Requirement already satisfied: simplegeneric>0.8 in /usr/local/lib/python3.7/dist-packages (from ipython->pixiedust_node) (0.8.1)\n",
            "Requirement already satisfied: decorator in /usr/local/lib/python3.7/dist-packages (from ipython->pixiedust_node) (4.4.2)\n",
            "Requirement already satisfied: setuptools>=18.5 in /usr/local/lib/python3.7/dist-packages (from ipython->pixiedust_node) (57.2.0)\n",
            "Requirement already satisfied: prompt-toolkit<2.0.0,>=1.0.4 in /usr/local/lib/python3.7/dist-packages (from ipython->pixiedust_node) (1.0.18)\n",
            "Requirement already satisfied: traitlets>=4.2 in /usr/local/lib/python3.7/dist-packages (from ipython->pixiedust_node) (5.0.5)\n",
            "Requirement already satisfied: pexpect in /usr/local/lib/python3.7/dist-packages (from ipython->pixiedust_node) (4.8.0)\n",
            "Requirement already satisfied: pygments in /usr/local/lib/python3.7/dist-packages (from ipython->pixiedust_node) (2.6.1)\n",
            "Requirement already satisfied: six>=1.9.0 in /usr/local/lib/python3.7/dist-packages (from prompt-toolkit<2.0.0,>=1.0.4->ipython->pixiedust_node) (1.15.0)\n",
            "Requirement already satisfied: wcwidth in /usr/local/lib/python3.7/dist-packages (from prompt-toolkit<2.0.0,>=1.0.4->ipython->pixiedust_node) (0.2.5)\n",
            "Requirement already satisfied: ipython-genutils in /usr/local/lib/python3.7/dist-packages (from traitlets>=4.2->ipython->pixiedust_node) (0.2.0)\n",
            "Requirement already satisfied: numpy>=1.15.4 in /usr/local/lib/python3.7/dist-packages (from pandas->pixiedust_node) (1.19.5)\n",
            "Requirement already satisfied: pytz>=2017.2 in /usr/local/lib/python3.7/dist-packages (from pandas->pixiedust_node) (2018.9)\n",
            "Requirement already satisfied: python-dateutil>=2.7.3 in /usr/local/lib/python3.7/dist-packages (from pandas->pixiedust_node) (2.8.1)\n",
            "Requirement already satisfied: ptyprocess>=0.5 in /usr/local/lib/python3.7/dist-packages (from pexpect->ipython->pixiedust_node) (0.7.0)\n",
            "Collecting geojson\n",
            "  Downloading geojson-2.5.0-py2.py3-none-any.whl (14 kB)\n",
            "Requirement already satisfied: astunparse in /usr/local/lib/python3.7/dist-packages (from pixiedust->pixiedust_node) (1.6.3)\n",
            "Requirement already satisfied: markdown in /usr/local/lib/python3.7/dist-packages (from pixiedust->pixiedust_node) (3.3.4)\n",
            "Collecting colour\n",
            "  Downloading colour-0.1.5-py2.py3-none-any.whl (23 kB)\n",
            "Requirement already satisfied: requests in /usr/local/lib/python3.7/dist-packages (from pixiedust->pixiedust_node) (2.23.0)\n",
            "Requirement already satisfied: matplotlib in /usr/local/lib/python3.7/dist-packages (from pixiedust->pixiedust_node) (3.2.2)\n",
            "Requirement already satisfied: wheel<1.0,>=0.23.0 in /usr/local/lib/python3.7/dist-packages (from astunparse->pixiedust->pixiedust_node) (0.36.2)\n",
            "Requirement already satisfied: importlib-metadata in /usr/local/lib/python3.7/dist-packages (from markdown->pixiedust->pixiedust_node) (4.6.1)\n",
            "Requirement already satisfied: zipp>=0.5 in /usr/local/lib/python3.7/dist-packages (from importlib-metadata->markdown->pixiedust->pixiedust_node) (3.5.0)\n",
            "Requirement already satisfied: typing-extensions>=3.6.4 in /usr/local/lib/python3.7/dist-packages (from importlib-metadata->markdown->pixiedust->pixiedust_node) (3.7.4.3)\n",
            "Requirement already satisfied: kiwisolver>=1.0.1 in /usr/local/lib/python3.7/dist-packages (from matplotlib->pixiedust->pixiedust_node) (1.3.1)\n",
            "Requirement already satisfied: cycler>=0.10 in /usr/local/lib/python3.7/dist-packages (from matplotlib->pixiedust->pixiedust_node) (0.10.0)\n",
            "Requirement already satisfied: pyparsing!=2.0.4,!=2.1.2,!=2.1.6,>=2.0.1 in /usr/local/lib/python3.7/dist-packages (from matplotlib->pixiedust->pixiedust_node) (2.4.7)\n",
            "Requirement already satisfied: idna<3,>=2.5 in /usr/local/lib/python3.7/dist-packages (from requests->pixiedust->pixiedust_node) (2.10)\n",
            "Requirement already satisfied: urllib3!=1.25.0,!=1.25.1,<1.26,>=1.21.1 in /usr/local/lib/python3.7/dist-packages (from requests->pixiedust->pixiedust_node) (1.24.3)\n",
            "Requirement already satisfied: certifi>=2017.4.17 in /usr/local/lib/python3.7/dist-packages (from requests->pixiedust->pixiedust_node) (2021.5.30)\n",
            "Requirement already satisfied: chardet<4,>=3.0.2 in /usr/local/lib/python3.7/dist-packages (from requests->pixiedust->pixiedust_node) (3.0.4)\n",
            "Building wheels for collected packages: pixiedust-node, pixiedust\n",
            "  Building wheel for pixiedust-node (setup.py) ... \u001b[?25l\u001b[?25hdone\n",
            "  Created wheel for pixiedust-node: filename=pixiedust_node-0.2.5-py2.py3-none-any.whl size=9405 sha256=bee7f68a20d1bd38027f58e19c3d98955eadf3e619a9c2de0d949e49a35edd85\n",
            "  Stored in directory: /root/.cache/pip/wheels/55/aa/60/c117fe683a0069cfd697ba0b5c63093e52616039e72103a5a0\n",
            "  Building wheel for pixiedust (setup.py) ... \u001b[?25l\u001b[?25hdone\n",
            "  Created wheel for pixiedust: filename=pixiedust-1.1.19-py3-none-any.whl size=321804 sha256=06a89db738763dbbf3197cf9fb6df2b8648074bc9adf94201004eddeff91f141\n",
            "  Stored in directory: /root/.cache/pip/wheels/05/07/e7/8aca0e820027a63157a916424fd748fb2a2a3e71de5e08eeb8\n",
            "Successfully built pixiedust-node pixiedust\n",
            "Installing collected packages: geojson, colour, pixiedust, pixiedust-node\n",
            "Successfully installed colour-0.1.5 geojson-2.5.0 pixiedust-1.1.19 pixiedust-node-0.2.5\n"
          ],
          "name": "stdout"
        }
      ]
    },
    {
      "cell_type": "code",
      "metadata": {
        "colab": {
          "base_uri": "https://localhost:8080/",
          "height": 519
        },
        "id": "uy8dwR4PRIxD",
        "outputId": "c5bc1cfa-88db-442c-f606-b06a49509aee"
      },
      "source": [
        "import pixiedust_node"
      ],
      "execution_count": 3,
      "outputs": [
        {
          "output_type": "stream",
          "text": [
            "Pixiedust database opened successfully\n",
            "Table VERSION_TRACKER created successfully\n",
            "Table METRICS_TRACKER created successfully\n",
            "\n",
            "Share anonymous install statistics? (opt-out instructions)\n",
            "\n",
            "PixieDust will record metadata on its environment the next time the package is installed or updated. The data is anonymized and aggregated to help plan for future releases, and records only the following values:\n",
            "\n",
            "{\n",
            "   \"data_sent\": currentDate,\n",
            "   \"runtime\": \"python\",\n",
            "   \"application_version\": currentPixiedustVersion,\n",
            "   \"space_id\": nonIdentifyingUniqueId,\n",
            "   \"config\": {\n",
            "       \"repository_id\": \"https://github.com/ibm-watson-data-lab/pixiedust\",\n",
            "       \"target_runtimes\": [\"Data Science Experience\"],\n",
            "       \"event_id\": \"web\",\n",
            "       \"event_organizer\": \"dev-journeys\"\n",
            "   }\n",
            "}\n",
            "You can opt out by calling pixiedust.optOut() in a new cell.\n"
          ],
          "name": "stdout"
        },
        {
          "output_type": "display_data",
          "data": {
            "text/html": [
              "\n",
              "        <div style=\"margin:10px\">\n",
              "            <a href=\"https://github.com/ibm-watson-data-lab/pixiedust\" target=\"_new\">\n",
              "                <img src=\"https://github.com/ibm-watson-data-lab/pixiedust/raw/master/docs/_static/pd_icon32.png\" style=\"float:left;margin-right:10px\"/>\n",
              "            </a>\n",
              "            <span>Pixiedust version 1.1.19</span>\n",
              "        </div>\n",
              "        "
            ],
            "text/plain": [
              "<IPython.core.display.HTML object>"
            ]
          },
          "metadata": {
            "tags": []
          }
        },
        {
          "output_type": "stream",
          "text": [
            "\u001b[31mPixiedust runtime updated. Please restart kernel\u001b[0m\n",
            "Table USER_PREFERENCES created successfully\n",
            "Table service_connections created successfully\n"
          ],
          "name": "stdout"
        },
        {
          "output_type": "display_data",
          "data": {
            "text/html": [
              "\n",
              "            <div style=\"margin:10px\"> \n",
              "            <a href=\"https://github.com/ibm-cds-labs/pixiedust_node\" target=\"_new\"> \n",
              "            <img src=\"https://github.com/ibm-cds-labs/pixiedust_node/raw/master/docs/_images/pdn_icon32.png\" style=\"float:left;margin-right:10px\"/> \n",
              "            </a> \n",
              "            <span>Pixiedust Node.js</span> \n",
              "            </div> \n"
            ],
            "text/plain": [
              "<IPython.core.display.HTML object>"
            ]
          },
          "metadata": {
            "tags": []
          }
        }
      ]
    },
    {
      "cell_type": "code",
      "metadata": {
        "colab": {
          "base_uri": "https://localhost:8080/"
        },
        "id": "35OZ3t9MR7H9",
        "outputId": "d2f03de9-830c-4108-8816-d886b0131b66"
      },
      "source": [
        "%%node\n",
        "var myStr='hello world';\n",
        "var n1=3.1415926\n",
        "var tf=true\n",
        "var obj={name:'Jhon', age:2}\n",
        "console.log(myStr)"
      ],
      "execution_count": 15,
      "outputs": [
        {
          "output_type": "stream",
          "text": [
            "hello world\n"
          ],
          "name": "stdout"
        }
      ]
    },
    {
      "cell_type": "code",
      "metadata": {
        "colab": {
          "base_uri": "https://localhost:8080/"
        },
        "id": "veRMjUaNSLIv",
        "outputId": "d500abd6-3312-4062-fe11-7bc37cde43c8"
      },
      "source": [
        "%%node\n",
        "console.log('AAA');"
      ],
      "execution_count": 13,
      "outputs": [
        {
          "output_type": "stream",
          "text": [
            "AAA\n"
          ],
          "name": "stdout"
        }
      ]
    }
  ]
}