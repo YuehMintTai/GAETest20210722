{
  "nbformat": 4,
  "nbformat_minor": 0,
  "metadata": {
    "colab": {
      "name": "三總北投門診助手4.0.ipynb",
      "provenance": [],
      "authorship_tag": "ABX9TyMxha4GYDsoFDlL5DtA1W0m",
      "include_colab_link": true
    },
    "kernelspec": {
      "name": "python3",
      "display_name": "Python 3"
    },
    "language_info": {
      "name": "python"
    }
  },
  "cells": [
    {
      "cell_type": "markdown",
      "metadata": {
        "id": "view-in-github",
        "colab_type": "text"
      },
      "source": [
        "<a href=\"https://colab.research.google.com/github/YuehMintTai/GAETest20210722/blob/main/%E4%B8%89%E7%B8%BD%E5%8C%97%E6%8A%95%E9%96%80%E8%A8%BA%E5%8A%A9%E6%89%8B5_0.ipynb\" target=\"_parent\"><img src=\"https://colab.research.google.com/assets/colab-badge.svg\" alt=\"Open In Colab\"/></a>"
      ]
    },
    {
      "cell_type": "code",
      "metadata": {
        "id": "_EymBJQ2LsBK",
        "colab": {
          "base_uri": "https://localhost:8080/"
        },
        "outputId": "9482477f-9181-4927-9173-0ae034366736"
      },
      "source": [
        "!pip install flask_ngrok\n",
        "!pip install line-bot-sdk\n",
        "!pip install bs4\n",
        "!pip install requests"
      ],
      "execution_count": 1,
      "outputs": [
        {
          "output_type": "stream",
          "name": "stdout",
          "text": [
            "Collecting flask_ngrok\n",
            "  Downloading flask_ngrok-0.0.25-py3-none-any.whl (3.1 kB)\n",
            "Requirement already satisfied: Flask>=0.8 in /usr/local/lib/python3.7/dist-packages (from flask_ngrok) (1.1.4)\n",
            "Requirement already satisfied: requests in /usr/local/lib/python3.7/dist-packages (from flask_ngrok) (2.23.0)\n",
            "Requirement already satisfied: itsdangerous<2.0,>=0.24 in /usr/local/lib/python3.7/dist-packages (from Flask>=0.8->flask_ngrok) (1.1.0)\n",
            "Requirement already satisfied: Jinja2<3.0,>=2.10.1 in /usr/local/lib/python3.7/dist-packages (from Flask>=0.8->flask_ngrok) (2.11.3)\n",
            "Requirement already satisfied: click<8.0,>=5.1 in /usr/local/lib/python3.7/dist-packages (from Flask>=0.8->flask_ngrok) (7.1.2)\n",
            "Requirement already satisfied: Werkzeug<2.0,>=0.15 in /usr/local/lib/python3.7/dist-packages (from Flask>=0.8->flask_ngrok) (1.0.1)\n",
            "Requirement already satisfied: MarkupSafe>=0.23 in /usr/local/lib/python3.7/dist-packages (from Jinja2<3.0,>=2.10.1->Flask>=0.8->flask_ngrok) (2.0.1)\n",
            "Requirement already satisfied: idna<3,>=2.5 in /usr/local/lib/python3.7/dist-packages (from requests->flask_ngrok) (2.10)\n",
            "Requirement already satisfied: certifi>=2017.4.17 in /usr/local/lib/python3.7/dist-packages (from requests->flask_ngrok) (2021.5.30)\n",
            "Requirement already satisfied: chardet<4,>=3.0.2 in /usr/local/lib/python3.7/dist-packages (from requests->flask_ngrok) (3.0.4)\n",
            "Requirement already satisfied: urllib3!=1.25.0,!=1.25.1,<1.26,>=1.21.1 in /usr/local/lib/python3.7/dist-packages (from requests->flask_ngrok) (1.24.3)\n",
            "Installing collected packages: flask-ngrok\n",
            "Successfully installed flask-ngrok-0.0.25\n",
            "Collecting line-bot-sdk\n",
            "  Downloading line_bot_sdk-1.20.0-py2.py3-none-any.whl (72 kB)\n",
            "\u001b[K     |████████████████████████████████| 72 kB 610 kB/s \n",
            "\u001b[?25hRequirement already satisfied: future in /usr/local/lib/python3.7/dist-packages (from line-bot-sdk) (0.16.0)\n",
            "Requirement already satisfied: requests>=2.0 in /usr/local/lib/python3.7/dist-packages (from line-bot-sdk) (2.23.0)\n",
            "Requirement already satisfied: urllib3!=1.25.0,!=1.25.1,<1.26,>=1.21.1 in /usr/local/lib/python3.7/dist-packages (from requests>=2.0->line-bot-sdk) (1.24.3)\n",
            "Requirement already satisfied: idna<3,>=2.5 in /usr/local/lib/python3.7/dist-packages (from requests>=2.0->line-bot-sdk) (2.10)\n",
            "Requirement already satisfied: certifi>=2017.4.17 in /usr/local/lib/python3.7/dist-packages (from requests>=2.0->line-bot-sdk) (2021.5.30)\n",
            "Requirement already satisfied: chardet<4,>=3.0.2 in /usr/local/lib/python3.7/dist-packages (from requests>=2.0->line-bot-sdk) (3.0.4)\n",
            "Installing collected packages: line-bot-sdk\n",
            "Successfully installed line-bot-sdk-1.20.0\n",
            "Requirement already satisfied: bs4 in /usr/local/lib/python3.7/dist-packages (0.0.1)\n",
            "Requirement already satisfied: beautifulsoup4 in /usr/local/lib/python3.7/dist-packages (from bs4) (4.6.3)\n",
            "Requirement already satisfied: requests in /usr/local/lib/python3.7/dist-packages (2.23.0)\n",
            "Requirement already satisfied: urllib3!=1.25.0,!=1.25.1,<1.26,>=1.21.1 in /usr/local/lib/python3.7/dist-packages (from requests) (1.24.3)\n",
            "Requirement already satisfied: certifi>=2017.4.17 in /usr/local/lib/python3.7/dist-packages (from requests) (2021.5.30)\n",
            "Requirement already satisfied: idna<3,>=2.5 in /usr/local/lib/python3.7/dist-packages (from requests) (2.10)\n",
            "Requirement already satisfied: chardet<4,>=3.0.2 in /usr/local/lib/python3.7/dist-packages (from requests) (3.0.4)\n"
          ]
        }
      ]
    },
    {
      "cell_type": "code",
      "metadata": {
        "id": "ue_FFukmIoCv"
      },
      "source": [
        "from flask_ngrok import run_with_ngrok\n",
        "from flask import Flask, request, abort\n",
        "from datetime import date\n",
        "from linebot import (LineBotApi, WebhookHandler)\n",
        "from linebot.exceptions import (InvalidSignatureError)\n",
        "from linebot.models import (MessageEvent, TextMessage, TextSendMessage, ImagemapSendMessage)\n",
        "from linebot.models import *\n",
        "from bs4 import BeautifulSoup\n",
        "import requests, json\n",
        "import OPDAid5_SN\n",
        "from bs4 import BeautifulSoup\n",
        "import requests\n",
        "from datetime import date\n",
        "import re"
      ],
      "execution_count": 2,
      "outputs": []
    },
    {
      "cell_type": "code",
      "metadata": {
        "id": "gPUt20vFnHdA"
      },
      "source": [
        "!pip list\n"
      ],
      "execution_count": null,
      "outputs": []
    },
    {
      "cell_type": "code",
      "metadata": {
        "id": "P719oiLwiigy",
        "colab": {
          "base_uri": "https://localhost:8080/"
        },
        "outputId": "6b33b163-c124-4436-924b-e88e784c050f"
      },
      "source": [
        "###012 Final Deploy version of 三總門診助手4.0\n",
        "import myBubbles\n",
        "app=Flask(__name__)\n",
        "run_with_ngrok(app)\n",
        "\n",
        "line_bot_api=LineBotApi(OPDAid5_SN.myLineBotApi)\n",
        "handler=WebhookHandler(OPDAid5_SN.myWebhookHandler)\n",
        "myID=OPDAid5_SN.myUserID\n",
        "line_bot_api.push_message(myID,FlexSendMessage(alt_text='你好',contents=myBubbles.myBubble_greeting()))\n",
        "@app.route('/')\n",
        "def index():\n",
        "  return '歡迎使用三總北投門診助手4.0!'\n",
        "\n",
        "\n",
        "@app.route('/callback',methods=['POST'])\n",
        "def callback():\n",
        "  signature=request.headers['X-Line-Signature']\n",
        "  body=request.get_data(as_text=True)\n",
        "  try:\n",
        "    handler.handle(body,signature)\n",
        "  except InvalidSignatureError:\n",
        "    abort(400)\n",
        "  return 'OK'\n",
        "\n",
        "@handler.add(MessageEvent,message=TextMessage)\n",
        "def handle_message(event):\n",
        "  message=text=event.message.text\n",
        "  if re.match('門診時間',message):\n",
        "    line_bot_api.reply_message(event.reply_token, FlexSendMessage(alt_text=message,contents=myBubbles.myBubble_OPDs(message)))\n",
        "  elif re.match('醫師查詢',message):\n",
        "    line_bot_api.reply_message(event.reply_token, FlexSendMessage(alt_text=message,contents=myBubbles.myBubble_doctors(message)))\n",
        "  elif re.match('重大公告',message):\n",
        "    line_bot_api.reply_message(event.reply_token, FlexSendMessage(alt_text=message,contents=myBubbles.myBubble_News(message)))\n",
        "  elif re.match('費用申請',message):\n",
        "    line_bot_api.reply_message(event.reply_token, FlexSendMessage(alt_text=message,contents=myBubbles.myBubble_Fee('123')))\n",
        "  else:\n",
        "    line_bot_api.push_message(myID,FlexSendMessage(alt_text='你好',contents=myBubble.myBubble_greeting()))\n",
        "\n",
        "app.run()"
      ],
      "execution_count": 3,
      "outputs": [
        {
          "output_type": "stream",
          "name": "stdout",
          "text": [
            " * Serving Flask app \"__main__\" (lazy loading)\n",
            " * Environment: production\n",
            "\u001b[31m   WARNING: This is a development server. Do not use it in a production deployment.\u001b[0m\n",
            "\u001b[2m   Use a production WSGI server instead.\u001b[0m\n",
            " * Debug mode: off\n"
          ]
        },
        {
          "output_type": "stream",
          "name": "stderr",
          "text": [
            " * Running on http://127.0.0.1:5000/ (Press CTRL+C to quit)\n"
          ]
        },
        {
          "output_type": "stream",
          "name": "stdout",
          "text": [
            " * Running on http://6575-104-196-174-235.ngrok.io\n",
            " * Traffic stats available on http://127.0.0.1:4040\n"
          ]
        },
        {
          "output_type": "stream",
          "name": "stderr",
          "text": [
            "127.0.0.1 - - [05/Sep/2021 03:06:58] \"\u001b[37mGET / HTTP/1.1\u001b[0m\" 200 -\n",
            "127.0.0.1 - - [05/Sep/2021 03:06:59] \"\u001b[33mGET /favicon.ico HTTP/1.1\u001b[0m\" 404 -\n",
            "127.0.0.1 - - [05/Sep/2021 03:09:28] \"\u001b[37mPOST /callback HTTP/1.1\u001b[0m\" 200 -\n",
            "127.0.0.1 - - [05/Sep/2021 03:09:32] \"\u001b[37mPOST /callback HTTP/1.1\u001b[0m\" 200 -\n",
            "127.0.0.1 - - [05/Sep/2021 03:12:19] \"\u001b[37mPOST /callback HTTP/1.1\u001b[0m\" 200 -\n",
            "[2021-09-05 03:12:21,547] ERROR in app: Exception on /callback [POST]\n",
            "Traceback (most recent call last):\n",
            "  File \"/usr/local/lib/python3.7/dist-packages/flask/app.py\", line 2447, in wsgi_app\n",
            "    response = self.full_dispatch_request()\n",
            "  File \"/usr/local/lib/python3.7/dist-packages/flask/app.py\", line 1952, in full_dispatch_request\n",
            "    rv = self.handle_user_exception(e)\n",
            "  File \"/usr/local/lib/python3.7/dist-packages/flask/app.py\", line 1821, in handle_user_exception\n",
            "    reraise(exc_type, exc_value, tb)\n",
            "  File \"/usr/local/lib/python3.7/dist-packages/flask/_compat.py\", line 39, in reraise\n",
            "    raise value\n",
            "  File \"/usr/local/lib/python3.7/dist-packages/flask/app.py\", line 1950, in full_dispatch_request\n",
            "    rv = self.dispatch_request()\n",
            "  File \"/usr/local/lib/python3.7/dist-packages/flask/app.py\", line 1936, in dispatch_request\n",
            "    return self.view_functions[rule.endpoint](**req.view_args)\n",
            "  File \"<ipython-input-3-7531ac12fe1c>\", line 20, in callback\n",
            "    handler.handle(body,signature)\n",
            "  File \"/usr/local/lib/python3.7/dist-packages/linebot/webhook.py\", line 260, in handle\n",
            "    self.__invoke_func(func, event, payload)\n",
            "  File \"/usr/local/lib/python3.7/dist-packages/linebot/webhook.py\", line 272, in __invoke_func\n",
            "    func(event)\n",
            "  File \"<ipython-input-3-7531ac12fe1c>\", line 29, in handle_message\n",
            "    line_bot_api.reply_message(event.reply_token, FlexSendMessage(alt_text=message,contents=myBubbles.myBubble_OPDs(message)))\n",
            "  File \"/usr/local/lib/python3.7/dist-packages/linebot/api.py\", line 106, in reply_message\n",
            "    'messages': [message.as_json_dict() for message in messages],\n",
            "  File \"/usr/local/lib/python3.7/dist-packages/linebot/api.py\", line 106, in <listcomp>\n",
            "    'messages': [message.as_json_dict() for message in messages],\n",
            "  File \"/usr/local/lib/python3.7/dist-packages/linebot/models/base.py\", line 83, in as_json_dict\n",
            "    data[camel_key] = value.as_json_dict()\n",
            "  File \"/usr/local/lib/python3.7/dist-packages/linebot/models/base.py\", line 83, in as_json_dict\n",
            "    data[camel_key] = value.as_json_dict()\n",
            "  File \"/usr/local/lib/python3.7/dist-packages/linebot/models/base.py\", line 78, in as_json_dict\n",
            "    data[camel_key].append(item.as_json_dict())\n",
            "  File \"/usr/local/lib/python3.7/dist-packages/linebot/models/base.py\", line 83, in as_json_dict\n",
            "    data[camel_key] = value.as_json_dict()\n",
            "  File \"/usr/local/lib/python3.7/dist-packages/linebot/models/base.py\", line 83, in as_json_dict\n",
            "    data[camel_key] = value.as_json_dict()\n",
            "TypeError: 'NoneType' object is not callable\n",
            "127.0.0.1 - - [05/Sep/2021 03:12:21] \"\u001b[35m\u001b[1mPOST /callback HTTP/1.1\u001b[0m\" 500 -\n",
            "127.0.0.1 - - [05/Sep/2021 03:12:29] \"\u001b[37mPOST /callback HTTP/1.1\u001b[0m\" 200 -\n"
          ]
        }
      ]
    },
    {
      "cell_type": "code",
      "metadata": {
        "colab": {
          "base_uri": "https://localhost:8080/"
        },
        "id": "jeif05VDVCHZ",
        "outputId": "bfee5a6d-ba64-4055-c4eb-5d5b49a74c9f"
      },
      "source": [
        "##011-1 BeautifulSoupt FeeLinks from webpage\n",
        "FeeLists1=[]\n",
        "FeeLinks1=[]\n",
        "target_url='https://wwwv.tsgh.ndmctsgh.edu.tw/unit/30000/16048'\n",
        "response=requests.get(target_url)\n",
        "soup=BeautifulSoup(response.text, 'html.parser')\n",
        "myDiv=soup.select_one('div.systems-information')\n",
        "FeeLists=myDiv.find_all('a')\n",
        "for i, tag in enumerate(FeeLists):\n",
        "  FeeLists1.append(tag.contents[0].strip())\n",
        "  FeeLinks1.append(tag.get('href'))\n",
        "\n",
        "def myBubble_Fee( * message):\n",
        "  myContents_6=[]\n",
        "  i=0\n",
        "  for i in range(len(FeeLists1)):\n",
        "    myContent=ButtonComponent(style='link',height='sm',action=URIAction(label=FeeLists1[i],uri=FeeLinks1[i]))\n",
        "    myContents_6.append(myContent)\n",
        "  myBubble_6=BubbleContainer(\n",
        "      body=BoxComponent(\n",
        "          layout='vertical',\n",
        "          spacing='sm',\n",
        "          contents=myContents_6\n",
        "      )\n",
        "  )\n",
        "  return myBubble_6\n",
        "\n",
        "myBubble_Fee()"
      ],
      "execution_count": null,
      "outputs": [
        {
          "output_type": "execute_result",
          "data": {
            "text/plain": [
              "{\"body\": {\"contents\": [{\"action\": {\"label\": \"\\u5c31\\u91ab\\u512a\\u60e0(\\u6e1b\\u514d)\\u6536\\u8cbb\\u57fa\\u6e96\\u8868\", \"type\": \"uri\", \"uri\": \"https://wwwv.tsgh.ndmctsgh.edu.tw/unit/30000/29068\"}, \"height\": \"sm\", \"style\": \"link\", \"type\": \"button\"}, {\"action\": {\"label\": \"\\u6c11\\u773e\\u8a3a\\u7642\\u670d\\u52d9\\u8655\\u6536\\u8cbb\", \"type\": \"uri\", \"uri\": \"https://wwwv.tsgh.ndmctsgh.edu.tw/unit/30000/29069\"}, \"height\": \"sm\", \"style\": \"link\", \"type\": \"button\"}, {\"action\": {\"label\": \"\\u81ea\\u8cbb\\u85e5\\u54c1\\u4e00\\u89bd\\u8868\", \"type\": \"uri\", \"uri\": \"https://wwwv.tsgh.ndmctsgh.edu.tw/unit/30000/29070\"}, \"height\": \"sm\", \"style\": \"link\", \"type\": \"button\"}, {\"action\": {\"label\": \"\\u81fa\\u5317\\u5e02\\u91ab\\u7642\\u6a5f\\u69cb\\u7259\\u79d1\\u6536\\u8cbb\\u6a19\\u6e96\\u8868\", \"type\": \"uri\", \"uri\": \"https://wwwv.tsgh.ndmctsgh.edu.tw/unit/30000/29071\"}, \"height\": \"sm\", \"style\": \"link\", \"type\": \"button\"}], \"layout\": \"vertical\", \"spacing\": \"sm\", \"type\": \"box\"}, \"type\": \"bubble\"}"
            ]
          },
          "metadata": {},
          "execution_count": 42
        }
      ]
    },
    {
      "cell_type": "code",
      "metadata": {
        "colab": {
          "base_uri": "https://localhost:8080/"
        },
        "id": "epx1bjj-BXgl",
        "outputId": "195da2f1-216d-40e3-c9ef-e201f751d53f"
      },
      "source": [
        "##009-2 Useing of BeautirfulSoup+ButtonComponent for OPDList\n",
        "import myBubbles\n",
        "app=Flask(__name__)\n",
        "run_with_ngrok(app)\n",
        "\n",
        "line_bot_api=LineBotApi(OPDAid4_SN.myLineBotApi)\n",
        "handler=WebhookHandler(OPDAid4_SN.myWebhookHandler)\n",
        "myID=OPDAid4_SN.myUserID\n",
        "\n",
        "#line_bot_api.push_message(myID,FlexSendMessage(alt_text='你好',contents=myBubble_OPDs('321')))\n",
        "#line_bot_api.push_message(myID,FlexSendMessage(alt_text='歡迎使用三總北投門診助手4.0',contents=myBubbles.myBubble_OPDs('123')))\n",
        "#line_bot_api.push_message(myID,FlexSendMessage(alt_text='你好',contents=myBubble_News('321')))\n",
        "#line_bot_api.push_message(myID,FlexSendMessage(alt_text='歡迎使用三總北投門診助手4.0',contents=myBubbles.myBubble_News('123')))\n",
        "line_bot_api.push_message(myID,FlexSendMessage(alt_text='你好',contents=myBubble_Fee('321')))\n",
        "@app.route('/')\n",
        "def index():\n",
        "  return '歡迎使用三總北投門診助手4.0!'\n",
        "\n",
        "\n",
        "@app.route('/callback',methods=['POST'])\n",
        "def callback():\n",
        "  signature=request.headers['X-Line-Signature']\n",
        "  body=request.get_data(as_text=True)\n",
        "  try:\n",
        "    handler.handle(body,signature)\n",
        "  except InvalidSignatureError:\n",
        "    abort(400)\n",
        "  return 'OK'\n",
        "\n",
        "@handler.add(MessageEvent,message=TextMessage)\n",
        "def handle_message(event):\n",
        "  message=text=event.message.text\n",
        "  #line_bot_api.reply_message(event.reply_token, FlexSendMessage(alt_text=message,contents=myBubble_OPDs('123')))\n",
        "  #line_bot_api.reply_message(event.reply_token, FlexSendMessage(alt_text=message,contents=myBubbles.myBubble_OPDs(message)))\n",
        "  #line_bot_api.reply_message(event.reply_token, FlexSendMessage(alt_text=message,contents=myBubble_News('123')))\n",
        "  #line_bot_api.reply_message(event.reply_token, FlexSendMessage(alt_text=message,contents=myBubbles.myBubble_News(message)))\n",
        "  line_bot_api.reply_message(event.reply_token, FlexSendMessage(alt_text=message,contents=myBubble_Fee('123')))\n",
        "app.run()"
      ],
      "execution_count": null,
      "outputs": [
        {
          "output_type": "stream",
          "text": [
            " * Serving Flask app \"__main__\" (lazy loading)\n",
            " * Environment: production\n",
            "\u001b[31m   WARNING: This is a development server. Do not use it in a production deployment.\u001b[0m\n",
            "\u001b[2m   Use a production WSGI server instead.\u001b[0m\n",
            " * Debug mode: off\n"
          ],
          "name": "stdout"
        },
        {
          "output_type": "stream",
          "text": [
            " * Running on http://127.0.0.1:5000/ (Press CTRL+C to quit)\n"
          ],
          "name": "stderr"
        },
        {
          "output_type": "stream",
          "text": [
            " * Running on http://bc9d-35-221-42-54.ngrok.io\n",
            " * Traffic stats available on http://127.0.0.1:4040\n"
          ],
          "name": "stdout"
        },
        {
          "output_type": "stream",
          "text": [
            "127.0.0.1 - - [29/Aug/2021 05:50:20] \"\u001b[37mGET / HTTP/1.1\u001b[0m\" 200 -\n",
            "127.0.0.1 - - [29/Aug/2021 05:50:21] \"\u001b[33mGET /favicon.ico HTTP/1.1\u001b[0m\" 404 -\n",
            "127.0.0.1 - - [29/Aug/2021 05:50:40] \"\u001b[37mPOST /callback HTTP/1.1\u001b[0m\" 200 -\n"
          ],
          "name": "stderr"
        }
      ]
    },
    {
      "cell_type": "code",
      "metadata": {
        "colab": {
          "base_uri": "https://localhost:8080/"
        },
        "id": "C4wOvw2oOUlf",
        "outputId": "7b576d68-a9a0-4350-ed54-e6bc1a78e382"
      },
      "source": [
        "##010-1 BeautifulSoup NewsLinks from webpage\n",
        "NewsLists=[]\n",
        "NewsLinks=[]\n",
        "\n",
        "target_url='https://wwwv.tsgh.ndmctsgh.edu.tw/news/194/30000/24181'\n",
        "responses=requests.get(target_url)\n",
        "soup=BeautifulSoup(responses.text,\"html.parser\")\n",
        "myNews=soup.find_all('a',{'id':'clickElement'})\n",
        "for i, news in enumerate(myNews):\n",
        "  NewsLists.append(str(news.contents[0]).replace('\\n','').replace('\\r',' '))\n",
        "  NewsLinks.append('https://wwwv.tsgh.ndmctsgh.edu.tw'+news.get('href'))\n",
        "\n",
        "def myBubble_News( * message):\n",
        "  myContents_5=[]\n",
        "  i=0\n",
        "  for i in range(len(NewsLists)):\n",
        "    myContent=ButtonComponent(style='link',height='sm',action=URIAction(label=NewsLists[i],uri=NewsLinks[i]))\n",
        "    myContents_5.append(myContent)\n",
        "  myBubble_5=BubbleContainer(\n",
        "      body=BoxComponent(\n",
        "          layout='vertical',\n",
        "          spacing='sm',\n",
        "          contents=myContents_5\n",
        "      )\n",
        "  )\n",
        "  return myBubble_5\n",
        "\n",
        "myBubble_News()"
      ],
      "execution_count": null,
      "outputs": [
        {
          "output_type": "execute_result",
          "data": {
            "text/plain": [
              "{\"body\": {\"contents\": [{\"action\": {\"label\": \" \\u6703\\u5ba2\\u898f\\u5b9a\\u516c\\u544a\", \"type\": \"uri\", \"uri\": \"https://wwwv.tsgh.ndmctsgh.edu.tw/news/194/30000/24181/6780\"}, \"height\": \"sm\", \"style\": \"link\", \"type\": \"button\"}, {\"action\": {\"label\": \" \\u65b9\\u6587\\u8f1d\\u5bb6\\u5ead\\u91ab\\u5b78\\u516c\\u544a\", \"type\": \"uri\", \"uri\": \"https://wwwv.tsgh.ndmctsgh.edu.tw/news/194/30000/24181/6779\"}, \"height\": \"sm\", \"style\": \"link\", \"type\": \"button\"}, {\"action\": {\"label\": \" \\u4e5d\\u6708\\u4efd\\u9ad4\\u6aa2\\u7570\\u52d5\\u516c\\u544a\", \"type\": \"uri\", \"uri\": \"https://wwwv.tsgh.ndmctsgh.edu.tw/news/194/30000/24181/6778\"}, \"height\": \"sm\", \"style\": \"link\", \"type\": \"button\"}, {\"action\": {\"label\": \" \\u53f8\\u6cd5\\u9451\\u5b9a\\u8cbb\\u7528\\u8abf\\u6574\\u516c\\u544a\", \"type\": \"uri\", \"uri\": \"https://wwwv.tsgh.ndmctsgh.edu.tw/news/194/30000/24181/6357\"}, \"height\": \"sm\", \"style\": \"link\", \"type\": \"button\"}, {\"action\": {\"label\": \" \\u9580\\u8a3a\\u516c\\u544a 110\\u5e74\\u5ea6\\u958b\\u59cb \\u9031\\u516d\\u4e0d\\u63d0\\u4f9b \\u52de\\u5de5\\u5065\\u6aa2(\\u9ad4\\u6aa2) \\u8ecd\\u4eba\\u9ad4\\u6aa2\\u8907\\u6aa2 \\u670d\\u52d9 \", \"type\": \"uri\", \"uri\": \"https://wwwv.tsgh.ndmctsgh.edu.tw/news/194/30000/24181/6037\"}, \"height\": \"sm\", \"style\": \"link\", \"type\": \"button\"}, {\"action\": {\"label\": \" \\u9580\\u8a3a\\u516c\\u544a 110\\u5e74\\u5ea6\\u958b\\u59cb \\u52de\\u5de5\\u5065\\u6aa2(\\u9ad4\\u6aa2) \\u8ecd\\u4eba\\u9ad4\\u6aa2\\u8907\\u6aa2\\u9580\\u8a3a \\u670d\\u52d9\\u6642\\u6bb5\", \"type\": \"uri\", \"uri\": \"https://wwwv.tsgh.ndmctsgh.edu.tw/news/194/30000/24181/6036\"}, \"height\": \"sm\", \"style\": \"link\", \"type\": \"button\"}, {\"action\": {\"label\": \" \\u91ab\\u884c\\u5ba4\\u516c\\u544a:\\u672c\\u9662\\u70ba\\u9632\\u7bc4\\u6b66\\u6f22\\u80ba\\u708e\\u75ab\\u60c5\\uff0c\\u81ea\\u5373\\u65e5\\u8d77\", \"type\": \"uri\", \"uri\": \"https://wwwv.tsgh.ndmctsgh.edu.tw/news/194/30000/24181/4884\"}, \"height\": \"sm\", \"style\": \"link\", \"type\": \"button\"}, {\"action\": {\"label\": \" \\u8acb\\u5c31\\u91ab\\u6c11\\u773e\\u53ca\\u966a\\u75c5\\u5bb6\\u5c6c\\u914d\\u5408\\u9662\\u5167\\u9632\\u75ab\\u63aa\\u65bd\", \"type\": \"uri\", \"uri\": \"https://wwwv.tsgh.ndmctsgh.edu.tw/news/194/30000/24181/4869\"}, \"height\": \"sm\", \"style\": \"link\", \"type\": \"button\"}], \"layout\": \"vertical\", \"spacing\": \"sm\", \"type\": \"box\"}, \"type\": \"bubble\"}"
            ]
          },
          "metadata": {},
          "execution_count": 7
        }
      ]
    },
    {
      "cell_type": "code",
      "metadata": {
        "colab": {
          "base_uri": "https://localhost:8080/"
        },
        "id": "octqoukU_-M0",
        "outputId": "7e26bde4-5a45-421a-916f-ce8bd27fab47"
      },
      "source": [
        "##009-1 BeautifulSoup OPDLinks from webpage\n",
        "OPDLists=[]\n",
        "OPDLinks=[]\n",
        "target_url='https://wwwv.tsgh.ndmctsgh.edu.tw/unit/30000/28387'\n",
        "responses=requests.get(target_url)\n",
        "soup=BeautifulSoup(responses.text,\"html.parser\")\n",
        "myDiv=soup.select_one('div.systems-information')\n",
        "myList=myDiv.find_all('a')\n",
        "for tag in myList:\n",
        "  OPDLists.append(tag.contents[0])\n",
        "  myLink=str(tag.get('href'))\n",
        "  myLink=f\"https://wwwv.tsgh.ndmctsgh.edu.tw/{myLink}\"\n",
        "  OPDLinks.append(myLink)\n",
        "\n",
        "def myBubble_OPDs( * message):\n",
        "  myContents_4=[]\n",
        "  i=0\n",
        "  for i in range(len(OPDLists)):\n",
        "    myContent=ButtonComponent(style='link',height='sm',action=URIAction(label=OPDLists[i],uri=OPDLinks[i]))\n",
        "    myContents_4.append(myContent)\n",
        "  myBubble_4=BubbleContainer(\n",
        "      body=BoxComponent(\n",
        "          layout='vertical',\n",
        "          spacing='sm',\n",
        "          contents=myContents_4\n",
        "      )\n",
        "  )\n",
        "  return myBubble_4\n",
        "\n",
        "myBubble_OPDs()"
      ],
      "execution_count": null,
      "outputs": [
        {
          "output_type": "execute_result",
          "data": {
            "text/plain": [
              "{\"body\": {\"contents\": [{\"action\": {\"label\": \"\\u9580\\u8a3a\\u6642\\u523b\\u8868110\\u5e7408\\u6708\", \"type\": \"uri\", \"uri\": \"https://wwwv.tsgh.ndmctsgh.edu.tw//files/web/194/contents/30000/110\\u5e748\\u6708\\u4efd\\u9580\\u8a3a\\u6642\\u523b\\u8868.pdf\"}, \"height\": \"sm\", \"style\": \"link\", \"type\": \"button\"}, {\"action\": {\"label\": \"\\u9580\\u8a3a\\u6642\\u523b\\u8868110\\u5e7407\\u6708\", \"type\": \"uri\", \"uri\": \"https://wwwv.tsgh.ndmctsgh.edu.tw//files/web/194/contents/30000/110\\u5e747\\u6708\\u4efd\\u9580\\u8a3a\\u8868(\\u65b0).pdf\"}, \"height\": \"sm\", \"style\": \"link\", \"type\": \"button\"}, {\"action\": {\"label\": \"\\u9580\\u8a3a\\u6642\\u523b\\u8868110\\u5e7406\\u6708\", \"type\": \"uri\", \"uri\": \"https://wwwv.tsgh.ndmctsgh.edu.tw//files/web/194/contents/30000/0528.pdf\"}, \"height\": \"sm\", \"style\": \"link\", \"type\": \"button\"}, {\"action\": {\"label\": \"\\u9580\\u8a3a\\u6642\\u523b\\u8868110\\u5e7405\\u6708\", \"type\": \"uri\", \"uri\": \"https://wwwv.tsgh.ndmctsgh.edu.tw//files/web/194/contents/30000/5\\u6708\\u9580\\u8a3a\\u6642\\u523b\\u8868(2).pdf\"}, \"height\": \"sm\", \"style\": \"link\", \"type\": \"button\"}, {\"action\": {\"label\": \"\\u9580\\u8a3a\\u6642\\u523b\\u8868110\\u5e7404\\u6708\", \"type\": \"uri\", \"uri\": \"https://wwwv.tsgh.ndmctsgh.edu.tw//files/web/194/contents/30000/\\u56db\\u6708\\u9580\\u8a3a\\u6642\\u523b\\u8868.pdf\"}, \"height\": \"sm\", \"style\": \"link\", \"type\": \"button\"}, {\"action\": {\"label\": \"\\u9580\\u8a3a\\u6642\\u523b\\u8868110\\u5e7403\\u6708\", \"type\": \"uri\", \"uri\": \"https://wwwv.tsgh.ndmctsgh.edu.tw//files/web/194/contents/30000/11003\\u9580\\u8a3a\\u6642\\u523b\\u88681.pdf\"}, \"height\": \"sm\", \"style\": \"link\", \"type\": \"button\"}, {\"action\": {\"label\": \"\\u9580\\u8a3a\\u6642\\u523b\\u8868110\\u5e7402\\u6708\", \"type\": \"uri\", \"uri\": \"https://wwwv.tsgh.ndmctsgh.edu.tw//files/web/194/contents/30000/110.02\\u9580\\u8a3a\\u6642\\u9593\\u8868.pdf\"}, \"height\": \"sm\", \"style\": \"link\", \"type\": \"button\"}], \"layout\": \"vertical\", \"spacing\": \"sm\", \"type\": \"box\"}, \"type\": \"bubble\"}"
            ]
          },
          "metadata": {},
          "execution_count": 10
        }
      ]
    },
    {
      "cell_type": "code",
      "metadata": {
        "id": "TZbP6uq76R4s"
      },
      "source": [
        "###008-1 BeautifulSoup links from webpage\n",
        "from bs4 import BeautifulSoup\n",
        "import requests\n",
        "DrLists=[]\n",
        "DrLinks=[]\n",
        "target_url='https://wwwv.tsgh.ndmctsgh.edu.tw/Doclist/194/30000/25075'\n",
        "responses=requests.get(target_url)\n",
        "soup=BeautifulSoup(responses.text,\"html.parser\")\n",
        "myDivs=soup.find_all('div',{'class':'column column-block lg-txt'})\n",
        "for myDiv in myDivs:\n",
        "  myLink=myDiv.find('a')\n",
        "  DrLists.append(str(myLink.contents[0]))\n",
        "  DrLinks.append(f\"https://wwwv.tsgh.ndmctsgh.edu.tw/{myLink.get('href')}\")\n",
        "\n",
        "def myBubble_doctors( * message):\n",
        "  myContents_3=[]\n",
        "  i=0\n",
        "  for i in range(len(DrLists)):\n",
        "    myContent=ButtonComponent(style='link',height='sm',action=URIAction(label=DrLists[i],uri=DrLinks[i]))\n",
        "    myContents_3.append(myContent)\n",
        "  myBubble_3=BubbleContainer(\n",
        "      body=BoxComponent(\n",
        "          layout='vertical',\n",
        "          spacing='sm',\n",
        "          contents=myContents_3\n",
        "      )\n",
        "  )\n",
        "  return myBubble_3\n"
      ],
      "execution_count": null,
      "outputs": []
    },
    {
      "cell_type": "code",
      "metadata": {
        "colab": {
          "base_uri": "https://localhost:8080/"
        },
        "id": "to6zeHaP9Ekv",
        "outputId": "84649156-0a15-4193-f65c-2ca9baeceada"
      },
      "source": [
        "myBubble_doctors()"
      ],
      "execution_count": null,
      "outputs": [
        {
          "output_type": "execute_result",
          "data": {
            "text/plain": [
              "{\"body\": {\"contents\": [{\"action\": {\"label\": \"\\u694a\\u65af\\u5e74 \\u91ab\\u5e2b\", \"type\": \"uri\", \"uri\": \"https://wwwv.tsgh.ndmctsgh.edu.tw//DocDet/194/30000/25075/1766\"}, \"height\": \"sm\", \"style\": \"link\", \"type\": \"button\"}, {\"action\": {\"label\": \"\\u6c5f\\u570b\\u68df \\u91ab\\u5e2b\", \"type\": \"uri\", \"uri\": \"https://wwwv.tsgh.ndmctsgh.edu.tw//DocDet/194/30000/25075/1767\"}, \"height\": \"sm\", \"style\": \"link\", \"type\": \"button\"}, {\"action\": {\"label\": \"\\u694a\\u7acb\\u5149 \\u91ab\\u5e2b\", \"type\": \"uri\", \"uri\": \"https://wwwv.tsgh.ndmctsgh.edu.tw//DocDet/194/30000/25075/1768\"}, \"height\": \"sm\", \"style\": \"link\", \"type\": \"button\"}, {\"action\": {\"label\": \"\\u674e\\u6dfb\\u6d5a \\u91ab\\u5e2b\", \"type\": \"uri\", \"uri\": \"https://wwwv.tsgh.ndmctsgh.edu.tw//DocDet/194/30000/25075/1789\"}, \"height\": \"sm\", \"style\": \"link\", \"type\": \"button\"}, {\"action\": {\"label\": \"\\u738b\\u80b2\\u741b \\u91ab\\u5e2b\", \"type\": \"uri\", \"uri\": \"https://wwwv.tsgh.ndmctsgh.edu.tw//DocDet/194/30000/25075/1787\"}, \"height\": \"sm\", \"style\": \"link\", \"type\": \"button\"}, {\"action\": {\"label\": \"\\u9673\\u6cf0\\u5b87 \\u91ab\\u5e2b\", \"type\": \"uri\", \"uri\": \"https://wwwv.tsgh.ndmctsgh.edu.tw//DocDet/194/30000/25075/1926\"}, \"height\": \"sm\", \"style\": \"link\", \"type\": \"button\"}, {\"action\": {\"label\": \"\\u7c21\\u5efa\\u6587 \\u91ab\\u5e2b\", \"type\": \"uri\", \"uri\": \"https://wwwv.tsgh.ndmctsgh.edu.tw//DocDet/194/30000/25075/3509\"}, \"height\": \"sm\", \"style\": \"link\", \"type\": \"button\"}, {\"action\": {\"label\": \"\\u5f35\\u5fa9\\u821c \\u91ab\\u5e2b\", \"type\": \"uri\", \"uri\": \"https://wwwv.tsgh.ndmctsgh.edu.tw//DocDet/194/30000/25075/3448\"}, \"height\": \"sm\", \"style\": \"link\", \"type\": \"button\"}, {\"action\": {\"label\": \"\\u912d\\u51f1\\u4ec1 \\u91ab\\u5e2b\", \"type\": \"uri\", \"uri\": \"https://wwwv.tsgh.ndmctsgh.edu.tw//DocDet/194/30000/25075/1780\"}, \"height\": \"sm\", \"style\": \"link\", \"type\": \"button\"}, {\"action\": {\"label\": \"\\u5433\\u6c38\\u5bcc \\u91ab\\u5e2b\", \"type\": \"uri\", \"uri\": \"https://wwwv.tsgh.ndmctsgh.edu.tw//DocDet/194/30000/25075/1785\"}, \"height\": \"sm\", \"style\": \"link\", \"type\": \"button\"}, {\"action\": {\"label\": \"\\u66fe\\u88d5\\u5ead \\u91ab\\u5e2b\", \"type\": \"uri\", \"uri\": \"https://wwwv.tsgh.ndmctsgh.edu.tw//DocDet/194/30000/25075/1915\"}, \"height\": \"sm\", \"style\": \"link\", \"type\": \"button\"}, {\"action\": {\"label\": \"\\u9112\\u8f1d\\u7a4e \\u91ab\\u5e2b\", \"type\": \"uri\", \"uri\": \"https://wwwv.tsgh.ndmctsgh.edu.tw//DocDet/194/30000/25075/1923\"}, \"height\": \"sm\", \"style\": \"link\", \"type\": \"button\"}, {\"action\": {\"label\": \"\\u6881\\u5fd7\\u980c \\u91ab\\u5e2b\", \"type\": \"uri\", \"uri\": \"https://wwwv.tsgh.ndmctsgh.edu.tw//DocDet/194/30000/25075/1782\"}, \"height\": \"sm\", \"style\": \"link\", \"type\": \"button\"}, {\"action\": {\"label\": \"\\u66fe\\u5fd7\\u5091 \\u91ab\\u5e2b\", \"type\": \"uri\", \"uri\": \"https://wwwv.tsgh.ndmctsgh.edu.tw//DocDet/194/30000/25075/1781\"}, \"height\": \"sm\", \"style\": \"link\", \"type\": \"button\"}, {\"action\": {\"label\": \"\\u53e4\\u4e16\\u5091 \\u91ab\\u5e2b\", \"type\": \"uri\", \"uri\": \"https://wwwv.tsgh.ndmctsgh.edu.tw//DocDet/194/30000/25075/1914\"}, \"height\": \"sm\", \"style\": \"link\", \"type\": \"button\"}, {\"action\": {\"label\": \"\\u8449\\u67cf\\u5bec \\u91ab\\u5e2b\", \"type\": \"uri\", \"uri\": \"https://wwwv.tsgh.ndmctsgh.edu.tw//DocDet/194/30000/25075/1919\"}, \"height\": \"sm\", \"style\": \"link\", \"type\": \"button\"}, {\"action\": {\"label\": \"\\u7f85\\u7fbf\\u51e1 \\u91ab\\u5e2b\", \"type\": \"uri\", \"uri\": \"https://wwwv.tsgh.ndmctsgh.edu.tw//DocDet/194/30000/25075/3510\"}, \"height\": \"sm\", \"style\": \"link\", \"type\": \"button\"}, {\"action\": {\"label\": \"\\u99ac\\u9756\\u8d85 \\u91ab\\u5e2b\", \"type\": \"uri\", \"uri\": \"https://wwwv.tsgh.ndmctsgh.edu.tw//DocDet/194/30000/25075/1779\"}, \"height\": \"sm\", \"style\": \"link\", \"type\": \"button\"}, {\"action\": {\"label\": \"\\u9ad8\\u5ec9\\u7a0b \\u91ab\\u5e2b\", \"type\": \"uri\", \"uri\": \"https://wwwv.tsgh.ndmctsgh.edu.tw//DocDet/194/30000/25075/2945\"}, \"height\": \"sm\", \"style\": \"link\", \"type\": \"button\"}, {\"action\": {\"label\": \"\\u9ec3\\u656c\\u8ed2 \\u91ab\\u5e2b\", \"type\": \"uri\", \"uri\": \"https://wwwv.tsgh.ndmctsgh.edu.tw//DocDet/194/30000/25075/3511\"}, \"height\": \"sm\", \"style\": \"link\", \"type\": \"button\"}, {\"action\": {\"label\": \"\\u694a\\u7693\\u540d \\u91ab\\u5e2b\", \"type\": \"uri\", \"uri\": \"https://wwwv.tsgh.ndmctsgh.edu.tw//DocDet/194/30000/25075/1786\"}, \"height\": \"sm\", \"style\": \"link\", \"type\": \"button\"}, {\"action\": {\"label\": \"\\u8a31\\u5d07\\u667a \\u91ab\\u5e2b\", \"type\": \"uri\", \"uri\": \"https://wwwv.tsgh.ndmctsgh.edu.tw//DocDet/194/30000/25075/1894\"}, \"height\": \"sm\", \"style\": \"link\", \"type\": \"button\"}, {\"action\": {\"label\": \"\\u694a\\u8559\\u5e74 \\u91ab\\u5e2b\", \"type\": \"uri\", \"uri\": \"https://wwwv.tsgh.ndmctsgh.edu.tw//DocDet/194/30000/25075/1784\"}, \"height\": \"sm\", \"style\": \"link\", \"type\": \"button\"}, {\"action\": {\"label\": \"\\u6731\\u8ed2\\u5fb7 \\u91ab\\u5e2b\", \"type\": \"uri\", \"uri\": \"https://wwwv.tsgh.ndmctsgh.edu.tw//DocDet/194/30000/25075/1918\"}, \"height\": \"sm\", \"style\": \"link\", \"type\": \"button\"}, {\"action\": {\"label\": \"\\u674e\\u5f65\\u92d2 \\u91ab\\u5e2b\", \"type\": \"uri\", \"uri\": \"https://wwwv.tsgh.ndmctsgh.edu.tw//DocDet/194/30000/25075/1917\"}, \"height\": \"sm\", \"style\": \"link\", \"type\": \"button\"}, {\"action\": {\"label\": \"\\u5f6d\\u67cf\\u745e \\u91ab\\u5e2b\", \"type\": \"uri\", \"uri\": \"https://wwwv.tsgh.ndmctsgh.edu.tw//DocDet/194/30000/25075/1788\"}, \"height\": \"sm\", \"style\": \"link\", \"type\": \"button\"}, {\"action\": {\"label\": \"\\u674e\\u65b9\\u9f61 \\u91ab\\u5e2b\", \"type\": \"uri\", \"uri\": \"https://wwwv.tsgh.ndmctsgh.edu.tw//DocDet/194/30000/25075/3512\"}, \"height\": \"sm\", \"style\": \"link\", \"type\": \"button\"}, {\"action\": {\"label\": \"\\u6797\\u5f18\\u7fa9 \\u91ab\\u5e2b\", \"type\": \"uri\", \"uri\": \"https://wwwv.tsgh.ndmctsgh.edu.tw//DocDet/194/30000/25075/3473\"}, \"height\": \"sm\", \"style\": \"link\", \"type\": \"button\"}, {\"action\": {\"label\": \"\\u694a\\u7acb\\u5149 \\u91ab\\u5e2b\", \"type\": \"uri\", \"uri\": \"https://wwwv.tsgh.ndmctsgh.edu.tw//DocDet/194/30000/25075/1778\"}, \"height\": \"sm\", \"style\": \"link\", \"type\": \"button\"}, {\"action\": {\"label\": \"\\u6234\\u6708\\u660e \\u91ab\\u5e2b\", \"type\": \"uri\", \"uri\": \"https://wwwv.tsgh.ndmctsgh.edu.tw//DocDet/194/30000/25075/1911\"}, \"height\": \"sm\", \"style\": \"link\", \"type\": \"button\"}, {\"action\": {\"label\": \"\\u5f35\\u5ef7\\u78a9 \\u91ab\\u5e2b\", \"type\": \"uri\", \"uri\": \"https://wwwv.tsgh.ndmctsgh.edu.tw//DocDet/194/30000/25075/1916\"}, \"height\": \"sm\", \"style\": \"link\", \"type\": \"button\"}, {\"action\": {\"label\": \"\\u6797\\u660e\\u744b \\u91ab\\u5e2b\", \"type\": \"uri\", \"uri\": \"https://wwwv.tsgh.ndmctsgh.edu.tw//DocDet/194/30000/25075/1921\"}, \"height\": \"sm\", \"style\": \"link\", \"type\": \"button\"}, {\"action\": {\"label\": \"\\u5b54\\u7e41\\u7487  \\u91ab\\u5e2b\", \"type\": \"uri\", \"uri\": \"https://wwwv.tsgh.ndmctsgh.edu.tw//DocDet/194/30000/25075/3474\"}, \"height\": \"sm\", \"style\": \"link\", \"type\": \"button\"}, {\"action\": {\"label\": \"\\u9673\\u5bb6\\u52c9 \\u91ab\\u5e2b\", \"type\": \"uri\", \"uri\": \"https://wwwv.tsgh.ndmctsgh.edu.tw//DocDet/194/30000/25075/1769\"}, \"height\": \"sm\", \"style\": \"link\", \"type\": \"button\"}, {\"action\": {\"label\": \"\\u675c\\u6fec\\u6e05 \\u91ab\\u5e2b(\\u7259\\u79d1)\", \"type\": \"uri\", \"uri\": \"https://wwwv.tsgh.ndmctsgh.edu.tw//DocDet/194/30000/25075/1912\"}, \"height\": \"sm\", \"style\": \"link\", \"type\": \"button\"}, {\"action\": {\"label\": \"\\u9673\\u4eba\\u8c6a \\u91ab\\u5e2b(\\u7259\\u79d1)\", \"type\": \"uri\", \"uri\": \"https://wwwv.tsgh.ndmctsgh.edu.tw//DocDet/194/30000/25075/1913\"}, \"height\": \"sm\", \"style\": \"link\", \"type\": \"button\"}, {\"action\": {\"label\": \"\\u5f6d\\u5609\\u548c \\u91ab\\u5e2b(\\u8eab\\u5fc3\\u79d1)\", \"type\": \"uri\", \"uri\": \"https://wwwv.tsgh.ndmctsgh.edu.tw//DocDet/194/30000/25075/1772\"}, \"height\": \"sm\", \"style\": \"link\", \"type\": \"button\"}, {\"action\": {\"label\": \"\\u9ec3\\u8000\\u9032 \\u91ab\\u5e2b(\\u8eab\\u5fc3\\u79d1)\", \"type\": \"uri\", \"uri\": \"https://wwwv.tsgh.ndmctsgh.edu.tw//DocDet/194/30000/25075/3451\"}, \"height\": \"sm\", \"style\": \"link\", \"type\": \"button\"}, {\"action\": {\"label\": \"\\u5468\\u9298\\u5764 \\u91ab\\u5e2b(\\u795e\\u7d93\\u5167\\u79d1)\", \"type\": \"uri\", \"uri\": \"https://wwwv.tsgh.ndmctsgh.edu.tw//DocDet/194/30000/25075/3462\"}, \"height\": \"sm\", \"style\": \"link\", \"type\": \"button\"}, {\"action\": {\"label\": \"\\u9ec3\\u4ec1\\u5f18 \\u91ab\\u5e2b(\\u8eab\\u5fc3\\u79d1)\", \"type\": \"uri\", \"uri\": \"https://wwwv.tsgh.ndmctsgh.edu.tw//DocDet/194/30000/25075/3513\"}, \"height\": \"sm\", \"style\": \"link\", \"type\": \"button\"}, {\"action\": {\"label\": \"\\u5f35\\u570b\\u69ae \\u91ab\\u5e2b(\\u8eab\\u5fc3\\u79d1)\", \"type\": \"uri\", \"uri\": \"https://wwwv.tsgh.ndmctsgh.edu.tw//DocDet/194/30000/25075/3449\"}, \"height\": \"sm\", \"style\": \"link\", \"type\": \"button\"}, {\"action\": {\"label\": \"\\u7f85\\u6642\\u8302 \\u91ab\\u5e2b(\\u8eab\\u5fc3\\u79d1)\", \"type\": \"uri\", \"uri\": \"https://wwwv.tsgh.ndmctsgh.edu.tw//DocDet/194/30000/25075/3454\"}, \"height\": \"sm\", \"style\": \"link\", \"type\": \"button\"}, {\"action\": {\"label\": \"\\u8b1d\\u5b9a\\u5b8f \\u91ab\\u5e2b(\\u8eab\\u5fc3\\u79d1)\", \"type\": \"uri\", \"uri\": \"https://wwwv.tsgh.ndmctsgh.edu.tw//DocDet/194/30000/25075/1928\"}, \"height\": \"sm\", \"style\": \"link\", \"type\": \"button\"}, {\"action\": {\"label\": \"\\u912d\\u5b87\\u660e \\u91ab\\u5e2b(\\u8eab\\u5fc3\\u79d1)\", \"type\": \"uri\", \"uri\": \"https://wwwv.tsgh.ndmctsgh.edu.tw//DocDet/194/30000/25075/3457\"}, \"height\": \"sm\", \"style\": \"link\", \"type\": \"button\"}, {\"action\": {\"label\": \"\\u5289\\u5d22\\u5049 \\u91ab\\u5e2b(\\u5bb6\\u91ab\\u79d1/\\u5fc3\\u81df\\u5167\\u79d1)\", \"type\": \"uri\", \"uri\": \"https://wwwv.tsgh.ndmctsgh.edu.tw//DocDet/194/30000/25075/1930\"}, \"height\": \"sm\", \"style\": \"link\", \"type\": \"button\"}, {\"action\": {\"label\": \"\\u6797\\u6649\\u8ce2 \\u91ab\\u5e2b(\\u5bb6\\u91ab\\u79d1/\\u542b\\u6212\\u83f8\\u9580\\u8a3a)\", \"type\": \"uri\", \"uri\": \"https://wwwv.tsgh.ndmctsgh.edu.tw//DocDet/194/30000/25075/3450\"}, \"height\": \"sm\", \"style\": \"link\", \"type\": \"button\"}, {\"action\": {\"label\": \"\\u9ec3\\u65ed\\u7469 \\u91ab\\u5e2b(\\u5bb6\\u91ab\\u79d1/\\u5c0f\\u5152\\u79d1)\", \"type\": \"uri\", \"uri\": \"https://wwwv.tsgh.ndmctsgh.edu.tw//DocDet/194/30000/25075/3455\"}, \"height\": \"sm\", \"style\": \"link\", \"type\": \"button\"}, {\"action\": {\"label\": \"\\u9673\\u7f8e\\u97f3 \\u91ab\\u5e2b(\\u5bb6\\u91ab\\u79d1/\\u80f8\\u8154\\u5167\\u79d1)\", \"type\": \"uri\", \"uri\": \"https://wwwv.tsgh.ndmctsgh.edu.tw//DocDet/194/30000/25075/3456\"}, \"height\": \"sm\", \"style\": \"link\", \"type\": \"button\"}, {\"action\": {\"label\": \"\\u90b1\\u52dd\\u535a \\u91ab\\u5e2b(\\u5bb6\\u91ab\\u79d1/\\u65b0\\u9673\\u4ee3\\u8b1d\\u79d1)\", \"type\": \"uri\", \"uri\": \"https://wwwv.tsgh.ndmctsgh.edu.tw//DocDet/194/30000/25075/3453\"}, \"height\": \"sm\", \"style\": \"link\", \"type\": \"button\"}, {\"action\": {\"label\": \"\\u65b9\\u6587\\u8f1d \\u91ab\\u5e2b(\\u5bb6\\u91ab\\u79d1)\", \"type\": \"uri\", \"uri\": \"https://wwwv.tsgh.ndmctsgh.edu.tw//DocDet/194/30000/25075/4298\"}, \"height\": \"sm\", \"style\": \"link\", \"type\": \"button\"}], \"layout\": \"horizontal\", \"spacing\": \"sm\", \"type\": \"box\"}, \"type\": \"bubble\"}"
            ]
          },
          "metadata": {},
          "execution_count": 8
        }
      ]
    },
    {
      "cell_type": "code",
      "metadata": {
        "colab": {
          "base_uri": "https://localhost:8080/"
        },
        "id": "Mi1-11X09PvJ",
        "outputId": "fe720fdb-164c-4424-f23e-281fd8f3c377"
      },
      "source": [
        "##008-2 Useing of BeautirfulSoup+ButtonComponent for DoctorList\n",
        "import myBubbles\n",
        "app=Flask(__name__)\n",
        "run_with_ngrok(app)\n",
        "\n",
        "line_bot_api=LineBotApi(OPDAid4_SN.myLineBotApi)\n",
        "handler=WebhookHandler(OPDAid4_SN.myWebhookHandler)\n",
        "myID=OPDAid4_SN.myUserID\n",
        "\n",
        "#line_bot_api.push_message(myID,FlexSendMessage(alt_text='你好',contents=myBubble_doctors('321')))\n",
        "line_bot_api.push_message(myID,FlexSendMessage(alt_text='歡迎使用三總北投門診助手4.0',contents=myBubbles.myBubble_doctors('123')))\n",
        "@app.route('/')\n",
        "def index():\n",
        "  return '歡迎使用三總北投門診助手4.0!'\n",
        "\n",
        "\n",
        "@app.route('/callback',methods=['POST'])\n",
        "def callback():\n",
        "  signature=request.headers['X-Line-Signature']\n",
        "  body=request.get_data(as_text=True)\n",
        "  try:\n",
        "    handler.handle(body,signature)\n",
        "  except InvalidSignatureError:\n",
        "    abort(400)\n",
        "  return 'OK'\n",
        "\n",
        "@handler.add(MessageEvent,message=TextMessage)\n",
        "def handle_message(event):\n",
        "  message=text=event.message.text\n",
        "  #line_bot_api.reply_message(event.reply_token, FlexSendMessage(alt_text=message,contents=myBubble_doctors('123')))\n",
        "  line_bot_api.reply_message(event.reply_token, FlexSendMessage(alt_text=message,contents=myBubbles.myBubble_doctors(message)))\n",
        "  \n",
        "app.run()"
      ],
      "execution_count": null,
      "outputs": [
        {
          "output_type": "stream",
          "text": [
            " * Serving Flask app \"__main__\" (lazy loading)\n",
            " * Environment: production\n",
            "\u001b[31m   WARNING: This is a development server. Do not use it in a production deployment.\u001b[0m\n",
            "\u001b[2m   Use a production WSGI server instead.\u001b[0m\n",
            " * Debug mode: off\n"
          ],
          "name": "stdout"
        },
        {
          "output_type": "stream",
          "text": [
            " * Running on http://127.0.0.1:5000/ (Press CTRL+C to quit)\n"
          ],
          "name": "stderr"
        },
        {
          "output_type": "stream",
          "text": [
            " * Running on http://d520-35-221-42-54.ngrok.io\n",
            " * Traffic stats available on http://127.0.0.1:4040\n"
          ],
          "name": "stdout"
        },
        {
          "output_type": "stream",
          "text": [
            "127.0.0.1 - - [29/Aug/2021 03:38:23] \"\u001b[37mGET / HTTP/1.1\u001b[0m\" 200 -\n",
            "127.0.0.1 - - [29/Aug/2021 03:38:24] \"\u001b[33mGET /favicon.ico HTTP/1.1\u001b[0m\" 404 -\n",
            "127.0.0.1 - - [29/Aug/2021 03:38:54] \"\u001b[37mPOST /callback HTTP/1.1\u001b[0m\" 200 -\n"
          ],
          "name": "stderr"
        }
      ]
    },
    {
      "cell_type": "code",
      "metadata": {
        "colab": {
          "base_uri": "https://localhost:8080/"
        },
        "id": "3gSIePWHld1q",
        "outputId": "8b6236dd-5cfe-4396-d254-73b077b0a41c"
      },
      "source": [
        "##007-1Test of ButtonComponent\n",
        "from linebot.models import *\n",
        "def myBubble_greeting(meesage):\n",
        "  myList_2=['三總北投分院網站','三總北投分院臉書','24hr自殺防治專線']\n",
        "  myLink_2=['https://beitou.tsgh.ndmctsgh.edu.tw/','https://zh-tw.facebook.com/pages/category/Hospital/三軍總醫院北投分院-204568046633204/','tel:+886-2-800-395-995']\n",
        "  myContents_2=[]\n",
        "  i=0\n",
        "  for i in range(len(myList_2)):\n",
        "    myContent=ButtonComponent(style='link',height='sm',action=URIAction(label=myList_2[i],uri=myLink_2[i]))\n",
        "    myContents_2.append(myContent)\n",
        "  myBubble_2=BubbleContainer(\n",
        "      hero=ImageComponent(\n",
        "          url='https://i.imgur.com/9KAkYf4.jpg',\n",
        "          size='full',\n",
        "          aspect_ratio='20:13',\n",
        "          aspect_mode='cover',\n",
        "          action=URIAction(uri='https://beitou.tsgh.ndmctsgh.edu.tw/',label='三總北投分院')\n",
        "      ),\n",
        "      body=BoxComponent(\n",
        "          layout='vertical',\n",
        "          spacing='sm',\n",
        "          contents=myContents_2\n",
        "      )\n",
        "  )\n",
        "  return myBubble_2\n",
        "myBubble_greeting('meesage')"
      ],
      "execution_count": null,
      "outputs": [
        {
          "output_type": "execute_result",
          "data": {
            "text/plain": [
              "{\"body\": {\"contents\": [{\"action\": {\"label\": \"\\u4e09\\u7e3d\\u5317\\u6295\\u5206\\u9662\\u7db2\\u7ad9\", \"type\": \"uri\", \"uri\": \"https://beitou.tsgh.ndmctsgh.edu.tw/\"}, \"height\": \"sm\", \"style\": \"link\", \"type\": \"button\"}, {\"action\": {\"label\": \"\\u4e09\\u7e3d\\u5317\\u6295\\u5206\\u9662\\u81c9\\u66f8\", \"type\": \"uri\", \"uri\": \"https://zh-tw.facebook.com/pages/category/Hospital/\\u4e09\\u8ecd\\u7e3d\\u91ab\\u9662\\u5317\\u6295\\u5206\\u9662-204568046633204/\"}, \"height\": \"sm\", \"style\": \"link\", \"type\": \"button\"}, {\"action\": {\"label\": \"24hr\\u81ea\\u6bba\\u9632\\u6cbb\\u5c08\\u7dda\", \"type\": \"uri\", \"uri\": \"tel:+886-2-800-395-995\"}, \"height\": \"sm\", \"style\": \"link\", \"type\": \"button\"}], \"layout\": \"vertical\", \"spacing\": \"sm\", \"type\": \"box\"}, \"hero\": {\"action\": {\"label\": \"\\u4e09\\u7e3d\\u5317\\u6295\\u5206\\u9662\", \"type\": \"uri\", \"uri\": \"https://beitou.tsgh.ndmctsgh.edu.tw/\"}, \"aspectMode\": \"cover\", \"aspectRatio\": \"20:13\", \"size\": \"full\", \"type\": \"image\", \"url\": \"https://i.imgur.com/9KAkYf4.jpg\"}, \"type\": \"bubble\"}"
            ]
          },
          "metadata": {},
          "execution_count": 24
        }
      ]
    },
    {
      "cell_type": "code",
      "metadata": {
        "colab": {
          "base_uri": "https://localhost:8080/"
        },
        "id": "AFKn3qayvcRI",
        "outputId": "25f95983-ea38-4b66-d650-4ed2a60d84f5"
      },
      "source": [
        "##007-2 Useing of ButtonComponent\n",
        "import myBubbles\n",
        "app=Flask(__name__)\n",
        "run_with_ngrok(app)\n",
        "\n",
        "line_bot_api=LineBotApi(OPDAid4_SN.myLineBotApi)\n",
        "handler=WebhookHandler(OPDAid4_SN.myWebhookHandler)\n",
        "myID=OPDAid4_SN.myUserID\n",
        "\n",
        "#line_bot_api.push_message(myID,FlexSendMessage(alt_text='你好',contents=myBubble_greeting('321')))\n",
        "line_bot_api.push_message(myID,FlexSendMessage(alt_text='歡迎使用三總北投門診助手4.0',contents=myBubbles.myBubble_greeting('123')))\n",
        "@app.route('/')\n",
        "def index():\n",
        "  return '歡迎使用三總北投門診助手4.0!'\n",
        "\n",
        "\n",
        "@app.route('/callback',methods=['POST'])\n",
        "def callback():\n",
        "  signature=request.headers['X-Line-Signature']\n",
        "  body=request.get_data(as_text=True)\n",
        "  try:\n",
        "    handler.handle(body,signature)\n",
        "  except InvalidSignatureError:\n",
        "    abort(400)\n",
        "  return 'OK'\n",
        "\n",
        "@handler.add(MessageEvent,message=TextMessage)\n",
        "def handle_message(event):\n",
        "  message=text=event.message.text\n",
        "  #line_bot_api.reply_message(event.reply_token, FlexSendMessage(alt_text=message,contents=myBubble_greeting('123')))\n",
        "  line_bot_api.reply_message(event.reply_token, FlexSendMessage(alt_text=message,contents=myBubbles.myBubble_greeting(message)))\n",
        "  \n",
        "app.run()"
      ],
      "execution_count": null,
      "outputs": [
        {
          "output_type": "stream",
          "text": [
            " * Serving Flask app \"__main__\" (lazy loading)\n",
            " * Environment: production\n",
            "\u001b[31m   WARNING: This is a development server. Do not use it in a production deployment.\u001b[0m\n",
            "\u001b[2m   Use a production WSGI server instead.\u001b[0m\n",
            " * Debug mode: off\n"
          ],
          "name": "stdout"
        },
        {
          "output_type": "stream",
          "text": [
            " * Running on http://127.0.0.1:5000/ (Press CTRL+C to quit)\n"
          ],
          "name": "stderr"
        },
        {
          "output_type": "stream",
          "text": [
            " * Running on http://f8c9-35-221-42-54.ngrok.io\n",
            " * Traffic stats available on http://127.0.0.1:4040\n"
          ],
          "name": "stdout"
        },
        {
          "output_type": "stream",
          "text": [
            "127.0.0.1 - - [29/Aug/2021 03:00:55] \"\u001b[37mGET / HTTP/1.1\u001b[0m\" 200 -\n",
            "127.0.0.1 - - [29/Aug/2021 03:00:55] \"\u001b[33mGET /favicon.ico HTTP/1.1\u001b[0m\" 404 -\n",
            "127.0.0.1 - - [29/Aug/2021 03:01:14] \"\u001b[37mPOST /callback HTTP/1.1\u001b[0m\" 200 -\n"
          ],
          "name": "stderr"
        }
      ]
    },
    {
      "cell_type": "code",
      "metadata": {
        "id": "3Lj5zUNBxd5e"
      },
      "source": [
        "  '''\n",
        "  myBubble=BubbleContainer(\n",
        "      body=BoxComponent(\n",
        "          layout='vertical',spacing='sm',\n",
        "          #contents=myBubbles.myContentList(message)\n",
        "          contents=myBubble_greeting('321')\n",
        "          )\n",
        "  )  "
      ],
      "execution_count": null,
      "outputs": []
    },
    {
      "cell_type": "code",
      "metadata": {
        "colab": {
          "base_uri": "https://localhost:8080/"
        },
        "id": "8PTUpXUf7awS",
        "outputId": "76f887c1-ac0b-467f-a11e-fa723813a659"
      },
      "source": [
        "###005嚐試使用linebot.models.flex_message-->將整個Bubble寫在另一個py檔,再import進來...(如果有修改,要記得refrash)\n",
        "import myBubbles\n",
        "app=Flask(__name__)\n",
        "run_with_ngrok(app)\n",
        "\n",
        "line_bot_api=LineBotApi(OPDAid4_SN.myLineBotApi)\n",
        "handler=WebhookHandler(OPDAid4_SN.myWebhookHandler)\n",
        "myID=OPDAid4_SN.myUserID\n",
        "myBubble=BubbleContainer(\n",
        "    body=BoxComponent(\n",
        "        layout='horizontal',\n",
        "        spacing='sm',\n",
        "        contents=[TextComponent(text='三總北投分院',size='md',wrap=True, type='text',margin='xs')]))\n",
        "\n",
        "\n",
        "##line_bot_api.push_message(myID,FlexSendMessage(alt_text='你好',contents=myBubbles))\n",
        "line_bot_api.push_message(myID,FlexSendMessage(alt_text='你好',contents=myBubbles.myBubble_1('321')))\n",
        "@app.route('/')\n",
        "def index():\n",
        "  return '歡迎使用三總北投門診助手4.0!'\n",
        "\n",
        "\n",
        "@app.route('/callback',methods=['POST'])\n",
        "def callback():\n",
        "  signature=request.headers['X-Line-Signature']\n",
        "  body=request.get_data(as_text=True)\n",
        "  ##app.loger.info(\"Request body:\"+body)\n",
        "\n",
        "  try:\n",
        "    handler.handle(body,signature)\n",
        "  except InvalidSignatureError:\n",
        "    abort(400)\n",
        "  return 'OK'\n",
        "\n",
        "@handler.add(MessageEvent,message=TextMessage)\n",
        "def handle_message(event):\n",
        "  message=text=event.message.text\n",
        "  \n",
        "  myBubble=BubbleContainer(\n",
        "      body=BoxComponent(\n",
        "          layout='vertical',spacing='sm',\n",
        "          contents=myBubbles.myContentList(message)\n",
        "          )\n",
        "  )  \n",
        "  line_bot_api.reply_message(event.reply_token, FlexSendMessage(alt_text='你好',contents=myBubble))\n",
        "  \n",
        "app.run()"
      ],
      "execution_count": null,
      "outputs": [
        {
          "output_type": "stream",
          "text": [
            " * Serving Flask app \"__main__\" (lazy loading)\n",
            " * Environment: production\n",
            "\u001b[31m   WARNING: This is a development server. Do not use it in a production deployment.\u001b[0m\n",
            "\u001b[2m   Use a production WSGI server instead.\u001b[0m\n",
            " * Debug mode: off\n"
          ],
          "name": "stdout"
        },
        {
          "output_type": "stream",
          "text": [
            " * Running on http://127.0.0.1:5000/ (Press CTRL+C to quit)\n"
          ],
          "name": "stderr"
        },
        {
          "output_type": "stream",
          "text": [
            " * Running on http://9cc6-35-227-87-215.ngrok.io\n",
            " * Traffic stats available on http://127.0.0.1:4040\n"
          ],
          "name": "stdout"
        }
      ]
    },
    {
      "cell_type": "code",
      "metadata": {
        "id": "IFCUhrDD7U2q"
      },
      "source": [
        "##006Test of TextComponent\n",
        "def myBubble_1(message):\n",
        "  myList1=['歡迎使用三總北投門診助手4.0','本院網址:https://beitou.tsgh.ndmctsgh.edu.tw/','本院臉書:https://zh-tw.facebook.com/pages/category/Hospital/%E4%B8%89%E8%BB%8D%E7%B8%BD%E9%86%AB%E9%99%A2%E5%8C%97%E6%8A%95%E5%88%86%E9%99%A2-204568046633204/']\n",
        "  #myList1=['一二三','456','seven, egight ,nine']\n",
        "  myContents1=[]\n",
        "  for item in myList1:\n",
        "    myContent=TextComponent(text=item, size='md', wrap=True, type='text',margin='xs')\n",
        "    myContents1.append(myContent)\n",
        "  myContents1.append(TextComponent(text=message,size='md',wrap=True, type='text',margin='xs'))\n",
        "  myBubble_1=BubbleContainer(\n",
        "      body=BoxComponent(\n",
        "          layout='vertical',\n",
        "          spacing='sm',\n",
        "          contents=myContents1         \n",
        "      )\n",
        "  )\n",
        "  return myBubble_1"
      ],
      "execution_count": null,
      "outputs": []
    },
    {
      "cell_type": "code",
      "metadata": {
        "id": "vHXU6l338aIx",
        "colab": {
          "base_uri": "https://localhost:8080/"
        },
        "outputId": "58800d4d-b283-4b9a-8fe7-3ad942c40378"
      },
      "source": [
        "myBubble_1('123')"
      ],
      "execution_count": null,
      "outputs": [
        {
          "output_type": "execute_result",
          "data": {
            "text/plain": [
              "{\"body\": {\"contents\": [{\"margin\": \"xs\", \"size\": \"md\", \"text\": \"\\u6b61\\u8fce\\u4f7f\\u7528\\u4e09\\u7e3d\\u5317\\u6295\\u9580\\u8a3a\\u52a9\\u624b4.0\", \"type\": \"text\", \"wrap\": true}, {\"margin\": \"xs\", \"size\": \"md\", \"text\": \"\\u672c\\u9662\\u7db2\\u5740:https://beitou.tsgh.ndmctsgh.edu.tw/\", \"type\": \"text\", \"wrap\": true}, {\"margin\": \"xs\", \"size\": \"md\", \"text\": \"\\u672c\\u9662\\u81c9\\u66f8:https://zh-tw.facebook.com/pages/category/Hospital/%E4%B8%89%E8%BB%8D%E7%B8%BD%E9%86%AB%E9%99%A2%E5%8C%97%E6%8A%95%E5%88%86%E9%99%A2-204568046633204/\", \"type\": \"text\", \"wrap\": true}, {\"margin\": \"xs\", \"size\": \"md\", \"text\": \"123\", \"type\": \"text\", \"wrap\": true}], \"layout\": \"vertical\", \"spacing\": \"sm\", \"type\": \"box\"}, \"type\": \"bubble\"}"
            ]
          },
          "metadata": {},
          "execution_count": 32
        }
      ]
    },
    {
      "cell_type": "code",
      "metadata": {
        "colab": {
          "base_uri": "https://localhost:8080/"
        },
        "id": "ZknciGpHvntq",
        "outputId": "8bb1d629-57a7-4e30-8091-7f476c86ea05"
      },
      "source": [
        "###004嚐試使用linebot.models.flex_message --> 將Contents寫在另一個py檔,再import進來...(如果有修改,要記得refrash)\n",
        "import myBubbles\n",
        "app=Flask(__name__)\n",
        "run_with_ngrok(app)\n",
        "\n",
        "line_bot_api=LineBotApi(OPDAid4_SN.myLineBotApi)\n",
        "handler=WebhookHandler(OPDAid4_SN.myWebhookHandler)\n",
        "myID=OPDAid4_SN.myUserID\n",
        "myBubble=BubbleContainer(\n",
        "    body=BoxComponent(\n",
        "        layout='horizontal',spacing='sm',\n",
        "        contents=[TextComponent(text='三總北投分院',size='md',wrap=True, type='text',margin='xs',)])\n",
        ")\n",
        "\n",
        "\n",
        "line_bot_api.push_message(myID,FlexSendMessage(alt_text='你好',contents=myBubble))\n",
        "@app.route('/')\n",
        "def index():\n",
        "  return '歡迎使用三總北投門診助手4.0!'\n",
        "\n",
        "\n",
        "@app.route('/callback',methods=['POST'])\n",
        "def callback():\n",
        "  signature=request.headers['X-Line-Signature']\n",
        "  body=request.get_data(as_text=True)\n",
        "  ##app.loger.info(\"Request body:\"+body)\n",
        "\n",
        "  try:\n",
        "    handler.handle(body,signature)\n",
        "  except InvalidSignatureError:\n",
        "    abort(400)\n",
        "  return 'OK'\n",
        "\n",
        "@handler.add(MessageEvent,message=TextMessage)\n",
        "def handle_message(event):\n",
        "  message=text=event.message.text\n",
        "  \n",
        "  myBubble=BubbleContainer(\n",
        "      body=BoxComponent(\n",
        "          layout='vertical',spacing='sm',\n",
        "          contents=myBubbles.myContentList(message)\n",
        "          )\n",
        "  )  \n",
        "  line_bot_api.reply_message(event.reply_token, FlexSendMessage(alt_text='你好',contents=myBubble))\n",
        "  \n",
        "app.run()"
      ],
      "execution_count": null,
      "outputs": [
        {
          "output_type": "stream",
          "text": [
            " * Serving Flask app \"__main__\" (lazy loading)\n",
            " * Environment: production\n",
            "\u001b[31m   WARNING: This is a development server. Do not use it in a production deployment.\u001b[0m\n",
            "\u001b[2m   Use a production WSGI server instead.\u001b[0m\n",
            " * Debug mode: off\n"
          ],
          "name": "stdout"
        },
        {
          "output_type": "stream",
          "text": [
            " * Running on http://127.0.0.1:5000/ (Press CTRL+C to quit)\n"
          ],
          "name": "stderr"
        },
        {
          "output_type": "stream",
          "text": [
            " * Running on http://2c32-35-227-87-215.ngrok.io\n",
            " * Traffic stats available on http://127.0.0.1:4040\n"
          ],
          "name": "stdout"
        },
        {
          "output_type": "stream",
          "text": [
            "127.0.0.1 - - [28/Aug/2021 08:23:36] \"\u001b[37mGET / HTTP/1.1\u001b[0m\" 200 -\n",
            "127.0.0.1 - - [28/Aug/2021 08:23:36] \"\u001b[33mGET /favicon.ico HTTP/1.1\u001b[0m\" 404 -\n",
            "127.0.0.1 - - [28/Aug/2021 08:24:14] \"\u001b[37mPOST /callback HTTP/1.1\u001b[0m\" 200 -\n"
          ],
          "name": "stderr"
        }
      ]
    },
    {
      "cell_type": "code",
      "metadata": {
        "id": "x5KbpynimK1K",
        "colab": {
          "base_uri": "https://localhost:8080/"
        },
        "outputId": "e2f67a18-e284-4dc4-c491-a0c4630b8bac"
      },
      "source": [
        "myList=['一二三','四五六','七八九']\n",
        "myTextComponentList=[]\n",
        "for myItem in myList:\n",
        "  myComponent=TextComponent(text=myList[0],size='md',wrap=True, type='text',margin='xs')\n",
        "  myTextComponentList.append(myComponent)\n",
        "\n",
        "myTextComponentList"
      ],
      "execution_count": null,
      "outputs": [
        {
          "output_type": "execute_result",
          "data": {
            "text/plain": [
              "[{\"margin\": \"xs\", \"size\": \"md\", \"text\": \"\\u4e00\\u4e8c\\u4e09\", \"type\": \"text\", \"wrap\": true},\n",
              " {\"margin\": \"xs\", \"size\": \"md\", \"text\": \"\\u4e00\\u4e8c\\u4e09\", \"type\": \"text\", \"wrap\": true},\n",
              " {\"margin\": \"xs\", \"size\": \"md\", \"text\": \"\\u4e00\\u4e8c\\u4e09\", \"type\": \"text\", \"wrap\": true}]"
            ]
          },
          "metadata": {},
          "execution_count": 12
        }
      ]
    },
    {
      "cell_type": "code",
      "metadata": {
        "id": "e-2m_Mq8v8QS"
      },
      "source": [
        "def myContentList(message):\n",
        "  myContents=[]\n",
        "  myList=['一二三','四五六','七八九']\n",
        "  for myItem in myList:\n",
        "    myComponent=TextComponent(text=myItem,size='md',wrap=True, type='text', margin='xs')\n",
        "    myContents.append(myComponent)\n",
        "  myContents.append(TextComponent(text=message,size='md',wrap=True, type='text',margin='xs'))\n",
        "  return myContents"
      ],
      "execution_count": null,
      "outputs": []
    },
    {
      "cell_type": "code",
      "metadata": {
        "id": "ssMY3oGWytXU",
        "colab": {
          "base_uri": "https://localhost:8080/"
        },
        "outputId": "aa720bfd-ebce-4b8a-c283-53f44dcdd4a2"
      },
      "source": [
        "myContentList('123')"
      ],
      "execution_count": null,
      "outputs": [
        {
          "output_type": "execute_result",
          "data": {
            "text/plain": [
              "[{\"margin\": \"xs\", \"size\": \"md\", \"text\": \"\\u4e00\\u4e8c\\u4e09\", \"type\": \"text\", \"wrap\": true},\n",
              " {\"margin\": \"xs\", \"size\": \"md\", \"text\": \"\\u56db\\u4e94\\u516d\", \"type\": \"text\", \"wrap\": true},\n",
              " {\"margin\": \"xs\", \"size\": \"md\", \"text\": \"\\u4e03\\u516b\\u4e5d\", \"type\": \"text\", \"wrap\": true},\n",
              " {\"margin\": \"xs\", \"size\": \"md\", \"text\": \"123\", \"type\": \"text\", \"wrap\": true}]"
            ]
          },
          "metadata": {},
          "execution_count": 24
        }
      ]
    },
    {
      "cell_type": "code",
      "metadata": {
        "colab": {
          "base_uri": "https://localhost:8080/"
        },
        "id": "riMHRGejiOEB",
        "outputId": "cdf62526-85c4-4c40-fde8-74baa036d496"
      },
      "source": [
        "###003嚐試使用linebot.models.flex_message -->pure text list\n",
        "app=Flask(__name__)\n",
        "run_with_ngrok(app)\n",
        "\n",
        "line_bot_api=LineBotApi(OPDAid4_SN.myLineBotApi)\n",
        "handler=WebhookHandler(OPDAid4_SN.myWebhookHandler)\n",
        "myID=OPDAid4_SN.myUserID\n",
        "myBubble=BubbleContainer(\n",
        "    body=BoxComponent(\n",
        "        layout='horizontal',spacing='sm',\n",
        "        contents=[TextComponent(text='三總北投分院',size='md',wrap=True, type='text',margin='xs',)])\n",
        ")\n",
        "\n",
        "\n",
        "line_bot_api.push_message(myID,FlexSendMessage(alt_text='你好',contents=myBubble))\n",
        "@app.route('/')\n",
        "def index():\n",
        "  return '歡迎使用三總北投門診助手4.0!'\n",
        "\n",
        "\n",
        "@app.route('/callback',methods=['POST'])\n",
        "def callback():\n",
        "  signature=request.headers['X-Line-Signature']\n",
        "  body=request.get_data(as_text=True)\n",
        "  ##app.loger.info(\"Request body:\"+body)\n",
        "\n",
        "  try:\n",
        "    handler.handle(body,signature)\n",
        "  except InvalidSignatureError:\n",
        "    abort(400)\n",
        "  return 'OK'\n",
        "\n",
        "@handler.add(MessageEvent,message=TextMessage)\n",
        "def handle_message(event):\n",
        "  message=text=event.message.text\n",
        "  myContents=[]\n",
        "  myList=['一二三','四五六','七八九']\n",
        "  for myItem in myList:\n",
        "    myComponent=TextComponent(text=myItem,size='md',wrap=True, type='text', margin='xs')\n",
        "    myContents.append(myComponent)\n",
        "  myContents.append(TextComponent(text=message,size='md',wrap=True, type='text',margin='xs'))\n",
        "\n",
        "  myBubble=BubbleContainer(\n",
        "      body=BoxComponent(\n",
        "          layout='vertical',spacing='sm',\n",
        "          contents=myContents\n",
        "          )\n",
        "  )  \n",
        "  line_bot_api.reply_message(event.reply_token, FlexSendMessage(alt_text='你好',contents=myBubble))\n",
        "  \n",
        "app.run()"
      ],
      "execution_count": null,
      "outputs": [
        {
          "output_type": "stream",
          "text": [
            " * Serving Flask app \"__main__\" (lazy loading)\n",
            " * Environment: production\n",
            "\u001b[31m   WARNING: This is a development server. Do not use it in a production deployment.\u001b[0m\n",
            "\u001b[2m   Use a production WSGI server instead.\u001b[0m\n",
            " * Debug mode: off\n"
          ],
          "name": "stdout"
        },
        {
          "output_type": "stream",
          "text": [
            " * Running on http://127.0.0.1:5000/ (Press CTRL+C to quit)\n"
          ],
          "name": "stderr"
        },
        {
          "output_type": "stream",
          "text": [
            " * Running on http://0fe1-35-227-87-215.ngrok.io\n",
            " * Traffic stats available on http://127.0.0.1:4040\n"
          ],
          "name": "stdout"
        },
        {
          "output_type": "stream",
          "text": [
            "127.0.0.1 - - [28/Aug/2021 07:48:27] \"\u001b[37mGET / HTTP/1.1\u001b[0m\" 200 -\n",
            "127.0.0.1 - - [28/Aug/2021 07:48:28] \"\u001b[33mGET /favicon.ico HTTP/1.1\u001b[0m\" 404 -\n",
            "127.0.0.1 - - [28/Aug/2021 07:49:01] \"\u001b[37mPOST /callback HTTP/1.1\u001b[0m\" 200 -\n",
            "127.0.0.1 - - [28/Aug/2021 07:49:09] \"\u001b[37mPOST /callback HTTP/1.1\u001b[0m\" 200 -\n"
          ],
          "name": "stderr"
        }
      ]
    },
    {
      "cell_type": "code",
      "metadata": {
        "colab": {
          "base_uri": "https://localhost:8080/"
        },
        "id": "Z2WxgvwLXxad",
        "outputId": "9a11049a-5cf5-431a-b386-e76516c4ea07"
      },
      "source": [
        "###002嚐試使用linebot.models.flex_message -->pure text\n",
        "app=Flask(__name__)\n",
        "run_with_ngrok(app)\n",
        "\n",
        "line_bot_api=LineBotApi(OPDAid4_SN.myLineBotApi)\n",
        "handler=WebhookHandler(OPDAid4_SN.myWebhookHandler)\n",
        "myID=OPDAid4_SN.myUserID\n",
        "myBubble=BubbleContainer(\n",
        "    body=BoxComponent(\n",
        "        layout='horizontal',spacing='sm',\n",
        "        contents=[TextComponent(text='三總北投分院',size='md',wrap=True, type='text',margin='xs',)])\n",
        ")\n",
        "\n",
        "\n",
        "line_bot_api.push_message(myID,FlexSendMessage(alt_text='你好',contents=myBubble))\n",
        "@app.route('/')\n",
        "def index():\n",
        "  return '歡迎使用三總北投門診助手4.0!'\n",
        "\n",
        "\n",
        "@app.route('/callback',methods=['POST'])\n",
        "def callback():\n",
        "  signature=request.headers['X-Line-Signature']\n",
        "  body=request.get_data(as_text=True)\n",
        "  ##app.loger.info(\"Request body:\"+body)\n",
        "\n",
        "  try:\n",
        "    handler.handle(body,signature)\n",
        "  except InvalidSignatureError:\n",
        "    abort(400)\n",
        "  return 'OK'\n",
        "\n",
        "@handler.add(MessageEvent,message=TextMessage)\n",
        "def handle_message(event):\n",
        "  message=text=event.message.text\n",
        "  myBubble=BubbleContainer(\n",
        "      body=BoxComponent(\n",
        "          layout='horizontal',spacing='sm',\n",
        "          contents=[TextComponent(text=message,size='md',wrap=True, type='text',margin='xs',)])\n",
        "  )  \n",
        "  line_bot_api.reply_message(event.reply_token, FlexSendMessage(alt_text='你好',contents=myBubble))\n",
        "  \n",
        "app.run()\n"
      ],
      "execution_count": null,
      "outputs": [
        {
          "output_type": "stream",
          "text": [
            " * Serving Flask app \"__main__\" (lazy loading)\n",
            " * Environment: production\n",
            "\u001b[31m   WARNING: This is a development server. Do not use it in a production deployment.\u001b[0m\n",
            "\u001b[2m   Use a production WSGI server instead.\u001b[0m\n",
            " * Debug mode: off\n"
          ],
          "name": "stdout"
        },
        {
          "output_type": "stream",
          "text": [
            " * Running on http://127.0.0.1:5000/ (Press CTRL+C to quit)\n"
          ],
          "name": "stderr"
        },
        {
          "output_type": "stream",
          "text": [
            " * Running on http://260b-35-227-87-215.ngrok.io\n",
            " * Traffic stats available on http://127.0.0.1:4040\n"
          ],
          "name": "stdout"
        },
        {
          "output_type": "stream",
          "text": [
            "127.0.0.1 - - [28/Aug/2021 07:00:43] \"\u001b[37mGET / HTTP/1.1\u001b[0m\" 200 -\n",
            "127.0.0.1 - - [28/Aug/2021 07:00:43] \"\u001b[33mGET /favicon.ico HTTP/1.1\u001b[0m\" 404 -\n",
            "127.0.0.1 - - [28/Aug/2021 07:01:35] \"\u001b[37mPOST /callback HTTP/1.1\u001b[0m\" 200 -\n"
          ],
          "name": "stderr"
        }
      ]
    },
    {
      "cell_type": "code",
      "metadata": {
        "colab": {
          "base_uri": "https://localhost:8080/"
        },
        "id": "FP3cCSxwS_nq",
        "outputId": "c8aedc3d-2bec-44da-e2cd-4389e4a86ae4"
      },
      "source": [
        "##001嚐試使用別人範例,回覆具有動畫的\n",
        "today=date.today()\n",
        "app=Flask(__name__)\n",
        "run_with_ngrok(app)\n",
        "\n",
        "line_bot_api=LineBotApi(OPDAid3_SN.myLineBotApi)\n",
        "handler=WebhookHandler(OPDAid3_SN.myWebhookHandler)\n",
        "myID=OPDAid3_SN.myUserID\n",
        "line_bot_api.push_message(myID,TextSendMessage(text='歡迎使用三總北投門診助手3.0!'))\n",
        "@app.route('/')\n",
        "def index():\n",
        "  return '歡迎使用三總北投門診助手3.0!'\n",
        "\n",
        "@app.route('/callback',methods=['POST'])\n",
        "def callback():\n",
        "  signature=request.headers['X-Line-Signature']\n",
        "  body=request.get_data(as_text=True)\n",
        "  ##app.loger.info(\"Request body:\"+body)\n",
        "\n",
        "  try:\n",
        "    handler.handle(body,signature)\n",
        "  except InvalidSignatureError:\n",
        "    abort(400)\n",
        "  return 'OK'\n",
        "\n",
        "@handler.add(MessageEvent,message=TextMessage)\n",
        "def handle_message(event):\n",
        "  message=text=event.message.text\n",
        "  imagemap_message=ImagemapSendMessage(\n",
        "      base_url='https://i.imgur.com/U8pVG9e.jpg',###'https://i.imgur.com/wpM584d.jpg',\n",
        "      alt_text='this is an imagemap',\n",
        "      base_size=BaseSize(height=1040, width=1040),\n",
        "      video=Video(\n",
        "          original_content_url='https://i.imgur.com/HVom87U.mp4',\n",
        "          preview_image_url='https://i.imgur.com/9KAkYf4.jpg',\n",
        "          area=ImagemapArea(x=40, y=0, width=1000, height=337),\n",
        "          external_link=ExternalLink(# 影片結束後的連結\n",
        "          link_uri='https://https://beitou.tsgh.ndmctsgh.edu.tw',\n",
        "          label='查看更多…',\n",
        "          ),\n",
        "          ),\n",
        "      actions=[URIImagemapAction(\n",
        "          link_uri='tel:+886-2-800395995',\n",
        "          area=ImagemapArea(x=49, y=344, width=304, height=193)\n",
        "          ),\n",
        "          URIImagemapAction(\n",
        "          link_uri='tel:+886-2-1925',\n",
        "          area=ImagemapArea(x=372, y=338, width=303, height=204)\n",
        "          ),\n",
        "      MessageImagemapAction(\n",
        "          text='戳我幹嘛！',\n",
        "          area=ImagemapArea(x=39, y=16, width=520, height=1040)\n",
        "                )]\n",
        "         )\n",
        "  line_bot_api.reply_message(event.reply_token, imagemap_message) \n",
        "\n",
        "app.run()"
      ],
      "execution_count": null,
      "outputs": [
        {
          "output_type": "stream",
          "text": [
            " * Serving Flask app \"__main__\" (lazy loading)\n",
            " * Environment: production\n",
            "\u001b[31m   WARNING: This is a development server. Do not use it in a production deployment.\u001b[0m\n",
            "\u001b[2m   Use a production WSGI server instead.\u001b[0m\n",
            " * Debug mode: off\n"
          ],
          "name": "stdout"
        },
        {
          "output_type": "stream",
          "text": [
            " * Running on http://127.0.0.1:5000/ (Press CTRL+C to quit)\n"
          ],
          "name": "stderr"
        },
        {
          "output_type": "stream",
          "text": [
            " * Running on http://7b5b-35-239-131-3.ngrok.io\n",
            " * Traffic stats available on http://127.0.0.1:4040\n"
          ],
          "name": "stdout"
        },
        {
          "output_type": "stream",
          "text": [
            "127.0.0.1 - - [26/Aug/2021 03:34:12] \"\u001b[37mGET / HTTP/1.1\u001b[0m\" 200 -\n",
            "127.0.0.1 - - [26/Aug/2021 03:34:12] \"\u001b[33mGET /favicon.ico HTTP/1.1\u001b[0m\" 404 -\n",
            "127.0.0.1 - - [26/Aug/2021 03:34:43] \"\u001b[37mPOST /callback HTTP/1.1\u001b[0m\" 200 -\n",
            "127.0.0.1 - - [26/Aug/2021 03:34:50] \"\u001b[37mPOST /callback HTTP/1.1\u001b[0m\" 200 -\n",
            "127.0.0.1 - - [26/Aug/2021 03:35:01] \"\u001b[37mPOST /callback HTTP/1.1\u001b[0m\" 200 -\n"
          ],
          "name": "stderr"
        }
      ]
    },
    {
      "cell_type": "code",
      "metadata": {
        "colab": {
          "base_uri": "https://localhost:8080/"
        },
        "id": "T3gImwwMI0sy",
        "outputId": "09eadd8a-bd32-4bda-e28a-0af75735d508"
      },
      "source": [
        ""
      ],
      "execution_count": null,
      "outputs": [
        {
          "output_type": "stream",
          "text": [
            " * Serving Flask app \"__main__\" (lazy loading)\n",
            " * Environment: production\n",
            "\u001b[31m   WARNING: This is a development server. Do not use it in a production deployment.\u001b[0m\n",
            "\u001b[2m   Use a production WSGI server instead.\u001b[0m\n",
            " * Debug mode: off\n"
          ],
          "name": "stdout"
        },
        {
          "output_type": "stream",
          "text": [
            " * Running on http://127.0.0.1:5000/ (Press CTRL+C to quit)\n"
          ],
          "name": "stderr"
        },
        {
          "output_type": "stream",
          "text": [
            " * Running on http://4fa0-34-90-151-62.ngrok.io\n",
            " * Traffic stats available on http://127.0.0.1:4040\n"
          ],
          "name": "stdout"
        },
        {
          "output_type": "stream",
          "text": [
            "127.0.0.1 - - [25/Aug/2021 12:28:33] \"\u001b[37mGET / HTTP/1.1\u001b[0m\" 200 -\n",
            "127.0.0.1 - - [25/Aug/2021 12:28:34] \"\u001b[33mGET /favicon.ico HTTP/1.1\u001b[0m\" 404 -\n"
          ],
          "name": "stderr"
        }
      ]
    }
  ]
}