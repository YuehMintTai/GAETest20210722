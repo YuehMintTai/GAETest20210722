{
  "nbformat": 4,
  "nbformat_minor": 0,
  "metadata": {
    "colab": {
      "name": "三總門診助手8.0.ipynb",
      "provenance": [],
      "collapsed_sections": [],
      "authorship_tag": "ABX9TyMLeuqinm3bZMNM3I7It8sb",
      "include_colab_link": true
    },
    "kernelspec": {
      "name": "python3",
      "display_name": "Python 3"
    },
    "language_info": {
      "name": "python"
    }
  },
  "cells": [
    {
      "cell_type": "markdown",
      "metadata": {
        "id": "view-in-github",
        "colab_type": "text"
      },
      "source": [
        "<a href=\"https://colab.research.google.com/github/YuehMintTai/GAETest20210722/blob/main/%E4%B8%89%E7%B8%BD%E9%96%80%E8%A8%BA%E5%8A%A9%E6%89%8B8_0.ipynb\" target=\"_parent\"><img src=\"https://colab.research.google.com/assets/colab-badge.svg\" alt=\"Open In Colab\"/></a>"
      ]
    },
    {
      "cell_type": "code",
      "metadata": {
        "colab": {
          "base_uri": "https://localhost:8080/"
        },
        "id": "cLqbd3705p1i",
        "outputId": "29d8ff9e-5def-494d-f826-cc27184c8199"
      },
      "source": [
        "!pip install flask_ngrok\n",
        "!pip install line-bot-sdk\n",
        "!pip install bs4\n",
        "!pip install requests"
      ],
      "execution_count": 1,
      "outputs": [
        {
          "output_type": "stream",
          "name": "stdout",
          "text": [
            "Collecting flask_ngrok\n",
            "  Downloading flask_ngrok-0.0.25-py3-none-any.whl (3.1 kB)\n",
            "Requirement already satisfied: Flask>=0.8 in /usr/local/lib/python3.7/dist-packages (from flask_ngrok) (1.1.4)\n",
            "Requirement already satisfied: requests in /usr/local/lib/python3.7/dist-packages (from flask_ngrok) (2.23.0)\n",
            "Requirement already satisfied: itsdangerous<2.0,>=0.24 in /usr/local/lib/python3.7/dist-packages (from Flask>=0.8->flask_ngrok) (1.1.0)\n",
            "Requirement already satisfied: click<8.0,>=5.1 in /usr/local/lib/python3.7/dist-packages (from Flask>=0.8->flask_ngrok) (7.1.2)\n",
            "Requirement already satisfied: Werkzeug<2.0,>=0.15 in /usr/local/lib/python3.7/dist-packages (from Flask>=0.8->flask_ngrok) (1.0.1)\n",
            "Requirement already satisfied: Jinja2<3.0,>=2.10.1 in /usr/local/lib/python3.7/dist-packages (from Flask>=0.8->flask_ngrok) (2.11.3)\n",
            "Requirement already satisfied: MarkupSafe>=0.23 in /usr/local/lib/python3.7/dist-packages (from Jinja2<3.0,>=2.10.1->Flask>=0.8->flask_ngrok) (2.0.1)\n",
            "Requirement already satisfied: urllib3!=1.25.0,!=1.25.1,<1.26,>=1.21.1 in /usr/local/lib/python3.7/dist-packages (from requests->flask_ngrok) (1.24.3)\n",
            "Requirement already satisfied: idna<3,>=2.5 in /usr/local/lib/python3.7/dist-packages (from requests->flask_ngrok) (2.10)\n",
            "Requirement already satisfied: chardet<4,>=3.0.2 in /usr/local/lib/python3.7/dist-packages (from requests->flask_ngrok) (3.0.4)\n",
            "Requirement already satisfied: certifi>=2017.4.17 in /usr/local/lib/python3.7/dist-packages (from requests->flask_ngrok) (2021.5.30)\n",
            "Installing collected packages: flask-ngrok\n",
            "Successfully installed flask-ngrok-0.0.25\n",
            "Collecting line-bot-sdk\n",
            "  Downloading line_bot_sdk-1.20.0-py2.py3-none-any.whl (72 kB)\n",
            "\u001b[K     |████████████████████████████████| 72 kB 567 kB/s \n",
            "\u001b[?25hRequirement already satisfied: requests>=2.0 in /usr/local/lib/python3.7/dist-packages (from line-bot-sdk) (2.23.0)\n",
            "Requirement already satisfied: future in /usr/local/lib/python3.7/dist-packages (from line-bot-sdk) (0.16.0)\n",
            "Requirement already satisfied: certifi>=2017.4.17 in /usr/local/lib/python3.7/dist-packages (from requests>=2.0->line-bot-sdk) (2021.5.30)\n",
            "Requirement already satisfied: idna<3,>=2.5 in /usr/local/lib/python3.7/dist-packages (from requests>=2.0->line-bot-sdk) (2.10)\n",
            "Requirement already satisfied: urllib3!=1.25.0,!=1.25.1,<1.26,>=1.21.1 in /usr/local/lib/python3.7/dist-packages (from requests>=2.0->line-bot-sdk) (1.24.3)\n",
            "Requirement already satisfied: chardet<4,>=3.0.2 in /usr/local/lib/python3.7/dist-packages (from requests>=2.0->line-bot-sdk) (3.0.4)\n",
            "Installing collected packages: line-bot-sdk\n",
            "Successfully installed line-bot-sdk-1.20.0\n",
            "Requirement already satisfied: bs4 in /usr/local/lib/python3.7/dist-packages (0.0.1)\n",
            "Requirement already satisfied: beautifulsoup4 in /usr/local/lib/python3.7/dist-packages (from bs4) (4.6.3)\n",
            "Requirement already satisfied: requests in /usr/local/lib/python3.7/dist-packages (2.23.0)\n",
            "Requirement already satisfied: certifi>=2017.4.17 in /usr/local/lib/python3.7/dist-packages (from requests) (2021.5.30)\n",
            "Requirement already satisfied: chardet<4,>=3.0.2 in /usr/local/lib/python3.7/dist-packages (from requests) (3.0.4)\n",
            "Requirement already satisfied: urllib3!=1.25.0,!=1.25.1,<1.26,>=1.21.1 in /usr/local/lib/python3.7/dist-packages (from requests) (1.24.3)\n",
            "Requirement already satisfied: idna<3,>=2.5 in /usr/local/lib/python3.7/dist-packages (from requests) (2.10)\n"
          ]
        }
      ]
    },
    {
      "cell_type": "code",
      "metadata": {
        "id": "hTNmRC1e6aQf"
      },
      "source": [
        "from flask_ngrok import (run_with_ngrok)\n",
        "from flask import (Flask, request, abort)\n",
        "from linebot import (LineBotApi, WebhookHandler)\n",
        "from linebot.exceptions import (InvalidSignatureError)\n",
        "from linebot.models import *\n",
        "from linebot.models.flex_message import (BubbleContainer, IconComponent)\n",
        "from linebot.models.actions import URIAction\n",
        "from bs4 import BeautifulSoup\n",
        "import requests\n",
        "import OPDAid8_SN\n",
        "import re\n",
        "import myBubbles\n",
        "import myBubbles2"
      ],
      "execution_count": 2,
      "outputs": []
    },
    {
      "cell_type": "code",
      "metadata": {
        "colab": {
          "base_uri": "https://localhost:8080/"
        },
        "id": "J1t7Zj-z6bEv",
        "outputId": "6053e1ae-11e0-4d50-dc0d-b0b9218b5fcf"
      },
      "source": [
        "##myBubble_dir出問題,要修正它...\n",
        "app=Flask(__name__)\n",
        "run_with_ngrok(app)\n",
        "\n",
        "line_bot_api=LineBotApi(OPDAid8_SN.myLineBotApi)\n",
        "handler=WebhookHandler(OPDAid8_SN.myWebhookHandler)\n",
        "myID=OPDAid8_SN.myUserID\n",
        "\n",
        "\n",
        "DrugContent=[]\n",
        "target_url='https://wwwv.tsgh.ndmctsgh.edu.tw/Doclist/194/30000/25075' ##三總北投分院醫師簡介\n",
        "responses=requests.get(target_url)\n",
        "soup=BeautifulSoup(responses.text,'html.parser')\n",
        "myDivs=soup.find_all('div',{'class':'col-xs-12 col-md-12'})\n",
        "myTitle=myDivs[0].find('h3').contents[0].strip() ##藥癮科\n",
        "for i, tag in enumerate(myDivs[0].find_all('a')):\n",
        "    myButton=ButtonComponent(style='link',height='sm',\n",
        "    action=URIAction(label=tag.contents[0].strip(),uri='https://wwwv.tsgh.ndmctsgh.edu.tw/'+tag.get('href')))\n",
        "    ##print('{}-->{}'.format(i, tag))\n",
        "    #print(tag.contents[0].strip())\n",
        "    #print(tag.get('href'))\n",
        "    DrugContent.append(myButton)\n",
        "\n",
        "\n",
        "def myBubble_drug():\n",
        "  myBubble_drug=FlexSendMessage(\n",
        "      alt_text='藥癮科',\n",
        "      contents=BubbleContainer(\n",
        "        direction='ltr',\n",
        "        hero=ImageComponent(\n",
        "            url='https://encrypted-tbn0.gstatic.com/images?q=tbn:ANd9GcSblvaiDh5qhGVMEjT-5H6VDWuezc4mXvtogQ&usqp=CAU',\n",
        "            size='full',\n",
        "            aspect_ratio='20:13',\n",
        "            aspect_mode='fit',\n",
        "            action=actions.URIAction(uri='https://wwwv.tsgh.ndmctsgh.edu.tw/Doclist/194/30000/25075',label='醫師查詢')\n",
        "        ),\n",
        "        body=BoxComponent(\n",
        "            layout='vertical',\n",
        "            contents=[TextComponent(text='藥癮科醫師查詢',weight='bold',size='lg',align='center')]),\n",
        "        footer=BoxComponent(\n",
        "            layout='vertical',spacing='sm',\n",
        "            contents=DrugContent\n",
        "        )\n",
        "        ))\n",
        "  return myBubble_drug\n",
        "@app.route('/')\n",
        "def index():\n",
        "  return '歡迎使用三總北投門診助手8.0'\n",
        "\n",
        "@app.route('/callback',methods=['POST'])\n",
        "def callback():\n",
        "  signature=request.headers['X-Line-Signature']\n",
        "  body=request.get_data(as_text=True)\n",
        "  try:\n",
        "    handler.handle(body,signature)\n",
        "  except InvalidSignatureError:\n",
        "    abort(400)\n",
        "  return 'OK'\n",
        "\n",
        "@handler.add(MessageEvent,message=TextMessage)\n",
        "def handle_message(event):\n",
        "  message=text=event.message.text\n",
        "  line_bot_api.reply_message(event.reply_token,myBubble_drug())\n",
        "\n",
        "\n",
        "  '''\n",
        "  if re.match('門診時間',message):\n",
        "    line_bot_api.reply_message(event.reply_token, FlexSendMessage(alt_text=message,contents=myBubbles.myBubble_OPD1()))\n",
        "  elif re.match('費用查詢',message):\n",
        "    line_bot_api.reply_message(event.reply_token, FlexSendMessage(alt_text=message,contents=myBubbles.myBubble_Fee()))\n",
        "  elif re.match('重大公告',message):\n",
        "    line_bot_api.reply_message(event.reply_token, FlexSendMessage(alt_text=message,contents=myBubbles.myBubble_News()))\n",
        "  elif re.match('院長',message):\n",
        "    line_bot_api.reply_message(event.reply_token, myBubbles2.myBubble_dir())\n",
        "  elif re.match('副院長',message):\n",
        "    line_bot_api.reply_message(event.reply_token, myBubbles2.myBubble_vdir())\n",
        "  elif re.match('醫療部主任',message):\n",
        "    line_bot_api.reply_message(event.reply_token, myBubbles2.myBubble_head())\n",
        "  elif re.match('藥癮科',message):\n",
        "    line_bot_api.reply_message(event.reply_token, myBubbles2.myBubble_all())###drug())\n",
        "  elif re.match('心身精神科',message):\n",
        "    line_bot_api.reply_message(event.reply_token, myBubbles2.myBubble_all())###mind())\n",
        "  elif re.match('老人精神科',message):\n",
        "    line_bot_api.reply_message(event.reply_token, myBubbles2.myBubble_all())###old())\n",
        "  elif re.match('神經精神科',message):\n",
        "    line_bot_api.reply_message(event.reply_token, myBubbles2.myBubble_all())###neuro())\n",
        "  elif re.match('軍陣精神科',message):\n",
        "    line_bot_api.reply_message(event.reply_token, myBubbles2.myBubble_all())###military())\n",
        "  elif re.match('兒青科',message):\n",
        "    line_bot_api.reply_message(event.reply_token, myBubbles2.myBubble_all())###child())\n",
        "  elif re.match('社區精神科',message):\n",
        "    line_bot_api.reply_message(event.reply_token, myBubbles2.myBubble_all())###ocial())\n",
        "  elif re.match('家醫科/牙科',message):\n",
        "    line_bot_api.reply_message(event.reply_token, myBubbles2.myBubble_all())###family())\n",
        "  elif re.match('門診兼任醫師',message):\n",
        "    line_bot_api.reply_message(event.reply_token, myBubbles2.myBubble_all())###others())\n",
        "  else:\n",
        "    line_bot_api.push_message(myID,FlexSendMessage(alt_text='你好',contents=myBubbles.myBubble_greeting()))\n",
        "'''\n",
        "app.run()"
      ],
      "execution_count": 3,
      "outputs": [
        {
          "output_type": "stream",
          "name": "stdout",
          "text": [
            " * Serving Flask app \"__main__\" (lazy loading)\n",
            " * Environment: production\n",
            "\u001b[31m   WARNING: This is a development server. Do not use it in a production deployment.\u001b[0m\n",
            "\u001b[2m   Use a production WSGI server instead.\u001b[0m\n",
            " * Debug mode: off\n"
          ]
        },
        {
          "output_type": "stream",
          "name": "stderr",
          "text": [
            " * Running on http://127.0.0.1:5000/ (Press CTRL+C to quit)\n"
          ]
        },
        {
          "output_type": "stream",
          "name": "stdout",
          "text": [
            " * Running on http://81f8-34-74-155-3.ngrok.io\n",
            " * Traffic stats available on http://127.0.0.1:4040\n"
          ]
        }
      ]
    }
  ]
}